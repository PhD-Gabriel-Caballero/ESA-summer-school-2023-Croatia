{
  "nbformat": 4,
  "nbformat_minor": 0,
  "metadata": {
    "colab": {
      "provenance": [],
      "authorship_tag": "ABX9TyOLg0A4AcaDcvqOLPsh4eka",
      "include_colab_link": true
    },
    "kernelspec": {
      "name": "python3",
      "display_name": "Python 3"
    },
    "language_info": {
      "name": "python"
    },
    "widgets": {
      "application/vnd.jupyter.widget-state+json": {
        "63645a5947fc474ab112322de16c484c": {
          "model_module": "jupyter-leaflet",
          "model_name": "LeafletMapModel",
          "model_module_version": "^0.17",
          "state": {
            "_dom_classes": [],
            "_model_module": "jupyter-leaflet",
            "_model_module_version": "^0.17",
            "_model_name": "LeafletMapModel",
            "_view_count": null,
            "_view_module": "jupyter-leaflet",
            "_view_module_version": "^0.17",
            "_view_name": "LeafletMapView",
            "bottom": 27699,
            "bounce_at_zoom_limits": true,
            "box_zoom": true,
            "center": [
              28.268224502649357,
              83.97637443188768
            ],
            "close_popup_on_click": true,
            "controls": [
              "IPY_MODEL_464a6174e8ae448ebb9c975c80820eef",
              "IPY_MODEL_47bca67d0d0c42059fc5159204fec291",
              "IPY_MODEL_f806bc4c056040e98e49651bfd029eab",
              "IPY_MODEL_47f738ad827a44d493619b731c2e6a48",
              "IPY_MODEL_4a41e36bc7f240dabb8d944872b1e6d7",
              "IPY_MODEL_533d58fdf3f04bc795eb5e14301f8917",
              "IPY_MODEL_6f0923eabef2496d9c61cff0b96d3869",
              "IPY_MODEL_44af4eee053c4630a5ed5b63548e86f0",
              "IPY_MODEL_bdbb72af38bf428198116785028b375b"
            ],
            "crs": {
              "name": "EPSG3857",
              "custom": false
            },
            "default_style": "IPY_MODEL_8be012bfba8a43b6adb13d3fa88cd376",
            "double_click_zoom": true,
            "dragging": true,
            "dragging_style": "IPY_MODEL_ffb5e80272ba45538ff9ccc2add31642",
            "east": 88.31909179687501,
            "fullscreen": false,
            "inertia": true,
            "inertia_deceleration": 3000,
            "inertia_max_speed": 1500,
            "interpolation": "bilinear",
            "keyboard": true,
            "keyboard_pan_offset": 80,
            "keyboard_zoom_offset": 1,
            "layers": [
              "IPY_MODEL_3806a744d47245fd88ab8b13241de27d",
              "IPY_MODEL_e50d66d5271c49598fd714e1f5efd757",
              "IPY_MODEL_3919a30061e14737a7fbd7c9d00e1bc6"
            ],
            "layout": "IPY_MODEL_ba36dc44bc6e4979b2de21b6c20be9f4",
            "left": 47265,
            "max_zoom": 24,
            "min_zoom": null,
            "modisdate": "2023-07-30",
            "north": 29.711910431038035,
            "options": [
              "bounce_at_zoom_limits",
              "box_zoom",
              "center",
              "close_popup_on_click",
              "double_click_zoom",
              "dragging",
              "fullscreen",
              "inertia",
              "inertia_deceleration",
              "inertia_max_speed",
              "interpolation",
              "keyboard",
              "keyboard_pan_offset",
              "keyboard_zoom_offset",
              "max_zoom",
              "min_zoom",
              "prefer_canvas",
              "scroll_wheel_zoom",
              "tap",
              "tap_tolerance",
              "touch_zoom",
              "world_copy_jump",
              "zoom",
              "zoom_animation_threshold",
              "zoom_delta",
              "zoom_snap"
            ],
            "panes": {},
            "prefer_canvas": false,
            "right": 48846,
            "scroll_wheel_zoom": true,
            "south": 26.809363588053785,
            "style": "IPY_MODEL_623fee41c6c94b7bbbbfa3392ce59c45",
            "tap": true,
            "tap_tolerance": 15,
            "top": 27099,
            "touch_zoom": true,
            "west": 79.63439941406251,
            "window_url": "https://hxclfgy3t0b-496ff2e9c6d22116-0-colab.googleusercontent.com/outputframe.html?vrz=colab-20230727-060146-RC00_551484978",
            "world_copy_jump": false,
            "zoom": 8,
            "zoom_animation_threshold": 4,
            "zoom_delta": 1,
            "zoom_snap": 1
          }
        },
        "464a6174e8ae448ebb9c975c80820eef": {
          "model_module": "jupyter-leaflet",
          "model_name": "LeafletWidgetControlModel",
          "model_module_version": "^0.17",
          "state": {
            "_model_module": "jupyter-leaflet",
            "_model_module_version": "^0.17",
            "_model_name": "LeafletWidgetControlModel",
            "_view_count": null,
            "_view_module": "jupyter-leaflet",
            "_view_module_version": "^0.17",
            "_view_name": "LeafletWidgetControlView",
            "max_height": null,
            "max_width": null,
            "min_height": null,
            "min_width": null,
            "options": [
              "position",
              "transparent_bg"
            ],
            "position": "topleft",
            "transparent_bg": false,
            "widget": "IPY_MODEL_b3c44ded1ae648f5bd4670eaa1a9fdc9"
          }
        },
        "47bca67d0d0c42059fc5159204fec291": {
          "model_module": "jupyter-leaflet",
          "model_name": "LeafletZoomControlModel",
          "model_module_version": "^0.17",
          "state": {
            "_model_module": "jupyter-leaflet",
            "_model_module_version": "^0.17",
            "_model_name": "LeafletZoomControlModel",
            "_view_count": null,
            "_view_module": "jupyter-leaflet",
            "_view_module_version": "^0.17",
            "_view_name": "LeafletZoomControlView",
            "options": [
              "position",
              "zoom_in_text",
              "zoom_in_title",
              "zoom_out_text",
              "zoom_out_title"
            ],
            "position": "topleft",
            "zoom_in_text": "+",
            "zoom_in_title": "Zoom in",
            "zoom_out_text": "-",
            "zoom_out_title": "Zoom out"
          }
        },
        "f806bc4c056040e98e49651bfd029eab": {
          "model_module": "jupyter-leaflet",
          "model_name": "LeafletFullScreenControlModel",
          "model_module_version": "^0.17",
          "state": {
            "_model_module": "jupyter-leaflet",
            "_model_module_version": "^0.17",
            "_model_name": "LeafletFullScreenControlModel",
            "_view_count": null,
            "_view_module": "jupyter-leaflet",
            "_view_module_version": "^0.17",
            "_view_name": "LeafletFullScreenControlView",
            "options": [
              "position"
            ],
            "position": "topleft"
          }
        },
        "47f738ad827a44d493619b731c2e6a48": {
          "model_module": "jupyter-leaflet",
          "model_name": "LeafletDrawControlModel",
          "model_module_version": "^0.17",
          "state": {
            "_model_module": "jupyter-leaflet",
            "_model_module_version": "^0.17",
            "_model_name": "LeafletDrawControlModel",
            "_view_count": null,
            "_view_module": "jupyter-leaflet",
            "_view_module_version": "^0.17",
            "_view_name": "LeafletDrawControlView",
            "circle": {},
            "circlemarker": {},
            "data": [],
            "edit": true,
            "marker": {
              "shapeOptions": {
                "color": "#3388ff"
              }
            },
            "options": [
              "position"
            ],
            "polygon": {
              "shapeOptions": {}
            },
            "polyline": {
              "shapeOptions": {}
            },
            "position": "topleft",
            "rectangle": {
              "shapeOptions": {
                "color": "#3388ff"
              }
            },
            "remove": true
          }
        },
        "4a41e36bc7f240dabb8d944872b1e6d7": {
          "model_module": "jupyter-leaflet",
          "model_name": "LeafletScaleControlModel",
          "model_module_version": "^0.17",
          "state": {
            "_model_module": "jupyter-leaflet",
            "_model_module_version": "^0.17",
            "_model_name": "LeafletScaleControlModel",
            "_view_count": null,
            "_view_module": "jupyter-leaflet",
            "_view_module_version": "^0.17",
            "_view_name": "LeafletScaleControlView",
            "imperial": true,
            "max_width": 100,
            "metric": true,
            "options": [
              "imperial",
              "max_width",
              "metric",
              "position",
              "update_when_idle"
            ],
            "position": "bottomleft",
            "update_when_idle": false
          }
        },
        "533d58fdf3f04bc795eb5e14301f8917": {
          "model_module": "jupyter-leaflet",
          "model_name": "LeafletMeasureControlModel",
          "model_module_version": "^0.17",
          "state": {
            "_custom_units": {},
            "_model_module": "jupyter-leaflet",
            "_model_module_version": "^0.17",
            "_model_name": "LeafletMeasureControlModel",
            "_view_count": null,
            "_view_module": "jupyter-leaflet",
            "_view_module_version": "^0.17",
            "_view_name": "LeafletMeasureControlView",
            "active_color": "orange",
            "capture_z_index": 10000,
            "completed_color": "#C8F2BE",
            "options": [
              "active_color",
              "capture_z_index",
              "completed_color",
              "popup_options",
              "position",
              "primary_area_unit",
              "primary_length_unit",
              "secondary_area_unit",
              "secondary_length_unit"
            ],
            "popup_options": {
              "className": "leaflet-measure-resultpopup",
              "autoPanPadding": [
                10,
                10
              ]
            },
            "position": "bottomleft",
            "primary_area_unit": "acres",
            "primary_length_unit": "kilometers",
            "secondary_area_unit": null,
            "secondary_length_unit": null
          }
        },
        "6f0923eabef2496d9c61cff0b96d3869": {
          "model_module": "jupyter-leaflet",
          "model_name": "LeafletWidgetControlModel",
          "model_module_version": "^0.17",
          "state": {
            "_model_module": "jupyter-leaflet",
            "_model_module_version": "^0.17",
            "_model_name": "LeafletWidgetControlModel",
            "_view_count": null,
            "_view_module": "jupyter-leaflet",
            "_view_module_version": "^0.17",
            "_view_name": "LeafletWidgetControlView",
            "max_height": null,
            "max_width": null,
            "min_height": null,
            "min_width": null,
            "options": [
              "position",
              "transparent_bg"
            ],
            "position": "topright",
            "transparent_bg": false,
            "widget": "IPY_MODEL_ebab0602035b49cca3da624b379fc776"
          }
        },
        "44af4eee053c4630a5ed5b63548e86f0": {
          "model_module": "jupyter-leaflet",
          "model_name": "LeafletAttributionControlModel",
          "model_module_version": "^0.17",
          "state": {
            "_model_module": "jupyter-leaflet",
            "_model_module_version": "^0.17",
            "_model_name": "LeafletAttributionControlModel",
            "_view_count": null,
            "_view_module": "jupyter-leaflet",
            "_view_module_version": "^0.17",
            "_view_name": "LeafletAttributionControlView",
            "options": [
              "position",
              "prefix"
            ],
            "position": "bottomright",
            "prefix": "ipyleaflet"
          }
        },
        "bdbb72af38bf428198116785028b375b": {
          "model_module": "jupyter-leaflet",
          "model_name": "LeafletLayersControlModel",
          "model_module_version": "^0.17",
          "state": {
            "_model_module": "jupyter-leaflet",
            "_model_module_version": "^0.17",
            "_model_name": "LeafletLayersControlModel",
            "_view_count": null,
            "_view_module": "jupyter-leaflet",
            "_view_module_version": "^0.17",
            "_view_name": "LeafletLayersControlView",
            "options": [
              "position"
            ],
            "position": "topright"
          }
        },
        "8be012bfba8a43b6adb13d3fa88cd376": {
          "model_module": "jupyter-leaflet",
          "model_name": "LeafletMapStyleModel",
          "model_module_version": "^0.17",
          "state": {
            "_model_module": "jupyter-leaflet",
            "_model_module_version": "^0.17",
            "_model_name": "LeafletMapStyleModel",
            "_view_count": null,
            "_view_module": "@jupyter-widgets/base",
            "_view_module_version": "1.2.0",
            "_view_name": "StyleView",
            "cursor": "grab"
          }
        },
        "ffb5e80272ba45538ff9ccc2add31642": {
          "model_module": "jupyter-leaflet",
          "model_name": "LeafletMapStyleModel",
          "model_module_version": "^0.17",
          "state": {
            "_model_module": "jupyter-leaflet",
            "_model_module_version": "^0.17",
            "_model_name": "LeafletMapStyleModel",
            "_view_count": null,
            "_view_module": "@jupyter-widgets/base",
            "_view_module_version": "1.2.0",
            "_view_name": "StyleView",
            "cursor": "move"
          }
        },
        "3806a744d47245fd88ab8b13241de27d": {
          "model_module": "jupyter-leaflet",
          "model_name": "LeafletTileLayerModel",
          "model_module_version": "^0.17",
          "state": {
            "_model_module": "jupyter-leaflet",
            "_model_module_version": "^0.17",
            "_model_name": "LeafletTileLayerModel",
            "_view_count": null,
            "_view_module": "jupyter-leaflet",
            "_view_module_version": "^0.17",
            "_view_name": "LeafletTileLayerView",
            "attribution": "&copy; <a href=\"https://www.openstreetmap.org/copyright\">OpenStreetMap</a> contributors",
            "base": true,
            "bottom": true,
            "bounds": null,
            "detect_retina": false,
            "loading": false,
            "max_native_zoom": null,
            "max_zoom": 19,
            "min_native_zoom": null,
            "min_zoom": 1,
            "name": "OpenStreetMap.Mapnik",
            "no_wrap": false,
            "opacity": 1,
            "options": [
              "attribution",
              "bounds",
              "detect_retina",
              "max_native_zoom",
              "max_zoom",
              "min_native_zoom",
              "min_zoom",
              "no_wrap",
              "tile_size",
              "tms",
              "zoom_offset"
            ],
            "pane": "",
            "popup": null,
            "popup_max_height": null,
            "popup_max_width": 300,
            "popup_min_width": 50,
            "show_loading": false,
            "subitems": [],
            "tile_size": 256,
            "tms": false,
            "url": "https://tile.openstreetmap.org/{z}/{x}/{y}.png",
            "visible": true,
            "zoom_offset": 0
          }
        },
        "e50d66d5271c49598fd714e1f5efd757": {
          "model_module": "jupyter-leaflet",
          "model_name": "LeafletTileLayerModel",
          "model_module_version": "^0.17",
          "state": {
            "_model_module": "jupyter-leaflet",
            "_model_module_version": "^0.17",
            "_model_name": "LeafletTileLayerModel",
            "_view_count": null,
            "_view_module": "jupyter-leaflet",
            "_view_module_version": "^0.17",
            "_view_name": "LeafletTileLayerView",
            "attribution": "Google",
            "base": false,
            "bottom": true,
            "bounds": null,
            "detect_retina": false,
            "loading": false,
            "max_native_zoom": null,
            "max_zoom": 24,
            "min_native_zoom": null,
            "min_zoom": 0,
            "name": "Google Maps",
            "no_wrap": false,
            "opacity": 1,
            "options": [
              "attribution",
              "bounds",
              "detect_retina",
              "max_native_zoom",
              "max_zoom",
              "min_native_zoom",
              "min_zoom",
              "no_wrap",
              "tile_size",
              "tms",
              "zoom_offset"
            ],
            "pane": "",
            "popup": null,
            "popup_max_height": null,
            "popup_max_width": 300,
            "popup_min_width": 50,
            "show_loading": false,
            "subitems": [],
            "tile_size": 256,
            "tms": false,
            "url": "https://mt1.google.com/vt/lyrs=m&x={x}&y={y}&z={z}",
            "visible": true,
            "zoom_offset": 0
          }
        },
        "3919a30061e14737a7fbd7c9d00e1bc6": {
          "model_module": "jupyter-leaflet",
          "model_name": "LeafletTileLayerModel",
          "model_module_version": "^0.17",
          "state": {
            "_model_module": "jupyter-leaflet",
            "_model_module_version": "^0.17",
            "_model_name": "LeafletTileLayerModel",
            "_view_count": null,
            "_view_module": "jupyter-leaflet",
            "_view_module_version": "^0.17",
            "_view_name": "LeafletTileLayerView",
            "attribution": "Google Earth Engine",
            "base": false,
            "bottom": true,
            "bounds": null,
            "detect_retina": false,
            "loading": false,
            "max_native_zoom": null,
            "max_zoom": 24,
            "min_native_zoom": null,
            "min_zoom": 0,
            "name": "LAI",
            "no_wrap": false,
            "opacity": 1,
            "options": [
              "attribution",
              "bounds",
              "detect_retina",
              "max_native_zoom",
              "max_zoom",
              "min_native_zoom",
              "min_zoom",
              "no_wrap",
              "tile_size",
              "tms",
              "zoom_offset"
            ],
            "pane": "",
            "popup": null,
            "popup_max_height": null,
            "popup_max_width": 300,
            "popup_min_width": 50,
            "show_loading": false,
            "subitems": [],
            "tile_size": 256,
            "tms": false,
            "url": "https://earthengine.googleapis.com/v1alpha/projects/earthengine-legacy/maps/1a5464a449d7b8635a42198939c86e7a-1328d11125a1f19c0ef8c643c75f6cdd/tiles/{z}/{x}/{y}",
            "visible": true,
            "zoom_offset": 0
          }
        },
        "ba36dc44bc6e4979b2de21b6c20be9f4": {
          "model_module": "@jupyter-widgets/base",
          "model_name": "LayoutModel",
          "model_module_version": "1.2.0",
          "state": {
            "_model_module": "@jupyter-widgets/base",
            "_model_module_version": "1.2.0",
            "_model_name": "LayoutModel",
            "_view_count": null,
            "_view_module": "@jupyter-widgets/base",
            "_view_module_version": "1.2.0",
            "_view_name": "LayoutView",
            "align_content": null,
            "align_items": null,
            "align_self": null,
            "border": null,
            "bottom": null,
            "display": null,
            "flex": null,
            "flex_flow": null,
            "grid_area": null,
            "grid_auto_columns": null,
            "grid_auto_flow": null,
            "grid_auto_rows": null,
            "grid_column": null,
            "grid_gap": null,
            "grid_row": null,
            "grid_template_areas": null,
            "grid_template_columns": null,
            "grid_template_rows": null,
            "height": "600px",
            "justify_content": null,
            "justify_items": null,
            "left": null,
            "margin": null,
            "max_height": null,
            "max_width": null,
            "min_height": null,
            "min_width": null,
            "object_fit": null,
            "object_position": null,
            "order": null,
            "overflow": null,
            "overflow_x": null,
            "overflow_y": null,
            "padding": null,
            "right": null,
            "top": null,
            "visibility": null,
            "width": null
          }
        },
        "623fee41c6c94b7bbbbfa3392ce59c45": {
          "model_module": "jupyter-leaflet",
          "model_name": "LeafletMapStyleModel",
          "model_module_version": "^0.17",
          "state": {
            "_model_module": "jupyter-leaflet",
            "_model_module_version": "^0.17",
            "_model_name": "LeafletMapStyleModel",
            "_view_count": null,
            "_view_module": "@jupyter-widgets/base",
            "_view_module_version": "1.2.0",
            "_view_name": "StyleView",
            "cursor": "grab"
          }
        },
        "b3c44ded1ae648f5bd4670eaa1a9fdc9": {
          "model_module": "@jupyter-widgets/controls",
          "model_name": "HBoxModel",
          "model_module_version": "1.5.0",
          "state": {
            "_dom_classes": [],
            "_model_module": "@jupyter-widgets/controls",
            "_model_module_version": "1.5.0",
            "_model_name": "HBoxModel",
            "_view_count": null,
            "_view_module": "@jupyter-widgets/controls",
            "_view_module_version": "1.5.0",
            "_view_name": "HBoxView",
            "box_style": "",
            "children": [
              "IPY_MODEL_9ba14b98cfe543669789cc718b57db53"
            ],
            "layout": "IPY_MODEL_d76c400eea6b4b808f8ef7de2388352d"
          }
        },
        "ebab0602035b49cca3da624b379fc776": {
          "model_module": "@jupyter-widgets/controls",
          "model_name": "VBoxModel",
          "model_module_version": "1.5.0",
          "state": {
            "_dom_classes": [],
            "_model_module": "@jupyter-widgets/controls",
            "_model_module_version": "1.5.0",
            "_model_name": "VBoxModel",
            "_view_count": null,
            "_view_module": "@jupyter-widgets/controls",
            "_view_module_version": "1.5.0",
            "_view_name": "VBoxView",
            "box_style": "",
            "children": [
              "IPY_MODEL_f407811e76ba4f4d905238398fb1ad3b"
            ],
            "layout": "IPY_MODEL_d8fb3674ca7d4a9489c94d2820517df3"
          }
        },
        "9ba14b98cfe543669789cc718b57db53": {
          "model_module": "@jupyter-widgets/controls",
          "model_name": "ToggleButtonModel",
          "model_module_version": "1.5.0",
          "state": {
            "_dom_classes": [],
            "_model_module": "@jupyter-widgets/controls",
            "_model_module_version": "1.5.0",
            "_model_name": "ToggleButtonModel",
            "_view_count": null,
            "_view_module": "@jupyter-widgets/controls",
            "_view_module_version": "1.5.0",
            "_view_name": "ToggleButtonView",
            "button_style": "",
            "description": "",
            "description_tooltip": null,
            "disabled": false,
            "icon": "globe",
            "layout": "IPY_MODEL_06452071bb1b43fb997432ab127b294d",
            "style": "IPY_MODEL_03190aa57e9c4736b7ad5d967c53b96d",
            "tooltip": "Search location/data",
            "value": false
          }
        },
        "d76c400eea6b4b808f8ef7de2388352d": {
          "model_module": "@jupyter-widgets/base",
          "model_name": "LayoutModel",
          "model_module_version": "1.2.0",
          "state": {
            "_model_module": "@jupyter-widgets/base",
            "_model_module_version": "1.2.0",
            "_model_name": "LayoutModel",
            "_view_count": null,
            "_view_module": "@jupyter-widgets/base",
            "_view_module_version": "1.2.0",
            "_view_name": "LayoutView",
            "align_content": null,
            "align_items": null,
            "align_self": null,
            "border": null,
            "bottom": null,
            "display": null,
            "flex": null,
            "flex_flow": null,
            "grid_area": null,
            "grid_auto_columns": null,
            "grid_auto_flow": null,
            "grid_auto_rows": null,
            "grid_column": null,
            "grid_gap": null,
            "grid_row": null,
            "grid_template_areas": null,
            "grid_template_columns": null,
            "grid_template_rows": null,
            "height": null,
            "justify_content": null,
            "justify_items": null,
            "left": null,
            "margin": null,
            "max_height": null,
            "max_width": null,
            "min_height": null,
            "min_width": null,
            "object_fit": null,
            "object_position": null,
            "order": null,
            "overflow": null,
            "overflow_x": null,
            "overflow_y": null,
            "padding": null,
            "right": null,
            "top": null,
            "visibility": null,
            "width": null
          }
        },
        "f407811e76ba4f4d905238398fb1ad3b": {
          "model_module": "@jupyter-widgets/controls",
          "model_name": "ToggleButtonModel",
          "model_module_version": "1.5.0",
          "state": {
            "_dom_classes": [],
            "_model_module": "@jupyter-widgets/controls",
            "_model_module_version": "1.5.0",
            "_model_name": "ToggleButtonModel",
            "_view_count": null,
            "_view_module": "@jupyter-widgets/controls",
            "_view_module_version": "1.5.0",
            "_view_name": "ToggleButtonView",
            "button_style": "",
            "description": "",
            "description_tooltip": null,
            "disabled": false,
            "icon": "wrench",
            "layout": "IPY_MODEL_d620abc403e34822ba2ff6b2d1f3e9ab",
            "style": "IPY_MODEL_b8c5c0ca419246ec840128b02a784497",
            "tooltip": "Toolbar",
            "value": false
          }
        },
        "d8fb3674ca7d4a9489c94d2820517df3": {
          "model_module": "@jupyter-widgets/base",
          "model_name": "LayoutModel",
          "model_module_version": "1.2.0",
          "state": {
            "_model_module": "@jupyter-widgets/base",
            "_model_module_version": "1.2.0",
            "_model_name": "LayoutModel",
            "_view_count": null,
            "_view_module": "@jupyter-widgets/base",
            "_view_module_version": "1.2.0",
            "_view_name": "LayoutView",
            "align_content": null,
            "align_items": null,
            "align_self": null,
            "border": null,
            "bottom": null,
            "display": null,
            "flex": null,
            "flex_flow": null,
            "grid_area": null,
            "grid_auto_columns": null,
            "grid_auto_flow": null,
            "grid_auto_rows": null,
            "grid_column": null,
            "grid_gap": null,
            "grid_row": null,
            "grid_template_areas": null,
            "grid_template_columns": null,
            "grid_template_rows": null,
            "height": null,
            "justify_content": null,
            "justify_items": null,
            "left": null,
            "margin": null,
            "max_height": null,
            "max_width": null,
            "min_height": null,
            "min_width": null,
            "object_fit": null,
            "object_position": null,
            "order": null,
            "overflow": null,
            "overflow_x": null,
            "overflow_y": null,
            "padding": null,
            "right": null,
            "top": null,
            "visibility": null,
            "width": null
          }
        },
        "06452071bb1b43fb997432ab127b294d": {
          "model_module": "@jupyter-widgets/base",
          "model_name": "LayoutModel",
          "model_module_version": "1.2.0",
          "state": {
            "_model_module": "@jupyter-widgets/base",
            "_model_module_version": "1.2.0",
            "_model_name": "LayoutModel",
            "_view_count": null,
            "_view_module": "@jupyter-widgets/base",
            "_view_module_version": "1.2.0",
            "_view_name": "LayoutView",
            "align_content": null,
            "align_items": null,
            "align_self": null,
            "border": null,
            "bottom": null,
            "display": null,
            "flex": null,
            "flex_flow": null,
            "grid_area": null,
            "grid_auto_columns": null,
            "grid_auto_flow": null,
            "grid_auto_rows": null,
            "grid_column": null,
            "grid_gap": null,
            "grid_row": null,
            "grid_template_areas": null,
            "grid_template_columns": null,
            "grid_template_rows": null,
            "height": "28px",
            "justify_content": null,
            "justify_items": null,
            "left": null,
            "margin": null,
            "max_height": null,
            "max_width": null,
            "min_height": null,
            "min_width": null,
            "object_fit": null,
            "object_position": null,
            "order": null,
            "overflow": null,
            "overflow_x": null,
            "overflow_y": null,
            "padding": "0px 0px 0px 4px",
            "right": null,
            "top": null,
            "visibility": null,
            "width": "28px"
          }
        },
        "03190aa57e9c4736b7ad5d967c53b96d": {
          "model_module": "@jupyter-widgets/controls",
          "model_name": "DescriptionStyleModel",
          "model_module_version": "1.5.0",
          "state": {
            "_model_module": "@jupyter-widgets/controls",
            "_model_module_version": "1.5.0",
            "_model_name": "DescriptionStyleModel",
            "_view_count": null,
            "_view_module": "@jupyter-widgets/base",
            "_view_module_version": "1.2.0",
            "_view_name": "StyleView",
            "description_width": ""
          }
        },
        "d620abc403e34822ba2ff6b2d1f3e9ab": {
          "model_module": "@jupyter-widgets/base",
          "model_name": "LayoutModel",
          "model_module_version": "1.2.0",
          "state": {
            "_model_module": "@jupyter-widgets/base",
            "_model_module_version": "1.2.0",
            "_model_name": "LayoutModel",
            "_view_count": null,
            "_view_module": "@jupyter-widgets/base",
            "_view_module_version": "1.2.0",
            "_view_name": "LayoutView",
            "align_content": null,
            "align_items": null,
            "align_self": null,
            "border": null,
            "bottom": null,
            "display": null,
            "flex": null,
            "flex_flow": null,
            "grid_area": null,
            "grid_auto_columns": null,
            "grid_auto_flow": null,
            "grid_auto_rows": null,
            "grid_column": null,
            "grid_gap": null,
            "grid_row": null,
            "grid_template_areas": null,
            "grid_template_columns": null,
            "grid_template_rows": null,
            "height": "28px",
            "justify_content": null,
            "justify_items": null,
            "left": null,
            "margin": null,
            "max_height": null,
            "max_width": null,
            "min_height": null,
            "min_width": null,
            "object_fit": null,
            "object_position": null,
            "order": null,
            "overflow": null,
            "overflow_x": null,
            "overflow_y": null,
            "padding": "0px 0px 0px 4px",
            "right": null,
            "top": null,
            "visibility": null,
            "width": "28px"
          }
        },
        "b8c5c0ca419246ec840128b02a784497": {
          "model_module": "@jupyter-widgets/controls",
          "model_name": "DescriptionStyleModel",
          "model_module_version": "1.5.0",
          "state": {
            "_model_module": "@jupyter-widgets/controls",
            "_model_module_version": "1.5.0",
            "_model_name": "DescriptionStyleModel",
            "_view_count": null,
            "_view_module": "@jupyter-widgets/base",
            "_view_module_version": "1.2.0",
            "_view_name": "StyleView",
            "description_width": ""
          }
        }
      }
    }
  },
  "cells": [
    {
      "cell_type": "markdown",
      "metadata": {
        "id": "view-in-github",
        "colab_type": "text"
      },
      "source": [
        "<a href=\"https://colab.research.google.com/github/PhD-Gabriel-Caballero/ESA-summer-school-2023-Croatia/blob/main/S2_based%20LAI%20retrieval%20using%20parametric%20indices%20in%20Google%20Earth%20Engine%20(GEE).ipynb\" target=\"_parent\"><img src=\"https://colab.research.google.com/assets/colab-badge.svg\" alt=\"Open In Colab\"/></a>"
      ]
    },
    {
      "cell_type": "markdown",
      "source": [
        "# S2-based LAI retrieval using parametric indices in Google Earth Engine (GEE)\n",
        "\n",
        "---\n",
        "\n"
      ],
      "metadata": {
        "id": "Ho4Uqr1jZCBP"
      }
    },
    {
      "cell_type": "markdown",
      "source": [
        "Leaf area index (LAI), one half the total green leaf area per unit horizontal ground surface, is an important structural property of vegetation. Because leaf surfaces are the primary border of energy and mass exchange, important processes such as canopy interception, evapotranspiration, and gross photosynthesis are directly proportional to LAI.\n",
        "[LAI ScienceDirect](https://www.sciencedirect.com/topics/earth-and-planetary-sciences/leaf-area-index#:~:text=Leaf%20area%20index%20is%20defined,of%20leaf%20area%20per%20hectare.)\n",
        "\n",
        "![Definition-of-leaf-area-index.png](data:image/png;base64,iVBORw0KGgoAAAANSUhEUgAAAe0AAAIjCAMAAAAZYLOQAAAABGdBTUEAALGPC/xhBQAAAAFzUkdCAK7OHOkAAAAJdnBBZwAABdkAAAhOABIy7HoAAAINUExURf///15aWvHx8dPT04+RNsXDxYuJiQCxTtPJLiIeIBJiNnRuJlpWTKelp1RUKuPh4QiJQre1tTIuLpmXlxpGLAKnTA52PEA8Pnp4eE5MTAaTRmxqaiIqJFZSTExUThw8KHJyMCwsKomJNDg2JBRYMnR2dERIRkA8Jk5MKASdSHh4MhBsOB4yJgyBPhZOMComImRiLiQoIi4sKjAsKqObKkZAIlRYVDg6OEZEKExIJK+nLFxaLCwoJIGBNFBWUse9LmZoZjAsIkJIRExKRIOHhSosKmhiJo2FKHp4dDAuIiRCKjQ6NkpGRBhYMmBmYmpqLnh2dCAoIkpGQiBEKiI6KGxoZiQ6KCQwJEhKSFhWUjo4NCwsLBpOLmpoZh5ELLuxLC4qIC4sLB5OLiomIIeFgygkICYiIC4qIjw4NlJMJBZiNCIoIm50cCIwJCQmIigkIlpWVDAuKpmRKhZqOE5KSDAsLFhaWGhkYD46NiwqIkZEPpuZmT48Jjo4NhpQMBZQMCwoIiYoIkZCPrGvr05MKk5KJCwoKFpYVDIuJCguJBZUMjAwMKWjnSAqJJeVlQ50OiQmJCgkJDI6NDIuLDAsJjo6OlJQSmJgLCQqJmBeXlhWKiIyKImHg727u2BcXg50PDw4JFJOUDIuIhpCLCYkICQkIDo2JGZkLi4sIoWDgyQiIDY6NlJQKjY0JEhSTFXzvvoAACAASURBVHgB7Z2Jn+TGdd97urcxQjM9Pd09R/fMaHeHe5+zXB67WXJJmpRIkRJFUqJN0ZLsyLocn4rjI7dzKIydOzETJc4n9+0w+RvzXh1AVaFQKJwNYF6TOwAKD4XC74sCql4dGAzoRwqQAqQAKUAKkAKkAClACpACpAApQAqQAqQAKUAKkAKkAClACpACpAApQAqQAk0rsBw1fUY63+YUCL883dzJ6cwNKxBeCoOGT0mn25gC4e4kvDbc2OnpxI0qEO5uH4TXCXejom/sZEB7++jktDNlNbovy9wqSHv71qXTrpTVtsJwvbUVBOPO3J9l6FR9LKO9vb8XLquOuZ74gHb0O55STs+nMqe9vX01vJbvwA1Zq7TDcNGRe3RDYiVOK2l3paw2DYKtrcMoe4dbs8QlUUCqAhHt7d2TR515Fw7nq7VAvjimx3kqXXNHeAClNP47unQ6N3e3eXsWLFgeXxNuX0zhRMLe7lBZTVzdkPPe8r3Yc2+n0u5OWS3CNmLPc/L9RoK4V3TaUFb7Vreei0NWSB+7L5L2CgUM2tv3Tq53pqzGL2ENL296lvvd0Cbt7aO7p93KKUMsq3UryX5oarBK0N7evxR2xY3K9RgB7VUN0vQwyiTt7pXVVutw0UM0NVySjfb2nfClLpXVplAwp0e5z81hpd2xstoMHuVUCStOu2NlNaLtgxps7Hkb/GpdKqsR7ZK0t/evhl/yjGPjZkTbE0Fa3gbv+SR8vSNlNaJdnvb2wcn1brQeE+0KaHemeyLRroJ2V8pqRLsS2h0pqxHtamh3o6xGtKui3YXuiUS7MtodKKsR7epow1CSlg/7JdoV0t7ev9/uVgei7Un720qf07j3aWJt0mo3KtH2pH3Rj/b25KJnhJswI9qeqhNtT6F6YUa0e4HR8yKItqdQvTAj2r3A6HkRRNtTqF6YEe1eYPS8CKLtKVQvzIh2LzB6XgTR9hSqF2ZEuxcYPS+CaHsK1Qszb9qPWny55Cf3hONNO/SMcBNmRNtTdaLtKVQvzIh2LzB6XgTR9hSqF2ZEuxcYPS+CaHsK1Qszot0LjJ4XQbQ9heqFGdHuBUbPiyDankL1woxo9wKj50UQbU+hemFGtHuB0fMiiLanUL0wawnt4bUyU1dSG5jnvdgO2sPr4eueCbaZEW2bKpawVtAenZ7slRlVSLQtZG1BbaA9P710q9QYUqJtQ2sJawHtabi3DxMvWhLnG0S0PZXaPO1r4VWYHOCAaHsSK2O2adrD3w/v4EwQu0S7DEbPYzdMe3b9hH9scLfM1wPoSd4J2lAYP+JzvOwTbU9iZcx883apJ21aAqdfvrTPYW9vhyW+IUp5O01hI3yTtJfh/Qj2dpk5uoi2QTVt8+KezFzuZQ15mxfG5WkvlfgODNFOw2uEb4z28CXlY9CAfI9oG2hq2NwU7dH1k3syW7Pl3qvFr47ytqd2G6IdF8Yl8jKuU6LdatrTMC6MC9yTEoNIiXabaQfh1bgwLmmXcKYR7RbTvmb7LFWZQj/Rbi1t6LnAnaXyjc2Xu2Hxr1ER7bbShsL4rs6Zbx2VcJ0S7ZbSHp/eFZ5xE3n7aA/nwbwjXztsJ21LYVxSD5eeSU6a1ZK3hwFEGx4mz9bhkFcb9Zx+yVIYl7Q/LO5M86E9Go9yYRquEXYZ732u0zVjvNUg7aG1MC5pl3CdelAZg00uRbfCcDUc5LtDcp1gE8YN0k4pjEe0Xy98/TXQnobhVuH0tPbA5miPHsmeC5KvvrxavI9xDbSPw3DaWmiFE9YY7fHppZTCuIBewlFeA+1FWKL+X5hG3Qc2RdtRGJe0871XVWGqpz2EKNUz9GS9Idp6zwX9ES62SvQxrp42FOoWPSGsXkYjtIev2zzjBvMSjvKCtOfB1nEQl7rnwfHxUrhv52G4HsMv3quK1tn1JmgPZTdig6++WaKPcSHa40M4DH4rzm4qNlnZjDlWlJ2dxWskvAHayZ4LOmaxVaKPMXDJcs0k6ttQxVoEQQClMcTNfCmHawQMQ4tnbAUcacf9cpwO6qeNY/qseM3A4n2MgVFe2iNgiU/tIWRp4AtP7mN4aiP0Y8wPcHP0sLpdP+0ljunz+mUSQwzWXwHa4Crj8wNAHsfMHfDu7DNROusp7aBmz6lHYVzeCsX7GOenDVl7zW8czOTKLQRZHbfaQntWbTGxXtrQjZiN6ZNAncvijvL8tKEYJp79QFutWUOe3zzt0XgeBK9ffAOSFl6rsuhQK20Y06d3I3bTLtzHOD9tcIzGvyhvj5YrKLVtiPZwPJ4GwUsXH/GE7e1dnUx2d++E14v36cEr0X510vYsjMtboLjrFPTJWUqDLCx/hwGXc4blc/yhPo09yWfjMdQMXr14yk794d7eZHJnd1cp1h6dnJYYIaexhtJJfe9tdUyfJOpaFu9jDErlp71E70k8kxNWsdcBUG6G9igIVhcvMsThXWR8sGvtwLW9vb8XfsmAVnizPtramD4XZbmv+GQchWjr9wdk9i3M403Rhptr7/5kcm/X3VTEtJmE1yt6eddGO0dhXOAu7jrNTxvEZvVqmUui7Zh2zX7yL6kDXOUNn7LcPTmNH0IyyUWWNdEefsvajTjlanhw8T7G+WnP4RC1crOW1e+YNnuiF5HU85jpl9P6YyZVunUp81XlddZ6aCfG9CUvIBlSvI9xftoDqFevlccjxMByz6o52gMQydaxPikMhkzCl5TkeqG1GNVCe5Tajdh+KSJUeLcsqcwI8qQ9HjPBWH9EzNwL1uI1xiIvvLbXo+EcFjzPy9JaxonL7YamweQIqTSF7p08Uh9Gxc5cB+3sngv2Syrcx9iTNqJkvyVoBR5T8UPHKcLH3zHyPhxjDazuJznyWoaebQgg2NGlwvrgqdivBtq2MX12vEZo4T7GgEYvYcuri5eiwzBYyvaOMcvI8oGOFTDI7AzzYtgU7QG4JLz9T/tXw9dLPs2rp+3sRmzw1TcLu04BVBZt4A7OKvaLfFMz8E9O5eNxNuUNI7NgipI21Y8BfMsTXQXH1sHJdZnc+D7Os+ZP2++2yuhG7LgUmIzj9TwpV2z9aCsHtGk18G4khKf53S+X6gnrT9urxjf6V/YxfU7KcmfhPsadpj2YR5PGSSHSl/v3SzWTVEs7fUxf+gXEewo7yrtNezC7nqOlsFQzSaW0ixbGBfDCrtOO0x4MruVwrJVpJqmSNozpizNq/rWjk6JTr0AxW/ODtum17JcWaEHycJhzTUs0k1RH2z2mLxs+FDj9CoJJ/daQuatrFkzG30AIjJvK41h7tZhUldEuUxjHW+FOicrkEmirftAG6FR+CnSsZWcJYVG0maQq2llj+rIu5Gp4rbiAQ+yH0HXcuRxrBZtJKqIN3Yi93zsW8PuXyo2oZJ6wzuMen+aovk7Cr+d/mldDu2Rh/OhS2d44zAu6KOV5KP5oqezIXI61Is0kldDO33NBy99HJ98u5xDkgwDgYc66n1Qm/gYi+lIex1r+ZpIKaEP5wr8bsYaZbxxU0RFnBA3W8IN2jW7/5jkai6GZJGf/4/K0/cb0WSiLoEneJKfgFF1GF6tu18VGeRxrB/8mXzNJado5uxEnqF+trkflVHQRDrdW0GtXGaubcn+0Mxj8Fv59HHI2k1hoH7FnYhj+utKrGb7gZG8VmfqO6UtgZgFlC+M6sCF2NIp/YqyubtOBLSjzeldwsJnE/5IstHfDy/h7OVQ7OKfQ9h/TZ6UNhXH7TeR/AZoldjlRflFLtmbU/o1cjrU8zSRW2hfwd9mDdsnC+G4Vfa0UeDNtwI9PDwfl4Datek1mIfNPjmaSMrRzjemTaVOWlRTGY0izpXxvH+Jru6vvbX5BQXK+fkU5fdW/mcRK+1mvvJ1vTJ+eQNyqqjAueIsy2mGwLFt5j2+gDa7ldKz59T+20r6MtG9nPMlLFsahsujRl8xfbuY8DbcqLQb4n70GS2hm8u+x5tlMkk77gpt23jF9Rt6utjA+GLDS+MLJWp0zabBc4RNgulqJQ/T5lTTTGkj6RZln8JBfM0lR2kGO3hYGaNw8unta6fOWwV67otTmTML+49CPGI/aQuX1+ZV0Uz8ytVjlGTwEL8bs/scFaZcujOfzAWVpyR7jW442IX3OpMEAHa1zdhRWyrX5lUzTrHPXuR8ca/59HA6yazgW2vshe287nuRley5UXBgfsPbtQwfsxJxJCHgLvOrTAI7CqVewas7nV4Jsr02vVCfNzLjzOdYym0kstLdttNXZzNI+DWJ5YluDoDCeeZm5DDCTLlyP8cScSXxMiDgEmkv525vPr2RMr5QrJdUb5xk8lNlMElxKArHR3o49pwXH9MnzgK+v0sI4CIztX0s/ocGUGaLXTRwCWXvND8ZMHkcjTeOQjayBY8178NA2PDVdd30QSgrx0k27ZM+FqgvjSABbtj1JQD5mlkB7IQ6BJ4O4/YC2MtZPmnrGXJtZrj4O7maSIEw64J20C4/p43cTuPlcN18xyQCS1+MinjMJn+TyBtHcrTJvK6bF0lTlUXkGDzmbSWaPkn2hHLTLdiO+V3bcmlVEL9ranEkqbcjD8ifmV9JNradsNhAGD6lNVPFj2LbmaiaxlK8dtF911Aju/WXbubWwg0pmGEgo7UMbS3LxnEkGbX1+JcM0cboNBOQaPASOtdQeHcnsGr6MntMLev8jXkpzOPMOwvA9DW1yo1Q3YofGHrQhA6tzJhm0tfeAaeo4cYO78gwecjaTmK/icIfT1ty0nPYbWpjK8yC8+cCNG94ongXnvCJm04bsyscOgSmLXXlvR/v4aaNNaZo3NTXZ53SspTeTGMVsB+2LabQB9oULTtz7l8qNPXaImE17LavUEqFCew5hSskxYeo4caO7cs3Kc88x6ZZehXbQTvs0IIPtxF1LYVyoDbi0Z3ESAlgwBwp6xtlehbYxv1LCNBnbhkJyDR5yNZNoU179evqTfGWfKFPARtwpRTUY01dfv6Fs2vAu1uZMUt/bbIqdeH6lhOmG2NpOm8ex5momUaezezedts3Rug0eHHiMs9/N0O73uVNPYVwokk0bn9b4k3MmabT1+ZUSpjbZNxWWZ1aebVczSdys5aL9oVoyE+sqbHuTTV2FcW/aAyh7sbEF8ATHtk4ErAz51uZXMk03RdZ63nyONUczSTQNraB9QyuR8ffe0uJozYQNFYKaCuP+tAfGnEkzY9IkdX4lw9Sq+uYC8wwecjWTyO4oDtrjJO1M2LdKj+nLkhbya0YpLSuGLu13zcqT8Lg5mklEVzMnbXVIAT7JM2HXWRgXkM4XbcesPL8W/pL5yR5HMwl0I4UXr5O2cfcchFeiApr1nV1igg3vDHfOaA/S+jgchI/PfvPIKFmBUyttNvvh74O/1EF7oHVNxJx9hXVHvnDhpt2DXmaCDaKdqoB1Vp6j5x5feHolycHRTAJF83dvsOxqK6UN9BpWJuyaC+Pn80mOV20ZPLT/0TuQ8569Gb5nPs0dzSTT8I9dtNWC+m5Gzq6j54Ltdj9vT3LUIDl46Dtnt1kufTn8yCxcOZpJ5v/CQfuRQvvoOfdjvPwEGza0lrDzSBu62hnTXX8saF+4ffacUbpyzWb/nx20lWaRTNjlJ9iwkLUFnU/aA2Pw0NFHZw94ifnZK8mW6dRmksBF+74s8mXBrrobsQ2zCDuntAfG4KH970Qe7J3wO+bLG5pJrD4uSVubrY370gbHslkkC3bFY/ocrNlnnc6Rd0WVwnCs3YkKUg/OPjKrYinNJJK2BMtys6Atm0WyYFc4wYZ6dfb185q3QQ1jVp7d56KX9zvPJfwf1mYSSfu/yoc2LiXtuywwA3ZThXEB/xzThi8PaRXsWx+F8uX9OPw1FSCuw7dJEnPKSdq/pT4LJG3mKM+AXfUEG/YcHYeeZ9qmY23/PeXlnfCjWppJJO3P1G6tgjZrFsmAXfUEGzHWlLVzTRtbb7VZeeKX9/tnz6kZluX0RDOJpP2v1YdERHt/OwN2g4VxQf+c00bHmtqJJH552/yoZjNJcMY9p1+EOfEn8tEf0d7NgN1kYZxocwWMPg7w8uadxK1+VKOZJAgZ7Z0vor9GztQmaA/DfyY9aM8+1soH/LaoeoKNlGe3Hnze8zaoYczKAy9v0Vpl8aPCXPBKJ0GFNr4TeDVd0B6EvyXcpeCwSRTxtxsujAvoRBuml9AHD0F71VPuWLP5UdVmEpU2fo2OvekF7dGPXLCrnmBDz8KpW0QbpDEGDx09d8YnXbhg86NCM4n0Ry3jJznEIjofc9qjhy7Yu7WM6UuFHO0g2kwKfVae/ejlfcH0o+7v7k4+lFMmjDXaAygCwCOb0XbDbr4wLngTbS6EMXgofnlzPypCntzfuwtyheEbF0XmNmjj56quMtoK7KRbDme7i3JbsytEW+htDB5SXt7v/Ld/IiCvAhjRqvBJ0IYPnNyHvK3CTtTaoVwv3wRKVM2sEm2pMw4eEo1fmJP/4X///vuiEfRx+A80yPIIGEcR1cBk2PTL4dgN2+KBlQfXviTascQweEh5XP+/vykG9V2Al/dPrLNOWWgPRt/693EBLemPa6AbcXxBiTWirUgyOoV3cvy4/kH4WNS8L7/yvDKUNTrCRtv9GK9ngo0oQVkrRNuh0PThFd5fDfujWvozjEN2N+x8Q4lj9PCM3yLPXknm7Jom2FBO714l2i59Rr/6inx53ww/SDzNx3zilR1lNimAzW+QZ6/8KFFAa6YbseOCiLZDHOie+pPo5f0g/Jo5sDpJe/R7r0jYnxrjB7brm2DDeQnqTqKtqmFZj1/et195aMzAk6A9i2E//HsG7Ron2LAk2x5EtO26xKHxy/vZG0ZN2aQ9/FqUsx+OjLFBmy2Mi8sh2jHXlLXR114RPZigKvZd9eU91N/bOuyB1vJV6wQbKQlPBhPtpCZmyPC78cv7lV9Vq2IabQP2IO7ggB/NTp+oyTxdjdtE20fcILwhat63rzxUOiNy2g9YmdyEPVBGi2y8MC4ukmj70B7MH74jat7QEeUH0SGc9mWknYAd0659go0oPVkrRDtLIb5fe3l/Tb68Y9pJ2AM5ZVr9E2z4XQJYEW1PqZSXd+xHjWhbYA/EaJFWFMbFRRJtT9rYf02+vCM/qqRtgy1oNzHBhvclEG1vqQbjh6I6jf1RmR+V90+9HGr1bBkh+1pBIxNsyDNmLol2pkSxwexrcuwQzFyJflReM7scqk6VyHwKY4OShfFlGEIz21i++SPrRlaIdh6Zhx9EY4eYH1XS5uX1p1fAgxb/xqGlG/E0vDq5ugeqn16EjjBNMyfaMR6ftWU08Bf9qJI268Jy+0yDDT1bkrPdAWw2eODW7uT+JdD+q68GU7Xvk08SStgQ7ZzixS9v8KP+NpvW9jLrsGTCBtrfVrM6nkfCFqOIju5x5o++HsxN05zJ8jMn2n46xVbKy/v9vxrTvp3s3jI3H9RzkbPlkDG+3D2YsM6sb7wezM021fi0lawR7dwy4stb+FH/k6B9Gabn+e3/oLhUrZGOTsXgIZ22YH5nsncCNC5eC8a1MSfaVjAw8mMavHoaGg3awhZe3nzs0A1J+/b3fwRKfuODpeMl7ITNke/v3qm1CEe0E7Rn4+DaG6DLXShH2XLZePkHf/Jn32djhyTtn50B/tsPdm44kHvAFnkeinCceeVFOKKt0h6zDB2e7E3u4LRp/84c0wGTc38RFLux8z//L3OsSNo/lLPfpSP3hy2YyyLcV18KplUV4Yg2pw0cv44Z+tL9ya6cDvFA/ULOYLT84BfD8J3HL/PK9U18eUvaPxbvcT7cwIZ8eP1ERito+i2OZBGukmI70R6Ml8FFkAEy9IE+D+Ldl0S+H86DT8Dixs77YqgvUn0AL29JW/ZtEbTZQnuwA+xED1Q/3MwKi+0fQgrKFuEgio2NSlKfoRtZH82Dl74KCly6Otk1Z8Tb3t7lozVllhaDfGOgt8/O/gebDPFp+LlyF8QGsHb75ZtX4AR/7R/98/+YA67dFIpwoti+KuqFO6e0h+PlNczQdyFDp2W6vf9jy9IxzNt/+uOzd3bwBxGd6Rk/toK1yxz5u+mnsuO1hkZFOPS85s0j5482Vq0wQ+9dvWPJ0FLho4O/9cMwfOXxTiJLI8hnL+/cOINH+x+d/Zf/9bf/xo3HTy/vPH4HX+o7l/U3eEy9UuTbt4QXLqfn9TzRHkZVq8m9tAwNtPd3J998Lgyv7DywPp9vP8CH8xm/Dx6c8SZupPrTvxt88pCV46x3CJpUi3wbi+04pBw8r37Z/JzQFlWrUFStZA5OLI8O3vuFCCXy0X+QhV8BJ0rwv/lQXtj5VHRXg1WcWmkg6mhXboqiu34826oY+TYU4S6F3/N6qPeeNvhKElWrBGQWsDv5JUeWfvpgB7L0w09Y07QY3KmjZLSZ6PCy+AYIe2PnQXwv6LbV5vL9S6d+NfI+006tWiVo3zqYYJa+kfLavfzy43fC8Bc/iLwcGbQZ8vHyA45crbbpzKvK5VeTU7Das3o/aUPV6uvpVSsd9u7kVzBL37Tnw2ffZ+7QTwKtQcuHNkf+b3/4dxy3EcLnt1L4zeIldm/YvetzClWrVVbVKqKdkaWhsoxZ+rvLxGPSmzY2aEOpD18RrgI7lPEfw6me++bEUXqMkm2s+MPuE23I0B5VKynV/h3M0u+kZWmoYoVh+MWUFmdf2nHvBagysYL+zZdTC+yI/Ez7jIFMq3OZA3Y/aEdVqz1n1UoTbYKOUGvlmFexHv6Bo1bjSTuGzU8NTu934R5Ke2vAY/1soiXSYyMP7B7QHkEzNPhKeKuVhzzC5IDPoqEXmy5g9grDX/jD8J/aizki1I82NHtZ0nN0Byt5WGC3VOf1b8ZZjjaDcsHuAe3fuDu5V6B56VYo5tiQvHkVC16d0DRy9atO2HLqLHkoX8Y1MH6wq41z9857v8lKb3qB/bIxwt9km9ie5GvlgLus260iM/ieZqHfx6zfCQcF5WLM0u8Jn/kt25Q6Kn+fvO2CzRIMpbdf+Zi7cuQb5QF0Qc/zO8g5q2LnaV87SbZeeQn2Hv9m7lNexfrm5F4cz+TU7D+oooZ1D9qZsHki93npDZrNsfS287FX0qVRXtidf5IPT3OXa4RW8OLmVayP37uj13v2T7Ied9m0h9/7ML57JJ20JRbYIdtduXnlm2kmtvDcsDtPOwgLvLOZdLdA3/Bd2zt/Yu2OpmbvTNoFei+wAnueWzc/7CFccdaNrF5m69b/Zf4Kqswmd1jfM7mlLO+a3dESV51J+3pYxE+ipCF7NT/swXwR8tnTExfUjYBpqD+Es0XKttC7o1l1yKT9G8xve9/25MhOgJdFAdiD4DhUJvKzXlmrA9/QPqroJVOm0aWXMi85kzbEEDWyQjeoom+b9LQehd/KKEkmL2IED/LjZHBnQsZ566fp8kV7dlOGDKii+NBm9uC2l10cXT1lopP7rhydXM8PG57jvo1l6sW2Zv0l/rFMX4287PYeZV+eN20eVTQeIdGt1StFSaPCsA+zr621FjNtArqkKEVCbvnc/jlpcwGxGfYNyF534XVerrRRGLbHY6u1sAfXTorwdB9z9dTjegvR5vHi61wU4Yq+zovD7nL1a6jONuhm6L1336tCWoI2Y85e56wxx9nx1Z7qIrDHa3iohGuPG7m1JkHo766yC5cMnYQ+pZ+ytLmk2FArRqmkVf2TCdy+9eH3fJKoUBtOt5B1uM55nBLF5leHp8U9KxYVedBJpmcFL7wa2lxC6KX6OnudOwYyKMn17nHIYx8tj9cMdcdhw7QW1VdjDzKdpkzEKmkLKnKQUkYRzht2sIW/Q0E6DFe2wcn83J34++i+cstXtBoN9HMrUD1tfr5Mj4w37AF/eAvYi66zHsxr8Kzc83Qj10WbMXd4ZPxhx7QPt1b2GSbcN3TL9r5k6wZUMovvveF3kbXS5kmQHpkPFY9MDtgD/iQ/Xnb8AS54jGvwrBz5eFbw/A3Q5pepeWTywBYq9WVxrXqn6a37Gd3RIu0ao83PKD0yvjdjlM6+rBTujmZ91rOB8FCi8fU1NUxbMM8/XrsvtIOi3dFM2jAqls1Nh5NceHsfNkK7L+jyX0fx7mgxbejzySaqgkmL8s47SbTzIytxxLKcZwVnKvoQntxF5xEm2iXY5T/0q0WdpnLyYJxItnjlhGjnR1b8iGkRzwpOQwUzicLE4KUniSbaxdnlP/J6vu5ock4amCW4mhljiXZ+ZoWPGPsPjsM5xuAFfVrtlKFEuzC7/Ad+3cezIqtWb+SpWnmmhWh7ClWBWVZ3NDnvM0wmlrdq5Zk6ou0pVAVmjoF+chLYi4Unh/RKH9H2kqkKI3t3NPSVsO+yVDLZb0Y6iXaGQNXtTnRHE1Ur5iup7jSumIi2S51K9ynd0aSv5A2Y+rG4ryR/6oh2fs2KHSG6o9VTtfJMEtH2FKq02aO7Yi7XOqpWnqkj2p5ClTXDgYroK0nMWFc24jzHE+08apWxnfo3Q5c5jfNYou2Up2c7iXbPgDovh2g75enZTqLdM6DOyyHaTnl6tpNo9wyo83KItlOenu0k2j0D6rwcou2Up2c7iXbPgDovh2g75enZTqLdM6DOyyHaTnl6tpNo9wyo83KItlOenu0k2j0D6rwcou2Up2c7iXbPgDovh2g75enZTqLdM6DOyyHaTnl6tpNo9wyo83KItlOenu0k2j0D6rycDtAejfHnvAra6adAB2jzGasXQZODIf3E65xVZ2jDMKpwa7XhcVSdw2skuFO0kXi43ui4OUO+jm12jzYAD7ynce0YjbqT2wHaQoLxcrWFX3TE31bdsvQ0/u7QZgBmq5ARp6d5ofuxY7QHg1mAuH2nXy+kSX8P6hztwWC0XoQLenMXuSc7SBu+sRR6fhGpiCJ9PqaLtMdEu+AtSbQLCtfJw4h2J7EVTDTRLihcJw8j2p3EVjDRRLugcJ08EgS+RwAAFgxJREFU7LzTbsGUdQ3eN+eU9pI3rCzPmVeup7RH+GHfIPX7zUB5hVkqINoXLux8scGnS/5TZXpXZvID7esUB+txGB4T7Qv813HaQ2g3WayCYB2GKbRHhwvWikZ5G4B3nPYKOrgwzLOsvoutpj1kvS8r/fPXQ5Gf1cXONyo9R/HI7M3YGU/yIbjRPXsstpn26Hm4jsp/KmaxvnNW+VkKRmh9qWfQht1r63HJwBbTHj3/4pMvVP17wZq3/3zVpykS3y+/+HyhvA20F0mw1pD20p4//+JrRURzH9Ne2k9+nAJ7kJG38ZsO5gt7tgyge3J088zGfL21tKdhHbC/0FraL/zcm2kv3wzag0NZSpP5eQjlNvbbErwlZbmUhm1ZTsO33Jm04N620n47/N2U2tMgK2+zvi1qr/MR1MgOgyCAuyCcMqCSsly2hbJIx1dqgt3WvP12+JVU2Jm0B5iVF0uJEKvfzHPGwlnulpTlUpq2Y/mV8JmCeTfrsHbm7Z8JPHb1s57kA4Y1PBb3i3ScQWSweohxSspyaT/PZkKHPx++rVDDslpV/+x5+08fi9NVdZqc8bwVRhnTpng27cEU8nPI/WUzWJMlAFzHApykLJe2s2wobPhmDBtlq/Rnzduf34RzVH4q33S/dkO8XdP09qAN3ZAlbiAaDy0BBzp2RZeU5TLtTM2HD9/8ueqr2ZHyVtpR3o7MGlx57cXnU9uuuPo+tAesHL6ATC0A80MFeklZLpunmnLG0fN1wrY/yT//+w3SNU715JXfE9WkFEGyy+TiQCyrQUtXl2irDrQ6nq1ty9tPPnszC3Z2mVzgxnbPYZdopzrQJPmCS3YY/rHSZu9tkefECfRF9FIXwZVtP/3xm+k1L5nZvZ7kYDwH2mOkzetfeDg8urFhWz7B5RJ3bf5nd6CVlVh9dlpp7wg/uTyRekBcfJN7K1y+Hf58NmzvvM3vCuinwmpdjOY6ZMV9SVkuN08aUhA70KSiUSbSAeTbiiKDwyLazyptYZ8brSLiAPW4fGf0tH5GyYUOAL55G+1mA1nrwghlbUxSlkvHyRrbVZsDTRE/oq3AvrChMvlbngN1M2jLyrX0pUBp7TB2tGj90YB2/JRvjKv1RKYDrZasZaX9+U+V+6Gp1dd+mlHNjkTKoH18OEW4rAqGdTn0nDK3+RBcabxTi8zTsIzr4lH8G1gxHGg1aM7uHitt/t6u5e5KvY7XXvxLvMUiW+sM2lgUX2/hX/GsGGFzCA8RjSVto6040JKqYwgLjf44Vpilvl+R3KDN397xe5sdx8zlWhSTJd5on2Ml5bAnNzKr2dFtkEF7BlmY/Q6ll2bI5nMAV6qcngdoM99sS/J2qgNNiq4AK7IaRWPQ5m9v470dGRc5k98xTz77K5nVbF/aUBibQ/vmUotwvAyWcReHmRgiMhxrRtEZml1JONBqE9xKO+29XVsqfudTj2p2hCAjb0d2HVlRHWh+eaOwlZW2rG8XjjXnga6uCxZk/aIdO9C0zKRt5NRTMY+iYStW2vF7WzmuvtX3c1aDekXbdKBFeITebDv6gyvcIgpStvW93E7DZqUt39vx0SJKdqgM5bGxv+aqNTAqnxnWb4VfsWRgR1CfaMcONA1LpRtcb4xS0FY9aRcupL23K02DiOy1n/lWsyP+PaLtdqDFmCpS3pq38b1tP5M9tERaXnsxN2xvP3l0e7R2RXGgKcoqqyWUtR1qpW3kbXH2OhLxyzd4d6JcPPqSt10OtAyxjd36proVr+PaC+Hl5O+nRquI7TbhYXFk9odB6n6+48lnaSMEXPh7QltxoAmBFbUiyTFM/sPA2IatxZvqLs0OjxK/F4TfSV9EfVfUyOQhRrTK+eNkqcep6xCHsvnCp6kjBPpPW3WgKZrEKifXPM0qPDCOKuvclv160NthHp9KzB/y9tbKox08PqKFawkHmhBWkUhZjVXPWNOO0TZyHBgdF63oB6cER0a2/U/DgsiwlXpx6NuG0kLSkKTKHWg2hSP5N7+Su5odY5vyRo+guxMixQ606M2m4lLXk6T0vfoWs9aCoo1oJRljHBIZRSu4T9uIjf3W8OCfuUcIxGhta2xwgChqwNhNaAKxWbU3zHSgOWWzS81C7bucsdl2uqJR9+F6tM1W4j8Yr7ZfOVGRarYGT+WN2OOuZ5pZOzfSHWiRlkIruR2pKgMULYXM8YLt0w3lFi7VfzE843AWR4k/7ITirK/dWMi256I8Zjj2R/lF/ZOKRtjccbEDTcih5BhF4GinEpZztWAURQ5LPyZ9IL6v5EPoh6D9OvTpCcWBZoWXrpvV3AgsenTyOD1E2VJWjZOLTc3gyae/W7ITAet7JGgfbnXqvZ1woEXSRCt2CdXQHKb254YaWfZ6rtMZ0b39SrFqdpzveZkc+ouulP4o8e42ryUdaIY6fNNDX2aCf7iteoS6HkVvDcS96g513dwXxSR3MOP4jxEVN3/qNULASYy9so9Zz1KnXft2FnCgcRwoKkfB/3ItnX/thjLUHZm0SpwgdUfCkiX3mbyt2Ulk6CePp15I7m9vSJYDTdcSt/SQpKRaSLqxvkff0qJwndJ9mIxGtfqZ5wgBFzH0nGaUyubB8fFSFNOXKywlTFcr0QtxHmwdx9MrDVRT11kr2Jd0oKnSCLksQVLIIks1OnVdjwv3pO/VbdO2Ese/9hfzt2YnVc5sA5tiB3L4MecqjP2Dr4fh8F42UGAs9okxIppp8lSVhlgcaGnK5QxXhFZWc0ZimIuI2EKLVNswDhKb/KAbf1KFdzuD9nANZA/xD5t1A8vvc1ZhQ8BQwFtAGR7e/LhlmFbKNhFZigNNiieXXDB9K9ZUhrMl/pEBsYk7AtUu7VjVJmWdHyoTYIvoSdrkhglh3AEZtCEzH8OzG0myaakB8Ba856c4dABmzjvEB/wQbgF4sJum7vOW25vuQEsRVA9WBFVWVZs4WK6ZS9Varksbtq1tQIi5LQ9KXcYHPPk0xwgBl7IZtAdiFnpoKltgNGgue8jAeCH+9oZbADO3Yeo6a8l9SQdarEyqeEJuH8v0OLQ9GBWLzhmndWd0qBZhysbvfFa2mi31zqIt7SD/4iqai1YTyNpiwlvM5NIOlsJUCal41e1AE+qyhVXpFE1zBLui1fZpG0VP8NQxuWFOZX1pQ0bGmMGc5XFYhde3KMwDbbZTnFqYiq3KFwkHmo+KFtktQTymeEe8Js6RCEg5t9NO38m39LA4VgivoJodMfCiPVquoCiGx4C5HLYrxwMCaiVvx6bRKapdSTjQpFByGUvF19LCFTtuwv56WCsHeq7KSOUy5TC+2zB6UN6nEgPIps0/0i2yr0IbsrD8HQa8Oq6Zxueoci3DgWZIlZA1IWjqAeoOXFe3MVrbthmWOH3ugNfeqqKaHQHIpI31rXWAZniMTnvJvoQQxaWbRsFVrqQ50HQZq1Q9EZcawNbVgDgdZqix7TiSx8ENbvxZFdXsiEAWbcjBW5hxrbR1J5xhGp2iwpWkA02RJlYa15JyGnrr5hVu6efRtxKPBHZewyZKS+o3BIpKmkEbsiurZ1toR7vEqaNtcWMUTZHjuKIONIuaGKQEK6v6jkh5XNGttF3WjRR7azAPVP9+4cmn/rMuOFRTdmXQXss6dTJvzyFIbVo3TZWTVLRqdaDF0mlKWdVngfEBwkYNUNdht7EZRZoWHhn4r6RH9cJnhUYIuMTOoA1EmQcFXeMYDZjLMrn5WQLT1HXWQvum4V94hv/eZwv4C/9fZn/jNbEdB8c2l4WVXHAb+IuRYOD7Ija+IzqQ7REHwToasaiicGOFR8VjjaLiNuxMahisq4Z8Fwa+/0x11exI7gza8C5ej4ZzWPCMrNLGzL1gjWNj7BhnmkanqGrlH/85/vsEFj+B/+L/4zUeKraNYH6cPCzeiWufyENY3PE+9Sx63HYbNRTOx2JOhqmxwl4w5LZRODvyB9UP6sigjUTxd4y8D8da3sZWEfFDx6lpWhVkiqc6BTJoo8cMczBixsZOAMxLbSwFY7wH4BdNnKaaVpdGiqkqBbJoD2ZT3toxC7A308yYOAlnXJrKsppuWlUKKZ7qFMikXd2pKKaNK0C0N46gwQQQ7QbF3vipiPbGETSYAKLdoNgbPxXR3jiCBhNAtBsUe+OnItobR9BgAoh2g2Jv/FREe+MIGkwA0W5Q7I2fimhvHEGDCSDaDYq98VMR7Y0jaDABRLtBsTd+KqK9cQQNJoBoNyj2xk+FvcnErBobTwsloGYFRusFdjej33lQYInzZ+nje87DZZ/Ha5wFa2CtD/g4jzqcg2seCdTK2I9zcNXn7BJHbAxucAyzZbBJEOE5Tm/t3t4Dors/e4LDn8VKzHrX2ws+1xem0T7G4Vv0668CgvbhcTCXIzz6e7Hn/sr4e5te1ef+RiABSAFSgBQgBUgBUoAUIAVIAVKAFCAFSAFSgBQgBUgBUoAUIAVIAVKAFCAFSAFSgBQgBUgBUoAUIAVIAVKAFCAFSAFSgBQgBUgBUoAUIAVIAVKAFCAFSAFSgBQgBUgBUoAUIAVIAVKAFCAFSAFSgBQgBUgBUoAUIAVIAVKAFCAFSAFSgBQgBUgBUoAUIAVIAVKAFCAFSAFSgBQgBUgBUoAUIAVIAVKAFCAF8iswnAdz+vRHft26eMQwwK91HXYx6ec+zaNxzi8xDdcImz6l2sU7Bz9mni/d8MWu1XCQ8xbJdwqyrkmB3LSn9BnVmlA0EG1u2sdhOG0gXXSKOhTITRu+nEsfUq2DRBNx5qU9zP2eb+Iq6Bx+CuSlDfYLv5jJqn0K2GjPg63jIC50z4Pj46V8es/DcI0fRI93wzWpFssV7pquVmN+sa7I2idHz1OUpD2Gz9rjb8WvfCo2edGMOVaUvWijWcDdsBgOVmCyhfuckaEB/ZpUIEEbaliLIAigMIa4mSvlcI18Ma/O2Bo40o4jx6lhMYKbY87uCTzcGVmTl0nnYgqYtEeAEp/aQ6AGfCGrHsOTGZEeS3uWaSP5TAusj4eL5TSA+yErsigSWmlGAZP2Fs/ELFti7gzmLB0zWTgDe522aYERLsRbPSuyZi6RzhIpYNCG3Ljm+zBfRlaDAWR1tpWkLY2EBUa4jKJwRyYPpWVDChi04Y0bRKhUBzpkUxaeTltYgIGsomVG1tA10mmkAgZt8IvGvyhvj5YrKLW5aMcWyu2QGZlMBC0bUsCgDRlU/g4DXseeYfkcf6m0NQuFdmZkDV0jnUYqkKS9ROeJcI2AFdam1kFkpsCUUegWigHQdkcmY6BlQwpEGPn5AJB4b4vzQ8AW5vH0vG1Y6LTdkTV0jXQaqYBBG/Ipr1eL/dG2QlsWwriJaaHQjnalRSYTQcuGFDBoz4GqqCyzBKxl9VuhrRbVBwPTQqGdGVlD10inkQoYtLFevY68ouwBzl7h6Phmh5j2+IjXLBTamZHJRNCyIQWQ3njM+LL+iJgfF6zFa4xeNHgpr0fDOSxEnk/QNi1U2lmRNXSNdBqpANKLfugDAz+3+KHjFHnh7xh5H0ImTtA2LVTaWZHJRNCyIQVEf2GGlDvAxwgWfvyBDiUtzOyMMjRlJmmzKppiAXeLUs5zR9bQNbbgNCn9uIdKVRdTmWJW5QXAKdlPdlgYzOZBMJVltdmUN4zMgil73uv9GDAdusXMMHBGVuVltDmuxBNRJJY3NEYpTzOLDGilCwqkYVxrD0LLg7MLF0dpNBRIoY3Bag/eFDMjMtpsuQIpGFmzkeJuTDFr+cVR8gwF7BihiwiUiBexrd0s3k9rnVDAjhFcViPAHQ+9sZt14gopkbECVozDBXT6wm58kZ3VLNpLKx1RwIoRXBmQraHzQFT1tZp15BIpmZECVowL1vEPHufotGQ/q5ncScuuKGDDCM9wLI5Db0/0UbKfzUzsSizmokcRVuLwpxT2ErYU0KgCNozgR2OU13E5zWaWlk6t0x/QVtzVaYdQeDMKWDBCaxJ/gkMeX4tUWMxS0zcS/m65kM+H1ANoR1MKWDBC1Ys3RQwhY4pGCYtZUymk81SnQBIjhOBwO/zBI12U05JmJZMw2urGL3Y5lLzgVhyexIidgZQffw4nzUqmHiPswk/xHpe84jYcnsAITtMwynZQuuaXmzArm/YZf3q0/m/cob3sFbfh+ARGtZaNo935sJyEmSPtIxOhw5Z2NaqAiRGcprEHbYAZHTsB5mrfNl4Fiv+10SujkyUVMGkbPe2hfM6c5aZZMqI4ZGrkbdnXKLagtQ0pYGDErK2+qqDKzbK6YbahxNJpSyqAGJV+3Ev5opbRAn2shBFtKUinl4gx+i1xVIVew4Qnu71Db6ev+rwmXu/HDeyjofFcESynAX/K2325QbR+3OOoSVtc3oy/xo3u5W24dj6OqA0poTTUpsAS58QaDKCE0S8/V22CtTriUQCuPDFhliWhQJn57qFAQbQt+nQqaAY1fPZTx/OqVwCt56zBnGirqnRzHev7i1UQrEWHiuRVjA75nHdEO6lN10LA68oztSgcpqefaKdr05E9Q3iIm5WClKQT7RRhuhMM1XrZNyor0UQ7S6HW7wfaC89EEm1PodprBp2atUYZTOlsGWyt4k8QzMZ83UJb/fTAgL490F7MMmXgp9erXkPZWr4lGk4lZbmUR+qfHsCJWujbA5E2LV0BSDB5Upy4EdTIDqG9HO4C0VwjKculsDU+PTCgbw/EIrZ3DbMyTKYjGYoG1wH7Qgi7CyRluRSWcJvoHyfAQYsQE317QGrZyiV7csvPhUjHGaQUVlnznKQsl/IiLB8noG8PSHHau5xCfhacsLlVVr9xHZvjJGW5NC8EnvksCNtoxTMCyn6iXgdraouutDXjoO3mFBitARRzjwLReAg5ONCxGURSlkszXWDGgpTKXGyKZX7lAGmrBNFq0wqwcvgCMrUAzM8v0Et0cqklLv70APa/kHeKNgwxytuKrRYHbTStAL68oaUrH23t0wMqbYhG/uwfMmj68uh8ugIIaJiPNmT2lI8TQGT07QFd33ZtzQHdGGmLUYeQOqCJDdvyCS6XMt1gm/ZxAtild3wwbWUctNyMAliiHmNvpOg1i9PNYxlbUpZLkT7Y5LMCwIEsSHlvR/vSbEU4LTakANKesYFJciyDrI1JynIpEgj3Are00J5DGPPMpNlu6CLP+2ll5Vr6UqC0diimdoCCtdYfDWjHT3n7xwlkmZy+PdDO++r4kE1Hzapgc0gidlxibvMhwObNJTJPwzKiCZbwKk58nCDaj5nb9SGDdorR+1QBs3C9hX9FuQobN0SIaCxJoY1A8ad+nCCiTd8eaOWdM5OOkEPM2fgbii/8LXgvclZKYw5RI29j6Y21p+AbH8cyQasIL7axaOjbA0yGtv3BTwQES7VMNRgvg6Usq0HnBjFEZGh8W8D49ADYaZG4P2TQNhUoPaQAKUAKkAKkAClACpACpAApQAqQAqQAKUAKkAKkAClACpACpAApQAqQAqQAKUAKkAKkAClACpACpAApQAqQAqQAKUAKkAKkAClACpACpAApQAqQAudDgf8Pnu2uT+Olyx4AAAAASUVORK5CYII=)\n",
        "\n",
        "Barrett-Lennard, Edward & Malcolm, C.V. & Bathgate, A. (2003). Saltland Pastures in Australia: A practical guide.\n",
        "\n",
        "---\n",
        "\n"
      ],
      "metadata": {
        "id": "4tmwDLLnZ-d1"
      }
    },
    {
      "cell_type": "code",
      "source": [
        "!pip install -U geemap\n",
        "!pip install earthengine-api\n",
        "!pip install ipygee"
      ],
      "metadata": {
        "id": "iJHDbafrW8s7"
      },
      "execution_count": null,
      "outputs": []
    },
    {
      "cell_type": "code",
      "execution_count": 6,
      "metadata": {
        "colab": {
          "base_uri": "https://localhost:8080/"
        },
        "id": "Q_SN69b5W3VN",
        "outputId": "011b8fef-891f-4d4a-bb2e-bb7f0c8b40d2"
      },
      "outputs": [
        {
          "output_type": "stream",
          "name": "stdout",
          "text": [
            "To authorize access needed by Earth Engine, open the following URL in a web browser and follow the instructions. If the web browser does not start automatically, please manually browse the URL below.\n",
            "\n",
            "    https://code.earthengine.google.com/client-auth?scopes=https%3A//www.googleapis.com/auth/earthengine%20https%3A//www.googleapis.com/auth/devstorage.full_control&request_id=Bwp_6u3BdYa8mZ6C91zkuSUq7uJOqDwXIb4beiS0OoE&tc=eclkbbvfvxz--CImVYptzocEKG_bsWPr-qPQZByEZMw&cc=DPCRvesJEm5DHXX_U8_imhp4rHJxOJWSyDEEKnjA5VE\n",
            "\n",
            "The authorization workflow will generate a code, which you should paste in the box below.\n",
            "Enter verification code: 4/1AZEOvhXYr02p4i4U0F_otoI1Y6vhLID8gkrlZe-kphZqynhcnOz6b5JvGKM\n",
            "\n",
            "Successfully saved authorization token.\n"
          ]
        }
      ],
      "source": [
        "# Import earth engine python api and geemap\n",
        "import geemap, ee\n",
        "\n",
        "# Authenticate the earthengine with credentials\n",
        "try:\n",
        "    ee.Initialize()\n",
        "except Exception as e:\n",
        "    ee.Authenticate()\n",
        "    ee.Initialize()"
      ]
    },
    {
      "cell_type": "code",
      "source": [
        "# get our Nepal boundary\n",
        "# I have taken level 0 data for country data from FAO datasets\n",
        "aoi = ee.FeatureCollection(\"FAO/GAUL/2015/level0\") \\\n",
        "   .filter(ee.Filter.eq('ADM0_NAME','Nepal')).geometry() # adjust indentation here, May get error"
      ],
      "metadata": {
        "id": "3_8Ib_NJXrAC"
      },
      "execution_count": 7,
      "outputs": []
    },
    {
      "cell_type": "code",
      "source": [
        "def getEVI(image):\n",
        "    # Compute the EVI using an expression.\n",
        "    EVI = image.expression(\n",
        "        '2.5 * ((NIR - RED) / (NIR + 6 * RED - 7.5 * BLUE + 1))', {\n",
        "            'NIR': image.select('B8').divide(10000),\n",
        "            'RED': image.select('B4').divide(10000),\n",
        "            'BLUE': image.select('B2').divide(10000)\n",
        "        }).rename(\"EVI\")\n",
        "\n",
        "    image = image.addBands(EVI)\n",
        "\n",
        "    return(image)"
      ],
      "metadata": {
        "id": "-p6FDJYZX7AH"
      },
      "execution_count": 8,
      "outputs": []
    },
    {
      "cell_type": "code",
      "source": [
        "def addDate(image):\n",
        "    img_date = ee.Date(image.date())\n",
        "    img_date = ee.Number.parse(img_date.format('YYYYMMdd'))\n",
        "    return image.addBands(ee.Image(img_date).rename('date').toInt())"
      ],
      "metadata": {
        "id": "kBF3FyPJX_ev"
      },
      "execution_count": 9,
      "outputs": []
    },
    {
      "cell_type": "code",
      "source": [
        "# filter sentinel 2 images and apply the EVI formula, finally we obtain\n",
        "# single image with median operation\n",
        "\n",
        "Sentinel_data = ee.ImageCollection('COPERNICUS/S2') \\\n",
        "    .filterDate(\"2022-03-01\",\"2022-03-31\").filterBounds(aoi) \\\n",
        "    .map(getEVI)"
      ],
      "metadata": {
        "id": "IoAN0XX8YF5y"
      },
      "execution_count": 10,
      "outputs": []
    },
    {
      "cell_type": "code",
      "source": [
        "def getLAI(image):\n",
        "    LAI = image.expression(\n",
        "        '(3.618*EVI - 0.118)', {\n",
        "            'EVI': image.select('EVI')\n",
        "        }).rename(\"LAI\")\n",
        "    image = image.addBands(LAI)\n",
        "\n",
        "    return(image)"
      ],
      "metadata": {
        "id": "mfCj83MOYMY9"
      },
      "execution_count": 11,
      "outputs": []
    },
    {
      "cell_type": "code",
      "source": [
        "Lai_image = Sentinel_data.map(getLAI).map(addDate).median().clip(aoi)"
      ],
      "metadata": {
        "id": "xYpJpLIAYU92"
      },
      "execution_count": 12,
      "outputs": []
    },
    {
      "cell_type": "code",
      "source": [
        "# set some thresholds\n",
        "#  A nice EVI palette\n",
        "palett = [\n",
        "    'FFFFFF', 'CE7E45', 'DF923D', 'F1B555', 'FCD163', '99B718',\n",
        "    '74A901', '66A000', '529400', '3E8601', '207401', '056201',\n",
        "    '004C00', '023B01', '012E01', '011D01', '011301']\n",
        "\n",
        "pall = {\"min\":0.5, \"max\":3.5, 'palette':palett}\n",
        "map1 = geemap.Map()\n",
        "map1.centerObject(aoi, 8)\n",
        "map1.addLayer(Lai_image.select('LAI'), pall, \"LAI\")\n",
        "\n",
        "map1.addLayerControl()\n",
        "map1"
      ],
      "metadata": {
        "colab": {
          "base_uri": "https://localhost:8080/",
          "height": 621,
          "referenced_widgets": [
            "63645a5947fc474ab112322de16c484c",
            "464a6174e8ae448ebb9c975c80820eef",
            "47bca67d0d0c42059fc5159204fec291",
            "f806bc4c056040e98e49651bfd029eab",
            "47f738ad827a44d493619b731c2e6a48",
            "4a41e36bc7f240dabb8d944872b1e6d7",
            "533d58fdf3f04bc795eb5e14301f8917",
            "6f0923eabef2496d9c61cff0b96d3869",
            "44af4eee053c4630a5ed5b63548e86f0",
            "bdbb72af38bf428198116785028b375b",
            "8be012bfba8a43b6adb13d3fa88cd376",
            "ffb5e80272ba45538ff9ccc2add31642",
            "3806a744d47245fd88ab8b13241de27d",
            "e50d66d5271c49598fd714e1f5efd757",
            "3919a30061e14737a7fbd7c9d00e1bc6",
            "ba36dc44bc6e4979b2de21b6c20be9f4",
            "623fee41c6c94b7bbbbfa3392ce59c45",
            "b3c44ded1ae648f5bd4670eaa1a9fdc9",
            "ebab0602035b49cca3da624b379fc776",
            "9ba14b98cfe543669789cc718b57db53",
            "d76c400eea6b4b808f8ef7de2388352d",
            "f407811e76ba4f4d905238398fb1ad3b",
            "d8fb3674ca7d4a9489c94d2820517df3",
            "06452071bb1b43fb997432ab127b294d",
            "03190aa57e9c4736b7ad5d967c53b96d",
            "d620abc403e34822ba2ff6b2d1f3e9ab",
            "b8c5c0ca419246ec840128b02a784497"
          ]
        },
        "id": "oYAhw0pnYWfd",
        "outputId": "4e90fbc5-cddc-47fe-d1ef-04346a9e4587"
      },
      "execution_count": 13,
      "outputs": [
        {
          "output_type": "display_data",
          "data": {
            "text/plain": [
              "Map(center=[28.268224502649357, 83.97637443188768], controls=(WidgetControl(options=['position', 'transparent_…"
            ],
            "application/vnd.jupyter.widget-view+json": {
              "version_major": 2,
              "version_minor": 0,
              "model_id": "63645a5947fc474ab112322de16c484c"
            }
          },
          "metadata": {
            "application/vnd.jupyter.widget-view+json": {
              "colab": {
                "custom_widget_manager": {
                  "url": "https://ssl.gstatic.com/colaboratory-static/widgets/colab-cdn-widget-manager/b3e629b1971e1542/manager.min.js"
                }
              }
            }
          }
        }
      ]
    }
  ]
}