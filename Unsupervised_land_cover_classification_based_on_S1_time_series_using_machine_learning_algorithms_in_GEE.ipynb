{
  "nbformat": 4,
  "nbformat_minor": 0,
  "metadata": {
    "colab": {
      "provenance": [],
      "authorship_tag": "ABX9TyMBwlV3+bhPavWL++Q5iSJM",
      "include_colab_link": true
    },
    "kernelspec": {
      "name": "python3",
      "display_name": "Python 3"
    },
    "language_info": {
      "name": "python"
    },
    "widgets": {
      "application/vnd.jupyter.widget-state+json": {
        "4a627d3df3354ddca73b593fafb7a4f3": {
          "model_module": "@jupyter-widgets/base",
          "model_name": "LayoutModel",
          "model_module_version": "1.2.0",
          "state": {
            "_model_module": "@jupyter-widgets/base",
            "_model_module_version": "1.2.0",
            "_model_name": "LayoutModel",
            "_view_count": null,
            "_view_module": "@jupyter-widgets/base",
            "_view_module_version": "1.2.0",
            "_view_name": "LayoutView",
            "align_content": null,
            "align_items": null,
            "align_self": null,
            "border": null,
            "bottom": null,
            "display": null,
            "flex": null,
            "flex_flow": null,
            "grid_area": null,
            "grid_auto_columns": null,
            "grid_auto_flow": null,
            "grid_auto_rows": null,
            "grid_column": null,
            "grid_gap": null,
            "grid_row": null,
            "grid_template_areas": null,
            "grid_template_columns": null,
            "grid_template_rows": null,
            "height": "28px",
            "justify_content": null,
            "justify_items": null,
            "left": null,
            "margin": null,
            "max_height": null,
            "max_width": null,
            "min_height": null,
            "min_width": null,
            "object_fit": null,
            "object_position": null,
            "order": null,
            "overflow": null,
            "overflow_x": null,
            "overflow_y": null,
            "padding": "0px 0px 0px 4px",
            "right": null,
            "top": null,
            "visibility": null,
            "width": "28px"
          }
        },
        "8ce6fe180ca541d6bebce5df455650f5": {
          "model_module": "jupyter-leaflet",
          "model_name": "LeafletMapModel",
          "model_module_version": "^0.17",
          "state": {
            "_dom_classes": [],
            "_model_module": "jupyter-leaflet",
            "_model_module_version": "^0.17",
            "_model_name": "LeafletMapModel",
            "_view_count": null,
            "_view_module": "jupyter-leaflet",
            "_view_module_version": "^0.17",
            "_view_name": "LeafletMapView",
            "bottom": 10177,
            "bounce_at_zoom_limits": true,
            "box_zoom": true,
            "center": [
              -34.687845828472675,
              -64.74963675588427
            ],
            "close_popup_on_click": true,
            "controls": [
              "IPY_MODEL_f2aba2c7c7dc4518a8868b22bd17cc22",
              "IPY_MODEL_e061f5bfe77c4d61a841a7627b784803",
              "IPY_MODEL_7ad0866376fd43f8af6e78ce06d0e0c7",
              "IPY_MODEL_b2c8f3ff29934ccc8eff53993ac9f389",
              "IPY_MODEL_0d35d59653f240028c12f814c895eca6",
              "IPY_MODEL_dfdc7c5c306343bdb73b1ff12e64f6f9",
              "IPY_MODEL_fc25e147c0bb4388a10d82ca9fb58070",
              "IPY_MODEL_7f12acd14e0442d5a97d694554f7438a"
            ],
            "crs": {
              "name": "EPSG3857",
              "custom": false
            },
            "default_style": "IPY_MODEL_f53e74304c6a403889276e64a3d628f6",
            "double_click_zoom": true,
            "dragging": true,
            "dragging_style": "IPY_MODEL_8fd167ed5da443aa82d3d4b7a0b0d978",
            "east": -49.2626953125,
            "fullscreen": false,
            "inertia": true,
            "inertia_deceleration": 3000,
            "inertia_max_speed": 1500,
            "interpolation": "bilinear",
            "keyboard": true,
            "keyboard_pan_offset": 80,
            "keyboard_zoom_offset": 1,
            "layers": [
              "IPY_MODEL_11eb7ca45ec446968311f6e2c1109d28",
              "IPY_MODEL_d36b7919640445a09884337a91637fe6",
              "IPY_MODEL_b3bd26b5b8674187a8de320c0291aa99"
            ],
            "layout": "IPY_MODEL_0cf03e77aa794792b47acc103109411e",
            "left": 4540,
            "max_zoom": 24,
            "min_zoom": null,
            "modisdate": "2023-08-16",
            "north": -29.094577077511815,
            "options": [
              "bounce_at_zoom_limits",
              "box_zoom",
              "center",
              "close_popup_on_click",
              "double_click_zoom",
              "dragging",
              "fullscreen",
              "inertia",
              "inertia_deceleration",
              "inertia_max_speed",
              "interpolation",
              "keyboard",
              "keyboard_pan_offset",
              "keyboard_zoom_offset",
              "max_zoom",
              "min_zoom",
              "prefer_canvas",
              "scroll_wheel_zoom",
              "tap",
              "tap_tolerance",
              "touch_zoom",
              "world_copy_jump",
              "zoom",
              "zoom_animation_threshold",
              "zoom_delta",
              "zoom_snap"
            ],
            "panes": {},
            "prefer_canvas": false,
            "right": 5950,
            "scroll_wheel_zoom": true,
            "south": -39.926588421909436,
            "style": "IPY_MODEL_153b90714c4e4a72a255507ba5263f42",
            "tap": true,
            "tap_tolerance": 15,
            "top": 9577,
            "touch_zoom": true,
            "west": -80.24414062500001,
            "window_url": "https://1pqn9w1bffq-496ff2e9c6d22116-0-colab.googleusercontent.com/outputframe.html?vrz=colab-20230815-060131-RC00_557087422",
            "world_copy_jump": false,
            "zoom": 6,
            "zoom_animation_threshold": 4,
            "zoom_delta": 1,
            "zoom_snap": 1
          }
        },
        "f2aba2c7c7dc4518a8868b22bd17cc22": {
          "model_module": "jupyter-leaflet",
          "model_name": "LeafletWidgetControlModel",
          "model_module_version": "^0.17",
          "state": {
            "_model_module": "jupyter-leaflet",
            "_model_module_version": "^0.17",
            "_model_name": "LeafletWidgetControlModel",
            "_view_count": null,
            "_view_module": "jupyter-leaflet",
            "_view_module_version": "^0.17",
            "_view_name": "LeafletWidgetControlView",
            "max_height": null,
            "max_width": null,
            "min_height": null,
            "min_width": null,
            "options": [
              "position",
              "transparent_bg"
            ],
            "position": "topleft",
            "transparent_bg": false,
            "widget": "IPY_MODEL_c2d41f1ed9914b93a5c4ddaf0ecabdb5"
          }
        },
        "e061f5bfe77c4d61a841a7627b784803": {
          "model_module": "jupyter-leaflet",
          "model_name": "LeafletZoomControlModel",
          "model_module_version": "^0.17",
          "state": {
            "_model_module": "jupyter-leaflet",
            "_model_module_version": "^0.17",
            "_model_name": "LeafletZoomControlModel",
            "_view_count": null,
            "_view_module": "jupyter-leaflet",
            "_view_module_version": "^0.17",
            "_view_name": "LeafletZoomControlView",
            "options": [
              "position",
              "zoom_in_text",
              "zoom_in_title",
              "zoom_out_text",
              "zoom_out_title"
            ],
            "position": "topleft",
            "zoom_in_text": "+",
            "zoom_in_title": "Zoom in",
            "zoom_out_text": "-",
            "zoom_out_title": "Zoom out"
          }
        },
        "7ad0866376fd43f8af6e78ce06d0e0c7": {
          "model_module": "jupyter-leaflet",
          "model_name": "LeafletFullScreenControlModel",
          "model_module_version": "^0.17",
          "state": {
            "_model_module": "jupyter-leaflet",
            "_model_module_version": "^0.17",
            "_model_name": "LeafletFullScreenControlModel",
            "_view_count": null,
            "_view_module": "jupyter-leaflet",
            "_view_module_version": "^0.17",
            "_view_name": "LeafletFullScreenControlView",
            "options": [
              "position"
            ],
            "position": "topleft"
          }
        },
        "b2c8f3ff29934ccc8eff53993ac9f389": {
          "model_module": "jupyter-leaflet",
          "model_name": "LeafletDrawControlModel",
          "model_module_version": "^0.17",
          "state": {
            "_model_module": "jupyter-leaflet",
            "_model_module_version": "^0.17",
            "_model_name": "LeafletDrawControlModel",
            "_view_count": null,
            "_view_module": "jupyter-leaflet",
            "_view_module_version": "^0.17",
            "_view_name": "LeafletDrawControlView",
            "circle": {},
            "circlemarker": {},
            "data": [],
            "edit": true,
            "marker": {
              "shapeOptions": {
                "color": "#3388ff"
              }
            },
            "options": [
              "position"
            ],
            "polygon": {
              "shapeOptions": {}
            },
            "polyline": {
              "shapeOptions": {}
            },
            "position": "topleft",
            "rectangle": {
              "shapeOptions": {
                "color": "#3388ff"
              }
            },
            "remove": true
          }
        },
        "0d35d59653f240028c12f814c895eca6": {
          "model_module": "jupyter-leaflet",
          "model_name": "LeafletScaleControlModel",
          "model_module_version": "^0.17",
          "state": {
            "_model_module": "jupyter-leaflet",
            "_model_module_version": "^0.17",
            "_model_name": "LeafletScaleControlModel",
            "_view_count": null,
            "_view_module": "jupyter-leaflet",
            "_view_module_version": "^0.17",
            "_view_name": "LeafletScaleControlView",
            "imperial": true,
            "max_width": 100,
            "metric": true,
            "options": [
              "imperial",
              "max_width",
              "metric",
              "position",
              "update_when_idle"
            ],
            "position": "bottomleft",
            "update_when_idle": false
          }
        },
        "dfdc7c5c306343bdb73b1ff12e64f6f9": {
          "model_module": "jupyter-leaflet",
          "model_name": "LeafletMeasureControlModel",
          "model_module_version": "^0.17",
          "state": {
            "_custom_units": {},
            "_model_module": "jupyter-leaflet",
            "_model_module_version": "^0.17",
            "_model_name": "LeafletMeasureControlModel",
            "_view_count": null,
            "_view_module": "jupyter-leaflet",
            "_view_module_version": "^0.17",
            "_view_name": "LeafletMeasureControlView",
            "active_color": "orange",
            "capture_z_index": 10000,
            "completed_color": "#C8F2BE",
            "options": [
              "active_color",
              "capture_z_index",
              "completed_color",
              "popup_options",
              "position",
              "primary_area_unit",
              "primary_length_unit",
              "secondary_area_unit",
              "secondary_length_unit"
            ],
            "popup_options": {
              "className": "leaflet-measure-resultpopup",
              "autoPanPadding": [
                10,
                10
              ]
            },
            "position": "bottomleft",
            "primary_area_unit": "acres",
            "primary_length_unit": "kilometers",
            "secondary_area_unit": null,
            "secondary_length_unit": null
          }
        },
        "fc25e147c0bb4388a10d82ca9fb58070": {
          "model_module": "jupyter-leaflet",
          "model_name": "LeafletWidgetControlModel",
          "model_module_version": "^0.17",
          "state": {
            "_model_module": "jupyter-leaflet",
            "_model_module_version": "^0.17",
            "_model_name": "LeafletWidgetControlModel",
            "_view_count": null,
            "_view_module": "jupyter-leaflet",
            "_view_module_version": "^0.17",
            "_view_name": "LeafletWidgetControlView",
            "max_height": null,
            "max_width": null,
            "min_height": null,
            "min_width": null,
            "options": [
              "position",
              "transparent_bg"
            ],
            "position": "topright",
            "transparent_bg": false,
            "widget": "IPY_MODEL_855d5992a7384f83a10964cc6be0cc25"
          }
        },
        "7f12acd14e0442d5a97d694554f7438a": {
          "model_module": "jupyter-leaflet",
          "model_name": "LeafletAttributionControlModel",
          "model_module_version": "^0.17",
          "state": {
            "_model_module": "jupyter-leaflet",
            "_model_module_version": "^0.17",
            "_model_name": "LeafletAttributionControlModel",
            "_view_count": null,
            "_view_module": "jupyter-leaflet",
            "_view_module_version": "^0.17",
            "_view_name": "LeafletAttributionControlView",
            "options": [
              "position",
              "prefix"
            ],
            "position": "bottomright",
            "prefix": "ipyleaflet"
          }
        },
        "f53e74304c6a403889276e64a3d628f6": {
          "model_module": "jupyter-leaflet",
          "model_name": "LeafletMapStyleModel",
          "model_module_version": "^0.17",
          "state": {
            "_model_module": "jupyter-leaflet",
            "_model_module_version": "^0.17",
            "_model_name": "LeafletMapStyleModel",
            "_view_count": null,
            "_view_module": "@jupyter-widgets/base",
            "_view_module_version": "1.2.0",
            "_view_name": "StyleView",
            "cursor": "crosshair"
          }
        },
        "8fd167ed5da443aa82d3d4b7a0b0d978": {
          "model_module": "jupyter-leaflet",
          "model_name": "LeafletMapStyleModel",
          "model_module_version": "^0.17",
          "state": {
            "_model_module": "jupyter-leaflet",
            "_model_module_version": "^0.17",
            "_model_name": "LeafletMapStyleModel",
            "_view_count": null,
            "_view_module": "@jupyter-widgets/base",
            "_view_module_version": "1.2.0",
            "_view_name": "StyleView",
            "cursor": "move"
          }
        },
        "11eb7ca45ec446968311f6e2c1109d28": {
          "model_module": "jupyter-leaflet",
          "model_name": "LeafletTileLayerModel",
          "model_module_version": "^0.17",
          "state": {
            "_model_module": "jupyter-leaflet",
            "_model_module_version": "^0.17",
            "_model_name": "LeafletTileLayerModel",
            "_view_count": null,
            "_view_module": "jupyter-leaflet",
            "_view_module_version": "^0.17",
            "_view_name": "LeafletTileLayerView",
            "attribution": "&copy; <a href=\"https://www.openstreetmap.org/copyright\">OpenStreetMap</a> contributors",
            "base": true,
            "bottom": true,
            "bounds": null,
            "detect_retina": false,
            "loading": false,
            "max_native_zoom": null,
            "max_zoom": 19,
            "min_native_zoom": null,
            "min_zoom": 1,
            "name": "OpenStreetMap.Mapnik",
            "no_wrap": false,
            "opacity": 1,
            "options": [
              "attribution",
              "bounds",
              "detect_retina",
              "max_native_zoom",
              "max_zoom",
              "min_native_zoom",
              "min_zoom",
              "no_wrap",
              "tile_size",
              "tms",
              "zoom_offset"
            ],
            "pane": "",
            "popup": null,
            "popup_max_height": null,
            "popup_max_width": 300,
            "popup_min_width": 50,
            "show_loading": false,
            "subitems": [],
            "tile_size": 256,
            "tms": false,
            "url": "https://tile.openstreetmap.org/{z}/{x}/{y}.png",
            "visible": true,
            "zoom_offset": 0
          }
        },
        "d36b7919640445a09884337a91637fe6": {
          "model_module": "jupyter-leaflet",
          "model_name": "LeafletTileLayerModel",
          "model_module_version": "^0.17",
          "state": {
            "_model_module": "jupyter-leaflet",
            "_model_module_version": "^0.17",
            "_model_name": "LeafletTileLayerModel",
            "_view_count": null,
            "_view_module": "jupyter-leaflet",
            "_view_module_version": "^0.17",
            "_view_name": "LeafletTileLayerView",
            "attribution": "Google",
            "base": false,
            "bottom": true,
            "bounds": null,
            "detect_retina": false,
            "loading": false,
            "max_native_zoom": null,
            "max_zoom": 24,
            "min_native_zoom": null,
            "min_zoom": 0,
            "name": "Google Maps",
            "no_wrap": false,
            "opacity": 1,
            "options": [
              "attribution",
              "bounds",
              "detect_retina",
              "max_native_zoom",
              "max_zoom",
              "min_native_zoom",
              "min_zoom",
              "no_wrap",
              "tile_size",
              "tms",
              "zoom_offset"
            ],
            "pane": "",
            "popup": null,
            "popup_max_height": null,
            "popup_max_width": 300,
            "popup_min_width": 50,
            "show_loading": false,
            "subitems": [],
            "tile_size": 256,
            "tms": false,
            "url": "https://mt1.google.com/vt/lyrs=m&x={x}&y={y}&z={z}",
            "visible": true,
            "zoom_offset": 0
          }
        },
        "b3bd26b5b8674187a8de320c0291aa99": {
          "model_module": "jupyter-leaflet",
          "model_name": "LeafletTileLayerModel",
          "model_module_version": "^0.17",
          "state": {
            "_model_module": "jupyter-leaflet",
            "_model_module_version": "^0.17",
            "_model_name": "LeafletTileLayerModel",
            "_view_count": null,
            "_view_module": "jupyter-leaflet",
            "_view_module_version": "^0.17",
            "_view_name": "LeafletTileLayerView",
            "attribution": "Google",
            "base": false,
            "bottom": true,
            "bounds": null,
            "detect_retina": false,
            "loading": false,
            "max_native_zoom": null,
            "max_zoom": 24,
            "min_native_zoom": null,
            "min_zoom": 0,
            "name": "Google Satellite",
            "no_wrap": false,
            "opacity": 1,
            "options": [
              "attribution",
              "bounds",
              "detect_retina",
              "max_native_zoom",
              "max_zoom",
              "min_native_zoom",
              "min_zoom",
              "no_wrap",
              "tile_size",
              "tms",
              "zoom_offset"
            ],
            "pane": "",
            "popup": null,
            "popup_max_height": null,
            "popup_max_width": 300,
            "popup_min_width": 50,
            "show_loading": false,
            "subitems": [],
            "tile_size": 256,
            "tms": false,
            "url": "https://mt1.google.com/vt/lyrs=s&x={x}&y={y}&z={z}",
            "visible": true,
            "zoom_offset": 0
          }
        },
        "0cf03e77aa794792b47acc103109411e": {
          "model_module": "@jupyter-widgets/base",
          "model_name": "LayoutModel",
          "model_module_version": "1.2.0",
          "state": {
            "_model_module": "@jupyter-widgets/base",
            "_model_module_version": "1.2.0",
            "_model_name": "LayoutModel",
            "_view_count": null,
            "_view_module": "@jupyter-widgets/base",
            "_view_module_version": "1.2.0",
            "_view_name": "LayoutView",
            "align_content": null,
            "align_items": null,
            "align_self": null,
            "border": null,
            "bottom": null,
            "display": null,
            "flex": null,
            "flex_flow": null,
            "grid_area": null,
            "grid_auto_columns": null,
            "grid_auto_flow": null,
            "grid_auto_rows": null,
            "grid_column": null,
            "grid_gap": null,
            "grid_row": null,
            "grid_template_areas": null,
            "grid_template_columns": null,
            "grid_template_rows": null,
            "height": "600px",
            "justify_content": null,
            "justify_items": null,
            "left": null,
            "margin": null,
            "max_height": null,
            "max_width": null,
            "min_height": null,
            "min_width": null,
            "object_fit": null,
            "object_position": null,
            "order": null,
            "overflow": null,
            "overflow_x": null,
            "overflow_y": null,
            "padding": null,
            "right": null,
            "top": null,
            "visibility": null,
            "width": null
          }
        },
        "153b90714c4e4a72a255507ba5263f42": {
          "model_module": "jupyter-leaflet",
          "model_name": "LeafletMapStyleModel",
          "model_module_version": "^0.17",
          "state": {
            "_model_module": "jupyter-leaflet",
            "_model_module_version": "^0.17",
            "_model_name": "LeafletMapStyleModel",
            "_view_count": null,
            "_view_module": "@jupyter-widgets/base",
            "_view_module_version": "1.2.0",
            "_view_name": "StyleView",
            "cursor": "grab"
          }
        },
        "c2d41f1ed9914b93a5c4ddaf0ecabdb5": {
          "model_module": "@jupyter-widgets/controls",
          "model_name": "HBoxModel",
          "model_module_version": "1.5.0",
          "state": {
            "_dom_classes": [],
            "_model_module": "@jupyter-widgets/controls",
            "_model_module_version": "1.5.0",
            "_model_name": "HBoxModel",
            "_view_count": null,
            "_view_module": "@jupyter-widgets/controls",
            "_view_module_version": "1.5.0",
            "_view_name": "HBoxView",
            "box_style": "",
            "children": [
              "IPY_MODEL_e3a63f9fdf174e4690dc0900837ae3c7"
            ],
            "layout": "IPY_MODEL_423bc8dd00874226adbfe828f1e33297"
          }
        },
        "855d5992a7384f83a10964cc6be0cc25": {
          "model_module": "@jupyter-widgets/controls",
          "model_name": "VBoxModel",
          "model_module_version": "1.5.0",
          "state": {
            "_dom_classes": [],
            "_model_module": "@jupyter-widgets/controls",
            "_model_module_version": "1.5.0",
            "_model_name": "VBoxModel",
            "_view_count": null,
            "_view_module": "@jupyter-widgets/controls",
            "_view_module_version": "1.5.0",
            "_view_name": "VBoxView",
            "box_style": "",
            "children": [
              "IPY_MODEL_548438bd92414f098d24cd6231fdae81"
            ],
            "layout": "IPY_MODEL_82e2ee63a6354d668d55a434dd8e09cb"
          }
        },
        "e3a63f9fdf174e4690dc0900837ae3c7": {
          "model_module": "@jupyter-widgets/controls",
          "model_name": "ToggleButtonModel",
          "model_module_version": "1.5.0",
          "state": {
            "_dom_classes": [],
            "_model_module": "@jupyter-widgets/controls",
            "_model_module_version": "1.5.0",
            "_model_name": "ToggleButtonModel",
            "_view_count": null,
            "_view_module": "@jupyter-widgets/controls",
            "_view_module_version": "1.5.0",
            "_view_name": "ToggleButtonView",
            "button_style": "",
            "description": "",
            "description_tooltip": null,
            "disabled": false,
            "icon": "globe",
            "layout": "IPY_MODEL_008d1171f2d34456b4fa595dd4db1b80",
            "style": "IPY_MODEL_9ac83aecd9cb4eb49247b2b29b258d4a",
            "tooltip": "Search location/data",
            "value": false
          }
        },
        "423bc8dd00874226adbfe828f1e33297": {
          "model_module": "@jupyter-widgets/base",
          "model_name": "LayoutModel",
          "model_module_version": "1.2.0",
          "state": {
            "_model_module": "@jupyter-widgets/base",
            "_model_module_version": "1.2.0",
            "_model_name": "LayoutModel",
            "_view_count": null,
            "_view_module": "@jupyter-widgets/base",
            "_view_module_version": "1.2.0",
            "_view_name": "LayoutView",
            "align_content": null,
            "align_items": null,
            "align_self": null,
            "border": null,
            "bottom": null,
            "display": null,
            "flex": null,
            "flex_flow": null,
            "grid_area": null,
            "grid_auto_columns": null,
            "grid_auto_flow": null,
            "grid_auto_rows": null,
            "grid_column": null,
            "grid_gap": null,
            "grid_row": null,
            "grid_template_areas": null,
            "grid_template_columns": null,
            "grid_template_rows": null,
            "height": null,
            "justify_content": null,
            "justify_items": null,
            "left": null,
            "margin": null,
            "max_height": null,
            "max_width": null,
            "min_height": null,
            "min_width": null,
            "object_fit": null,
            "object_position": null,
            "order": null,
            "overflow": null,
            "overflow_x": null,
            "overflow_y": null,
            "padding": null,
            "right": null,
            "top": null,
            "visibility": null,
            "width": null
          }
        },
        "548438bd92414f098d24cd6231fdae81": {
          "model_module": "@jupyter-widgets/controls",
          "model_name": "ToggleButtonModel",
          "model_module_version": "1.5.0",
          "state": {
            "_dom_classes": [],
            "_model_module": "@jupyter-widgets/controls",
            "_model_module_version": "1.5.0",
            "_model_name": "ToggleButtonModel",
            "_view_count": null,
            "_view_module": "@jupyter-widgets/controls",
            "_view_module_version": "1.5.0",
            "_view_name": "ToggleButtonView",
            "button_style": "",
            "description": "",
            "description_tooltip": null,
            "disabled": false,
            "icon": "wrench",
            "layout": "IPY_MODEL_b9dadcde3ce84877a17dde247d421a9d",
            "style": "IPY_MODEL_773d76bcfc9f492d9304c2de10ab91aa",
            "tooltip": "Toolbar",
            "value": false
          }
        },
        "82e2ee63a6354d668d55a434dd8e09cb": {
          "model_module": "@jupyter-widgets/base",
          "model_name": "LayoutModel",
          "model_module_version": "1.2.0",
          "state": {
            "_model_module": "@jupyter-widgets/base",
            "_model_module_version": "1.2.0",
            "_model_name": "LayoutModel",
            "_view_count": null,
            "_view_module": "@jupyter-widgets/base",
            "_view_module_version": "1.2.0",
            "_view_name": "LayoutView",
            "align_content": null,
            "align_items": null,
            "align_self": null,
            "border": null,
            "bottom": null,
            "display": null,
            "flex": null,
            "flex_flow": null,
            "grid_area": null,
            "grid_auto_columns": null,
            "grid_auto_flow": null,
            "grid_auto_rows": null,
            "grid_column": null,
            "grid_gap": null,
            "grid_row": null,
            "grid_template_areas": null,
            "grid_template_columns": null,
            "grid_template_rows": null,
            "height": null,
            "justify_content": null,
            "justify_items": null,
            "left": null,
            "margin": null,
            "max_height": null,
            "max_width": null,
            "min_height": null,
            "min_width": null,
            "object_fit": null,
            "object_position": null,
            "order": null,
            "overflow": null,
            "overflow_x": null,
            "overflow_y": null,
            "padding": null,
            "right": null,
            "top": null,
            "visibility": null,
            "width": null
          }
        },
        "008d1171f2d34456b4fa595dd4db1b80": {
          "model_module": "@jupyter-widgets/base",
          "model_name": "LayoutModel",
          "model_module_version": "1.2.0",
          "state": {
            "_model_module": "@jupyter-widgets/base",
            "_model_module_version": "1.2.0",
            "_model_name": "LayoutModel",
            "_view_count": null,
            "_view_module": "@jupyter-widgets/base",
            "_view_module_version": "1.2.0",
            "_view_name": "LayoutView",
            "align_content": null,
            "align_items": null,
            "align_self": null,
            "border": null,
            "bottom": null,
            "display": null,
            "flex": null,
            "flex_flow": null,
            "grid_area": null,
            "grid_auto_columns": null,
            "grid_auto_flow": null,
            "grid_auto_rows": null,
            "grid_column": null,
            "grid_gap": null,
            "grid_row": null,
            "grid_template_areas": null,
            "grid_template_columns": null,
            "grid_template_rows": null,
            "height": "28px",
            "justify_content": null,
            "justify_items": null,
            "left": null,
            "margin": null,
            "max_height": null,
            "max_width": null,
            "min_height": null,
            "min_width": null,
            "object_fit": null,
            "object_position": null,
            "order": null,
            "overflow": null,
            "overflow_x": null,
            "overflow_y": null,
            "padding": "0px 0px 0px 4px",
            "right": null,
            "top": null,
            "visibility": null,
            "width": "28px"
          }
        },
        "9ac83aecd9cb4eb49247b2b29b258d4a": {
          "model_module": "@jupyter-widgets/controls",
          "model_name": "DescriptionStyleModel",
          "model_module_version": "1.5.0",
          "state": {
            "_model_module": "@jupyter-widgets/controls",
            "_model_module_version": "1.5.0",
            "_model_name": "DescriptionStyleModel",
            "_view_count": null,
            "_view_module": "@jupyter-widgets/base",
            "_view_module_version": "1.2.0",
            "_view_name": "StyleView",
            "description_width": ""
          }
        },
        "b9dadcde3ce84877a17dde247d421a9d": {
          "model_module": "@jupyter-widgets/base",
          "model_name": "LayoutModel",
          "model_module_version": "1.2.0",
          "state": {
            "_model_module": "@jupyter-widgets/base",
            "_model_module_version": "1.2.0",
            "_model_name": "LayoutModel",
            "_view_count": null,
            "_view_module": "@jupyter-widgets/base",
            "_view_module_version": "1.2.0",
            "_view_name": "LayoutView",
            "align_content": null,
            "align_items": null,
            "align_self": null,
            "border": null,
            "bottom": null,
            "display": null,
            "flex": null,
            "flex_flow": null,
            "grid_area": null,
            "grid_auto_columns": null,
            "grid_auto_flow": null,
            "grid_auto_rows": null,
            "grid_column": null,
            "grid_gap": null,
            "grid_row": null,
            "grid_template_areas": null,
            "grid_template_columns": null,
            "grid_template_rows": null,
            "height": "28px",
            "justify_content": null,
            "justify_items": null,
            "left": null,
            "margin": null,
            "max_height": null,
            "max_width": null,
            "min_height": null,
            "min_width": null,
            "object_fit": null,
            "object_position": null,
            "order": null,
            "overflow": null,
            "overflow_x": null,
            "overflow_y": null,
            "padding": "0px 0px 0px 4px",
            "right": null,
            "top": null,
            "visibility": null,
            "width": "28px"
          }
        },
        "773d76bcfc9f492d9304c2de10ab91aa": {
          "model_module": "@jupyter-widgets/controls",
          "model_name": "DescriptionStyleModel",
          "model_module_version": "1.5.0",
          "state": {
            "_model_module": "@jupyter-widgets/controls",
            "_model_module_version": "1.5.0",
            "_model_name": "DescriptionStyleModel",
            "_view_count": null,
            "_view_module": "@jupyter-widgets/base",
            "_view_module_version": "1.2.0",
            "_view_name": "StyleView",
            "description_width": ""
          }
        },
        "de4786d6c1bc4caea36bf474781a1857": {
          "model_module": "jupyter-leaflet",
          "model_name": "LeafletMapModel",
          "model_module_version": "^0.17",
          "state": {
            "_dom_classes": [],
            "_model_module": "jupyter-leaflet",
            "_model_module_version": "^0.17",
            "_model_name": "LeafletMapModel",
            "_view_count": null,
            "_view_module": "jupyter-leaflet",
            "_view_module_version": "^0.17",
            "_view_name": "LeafletMapView",
            "bottom": 40884,
            "bounce_at_zoom_limits": true,
            "box_zoom": true,
            "center": [
              -39.400633,
              -62.639496
            ],
            "close_popup_on_click": true,
            "controls": [
              "IPY_MODEL_ce41ee6c7d6d4715af00b71fbc863c60",
              "IPY_MODEL_f54eec83f1e04b3eab6a440b3ba34086",
              "IPY_MODEL_7eeea9afab934fc0ad8f6a57a194e39a",
              "IPY_MODEL_35445223048c4a05a206ed92feff49d3",
              "IPY_MODEL_4b4b7225def74fd6978568732b63e2d3",
              "IPY_MODEL_ca806d86af8940f3b2fd6c29b5c06f3f",
              "IPY_MODEL_45416736eadd4f39aa04ce64735c3197",
              "IPY_MODEL_ea67a0d07d854797b57fa7593f0b1002",
              "IPY_MODEL_fea08d574deb40dc8611da23ffdbb418",
              "IPY_MODEL_30e02c02a01743b1964b3a7401058dbe"
            ],
            "crs": {
              "name": "EPSG3857",
              "custom": false
            },
            "default_style": "IPY_MODEL_17141f43f19b44febfc406d95ffe40cf",
            "double_click_zoom": true,
            "dragging": true,
            "dragging_style": "IPY_MODEL_16de54aeeec0481087f4b7bee866efa8",
            "east": -58.76586914062501,
            "fullscreen": false,
            "inertia": true,
            "inertia_deceleration": 3000,
            "inertia_max_speed": 1500,
            "interpolation": "bilinear",
            "keyboard": true,
            "keyboard_pan_offset": 80,
            "keyboard_zoom_offset": 1,
            "layers": [
              "IPY_MODEL_05302bc3c71d445387f12c5d9a38343f",
              "IPY_MODEL_5cc6eabf220c4877a47a537fd48b8d47",
              "IPY_MODEL_84e45354fa0746aaac143dc6d64db60b",
              "IPY_MODEL_e75e0035050b4cbf84a37e5109287311",
              "IPY_MODEL_dfa996dee53b441486c0900747b82985",
              "IPY_MODEL_08fb84e135c74f3a8e5c0ea2ab9bb0de"
            ],
            "layout": "IPY_MODEL_653cab37006f4ca098d09535c7653c26",
            "left": 20660,
            "max_zoom": 24,
            "min_zoom": null,
            "modisdate": "2023-08-16",
            "north": -38.11727165830542,
            "options": [
              "bounce_at_zoom_limits",
              "box_zoom",
              "center",
              "close_popup_on_click",
              "double_click_zoom",
              "dragging",
              "fullscreen",
              "inertia",
              "inertia_deceleration",
              "inertia_max_speed",
              "interpolation",
              "keyboard",
              "keyboard_pan_offset",
              "keyboard_zoom_offset",
              "max_zoom",
              "min_zoom",
              "prefer_canvas",
              "scroll_wheel_zoom",
              "tap",
              "tap_tolerance",
              "touch_zoom",
              "world_copy_jump",
              "zoom",
              "zoom_animation_threshold",
              "zoom_delta",
              "zoom_snap"
            ],
            "panes": {},
            "prefer_canvas": false,
            "right": 22070,
            "scroll_wheel_zoom": true,
            "south": -40.66397287638688,
            "style": "IPY_MODEL_6e9d98c9e0234eb09100a7af3d835671",
            "tap": true,
            "tap_tolerance": 15,
            "top": 40284,
            "touch_zoom": true,
            "west": -66.51123046875001,
            "window_url": "https://1pqn9w1bffq-496ff2e9c6d22116-0-colab.googleusercontent.com/outputframe.html?vrz=colab-20230815-060131-RC00_557087422",
            "world_copy_jump": false,
            "zoom": 8,
            "zoom_animation_threshold": 4,
            "zoom_delta": 1,
            "zoom_snap": 1
          }
        },
        "ce41ee6c7d6d4715af00b71fbc863c60": {
          "model_module": "jupyter-leaflet",
          "model_name": "LeafletWidgetControlModel",
          "model_module_version": "^0.17",
          "state": {
            "_model_module": "jupyter-leaflet",
            "_model_module_version": "^0.17",
            "_model_name": "LeafletWidgetControlModel",
            "_view_count": null,
            "_view_module": "jupyter-leaflet",
            "_view_module_version": "^0.17",
            "_view_name": "LeafletWidgetControlView",
            "max_height": null,
            "max_width": null,
            "min_height": null,
            "min_width": null,
            "options": [
              "position",
              "transparent_bg"
            ],
            "position": "topleft",
            "transparent_bg": false,
            "widget": "IPY_MODEL_467db7a8937b4f518060700fd9c94e0a"
          }
        },
        "f54eec83f1e04b3eab6a440b3ba34086": {
          "model_module": "jupyter-leaflet",
          "model_name": "LeafletZoomControlModel",
          "model_module_version": "^0.17",
          "state": {
            "_model_module": "jupyter-leaflet",
            "_model_module_version": "^0.17",
            "_model_name": "LeafletZoomControlModel",
            "_view_count": null,
            "_view_module": "jupyter-leaflet",
            "_view_module_version": "^0.17",
            "_view_name": "LeafletZoomControlView",
            "options": [
              "position",
              "zoom_in_text",
              "zoom_in_title",
              "zoom_out_text",
              "zoom_out_title"
            ],
            "position": "topleft",
            "zoom_in_text": "+",
            "zoom_in_title": "Zoom in",
            "zoom_out_text": "-",
            "zoom_out_title": "Zoom out"
          }
        },
        "7eeea9afab934fc0ad8f6a57a194e39a": {
          "model_module": "jupyter-leaflet",
          "model_name": "LeafletFullScreenControlModel",
          "model_module_version": "^0.17",
          "state": {
            "_model_module": "jupyter-leaflet",
            "_model_module_version": "^0.17",
            "_model_name": "LeafletFullScreenControlModel",
            "_view_count": null,
            "_view_module": "jupyter-leaflet",
            "_view_module_version": "^0.17",
            "_view_name": "LeafletFullScreenControlView",
            "options": [
              "position"
            ],
            "position": "topleft"
          }
        },
        "35445223048c4a05a206ed92feff49d3": {
          "model_module": "jupyter-leaflet",
          "model_name": "LeafletDrawControlModel",
          "model_module_version": "^0.17",
          "state": {
            "_model_module": "jupyter-leaflet",
            "_model_module_version": "^0.17",
            "_model_name": "LeafletDrawControlModel",
            "_view_count": null,
            "_view_module": "jupyter-leaflet",
            "_view_module_version": "^0.17",
            "_view_name": "LeafletDrawControlView",
            "circle": {},
            "circlemarker": {},
            "data": [],
            "edit": true,
            "marker": {
              "shapeOptions": {
                "color": "#3388ff"
              }
            },
            "options": [
              "position"
            ],
            "polygon": {
              "shapeOptions": {}
            },
            "polyline": {
              "shapeOptions": {}
            },
            "position": "topleft",
            "rectangle": {
              "shapeOptions": {
                "color": "#3388ff"
              }
            },
            "remove": true
          }
        },
        "4b4b7225def74fd6978568732b63e2d3": {
          "model_module": "jupyter-leaflet",
          "model_name": "LeafletScaleControlModel",
          "model_module_version": "^0.17",
          "state": {
            "_model_module": "jupyter-leaflet",
            "_model_module_version": "^0.17",
            "_model_name": "LeafletScaleControlModel",
            "_view_count": null,
            "_view_module": "jupyter-leaflet",
            "_view_module_version": "^0.17",
            "_view_name": "LeafletScaleControlView",
            "imperial": true,
            "max_width": 100,
            "metric": true,
            "options": [
              "imperial",
              "max_width",
              "metric",
              "position",
              "update_when_idle"
            ],
            "position": "bottomleft",
            "update_when_idle": false
          }
        },
        "ca806d86af8940f3b2fd6c29b5c06f3f": {
          "model_module": "jupyter-leaflet",
          "model_name": "LeafletMeasureControlModel",
          "model_module_version": "^0.17",
          "state": {
            "_custom_units": {},
            "_model_module": "jupyter-leaflet",
            "_model_module_version": "^0.17",
            "_model_name": "LeafletMeasureControlModel",
            "_view_count": null,
            "_view_module": "jupyter-leaflet",
            "_view_module_version": "^0.17",
            "_view_name": "LeafletMeasureControlView",
            "active_color": "orange",
            "capture_z_index": 10000,
            "completed_color": "#C8F2BE",
            "options": [
              "active_color",
              "capture_z_index",
              "completed_color",
              "popup_options",
              "position",
              "primary_area_unit",
              "primary_length_unit",
              "secondary_area_unit",
              "secondary_length_unit"
            ],
            "popup_options": {
              "className": "leaflet-measure-resultpopup",
              "autoPanPadding": [
                10,
                10
              ]
            },
            "position": "bottomleft",
            "primary_area_unit": "acres",
            "primary_length_unit": "kilometers",
            "secondary_area_unit": null,
            "secondary_length_unit": null
          }
        },
        "45416736eadd4f39aa04ce64735c3197": {
          "model_module": "jupyter-leaflet",
          "model_name": "LeafletWidgetControlModel",
          "model_module_version": "^0.17",
          "state": {
            "_model_module": "jupyter-leaflet",
            "_model_module_version": "^0.17",
            "_model_name": "LeafletWidgetControlModel",
            "_view_count": null,
            "_view_module": "jupyter-leaflet",
            "_view_module_version": "^0.17",
            "_view_name": "LeafletWidgetControlView",
            "max_height": null,
            "max_width": null,
            "min_height": null,
            "min_width": null,
            "options": [
              "position",
              "transparent_bg"
            ],
            "position": "topright",
            "transparent_bg": false,
            "widget": "IPY_MODEL_a11198d0e0744602b087f36bdb9a81be"
          }
        },
        "ea67a0d07d854797b57fa7593f0b1002": {
          "model_module": "jupyter-leaflet",
          "model_name": "LeafletAttributionControlModel",
          "model_module_version": "^0.17",
          "state": {
            "_model_module": "jupyter-leaflet",
            "_model_module_version": "^0.17",
            "_model_name": "LeafletAttributionControlModel",
            "_view_count": null,
            "_view_module": "jupyter-leaflet",
            "_view_module_version": "^0.17",
            "_view_name": "LeafletAttributionControlView",
            "options": [
              "position",
              "prefix"
            ],
            "position": "bottomright",
            "prefix": "ipyleaflet"
          }
        },
        "17141f43f19b44febfc406d95ffe40cf": {
          "model_module": "jupyter-leaflet",
          "model_name": "LeafletMapStyleModel",
          "model_module_version": "^0.17",
          "state": {
            "_model_module": "jupyter-leaflet",
            "_model_module_version": "^0.17",
            "_model_name": "LeafletMapStyleModel",
            "_view_count": null,
            "_view_module": "@jupyter-widgets/base",
            "_view_module_version": "1.2.0",
            "_view_name": "StyleView",
            "cursor": "grab"
          }
        },
        "16de54aeeec0481087f4b7bee866efa8": {
          "model_module": "jupyter-leaflet",
          "model_name": "LeafletMapStyleModel",
          "model_module_version": "^0.17",
          "state": {
            "_model_module": "jupyter-leaflet",
            "_model_module_version": "^0.17",
            "_model_name": "LeafletMapStyleModel",
            "_view_count": null,
            "_view_module": "@jupyter-widgets/base",
            "_view_module_version": "1.2.0",
            "_view_name": "StyleView",
            "cursor": "move"
          }
        },
        "05302bc3c71d445387f12c5d9a38343f": {
          "model_module": "jupyter-leaflet",
          "model_name": "LeafletTileLayerModel",
          "model_module_version": "^0.17",
          "state": {
            "_model_module": "jupyter-leaflet",
            "_model_module_version": "^0.17",
            "_model_name": "LeafletTileLayerModel",
            "_view_count": null,
            "_view_module": "jupyter-leaflet",
            "_view_module_version": "^0.17",
            "_view_name": "LeafletTileLayerView",
            "attribution": "&copy; <a href=\"https://www.openstreetmap.org/copyright\">OpenStreetMap</a> contributors",
            "base": true,
            "bottom": true,
            "bounds": null,
            "detect_retina": false,
            "loading": false,
            "max_native_zoom": null,
            "max_zoom": 19,
            "min_native_zoom": null,
            "min_zoom": 1,
            "name": "OpenStreetMap.Mapnik",
            "no_wrap": false,
            "opacity": 1,
            "options": [
              "attribution",
              "bounds",
              "detect_retina",
              "max_native_zoom",
              "max_zoom",
              "min_native_zoom",
              "min_zoom",
              "no_wrap",
              "tile_size",
              "tms",
              "zoom_offset"
            ],
            "pane": "",
            "popup": null,
            "popup_max_height": null,
            "popup_max_width": 300,
            "popup_min_width": 50,
            "show_loading": false,
            "subitems": [],
            "tile_size": 256,
            "tms": false,
            "url": "https://tile.openstreetmap.org/{z}/{x}/{y}.png",
            "visible": true,
            "zoom_offset": 0
          }
        },
        "5cc6eabf220c4877a47a537fd48b8d47": {
          "model_module": "jupyter-leaflet",
          "model_name": "LeafletTileLayerModel",
          "model_module_version": "^0.17",
          "state": {
            "_model_module": "jupyter-leaflet",
            "_model_module_version": "^0.17",
            "_model_name": "LeafletTileLayerModel",
            "_view_count": null,
            "_view_module": "jupyter-leaflet",
            "_view_module_version": "^0.17",
            "_view_name": "LeafletTileLayerView",
            "attribution": "Google",
            "base": false,
            "bottom": true,
            "bounds": null,
            "detect_retina": false,
            "loading": false,
            "max_native_zoom": null,
            "max_zoom": 24,
            "min_native_zoom": null,
            "min_zoom": 0,
            "name": "Google Maps",
            "no_wrap": false,
            "opacity": 1,
            "options": [
              "attribution",
              "bounds",
              "detect_retina",
              "max_native_zoom",
              "max_zoom",
              "min_native_zoom",
              "min_zoom",
              "no_wrap",
              "tile_size",
              "tms",
              "zoom_offset"
            ],
            "pane": "",
            "popup": null,
            "popup_max_height": null,
            "popup_max_width": 300,
            "popup_min_width": 50,
            "show_loading": false,
            "subitems": [],
            "tile_size": 256,
            "tms": false,
            "url": "https://mt1.google.com/vt/lyrs=m&x={x}&y={y}&z={z}",
            "visible": true,
            "zoom_offset": 0
          }
        },
        "84e45354fa0746aaac143dc6d64db60b": {
          "model_module": "jupyter-leaflet",
          "model_name": "LeafletMarkerClusterModel",
          "model_module_version": "^0.17",
          "state": {
            "_model_module": "jupyter-leaflet",
            "_model_module_version": "^0.17",
            "_model_name": "LeafletMarkerClusterModel",
            "_view_count": null,
            "_view_module": "jupyter-leaflet",
            "_view_module_version": "^0.17",
            "_view_name": "LeafletMarkerClusterView",
            "base": false,
            "bottom": false,
            "disable_clustering_at_zoom": 18,
            "markers": [],
            "max_cluster_radius": 80,
            "name": "Marker Cluster",
            "options": [
              "disable_clustering_at_zoom",
              "max_cluster_radius"
            ],
            "pane": "",
            "popup": null,
            "popup_max_height": null,
            "popup_max_width": 300,
            "popup_min_width": 50,
            "subitems": []
          }
        },
        "e75e0035050b4cbf84a37e5109287311": {
          "model_module": "jupyter-leaflet",
          "model_name": "LeafletTileLayerModel",
          "model_module_version": "^0.17",
          "state": {
            "_model_module": "jupyter-leaflet",
            "_model_module_version": "^0.17",
            "_model_name": "LeafletTileLayerModel",
            "_view_count": null,
            "_view_module": "jupyter-leaflet",
            "_view_module_version": "^0.17",
            "_view_name": "LeafletTileLayerView",
            "attribution": "Google Earth Engine",
            "base": false,
            "bottom": true,
            "bounds": null,
            "detect_retina": false,
            "loading": false,
            "max_native_zoom": null,
            "max_zoom": 24,
            "min_native_zoom": null,
            "min_zoom": 0,
            "name": "training",
            "no_wrap": false,
            "opacity": 1,
            "options": [
              "attribution",
              "bounds",
              "detect_retina",
              "max_native_zoom",
              "max_zoom",
              "min_native_zoom",
              "min_zoom",
              "no_wrap",
              "tile_size",
              "tms",
              "zoom_offset"
            ],
            "pane": "",
            "popup": null,
            "popup_max_height": null,
            "popup_max_width": 300,
            "popup_min_width": 50,
            "show_loading": false,
            "subitems": [],
            "tile_size": 256,
            "tms": false,
            "url": "https://earthengine.googleapis.com/v1/projects/earthengine-legacy/maps/444d5fdd5e96666890ce5e2ee46d617b-bac7993c879374056ee4b4f90522ae97/tiles/{z}/{x}/{y}",
            "visible": true,
            "zoom_offset": 0
          }
        },
        "653cab37006f4ca098d09535c7653c26": {
          "model_module": "@jupyter-widgets/base",
          "model_name": "LayoutModel",
          "model_module_version": "1.2.0",
          "state": {
            "_model_module": "@jupyter-widgets/base",
            "_model_module_version": "1.2.0",
            "_model_name": "LayoutModel",
            "_view_count": null,
            "_view_module": "@jupyter-widgets/base",
            "_view_module_version": "1.2.0",
            "_view_name": "LayoutView",
            "align_content": null,
            "align_items": null,
            "align_self": null,
            "border": null,
            "bottom": null,
            "display": null,
            "flex": null,
            "flex_flow": null,
            "grid_area": null,
            "grid_auto_columns": null,
            "grid_auto_flow": null,
            "grid_auto_rows": null,
            "grid_column": null,
            "grid_gap": null,
            "grid_row": null,
            "grid_template_areas": null,
            "grid_template_columns": null,
            "grid_template_rows": null,
            "height": "600px",
            "justify_content": null,
            "justify_items": null,
            "left": null,
            "margin": null,
            "max_height": null,
            "max_width": null,
            "min_height": null,
            "min_width": null,
            "object_fit": null,
            "object_position": null,
            "order": null,
            "overflow": null,
            "overflow_x": null,
            "overflow_y": null,
            "padding": null,
            "right": null,
            "top": null,
            "visibility": null,
            "width": null
          }
        },
        "6e9d98c9e0234eb09100a7af3d835671": {
          "model_module": "jupyter-leaflet",
          "model_name": "LeafletMapStyleModel",
          "model_module_version": "^0.17",
          "state": {
            "_model_module": "jupyter-leaflet",
            "_model_module_version": "^0.17",
            "_model_name": "LeafletMapStyleModel",
            "_view_count": null,
            "_view_module": "@jupyter-widgets/base",
            "_view_module_version": "1.2.0",
            "_view_name": "StyleView",
            "cursor": "grab"
          }
        },
        "467db7a8937b4f518060700fd9c94e0a": {
          "model_module": "@jupyter-widgets/controls",
          "model_name": "HBoxModel",
          "model_module_version": "1.5.0",
          "state": {
            "_dom_classes": [],
            "_model_module": "@jupyter-widgets/controls",
            "_model_module_version": "1.5.0",
            "_model_name": "HBoxModel",
            "_view_count": null,
            "_view_module": "@jupyter-widgets/controls",
            "_view_module_version": "1.5.0",
            "_view_name": "HBoxView",
            "box_style": "",
            "children": [
              "IPY_MODEL_09d9b9c7263341a994ca66e53996c09e"
            ],
            "layout": "IPY_MODEL_46f29fdba2f043d48c231e0ffc3870fe"
          }
        },
        "a11198d0e0744602b087f36bdb9a81be": {
          "model_module": "@jupyter-widgets/controls",
          "model_name": "VBoxModel",
          "model_module_version": "1.5.0",
          "state": {
            "_dom_classes": [],
            "_model_module": "@jupyter-widgets/controls",
            "_model_module_version": "1.5.0",
            "_model_name": "VBoxModel",
            "_view_count": null,
            "_view_module": "@jupyter-widgets/controls",
            "_view_module_version": "1.5.0",
            "_view_name": "VBoxView",
            "box_style": "",
            "children": [
              "IPY_MODEL_c6c6a33256cc4eb3853e538a704f970b"
            ],
            "layout": "IPY_MODEL_59035f01c95c48e4b724d91d1d804e76"
          }
        },
        "09d9b9c7263341a994ca66e53996c09e": {
          "model_module": "@jupyter-widgets/controls",
          "model_name": "ToggleButtonModel",
          "model_module_version": "1.5.0",
          "state": {
            "_dom_classes": [],
            "_model_module": "@jupyter-widgets/controls",
            "_model_module_version": "1.5.0",
            "_model_name": "ToggleButtonModel",
            "_view_count": null,
            "_view_module": "@jupyter-widgets/controls",
            "_view_module_version": "1.5.0",
            "_view_name": "ToggleButtonView",
            "button_style": "",
            "description": "",
            "description_tooltip": null,
            "disabled": false,
            "icon": "globe",
            "layout": "IPY_MODEL_d966c9c092d641b4b9a2d3a07b8debeb",
            "style": "IPY_MODEL_72d0a63205454d2e8fe3624509fcde52",
            "tooltip": "Search location/data",
            "value": false
          }
        },
        "46f29fdba2f043d48c231e0ffc3870fe": {
          "model_module": "@jupyter-widgets/base",
          "model_name": "LayoutModel",
          "model_module_version": "1.2.0",
          "state": {
            "_model_module": "@jupyter-widgets/base",
            "_model_module_version": "1.2.0",
            "_model_name": "LayoutModel",
            "_view_count": null,
            "_view_module": "@jupyter-widgets/base",
            "_view_module_version": "1.2.0",
            "_view_name": "LayoutView",
            "align_content": null,
            "align_items": null,
            "align_self": null,
            "border": null,
            "bottom": null,
            "display": null,
            "flex": null,
            "flex_flow": null,
            "grid_area": null,
            "grid_auto_columns": null,
            "grid_auto_flow": null,
            "grid_auto_rows": null,
            "grid_column": null,
            "grid_gap": null,
            "grid_row": null,
            "grid_template_areas": null,
            "grid_template_columns": null,
            "grid_template_rows": null,
            "height": null,
            "justify_content": null,
            "justify_items": null,
            "left": null,
            "margin": null,
            "max_height": null,
            "max_width": null,
            "min_height": null,
            "min_width": null,
            "object_fit": null,
            "object_position": null,
            "order": null,
            "overflow": null,
            "overflow_x": null,
            "overflow_y": null,
            "padding": null,
            "right": null,
            "top": null,
            "visibility": null,
            "width": null
          }
        },
        "c6c6a33256cc4eb3853e538a704f970b": {
          "model_module": "@jupyter-widgets/controls",
          "model_name": "ToggleButtonModel",
          "model_module_version": "1.5.0",
          "state": {
            "_dom_classes": [],
            "_model_module": "@jupyter-widgets/controls",
            "_model_module_version": "1.5.0",
            "_model_name": "ToggleButtonModel",
            "_view_count": null,
            "_view_module": "@jupyter-widgets/controls",
            "_view_module_version": "1.5.0",
            "_view_name": "ToggleButtonView",
            "button_style": "",
            "description": "",
            "description_tooltip": null,
            "disabled": false,
            "icon": "wrench",
            "layout": "IPY_MODEL_89b0950c2b0d4cc49c8e9915a848ce34",
            "style": "IPY_MODEL_f15dc709b72d4c729e81b0d202718113",
            "tooltip": "Toolbar",
            "value": false
          }
        },
        "59035f01c95c48e4b724d91d1d804e76": {
          "model_module": "@jupyter-widgets/base",
          "model_name": "LayoutModel",
          "model_module_version": "1.2.0",
          "state": {
            "_model_module": "@jupyter-widgets/base",
            "_model_module_version": "1.2.0",
            "_model_name": "LayoutModel",
            "_view_count": null,
            "_view_module": "@jupyter-widgets/base",
            "_view_module_version": "1.2.0",
            "_view_name": "LayoutView",
            "align_content": null,
            "align_items": null,
            "align_self": null,
            "border": null,
            "bottom": null,
            "display": null,
            "flex": null,
            "flex_flow": null,
            "grid_area": null,
            "grid_auto_columns": null,
            "grid_auto_flow": null,
            "grid_auto_rows": null,
            "grid_column": null,
            "grid_gap": null,
            "grid_row": null,
            "grid_template_areas": null,
            "grid_template_columns": null,
            "grid_template_rows": null,
            "height": null,
            "justify_content": null,
            "justify_items": null,
            "left": null,
            "margin": null,
            "max_height": null,
            "max_width": null,
            "min_height": null,
            "min_width": null,
            "object_fit": null,
            "object_position": null,
            "order": null,
            "overflow": null,
            "overflow_x": null,
            "overflow_y": null,
            "padding": null,
            "right": null,
            "top": null,
            "visibility": null,
            "width": null
          }
        },
        "d966c9c092d641b4b9a2d3a07b8debeb": {
          "model_module": "@jupyter-widgets/base",
          "model_name": "LayoutModel",
          "model_module_version": "1.2.0",
          "state": {
            "_model_module": "@jupyter-widgets/base",
            "_model_module_version": "1.2.0",
            "_model_name": "LayoutModel",
            "_view_count": null,
            "_view_module": "@jupyter-widgets/base",
            "_view_module_version": "1.2.0",
            "_view_name": "LayoutView",
            "align_content": null,
            "align_items": null,
            "align_self": null,
            "border": null,
            "bottom": null,
            "display": null,
            "flex": null,
            "flex_flow": null,
            "grid_area": null,
            "grid_auto_columns": null,
            "grid_auto_flow": null,
            "grid_auto_rows": null,
            "grid_column": null,
            "grid_gap": null,
            "grid_row": null,
            "grid_template_areas": null,
            "grid_template_columns": null,
            "grid_template_rows": null,
            "height": "28px",
            "justify_content": null,
            "justify_items": null,
            "left": null,
            "margin": null,
            "max_height": null,
            "max_width": null,
            "min_height": null,
            "min_width": null,
            "object_fit": null,
            "object_position": null,
            "order": null,
            "overflow": null,
            "overflow_x": null,
            "overflow_y": null,
            "padding": "0px 0px 0px 4px",
            "right": null,
            "top": null,
            "visibility": null,
            "width": "28px"
          }
        },
        "72d0a63205454d2e8fe3624509fcde52": {
          "model_module": "@jupyter-widgets/controls",
          "model_name": "DescriptionStyleModel",
          "model_module_version": "1.5.0",
          "state": {
            "_model_module": "@jupyter-widgets/controls",
            "_model_module_version": "1.5.0",
            "_model_name": "DescriptionStyleModel",
            "_view_count": null,
            "_view_module": "@jupyter-widgets/base",
            "_view_module_version": "1.2.0",
            "_view_name": "StyleView",
            "description_width": ""
          }
        },
        "89b0950c2b0d4cc49c8e9915a848ce34": {
          "model_module": "@jupyter-widgets/base",
          "model_name": "LayoutModel",
          "model_module_version": "1.2.0",
          "state": {
            "_model_module": "@jupyter-widgets/base",
            "_model_module_version": "1.2.0",
            "_model_name": "LayoutModel",
            "_view_count": null,
            "_view_module": "@jupyter-widgets/base",
            "_view_module_version": "1.2.0",
            "_view_name": "LayoutView",
            "align_content": null,
            "align_items": null,
            "align_self": null,
            "border": null,
            "bottom": null,
            "display": null,
            "flex": null,
            "flex_flow": null,
            "grid_area": null,
            "grid_auto_columns": null,
            "grid_auto_flow": null,
            "grid_auto_rows": null,
            "grid_column": null,
            "grid_gap": null,
            "grid_row": null,
            "grid_template_areas": null,
            "grid_template_columns": null,
            "grid_template_rows": null,
            "height": "28px",
            "justify_content": null,
            "justify_items": null,
            "left": null,
            "margin": null,
            "max_height": null,
            "max_width": null,
            "min_height": null,
            "min_width": null,
            "object_fit": null,
            "object_position": null,
            "order": null,
            "overflow": null,
            "overflow_x": null,
            "overflow_y": null,
            "padding": "0px 0px 0px 4px",
            "right": null,
            "top": null,
            "visibility": null,
            "width": "28px"
          }
        },
        "f15dc709b72d4c729e81b0d202718113": {
          "model_module": "@jupyter-widgets/controls",
          "model_name": "DescriptionStyleModel",
          "model_module_version": "1.5.0",
          "state": {
            "_model_module": "@jupyter-widgets/controls",
            "_model_module_version": "1.5.0",
            "_model_name": "DescriptionStyleModel",
            "_view_count": null,
            "_view_module": "@jupyter-widgets/base",
            "_view_module_version": "1.2.0",
            "_view_name": "StyleView",
            "description_width": ""
          }
        },
        "dfa996dee53b441486c0900747b82985": {
          "model_module": "jupyter-leaflet",
          "model_name": "LeafletTileLayerModel",
          "model_module_version": "^0.17",
          "state": {
            "_model_module": "jupyter-leaflet",
            "_model_module_version": "^0.17",
            "_model_name": "LeafletTileLayerModel",
            "_view_count": null,
            "_view_module": "jupyter-leaflet",
            "_view_module_version": "^0.17",
            "_view_name": "LeafletTileLayerView",
            "attribution": "Google Earth Engine",
            "base": false,
            "bottom": true,
            "bounds": null,
            "detect_retina": false,
            "loading": false,
            "max_native_zoom": null,
            "max_zoom": 24,
            "min_native_zoom": null,
            "min_zoom": 0,
            "name": "S1 VH collection mean",
            "no_wrap": false,
            "opacity": 1,
            "options": [
              "attribution",
              "bounds",
              "detect_retina",
              "max_native_zoom",
              "max_zoom",
              "min_native_zoom",
              "min_zoom",
              "no_wrap",
              "tile_size",
              "tms",
              "zoom_offset"
            ],
            "pane": "",
            "popup": null,
            "popup_max_height": null,
            "popup_max_width": 300,
            "popup_min_width": 50,
            "show_loading": false,
            "subitems": [],
            "tile_size": 256,
            "tms": false,
            "url": "https://earthengine.googleapis.com/v1/projects/earthengine-legacy/maps/3b7098939e2d4a3bb3c12b67c2fe141a-c25e24d13c1121f4d8b303851b773bc4/tiles/{z}/{x}/{y}",
            "visible": true,
            "zoom_offset": 0
          }
        },
        "08fb84e135c74f3a8e5c0ea2ab9bb0de": {
          "model_module": "jupyter-leaflet",
          "model_name": "LeafletTileLayerModel",
          "model_module_version": "^0.17",
          "state": {
            "_model_module": "jupyter-leaflet",
            "_model_module_version": "^0.17",
            "_model_name": "LeafletTileLayerModel",
            "_view_count": null,
            "_view_module": "jupyter-leaflet",
            "_view_module_version": "^0.17",
            "_view_name": "LeafletTileLayerView",
            "attribution": "Google Earth Engine",
            "base": false,
            "bottom": true,
            "bounds": null,
            "detect_retina": false,
            "loading": false,
            "max_native_zoom": null,
            "max_zoom": 24,
            "min_native_zoom": null,
            "min_zoom": 0,
            "name": "S1 VV collection mean",
            "no_wrap": false,
            "opacity": 1,
            "options": [
              "attribution",
              "bounds",
              "detect_retina",
              "max_native_zoom",
              "max_zoom",
              "min_native_zoom",
              "min_zoom",
              "no_wrap",
              "tile_size",
              "tms",
              "zoom_offset"
            ],
            "pane": "",
            "popup": null,
            "popup_max_height": null,
            "popup_max_width": 300,
            "popup_min_width": 50,
            "show_loading": false,
            "subitems": [],
            "tile_size": 256,
            "tms": false,
            "url": "https://earthengine.googleapis.com/v1/projects/earthengine-legacy/maps/88ab5662b4e6b126e72db8a3e6ed5198-46c5f7ffb0645b13031eb86aca8ff712/tiles/{z}/{x}/{y}",
            "visible": true,
            "zoom_offset": 0
          }
        },
        "fea08d574deb40dc8611da23ffdbb418": {
          "model_module": "jupyter-leaflet",
          "model_name": "LeafletWidgetControlModel",
          "model_module_version": "^0.17",
          "state": {
            "_model_module": "jupyter-leaflet",
            "_model_module_version": "^0.17",
            "_model_name": "LeafletWidgetControlModel",
            "_view_count": null,
            "_view_module": "jupyter-leaflet",
            "_view_module_version": "^0.17",
            "_view_name": "LeafletWidgetControlView",
            "max_height": null,
            "max_width": null,
            "min_height": null,
            "min_width": null,
            "options": [
              "position",
              "transparent_bg"
            ],
            "position": "topleft",
            "transparent_bg": false,
            "widget": "IPY_MODEL_5d29b9f9d151451c8196e849159b445a"
          }
        },
        "5d29b9f9d151451c8196e849159b445a": {
          "model_module": "@jupyter-widgets/output",
          "model_name": "OutputModel",
          "model_module_version": "1.0.0",
          "state": {
            "_dom_classes": [],
            "_model_module": "@jupyter-widgets/output",
            "_model_module_version": "1.0.0",
            "_model_name": "OutputModel",
            "_view_count": null,
            "_view_module": "@jupyter-widgets/output",
            "_view_module_version": "1.0.0",
            "_view_name": "OutputView",
            "layout": "IPY_MODEL_cefddb4230914fbd937adcdc49bacbec",
            "msg_id": "",
            "outputs": [
              {
                "output_type": "display_data",
                "data": {
                  "text/plain": "<Figure size 300x30 with 1 Axes>",
                  "image/png": "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\n"
                },
                "metadata": {}
              }
            ]
          }
        },
        "cefddb4230914fbd937adcdc49bacbec": {
          "model_module": "@jupyter-widgets/base",
          "model_name": "LayoutModel",
          "model_module_version": "1.2.0",
          "state": {
            "_model_module": "@jupyter-widgets/base",
            "_model_module_version": "1.2.0",
            "_model_name": "LayoutModel",
            "_view_count": null,
            "_view_module": "@jupyter-widgets/base",
            "_view_module_version": "1.2.0",
            "_view_name": "LayoutView",
            "align_content": null,
            "align_items": null,
            "align_self": null,
            "border": null,
            "bottom": null,
            "display": null,
            "flex": null,
            "flex_flow": null,
            "grid_area": null,
            "grid_auto_columns": null,
            "grid_auto_flow": null,
            "grid_auto_rows": null,
            "grid_column": null,
            "grid_gap": null,
            "grid_row": null,
            "grid_template_areas": null,
            "grid_template_columns": null,
            "grid_template_rows": null,
            "height": null,
            "justify_content": null,
            "justify_items": null,
            "left": null,
            "margin": null,
            "max_height": null,
            "max_width": null,
            "min_height": null,
            "min_width": null,
            "object_fit": null,
            "object_position": null,
            "order": null,
            "overflow": null,
            "overflow_x": null,
            "overflow_y": null,
            "padding": null,
            "right": null,
            "top": null,
            "visibility": null,
            "width": "270px"
          }
        },
        "30e02c02a01743b1964b3a7401058dbe": {
          "model_module": "jupyter-leaflet",
          "model_name": "LeafletWidgetControlModel",
          "model_module_version": "^0.17",
          "state": {
            "_model_module": "jupyter-leaflet",
            "_model_module_version": "^0.17",
            "_model_name": "LeafletWidgetControlModel",
            "_view_count": null,
            "_view_module": "jupyter-leaflet",
            "_view_module_version": "^0.17",
            "_view_name": "LeafletWidgetControlView",
            "max_height": null,
            "max_width": null,
            "min_height": null,
            "min_width": null,
            "options": [
              "position",
              "transparent_bg"
            ],
            "position": "topleft",
            "transparent_bg": false,
            "widget": "IPY_MODEL_855af871e6e74be6b522e9277d66d39b"
          }
        },
        "855af871e6e74be6b522e9277d66d39b": {
          "model_module": "@jupyter-widgets/output",
          "model_name": "OutputModel",
          "model_module_version": "1.0.0",
          "state": {
            "_dom_classes": [],
            "_model_module": "@jupyter-widgets/output",
            "_model_module_version": "1.0.0",
            "_model_name": "OutputModel",
            "_view_count": null,
            "_view_module": "@jupyter-widgets/output",
            "_view_module_version": "1.0.0",
            "_view_name": "OutputView",
            "layout": "IPY_MODEL_15722f1007b54445a37ba3988ac8a239",
            "msg_id": "",
            "outputs": [
              {
                "output_type": "display_data",
                "data": {
                  "text/plain": "<Figure size 300x30 with 1 Axes>",
                  "image/png": "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\n"
                },
                "metadata": {}
              }
            ]
          }
        },
        "15722f1007b54445a37ba3988ac8a239": {
          "model_module": "@jupyter-widgets/base",
          "model_name": "LayoutModel",
          "model_module_version": "1.2.0",
          "state": {
            "_model_module": "@jupyter-widgets/base",
            "_model_module_version": "1.2.0",
            "_model_name": "LayoutModel",
            "_view_count": null,
            "_view_module": "@jupyter-widgets/base",
            "_view_module_version": "1.2.0",
            "_view_name": "LayoutView",
            "align_content": null,
            "align_items": null,
            "align_self": null,
            "border": null,
            "bottom": null,
            "display": null,
            "flex": null,
            "flex_flow": null,
            "grid_area": null,
            "grid_auto_columns": null,
            "grid_auto_flow": null,
            "grid_auto_rows": null,
            "grid_column": null,
            "grid_gap": null,
            "grid_row": null,
            "grid_template_areas": null,
            "grid_template_columns": null,
            "grid_template_rows": null,
            "height": null,
            "justify_content": null,
            "justify_items": null,
            "left": null,
            "margin": null,
            "max_height": null,
            "max_width": null,
            "min_height": null,
            "min_width": null,
            "object_fit": null,
            "object_position": null,
            "order": null,
            "overflow": null,
            "overflow_x": null,
            "overflow_y": null,
            "padding": null,
            "right": null,
            "top": null,
            "visibility": null,
            "width": "270px"
          }
        },
        "b9eb19b355514ee5a502689c9782a0b5": {
          "model_module": "jupyter-leaflet",
          "model_name": "LeafletMapModel",
          "model_module_version": "^0.17",
          "state": {
            "_dom_classes": [],
            "_model_module": "jupyter-leaflet",
            "_model_module_version": "^0.17",
            "_model_name": "LeafletMapModel",
            "_view_count": null,
            "_view_module": "jupyter-leaflet",
            "_view_module_version": "^0.17",
            "_view_name": "LeafletMapView",
            "bottom": 326108,
            "bounce_at_zoom_limits": true,
            "box_zoom": true,
            "center": [
              -40.002371935876475,
              -62.37416059739304
            ],
            "close_popup_on_click": true,
            "controls": [
              "IPY_MODEL_c2e4e7139f444f37b65a5698acf8687f",
              "IPY_MODEL_f3e6b1b70dad41669201f8dd4a61ad3e",
              "IPY_MODEL_efd42c755b5b450b84eddf5f85fb7b4a",
              "IPY_MODEL_e8c67eb264da482583dd50ccaf732fb7",
              "IPY_MODEL_e1b5197c578c4c9eaba9da306d5a19b6",
              "IPY_MODEL_f0bb0c71c8c9475aa170a24b37150918",
              "IPY_MODEL_920ca827f0144e08add2e94a8233a6e5",
              "IPY_MODEL_ce13fd54249247f4ac0af2459a08efaa"
            ],
            "crs": {
              "name": "EPSG3857",
              "custom": false
            },
            "default_style": "IPY_MODEL_167cc77979234a3b995704b4e0088249",
            "double_click_zoom": true,
            "dragging": true,
            "dragging_style": "IPY_MODEL_0b3a265fb8ba440a9c143142f8f809f4",
            "east": -61.89007551438523,
            "fullscreen": false,
            "inertia": true,
            "inertia_deceleration": 3000,
            "inertia_max_speed": 1500,
            "interpolation": "bilinear",
            "keyboard": true,
            "keyboard_pan_offset": 80,
            "keyboard_zoom_offset": 1,
            "layers": [
              "IPY_MODEL_06cfa135b59642ca8a40d1741970858d",
              "IPY_MODEL_7e89390dd0b2450c9de5ee62fd6fb834",
              "IPY_MODEL_515c6392ad6b447cbffb403ad3c9ca40",
              "IPY_MODEL_7f199342cddc4a14bdc44bc33c5ded32"
            ],
            "layout": "IPY_MODEL_09f151c7684c4cdf9cd903c17829a6c2",
            "left": 170600.04469087222,
            "max_zoom": 24,
            "min_zoom": null,
            "modisdate": "2023-08-16",
            "north": -39.844394843964615,
            "options": [
              "bounce_at_zoom_limits",
              "box_zoom",
              "center",
              "close_popup_on_click",
              "double_click_zoom",
              "dragging",
              "fullscreen",
              "inertia",
              "inertia_deceleration",
              "inertia_max_speed",
              "interpolation",
              "keyboard",
              "keyboard_pan_offset",
              "keyboard_zoom_offset",
              "max_zoom",
              "min_zoom",
              "prefer_canvas",
              "scroll_wheel_zoom",
              "tap",
              "tap_tolerance",
              "touch_zoom",
              "world_copy_jump",
              "zoom",
              "zoom_animation_threshold",
              "zoom_delta",
              "zoom_snap"
            ],
            "panes": {},
            "prefer_canvas": false,
            "right": 172010.04469087222,
            "scroll_wheel_zoom": true,
            "south": -40.15998434802336,
            "style": "IPY_MODEL_167cc77979234a3b995704b4e0088249",
            "tap": true,
            "tap_tolerance": 15,
            "top": 325508,
            "touch_zoom": true,
            "west": -62.85824568040086,
            "window_url": "https://1pqn9w1bffq-496ff2e9c6d22116-0-colab.googleusercontent.com/outputframe.html?vrz=colab-20230815-060131-RC00_557087422",
            "world_copy_jump": false,
            "zoom": 11,
            "zoom_animation_threshold": 4,
            "zoom_delta": 1,
            "zoom_snap": 1
          }
        },
        "c2e4e7139f444f37b65a5698acf8687f": {
          "model_module": "jupyter-leaflet",
          "model_name": "LeafletWidgetControlModel",
          "model_module_version": "^0.17",
          "state": {
            "_model_module": "jupyter-leaflet",
            "_model_module_version": "^0.17",
            "_model_name": "LeafletWidgetControlModel",
            "_view_count": null,
            "_view_module": "jupyter-leaflet",
            "_view_module_version": "^0.17",
            "_view_name": "LeafletWidgetControlView",
            "max_height": null,
            "max_width": null,
            "min_height": null,
            "min_width": null,
            "options": [
              "position",
              "transparent_bg"
            ],
            "position": "topleft",
            "transparent_bg": false,
            "widget": "IPY_MODEL_b710ba58b61246b585d47bdb6a0a65ea"
          }
        },
        "f3e6b1b70dad41669201f8dd4a61ad3e": {
          "model_module": "jupyter-leaflet",
          "model_name": "LeafletZoomControlModel",
          "model_module_version": "^0.17",
          "state": {
            "_model_module": "jupyter-leaflet",
            "_model_module_version": "^0.17",
            "_model_name": "LeafletZoomControlModel",
            "_view_count": null,
            "_view_module": "jupyter-leaflet",
            "_view_module_version": "^0.17",
            "_view_name": "LeafletZoomControlView",
            "options": [
              "position",
              "zoom_in_text",
              "zoom_in_title",
              "zoom_out_text",
              "zoom_out_title"
            ],
            "position": "topleft",
            "zoom_in_text": "+",
            "zoom_in_title": "Zoom in",
            "zoom_out_text": "-",
            "zoom_out_title": "Zoom out"
          }
        },
        "efd42c755b5b450b84eddf5f85fb7b4a": {
          "model_module": "jupyter-leaflet",
          "model_name": "LeafletFullScreenControlModel",
          "model_module_version": "^0.17",
          "state": {
            "_model_module": "jupyter-leaflet",
            "_model_module_version": "^0.17",
            "_model_name": "LeafletFullScreenControlModel",
            "_view_count": null,
            "_view_module": "jupyter-leaflet",
            "_view_module_version": "^0.17",
            "_view_name": "LeafletFullScreenControlView",
            "options": [
              "position"
            ],
            "position": "topleft"
          }
        },
        "e8c67eb264da482583dd50ccaf732fb7": {
          "model_module": "jupyter-leaflet",
          "model_name": "LeafletDrawControlModel",
          "model_module_version": "^0.17",
          "state": {
            "_model_module": "jupyter-leaflet",
            "_model_module_version": "^0.17",
            "_model_name": "LeafletDrawControlModel",
            "_view_count": null,
            "_view_module": "jupyter-leaflet",
            "_view_module_version": "^0.17",
            "_view_name": "LeafletDrawControlView",
            "circle": {},
            "circlemarker": {},
            "data": [],
            "edit": true,
            "marker": {
              "shapeOptions": {
                "color": "#3388ff"
              }
            },
            "options": [
              "position"
            ],
            "polygon": {
              "shapeOptions": {}
            },
            "polyline": {
              "shapeOptions": {}
            },
            "position": "topleft",
            "rectangle": {
              "shapeOptions": {
                "color": "#3388ff"
              }
            },
            "remove": true
          }
        },
        "e1b5197c578c4c9eaba9da306d5a19b6": {
          "model_module": "jupyter-leaflet",
          "model_name": "LeafletScaleControlModel",
          "model_module_version": "^0.17",
          "state": {
            "_model_module": "jupyter-leaflet",
            "_model_module_version": "^0.17",
            "_model_name": "LeafletScaleControlModel",
            "_view_count": null,
            "_view_module": "jupyter-leaflet",
            "_view_module_version": "^0.17",
            "_view_name": "LeafletScaleControlView",
            "imperial": true,
            "max_width": 100,
            "metric": true,
            "options": [
              "imperial",
              "max_width",
              "metric",
              "position",
              "update_when_idle"
            ],
            "position": "bottomleft",
            "update_when_idle": false
          }
        },
        "f0bb0c71c8c9475aa170a24b37150918": {
          "model_module": "jupyter-leaflet",
          "model_name": "LeafletMeasureControlModel",
          "model_module_version": "^0.17",
          "state": {
            "_custom_units": {},
            "_model_module": "jupyter-leaflet",
            "_model_module_version": "^0.17",
            "_model_name": "LeafletMeasureControlModel",
            "_view_count": null,
            "_view_module": "jupyter-leaflet",
            "_view_module_version": "^0.17",
            "_view_name": "LeafletMeasureControlView",
            "active_color": "orange",
            "capture_z_index": 10000,
            "completed_color": "#C8F2BE",
            "options": [
              "active_color",
              "capture_z_index",
              "completed_color",
              "popup_options",
              "position",
              "primary_area_unit",
              "primary_length_unit",
              "secondary_area_unit",
              "secondary_length_unit"
            ],
            "popup_options": {
              "className": "leaflet-measure-resultpopup",
              "autoPanPadding": [
                10,
                10
              ]
            },
            "position": "bottomleft",
            "primary_area_unit": "acres",
            "primary_length_unit": "kilometers",
            "secondary_area_unit": null,
            "secondary_length_unit": null
          }
        },
        "920ca827f0144e08add2e94a8233a6e5": {
          "model_module": "jupyter-leaflet",
          "model_name": "LeafletWidgetControlModel",
          "model_module_version": "^0.17",
          "state": {
            "_model_module": "jupyter-leaflet",
            "_model_module_version": "^0.17",
            "_model_name": "LeafletWidgetControlModel",
            "_view_count": null,
            "_view_module": "jupyter-leaflet",
            "_view_module_version": "^0.17",
            "_view_name": "LeafletWidgetControlView",
            "max_height": null,
            "max_width": null,
            "min_height": null,
            "min_width": null,
            "options": [
              "position",
              "transparent_bg"
            ],
            "position": "topright",
            "transparent_bg": false,
            "widget": "IPY_MODEL_f65e7c8d7f51471e879e15db324fc083"
          }
        },
        "ce13fd54249247f4ac0af2459a08efaa": {
          "model_module": "jupyter-leaflet",
          "model_name": "LeafletAttributionControlModel",
          "model_module_version": "^0.17",
          "state": {
            "_model_module": "jupyter-leaflet",
            "_model_module_version": "^0.17",
            "_model_name": "LeafletAttributionControlModel",
            "_view_count": null,
            "_view_module": "jupyter-leaflet",
            "_view_module_version": "^0.17",
            "_view_name": "LeafletAttributionControlView",
            "options": [
              "position",
              "prefix"
            ],
            "position": "bottomright",
            "prefix": "ipyleaflet"
          }
        },
        "167cc77979234a3b995704b4e0088249": {
          "model_module": "jupyter-leaflet",
          "model_name": "LeafletMapStyleModel",
          "model_module_version": "^0.17",
          "state": {
            "_model_module": "jupyter-leaflet",
            "_model_module_version": "^0.17",
            "_model_name": "LeafletMapStyleModel",
            "_view_count": null,
            "_view_module": "@jupyter-widgets/base",
            "_view_module_version": "1.2.0",
            "_view_name": "StyleView",
            "cursor": "grab"
          }
        },
        "0b3a265fb8ba440a9c143142f8f809f4": {
          "model_module": "jupyter-leaflet",
          "model_name": "LeafletMapStyleModel",
          "model_module_version": "^0.17",
          "state": {
            "_model_module": "jupyter-leaflet",
            "_model_module_version": "^0.17",
            "_model_name": "LeafletMapStyleModel",
            "_view_count": null,
            "_view_module": "@jupyter-widgets/base",
            "_view_module_version": "1.2.0",
            "_view_name": "StyleView",
            "cursor": "move"
          }
        },
        "06cfa135b59642ca8a40d1741970858d": {
          "model_module": "jupyter-leaflet",
          "model_name": "LeafletTileLayerModel",
          "model_module_version": "^0.17",
          "state": {
            "_model_module": "jupyter-leaflet",
            "_model_module_version": "^0.17",
            "_model_name": "LeafletTileLayerModel",
            "_view_count": null,
            "_view_module": "jupyter-leaflet",
            "_view_module_version": "^0.17",
            "_view_name": "LeafletTileLayerView",
            "attribution": "&copy; <a href=\"https://www.openstreetmap.org/copyright\">OpenStreetMap</a> contributors",
            "base": true,
            "bottom": true,
            "bounds": null,
            "detect_retina": false,
            "loading": false,
            "max_native_zoom": null,
            "max_zoom": 19,
            "min_native_zoom": null,
            "min_zoom": 1,
            "name": "OpenStreetMap.Mapnik",
            "no_wrap": false,
            "opacity": 1,
            "options": [
              "attribution",
              "bounds",
              "detect_retina",
              "max_native_zoom",
              "max_zoom",
              "min_native_zoom",
              "min_zoom",
              "no_wrap",
              "tile_size",
              "tms",
              "zoom_offset"
            ],
            "pane": "",
            "popup": null,
            "popup_max_height": null,
            "popup_max_width": 300,
            "popup_min_width": 50,
            "show_loading": false,
            "subitems": [],
            "tile_size": 256,
            "tms": false,
            "url": "https://tile.openstreetmap.org/{z}/{x}/{y}.png",
            "visible": true,
            "zoom_offset": 0
          }
        },
        "7e89390dd0b2450c9de5ee62fd6fb834": {
          "model_module": "jupyter-leaflet",
          "model_name": "LeafletTileLayerModel",
          "model_module_version": "^0.17",
          "state": {
            "_model_module": "jupyter-leaflet",
            "_model_module_version": "^0.17",
            "_model_name": "LeafletTileLayerModel",
            "_view_count": null,
            "_view_module": "jupyter-leaflet",
            "_view_module_version": "^0.17",
            "_view_name": "LeafletTileLayerView",
            "attribution": "Google",
            "base": false,
            "bottom": true,
            "bounds": null,
            "detect_retina": false,
            "loading": false,
            "max_native_zoom": null,
            "max_zoom": 24,
            "min_native_zoom": null,
            "min_zoom": 0,
            "name": "Google Maps",
            "no_wrap": false,
            "opacity": 1,
            "options": [
              "attribution",
              "bounds",
              "detect_retina",
              "max_native_zoom",
              "max_zoom",
              "min_native_zoom",
              "min_zoom",
              "no_wrap",
              "tile_size",
              "tms",
              "zoom_offset"
            ],
            "pane": "",
            "popup": null,
            "popup_max_height": null,
            "popup_max_width": 300,
            "popup_min_width": 50,
            "show_loading": false,
            "subitems": [],
            "tile_size": 256,
            "tms": false,
            "url": "https://mt1.google.com/vt/lyrs=m&x={x}&y={y}&z={z}",
            "visible": true,
            "zoom_offset": 0
          }
        },
        "515c6392ad6b447cbffb403ad3c9ca40": {
          "model_module": "jupyter-leaflet",
          "model_name": "LeafletMarkerClusterModel",
          "model_module_version": "^0.17",
          "state": {
            "_model_module": "jupyter-leaflet",
            "_model_module_version": "^0.17",
            "_model_name": "LeafletMarkerClusterModel",
            "_view_count": null,
            "_view_module": "jupyter-leaflet",
            "_view_module_version": "^0.17",
            "_view_name": "LeafletMarkerClusterView",
            "base": false,
            "bottom": false,
            "disable_clustering_at_zoom": 18,
            "markers": [],
            "max_cluster_radius": 80,
            "name": "Marker Cluster",
            "options": [
              "disable_clustering_at_zoom",
              "max_cluster_radius"
            ],
            "pane": "",
            "popup": null,
            "popup_max_height": null,
            "popup_max_width": 300,
            "popup_min_width": 50,
            "subitems": []
          }
        },
        "7f199342cddc4a14bdc44bc33c5ded32": {
          "model_module": "jupyter-leaflet",
          "model_name": "LeafletTileLayerModel",
          "model_module_version": "^0.17",
          "state": {
            "_model_module": "jupyter-leaflet",
            "_model_module_version": "^0.17",
            "_model_name": "LeafletTileLayerModel",
            "_view_count": null,
            "_view_module": "jupyter-leaflet",
            "_view_module_version": "^0.17",
            "_view_name": "LeafletTileLayerView",
            "attribution": "Google Earth Engine",
            "base": false,
            "bottom": true,
            "bounds": null,
            "detect_retina": false,
            "loading": false,
            "max_native_zoom": null,
            "max_zoom": 24,
            "min_native_zoom": null,
            "min_zoom": 0,
            "name": "Labelled clusters",
            "no_wrap": false,
            "opacity": 1,
            "options": [
              "attribution",
              "bounds",
              "detect_retina",
              "max_native_zoom",
              "max_zoom",
              "min_native_zoom",
              "min_zoom",
              "no_wrap",
              "tile_size",
              "tms",
              "zoom_offset"
            ],
            "pane": "",
            "popup": null,
            "popup_max_height": null,
            "popup_max_width": 300,
            "popup_min_width": 50,
            "show_loading": false,
            "subitems": [],
            "tile_size": 256,
            "tms": false,
            "url": "https://earthengine.googleapis.com/v1/projects/earthengine-legacy/maps/6653b0ae9dd5e257512dc5349e2e916d-758a625994633f5ba4e6ccf4ee458555/tiles/{z}/{x}/{y}",
            "visible": true,
            "zoom_offset": 0
          }
        },
        "09f151c7684c4cdf9cd903c17829a6c2": {
          "model_module": "@jupyter-widgets/base",
          "model_name": "LayoutModel",
          "model_module_version": "1.2.0",
          "state": {
            "_model_module": "@jupyter-widgets/base",
            "_model_module_version": "1.2.0",
            "_model_name": "LayoutModel",
            "_view_count": null,
            "_view_module": "@jupyter-widgets/base",
            "_view_module_version": "1.2.0",
            "_view_name": "LayoutView",
            "align_content": null,
            "align_items": null,
            "align_self": null,
            "border": null,
            "bottom": null,
            "display": null,
            "flex": null,
            "flex_flow": null,
            "grid_area": null,
            "grid_auto_columns": null,
            "grid_auto_flow": null,
            "grid_auto_rows": null,
            "grid_column": null,
            "grid_gap": null,
            "grid_row": null,
            "grid_template_areas": null,
            "grid_template_columns": null,
            "grid_template_rows": null,
            "height": "600px",
            "justify_content": null,
            "justify_items": null,
            "left": null,
            "margin": null,
            "max_height": null,
            "max_width": null,
            "min_height": null,
            "min_width": null,
            "object_fit": null,
            "object_position": null,
            "order": null,
            "overflow": null,
            "overflow_x": null,
            "overflow_y": null,
            "padding": null,
            "right": null,
            "top": null,
            "visibility": null,
            "width": null
          }
        },
        "5073d294372e45fda382ff5d8edc6bcc": {
          "model_module": "jupyter-leaflet",
          "model_name": "LeafletMapStyleModel",
          "model_module_version": "^0.17",
          "state": {
            "_model_module": "jupyter-leaflet",
            "_model_module_version": "^0.17",
            "_model_name": "LeafletMapStyleModel",
            "_view_count": null,
            "_view_module": "@jupyter-widgets/base",
            "_view_module_version": "1.2.0",
            "_view_name": "StyleView",
            "cursor": "grab"
          }
        },
        "b710ba58b61246b585d47bdb6a0a65ea": {
          "model_module": "@jupyter-widgets/controls",
          "model_name": "HBoxModel",
          "model_module_version": "1.5.0",
          "state": {
            "_dom_classes": [],
            "_model_module": "@jupyter-widgets/controls",
            "_model_module_version": "1.5.0",
            "_model_name": "HBoxModel",
            "_view_count": null,
            "_view_module": "@jupyter-widgets/controls",
            "_view_module_version": "1.5.0",
            "_view_name": "HBoxView",
            "box_style": "",
            "children": [
              "IPY_MODEL_d5feacb0e2ef42d8be739890637d7279"
            ],
            "layout": "IPY_MODEL_0ee75c2e6e5b44f9a9fcdbe8b244c7fa"
          }
        },
        "f65e7c8d7f51471e879e15db324fc083": {
          "model_module": "@jupyter-widgets/controls",
          "model_name": "VBoxModel",
          "model_module_version": "1.5.0",
          "state": {
            "_dom_classes": [],
            "_model_module": "@jupyter-widgets/controls",
            "_model_module_version": "1.5.0",
            "_model_name": "VBoxModel",
            "_view_count": null,
            "_view_module": "@jupyter-widgets/controls",
            "_view_module_version": "1.5.0",
            "_view_name": "VBoxView",
            "box_style": "",
            "children": [
              "IPY_MODEL_b8e150cb0910415a9ba70b706330c392"
            ],
            "layout": "IPY_MODEL_10fe3391ba8a4f509b5fe8e489b0c29c"
          }
        },
        "d5feacb0e2ef42d8be739890637d7279": {
          "model_module": "@jupyter-widgets/controls",
          "model_name": "ToggleButtonModel",
          "model_module_version": "1.5.0",
          "state": {
            "_dom_classes": [],
            "_model_module": "@jupyter-widgets/controls",
            "_model_module_version": "1.5.0",
            "_model_name": "ToggleButtonModel",
            "_view_count": null,
            "_view_module": "@jupyter-widgets/controls",
            "_view_module_version": "1.5.0",
            "_view_name": "ToggleButtonView",
            "button_style": "",
            "description": "",
            "description_tooltip": null,
            "disabled": false,
            "icon": "globe",
            "layout": "IPY_MODEL_a9e477e43c6d4af895dcc91f4b4c2abe",
            "style": "IPY_MODEL_d64d1067bab741e3ac912e82bf7c89e7",
            "tooltip": "Search location/data",
            "value": false
          }
        },
        "0ee75c2e6e5b44f9a9fcdbe8b244c7fa": {
          "model_module": "@jupyter-widgets/base",
          "model_name": "LayoutModel",
          "model_module_version": "1.2.0",
          "state": {
            "_model_module": "@jupyter-widgets/base",
            "_model_module_version": "1.2.0",
            "_model_name": "LayoutModel",
            "_view_count": null,
            "_view_module": "@jupyter-widgets/base",
            "_view_module_version": "1.2.0",
            "_view_name": "LayoutView",
            "align_content": null,
            "align_items": null,
            "align_self": null,
            "border": null,
            "bottom": null,
            "display": null,
            "flex": null,
            "flex_flow": null,
            "grid_area": null,
            "grid_auto_columns": null,
            "grid_auto_flow": null,
            "grid_auto_rows": null,
            "grid_column": null,
            "grid_gap": null,
            "grid_row": null,
            "grid_template_areas": null,
            "grid_template_columns": null,
            "grid_template_rows": null,
            "height": null,
            "justify_content": null,
            "justify_items": null,
            "left": null,
            "margin": null,
            "max_height": null,
            "max_width": null,
            "min_height": null,
            "min_width": null,
            "object_fit": null,
            "object_position": null,
            "order": null,
            "overflow": null,
            "overflow_x": null,
            "overflow_y": null,
            "padding": null,
            "right": null,
            "top": null,
            "visibility": null,
            "width": null
          }
        },
        "b8e150cb0910415a9ba70b706330c392": {
          "model_module": "@jupyter-widgets/controls",
          "model_name": "ToggleButtonModel",
          "model_module_version": "1.5.0",
          "state": {
            "_dom_classes": [],
            "_model_module": "@jupyter-widgets/controls",
            "_model_module_version": "1.5.0",
            "_model_name": "ToggleButtonModel",
            "_view_count": null,
            "_view_module": "@jupyter-widgets/controls",
            "_view_module_version": "1.5.0",
            "_view_name": "ToggleButtonView",
            "button_style": "",
            "description": "",
            "description_tooltip": null,
            "disabled": false,
            "icon": "wrench",
            "layout": "IPY_MODEL_1263e85e4a584f2c980118f6f4c7a688",
            "style": "IPY_MODEL_69dacec9c0694626bac2a86dce0fa9d4",
            "tooltip": "Toolbar",
            "value": false
          }
        },
        "10fe3391ba8a4f509b5fe8e489b0c29c": {
          "model_module": "@jupyter-widgets/base",
          "model_name": "LayoutModel",
          "model_module_version": "1.2.0",
          "state": {
            "_model_module": "@jupyter-widgets/base",
            "_model_module_version": "1.2.0",
            "_model_name": "LayoutModel",
            "_view_count": null,
            "_view_module": "@jupyter-widgets/base",
            "_view_module_version": "1.2.0",
            "_view_name": "LayoutView",
            "align_content": null,
            "align_items": null,
            "align_self": null,
            "border": null,
            "bottom": null,
            "display": null,
            "flex": null,
            "flex_flow": null,
            "grid_area": null,
            "grid_auto_columns": null,
            "grid_auto_flow": null,
            "grid_auto_rows": null,
            "grid_column": null,
            "grid_gap": null,
            "grid_row": null,
            "grid_template_areas": null,
            "grid_template_columns": null,
            "grid_template_rows": null,
            "height": null,
            "justify_content": null,
            "justify_items": null,
            "left": null,
            "margin": null,
            "max_height": null,
            "max_width": null,
            "min_height": null,
            "min_width": null,
            "object_fit": null,
            "object_position": null,
            "order": null,
            "overflow": null,
            "overflow_x": null,
            "overflow_y": null,
            "padding": null,
            "right": null,
            "top": null,
            "visibility": null,
            "width": null
          }
        },
        "a9e477e43c6d4af895dcc91f4b4c2abe": {
          "model_module": "@jupyter-widgets/base",
          "model_name": "LayoutModel",
          "model_module_version": "1.2.0",
          "state": {
            "_model_module": "@jupyter-widgets/base",
            "_model_module_version": "1.2.0",
            "_model_name": "LayoutModel",
            "_view_count": null,
            "_view_module": "@jupyter-widgets/base",
            "_view_module_version": "1.2.0",
            "_view_name": "LayoutView",
            "align_content": null,
            "align_items": null,
            "align_self": null,
            "border": null,
            "bottom": null,
            "display": null,
            "flex": null,
            "flex_flow": null,
            "grid_area": null,
            "grid_auto_columns": null,
            "grid_auto_flow": null,
            "grid_auto_rows": null,
            "grid_column": null,
            "grid_gap": null,
            "grid_row": null,
            "grid_template_areas": null,
            "grid_template_columns": null,
            "grid_template_rows": null,
            "height": "28px",
            "justify_content": null,
            "justify_items": null,
            "left": null,
            "margin": null,
            "max_height": null,
            "max_width": null,
            "min_height": null,
            "min_width": null,
            "object_fit": null,
            "object_position": null,
            "order": null,
            "overflow": null,
            "overflow_x": null,
            "overflow_y": null,
            "padding": "0px 0px 0px 4px",
            "right": null,
            "top": null,
            "visibility": null,
            "width": "28px"
          }
        },
        "d64d1067bab741e3ac912e82bf7c89e7": {
          "model_module": "@jupyter-widgets/controls",
          "model_name": "DescriptionStyleModel",
          "model_module_version": "1.5.0",
          "state": {
            "_model_module": "@jupyter-widgets/controls",
            "_model_module_version": "1.5.0",
            "_model_name": "DescriptionStyleModel",
            "_view_count": null,
            "_view_module": "@jupyter-widgets/base",
            "_view_module_version": "1.2.0",
            "_view_name": "StyleView",
            "description_width": ""
          }
        },
        "1263e85e4a584f2c980118f6f4c7a688": {
          "model_module": "@jupyter-widgets/base",
          "model_name": "LayoutModel",
          "model_module_version": "1.2.0",
          "state": {
            "_model_module": "@jupyter-widgets/base",
            "_model_module_version": "1.2.0",
            "_model_name": "LayoutModel",
            "_view_count": null,
            "_view_module": "@jupyter-widgets/base",
            "_view_module_version": "1.2.0",
            "_view_name": "LayoutView",
            "align_content": null,
            "align_items": null,
            "align_self": null,
            "border": null,
            "bottom": null,
            "display": null,
            "flex": null,
            "flex_flow": null,
            "grid_area": null,
            "grid_auto_columns": null,
            "grid_auto_flow": null,
            "grid_auto_rows": null,
            "grid_column": null,
            "grid_gap": null,
            "grid_row": null,
            "grid_template_areas": null,
            "grid_template_columns": null,
            "grid_template_rows": null,
            "height": "28px",
            "justify_content": null,
            "justify_items": null,
            "left": null,
            "margin": null,
            "max_height": null,
            "max_width": null,
            "min_height": null,
            "min_width": null,
            "object_fit": null,
            "object_position": null,
            "order": null,
            "overflow": null,
            "overflow_x": null,
            "overflow_y": null,
            "padding": "0px 0px 0px 4px",
            "right": null,
            "top": null,
            "visibility": null,
            "width": "28px"
          }
        },
        "69dacec9c0694626bac2a86dce0fa9d4": {
          "model_module": "@jupyter-widgets/controls",
          "model_name": "DescriptionStyleModel",
          "model_module_version": "1.5.0",
          "state": {
            "_model_module": "@jupyter-widgets/controls",
            "_model_module_version": "1.5.0",
            "_model_name": "DescriptionStyleModel",
            "_view_count": null,
            "_view_module": "@jupyter-widgets/base",
            "_view_module_version": "1.2.0",
            "_view_name": "StyleView",
            "description_width": ""
          }
        },
        "f69356ab0a2c458a838fdf9f4b05af35": {
          "model_module": "jupyter-leaflet",
          "model_name": "LeafletMapModel",
          "model_module_version": "^0.17",
          "state": {
            "_dom_classes": [],
            "_model_module": "jupyter-leaflet",
            "_model_module_version": "^0.17",
            "_model_name": "LeafletMapModel",
            "_view_count": null,
            "_view_module": "jupyter-leaflet",
            "_view_module_version": "^0.17",
            "_view_name": "LeafletMapView",
            "bottom": 81479,
            "bounce_at_zoom_limits": true,
            "box_zoom": true,
            "center": [
              -39.424525012722675,
              -60.91506958007813
            ],
            "close_popup_on_click": true,
            "controls": [
              "IPY_MODEL_3ed32be6817040bc8d58b861936087c2",
              "IPY_MODEL_1cb2e3a3de5d4400ad7d036b93cdf457",
              "IPY_MODEL_666047d6d88a408a9330aff4705d26a4",
              "IPY_MODEL_86e53d141c054663b9308959981c3f5d",
              "IPY_MODEL_fdb92be950ba4845a2b3e59f7f26fdab",
              "IPY_MODEL_bd5c81b020ef4916907ad50ba79401ea",
              "IPY_MODEL_1539eabfc4914872831c726bab279012",
              "IPY_MODEL_be4c1821f513468994ea8c722aefdd7c",
              "IPY_MODEL_8e9db0f7868745fc80d01324df31fdb2",
              "IPY_MODEL_3115eeabb403433fa91058b8142230cb",
              "IPY_MODEL_58aef87ab85d4a04a129aeb12aac78e9"
            ],
            "crs": {
              "name": "EPSG3857",
              "custom": false
            },
            "default_style": "IPY_MODEL_8e83fe40014e42dcb1b8433f52cba6b8",
            "double_click_zoom": true,
            "dragging": true,
            "dragging_style": "IPY_MODEL_4c96afc4d43b46b4be9007af74c66247",
            "east": -58.97735595703126,
            "fullscreen": false,
            "inertia": true,
            "inertia_deceleration": 3000,
            "inertia_max_speed": 1500,
            "interpolation": "bilinear",
            "keyboard": true,
            "keyboard_pan_offset": 80,
            "keyboard_zoom_offset": 1,
            "layers": [
              "IPY_MODEL_70f4f61494214479899f6cc3f6916d4e",
              "IPY_MODEL_de25c9a418704f4c95f54f2bd4f8319f",
              "IPY_MODEL_60359dbd5ea348099043fc8388c219ef",
              "IPY_MODEL_2bf3af0f5f5a463bbb9f9433e23e6599",
              "IPY_MODEL_50e1f9ec87a54a4b96a371458dcd46ed",
              "IPY_MODEL_6c21add113fd4b37a1043bbb5321e1af",
              "IPY_MODEL_937ba5f3155a4ac280df59a08ea07493",
              "IPY_MODEL_827e86ddaba6401f9dd545cb95ef6366",
              "IPY_MODEL_377159b3cdce4cef99071be79d51e381",
              "IPY_MODEL_1514496d4482421ea18730c7f557e0b8"
            ],
            "layout": "IPY_MODEL_25fa542c526f4d4ca6410ae81a886c4b",
            "left": 42653,
            "max_zoom": 24,
            "min_zoom": null,
            "modisdate": "2023-08-16",
            "north": -38.78620445725866,
            "options": [
              "bounce_at_zoom_limits",
              "box_zoom",
              "center",
              "close_popup_on_click",
              "double_click_zoom",
              "dragging",
              "fullscreen",
              "inertia",
              "inertia_deceleration",
              "inertia_max_speed",
              "interpolation",
              "keyboard",
              "keyboard_pan_offset",
              "keyboard_zoom_offset",
              "max_zoom",
              "min_zoom",
              "prefer_canvas",
              "scroll_wheel_zoom",
              "tap",
              "tap_tolerance",
              "touch_zoom",
              "world_copy_jump",
              "zoom",
              "zoom_animation_threshold",
              "zoom_delta",
              "zoom_snap"
            ],
            "panes": {},
            "prefer_canvas": false,
            "right": 44063,
            "scroll_wheel_zoom": true,
            "south": -40.059154433790695,
            "style": "IPY_MODEL_8e83fe40014e42dcb1b8433f52cba6b8",
            "tap": true,
            "tap_tolerance": 15,
            "top": 80879,
            "touch_zoom": true,
            "west": -62.85003662109376,
            "window_url": "https://1pqn9w1bffq-496ff2e9c6d22116-0-colab.googleusercontent.com/outputframe.html?vrz=colab-20230815-060131-RC00_557087422",
            "world_copy_jump": false,
            "zoom": 9,
            "zoom_animation_threshold": 4,
            "zoom_delta": 1,
            "zoom_snap": 1
          }
        },
        "3ed32be6817040bc8d58b861936087c2": {
          "model_module": "jupyter-leaflet",
          "model_name": "LeafletWidgetControlModel",
          "model_module_version": "^0.17",
          "state": {
            "_model_module": "jupyter-leaflet",
            "_model_module_version": "^0.17",
            "_model_name": "LeafletWidgetControlModel",
            "_view_count": null,
            "_view_module": "jupyter-leaflet",
            "_view_module_version": "^0.17",
            "_view_name": "LeafletWidgetControlView",
            "max_height": null,
            "max_width": null,
            "min_height": null,
            "min_width": null,
            "options": [
              "position",
              "transparent_bg"
            ],
            "position": "topleft",
            "transparent_bg": false,
            "widget": "IPY_MODEL_85cccb07448e4761ad22f17887cb8ac8"
          }
        },
        "1cb2e3a3de5d4400ad7d036b93cdf457": {
          "model_module": "jupyter-leaflet",
          "model_name": "LeafletZoomControlModel",
          "model_module_version": "^0.17",
          "state": {
            "_model_module": "jupyter-leaflet",
            "_model_module_version": "^0.17",
            "_model_name": "LeafletZoomControlModel",
            "_view_count": null,
            "_view_module": "jupyter-leaflet",
            "_view_module_version": "^0.17",
            "_view_name": "LeafletZoomControlView",
            "options": [
              "position",
              "zoom_in_text",
              "zoom_in_title",
              "zoom_out_text",
              "zoom_out_title"
            ],
            "position": "topleft",
            "zoom_in_text": "+",
            "zoom_in_title": "Zoom in",
            "zoom_out_text": "-",
            "zoom_out_title": "Zoom out"
          }
        },
        "666047d6d88a408a9330aff4705d26a4": {
          "model_module": "jupyter-leaflet",
          "model_name": "LeafletFullScreenControlModel",
          "model_module_version": "^0.17",
          "state": {
            "_model_module": "jupyter-leaflet",
            "_model_module_version": "^0.17",
            "_model_name": "LeafletFullScreenControlModel",
            "_view_count": null,
            "_view_module": "jupyter-leaflet",
            "_view_module_version": "^0.17",
            "_view_name": "LeafletFullScreenControlView",
            "options": [
              "position"
            ],
            "position": "topleft"
          }
        },
        "86e53d141c054663b9308959981c3f5d": {
          "model_module": "jupyter-leaflet",
          "model_name": "LeafletDrawControlModel",
          "model_module_version": "^0.17",
          "state": {
            "_model_module": "jupyter-leaflet",
            "_model_module_version": "^0.17",
            "_model_name": "LeafletDrawControlModel",
            "_view_count": null,
            "_view_module": "jupyter-leaflet",
            "_view_module_version": "^0.17",
            "_view_name": "LeafletDrawControlView",
            "circle": {},
            "circlemarker": {},
            "data": [
              {
                "type": "Feature",
                "properties": {
                  "style": {
                    "stroke": true,
                    "color": "#3388ff",
                    "weight": 4,
                    "opacity": 0.5,
                    "fill": true,
                    "fillColor": null,
                    "fillOpacity": 0.2,
                    "clickable": true
                  }
                },
                "geometry": {
                  "type": "Polygon",
                  "coordinates": [
                    [
                      [
                        -62.747742,
                        -39.475691
                      ],
                      [
                        -62.747742,
                        -39.355272
                      ],
                      [
                        -62.564091,
                        -39.355272
                      ],
                      [
                        -62.564091,
                        -39.475691
                      ],
                      [
                        -62.747742,
                        -39.475691
                      ]
                    ]
                  ]
                }
              }
            ],
            "edit": true,
            "marker": {
              "shapeOptions": {
                "color": "#3388ff"
              }
            },
            "options": [
              "position"
            ],
            "polygon": {
              "shapeOptions": {}
            },
            "polyline": {
              "shapeOptions": {}
            },
            "position": "topleft",
            "rectangle": {
              "shapeOptions": {
                "color": "#3388ff"
              }
            },
            "remove": true
          }
        },
        "fdb92be950ba4845a2b3e59f7f26fdab": {
          "model_module": "jupyter-leaflet",
          "model_name": "LeafletScaleControlModel",
          "model_module_version": "^0.17",
          "state": {
            "_model_module": "jupyter-leaflet",
            "_model_module_version": "^0.17",
            "_model_name": "LeafletScaleControlModel",
            "_view_count": null,
            "_view_module": "jupyter-leaflet",
            "_view_module_version": "^0.17",
            "_view_name": "LeafletScaleControlView",
            "imperial": true,
            "max_width": 100,
            "metric": true,
            "options": [
              "imperial",
              "max_width",
              "metric",
              "position",
              "update_when_idle"
            ],
            "position": "bottomleft",
            "update_when_idle": false
          }
        },
        "bd5c81b020ef4916907ad50ba79401ea": {
          "model_module": "jupyter-leaflet",
          "model_name": "LeafletMeasureControlModel",
          "model_module_version": "^0.17",
          "state": {
            "_custom_units": {},
            "_model_module": "jupyter-leaflet",
            "_model_module_version": "^0.17",
            "_model_name": "LeafletMeasureControlModel",
            "_view_count": null,
            "_view_module": "jupyter-leaflet",
            "_view_module_version": "^0.17",
            "_view_name": "LeafletMeasureControlView",
            "active_color": "orange",
            "capture_z_index": 10000,
            "completed_color": "#C8F2BE",
            "options": [
              "active_color",
              "capture_z_index",
              "completed_color",
              "popup_options",
              "position",
              "primary_area_unit",
              "primary_length_unit",
              "secondary_area_unit",
              "secondary_length_unit"
            ],
            "popup_options": {
              "className": "leaflet-measure-resultpopup",
              "autoPanPadding": [
                10,
                10
              ]
            },
            "position": "bottomleft",
            "primary_area_unit": "acres",
            "primary_length_unit": "kilometers",
            "secondary_area_unit": null,
            "secondary_length_unit": null
          }
        },
        "1539eabfc4914872831c726bab279012": {
          "model_module": "jupyter-leaflet",
          "model_name": "LeafletWidgetControlModel",
          "model_module_version": "^0.17",
          "state": {
            "_model_module": "jupyter-leaflet",
            "_model_module_version": "^0.17",
            "_model_name": "LeafletWidgetControlModel",
            "_view_count": null,
            "_view_module": "jupyter-leaflet",
            "_view_module_version": "^0.17",
            "_view_name": "LeafletWidgetControlView",
            "max_height": null,
            "max_width": null,
            "min_height": null,
            "min_width": null,
            "options": [
              "position",
              "transparent_bg"
            ],
            "position": "topright",
            "transparent_bg": false,
            "widget": "IPY_MODEL_baec48f1f0bc4b0b89b076ba7a434934"
          }
        },
        "be4c1821f513468994ea8c722aefdd7c": {
          "model_module": "jupyter-leaflet",
          "model_name": "LeafletAttributionControlModel",
          "model_module_version": "^0.17",
          "state": {
            "_model_module": "jupyter-leaflet",
            "_model_module_version": "^0.17",
            "_model_name": "LeafletAttributionControlModel",
            "_view_count": null,
            "_view_module": "jupyter-leaflet",
            "_view_module_version": "^0.17",
            "_view_name": "LeafletAttributionControlView",
            "options": [
              "position",
              "prefix"
            ],
            "position": "bottomright",
            "prefix": "ipyleaflet"
          }
        },
        "8e9db0f7868745fc80d01324df31fdb2": {
          "model_module": "jupyter-leaflet",
          "model_name": "LeafletWidgetControlModel",
          "model_module_version": "^0.17",
          "state": {
            "_model_module": "jupyter-leaflet",
            "_model_module_version": "^0.17",
            "_model_name": "LeafletWidgetControlModel",
            "_view_count": null,
            "_view_module": "jupyter-leaflet",
            "_view_module_version": "^0.17",
            "_view_name": "LeafletWidgetControlView",
            "max_height": null,
            "max_width": null,
            "min_height": null,
            "min_width": null,
            "options": [
              "position",
              "transparent_bg"
            ],
            "position": "bottomright",
            "transparent_bg": false,
            "widget": "IPY_MODEL_80b7b3a5ebef41d7babe55ad7b4b4635"
          }
        },
        "3115eeabb403433fa91058b8142230cb": {
          "model_module": "jupyter-leaflet",
          "model_name": "LeafletWidgetControlModel",
          "model_module_version": "^0.17",
          "state": {
            "_model_module": "jupyter-leaflet",
            "_model_module_version": "^0.17",
            "_model_name": "LeafletWidgetControlModel",
            "_view_count": null,
            "_view_module": "jupyter-leaflet",
            "_view_module_version": "^0.17",
            "_view_name": "LeafletWidgetControlView",
            "max_height": null,
            "max_width": null,
            "min_height": null,
            "min_width": null,
            "options": [
              "position",
              "transparent_bg"
            ],
            "position": "bottomright",
            "transparent_bg": false,
            "widget": "IPY_MODEL_4b4b730a94dd4baabab1eeb8338af7fb"
          }
        },
        "58aef87ab85d4a04a129aeb12aac78e9": {
          "model_module": "jupyter-leaflet",
          "model_name": "LeafletWidgetControlModel",
          "model_module_version": "^0.17",
          "state": {
            "_model_module": "jupyter-leaflet",
            "_model_module_version": "^0.17",
            "_model_name": "LeafletWidgetControlModel",
            "_view_count": null,
            "_view_module": "jupyter-leaflet",
            "_view_module_version": "^0.17",
            "_view_name": "LeafletWidgetControlView",
            "max_height": null,
            "max_width": null,
            "min_height": null,
            "min_width": null,
            "options": [
              "position",
              "transparent_bg"
            ],
            "position": "bottomright",
            "transparent_bg": false,
            "widget": "IPY_MODEL_527db7e88428489bb101f0ca57992fb3"
          }
        },
        "8e83fe40014e42dcb1b8433f52cba6b8": {
          "model_module": "jupyter-leaflet",
          "model_name": "LeafletMapStyleModel",
          "model_module_version": "^0.17",
          "state": {
            "_model_module": "jupyter-leaflet",
            "_model_module_version": "^0.17",
            "_model_name": "LeafletMapStyleModel",
            "_view_count": null,
            "_view_module": "@jupyter-widgets/base",
            "_view_module_version": "1.2.0",
            "_view_name": "StyleView",
            "cursor": "crosshair"
          }
        },
        "4c96afc4d43b46b4be9007af74c66247": {
          "model_module": "jupyter-leaflet",
          "model_name": "LeafletMapStyleModel",
          "model_module_version": "^0.17",
          "state": {
            "_model_module": "jupyter-leaflet",
            "_model_module_version": "^0.17",
            "_model_name": "LeafletMapStyleModel",
            "_view_count": null,
            "_view_module": "@jupyter-widgets/base",
            "_view_module_version": "1.2.0",
            "_view_name": "StyleView",
            "cursor": "move"
          }
        },
        "70f4f61494214479899f6cc3f6916d4e": {
          "model_module": "jupyter-leaflet",
          "model_name": "LeafletTileLayerModel",
          "model_module_version": "^0.17",
          "state": {
            "_model_module": "jupyter-leaflet",
            "_model_module_version": "^0.17",
            "_model_name": "LeafletTileLayerModel",
            "_view_count": null,
            "_view_module": "jupyter-leaflet",
            "_view_module_version": "^0.17",
            "_view_name": "LeafletTileLayerView",
            "attribution": "&copy; <a href=\"https://www.openstreetmap.org/copyright\">OpenStreetMap</a> contributors",
            "base": true,
            "bottom": true,
            "bounds": null,
            "detect_retina": false,
            "loading": false,
            "max_native_zoom": null,
            "max_zoom": 19,
            "min_native_zoom": null,
            "min_zoom": 1,
            "name": "OpenStreetMap.Mapnik",
            "no_wrap": false,
            "opacity": 1,
            "options": [
              "attribution",
              "bounds",
              "detect_retina",
              "max_native_zoom",
              "max_zoom",
              "min_native_zoom",
              "min_zoom",
              "no_wrap",
              "tile_size",
              "tms",
              "zoom_offset"
            ],
            "pane": "",
            "popup": null,
            "popup_max_height": null,
            "popup_max_width": 300,
            "popup_min_width": 50,
            "show_loading": false,
            "subitems": [],
            "tile_size": 256,
            "tms": false,
            "url": "https://tile.openstreetmap.org/{z}/{x}/{y}.png",
            "visible": true,
            "zoom_offset": 0
          }
        },
        "de25c9a418704f4c95f54f2bd4f8319f": {
          "model_module": "jupyter-leaflet",
          "model_name": "LeafletTileLayerModel",
          "model_module_version": "^0.17",
          "state": {
            "_model_module": "jupyter-leaflet",
            "_model_module_version": "^0.17",
            "_model_name": "LeafletTileLayerModel",
            "_view_count": null,
            "_view_module": "jupyter-leaflet",
            "_view_module_version": "^0.17",
            "_view_name": "LeafletTileLayerView",
            "attribution": "Google",
            "base": false,
            "bottom": true,
            "bounds": null,
            "detect_retina": false,
            "loading": false,
            "max_native_zoom": null,
            "max_zoom": 24,
            "min_native_zoom": null,
            "min_zoom": 0,
            "name": "Google Maps",
            "no_wrap": false,
            "opacity": 1,
            "options": [
              "attribution",
              "bounds",
              "detect_retina",
              "max_native_zoom",
              "max_zoom",
              "min_native_zoom",
              "min_zoom",
              "no_wrap",
              "tile_size",
              "tms",
              "zoom_offset"
            ],
            "pane": "",
            "popup": null,
            "popup_max_height": null,
            "popup_max_width": 300,
            "popup_min_width": 50,
            "show_loading": false,
            "subitems": [],
            "tile_size": 256,
            "tms": false,
            "url": "https://mt1.google.com/vt/lyrs=m&x={x}&y={y}&z={z}",
            "visible": true,
            "zoom_offset": 0
          }
        },
        "60359dbd5ea348099043fc8388c219ef": {
          "model_module": "jupyter-leaflet",
          "model_name": "LeafletTileLayerModel",
          "model_module_version": "^0.17",
          "state": {
            "_model_module": "jupyter-leaflet",
            "_model_module_version": "^0.17",
            "_model_name": "LeafletTileLayerModel",
            "_view_count": null,
            "_view_module": "jupyter-leaflet",
            "_view_module_version": "^0.17",
            "_view_name": "LeafletTileLayerView",
            "attribution": "Google",
            "base": false,
            "bottom": true,
            "bounds": null,
            "detect_retina": false,
            "loading": false,
            "max_native_zoom": null,
            "max_zoom": 24,
            "min_native_zoom": null,
            "min_zoom": 0,
            "name": "Google Satellite",
            "no_wrap": false,
            "opacity": 1,
            "options": [
              "attribution",
              "bounds",
              "detect_retina",
              "max_native_zoom",
              "max_zoom",
              "min_native_zoom",
              "min_zoom",
              "no_wrap",
              "tile_size",
              "tms",
              "zoom_offset"
            ],
            "pane": "",
            "popup": null,
            "popup_max_height": null,
            "popup_max_width": 300,
            "popup_min_width": 50,
            "show_loading": false,
            "subitems": [],
            "tile_size": 256,
            "tms": false,
            "url": "https://mt1.google.com/vt/lyrs=s&x={x}&y={y}&z={z}",
            "visible": true,
            "zoom_offset": 0
          }
        },
        "2bf3af0f5f5a463bbb9f9433e23e6599": {
          "model_module": "jupyter-leaflet",
          "model_name": "LeafletTileLayerModel",
          "model_module_version": "^0.17",
          "state": {
            "_model_module": "jupyter-leaflet",
            "_model_module_version": "^0.17",
            "_model_name": "LeafletTileLayerModel",
            "_view_count": null,
            "_view_module": "jupyter-leaflet",
            "_view_module_version": "^0.17",
            "_view_name": "LeafletTileLayerView",
            "attribution": "Google Earth Engine",
            "base": false,
            "bottom": true,
            "bounds": null,
            "detect_retina": false,
            "loading": false,
            "max_native_zoom": null,
            "max_zoom": 24,
            "min_native_zoom": null,
            "min_zoom": 0,
            "name": "Wheat roi 2020",
            "no_wrap": false,
            "opacity": 0.3,
            "options": [
              "attribution",
              "bounds",
              "detect_retina",
              "max_native_zoom",
              "max_zoom",
              "min_native_zoom",
              "min_zoom",
              "no_wrap",
              "tile_size",
              "tms",
              "zoom_offset"
            ],
            "pane": "",
            "popup": null,
            "popup_max_height": null,
            "popup_max_width": 300,
            "popup_min_width": 50,
            "show_loading": false,
            "subitems": [],
            "tile_size": 256,
            "tms": false,
            "url": "https://earthengine.googleapis.com/v1/projects/earthengine-legacy/maps/b1746c38c5635239c2fb69960d911f29-26f2556991d6ed3a341c70977a84dd2f/tiles/{z}/{x}/{y}",
            "visible": true,
            "zoom_offset": 0
          }
        },
        "50e1f9ec87a54a4b96a371458dcd46ed": {
          "model_module": "jupyter-leaflet",
          "model_name": "LeafletTileLayerModel",
          "model_module_version": "^0.17",
          "state": {
            "_model_module": "jupyter-leaflet",
            "_model_module_version": "^0.17",
            "_model_name": "LeafletTileLayerModel",
            "_view_count": null,
            "_view_module": "jupyter-leaflet",
            "_view_module_version": "^0.17",
            "_view_name": "LeafletTileLayerView",
            "attribution": "Google Earth Engine",
            "base": false,
            "bottom": true,
            "bounds": null,
            "detect_retina": false,
            "loading": false,
            "max_native_zoom": null,
            "max_zoom": 24,
            "min_native_zoom": null,
            "min_zoom": 0,
            "name": "Wheat insitu points 2020",
            "no_wrap": false,
            "opacity": 1,
            "options": [
              "attribution",
              "bounds",
              "detect_retina",
              "max_native_zoom",
              "max_zoom",
              "min_native_zoom",
              "min_zoom",
              "no_wrap",
              "tile_size",
              "tms",
              "zoom_offset"
            ],
            "pane": "",
            "popup": null,
            "popup_max_height": null,
            "popup_max_width": 300,
            "popup_min_width": 50,
            "show_loading": false,
            "subitems": [],
            "tile_size": 256,
            "tms": false,
            "url": "https://earthengine.googleapis.com/v1/projects/earthengine-legacy/maps/68102f72e7d7f5255c3aeb61eeb16e4d-f95e44aeb111a4c6a0acfbd59a5447e9/tiles/{z}/{x}/{y}",
            "visible": true,
            "zoom_offset": 0
          }
        },
        "6c21add113fd4b37a1043bbb5321e1af": {
          "model_module": "jupyter-leaflet",
          "model_name": "LeafletTileLayerModel",
          "model_module_version": "^0.17",
          "state": {
            "_model_module": "jupyter-leaflet",
            "_model_module_version": "^0.17",
            "_model_name": "LeafletTileLayerModel",
            "_view_count": null,
            "_view_module": "jupyter-leaflet",
            "_view_module_version": "^0.17",
            "_view_name": "LeafletTileLayerView",
            "attribution": "Google Earth Engine",
            "base": false,
            "bottom": true,
            "bounds": null,
            "detect_retina": false,
            "loading": false,
            "max_native_zoom": null,
            "max_zoom": 24,
            "min_native_zoom": null,
            "min_zoom": 0,
            "name": "Study area",
            "no_wrap": false,
            "opacity": 0.5,
            "options": [
              "attribution",
              "bounds",
              "detect_retina",
              "max_native_zoom",
              "max_zoom",
              "min_native_zoom",
              "min_zoom",
              "no_wrap",
              "tile_size",
              "tms",
              "zoom_offset"
            ],
            "pane": "",
            "popup": null,
            "popup_max_height": null,
            "popup_max_width": 300,
            "popup_min_width": 50,
            "show_loading": false,
            "subitems": [],
            "tile_size": 256,
            "tms": false,
            "url": "https://earthengine.googleapis.com/v1/projects/earthengine-legacy/maps/1124a29fcbe7536c8e28b077cec0fd82-f2be52da5548c857ff0cc0969bb8140b/tiles/{z}/{x}/{y}",
            "visible": true,
            "zoom_offset": 0
          }
        },
        "937ba5f3155a4ac280df59a08ea07493": {
          "model_module": "jupyter-leaflet",
          "model_name": "LeafletTileLayerModel",
          "model_module_version": "^0.17",
          "state": {
            "_model_module": "jupyter-leaflet",
            "_model_module_version": "^0.17",
            "_model_name": "LeafletTileLayerModel",
            "_view_count": null,
            "_view_module": "jupyter-leaflet",
            "_view_module_version": "^0.17",
            "_view_name": "LeafletTileLayerView",
            "attribution": "Google Earth Engine",
            "base": false,
            "bottom": true,
            "bounds": null,
            "detect_retina": false,
            "loading": false,
            "max_native_zoom": null,
            "max_zoom": 24,
            "min_native_zoom": null,
            "min_zoom": 0,
            "name": "Drawn Features",
            "no_wrap": false,
            "opacity": 0.5,
            "options": [
              "attribution",
              "bounds",
              "detect_retina",
              "max_native_zoom",
              "max_zoom",
              "min_native_zoom",
              "min_zoom",
              "no_wrap",
              "tile_size",
              "tms",
              "zoom_offset"
            ],
            "pane": "",
            "popup": null,
            "popup_max_height": null,
            "popup_max_width": 300,
            "popup_min_width": 50,
            "show_loading": false,
            "subitems": [],
            "tile_size": 256,
            "tms": false,
            "url": "https://earthengine.googleapis.com/v1/projects/earthengine-legacy/maps/983f2d43fea8a65bbe344d54508aa84a-374eacaaa6a29fd06e06f94d1fc971ba/tiles/{z}/{x}/{y}",
            "visible": false,
            "zoom_offset": 0
          }
        },
        "827e86ddaba6401f9dd545cb95ef6366": {
          "model_module": "jupyter-leaflet",
          "model_name": "LeafletTileLayerModel",
          "model_module_version": "^0.17",
          "state": {
            "_model_module": "jupyter-leaflet",
            "_model_module_version": "^0.17",
            "_model_name": "LeafletTileLayerModel",
            "_view_count": null,
            "_view_module": "jupyter-leaflet",
            "_view_module_version": "^0.17",
            "_view_name": "LeafletTileLayerView",
            "attribution": "Google Earth Engine",
            "base": false,
            "bottom": true,
            "bounds": null,
            "detect_retina": false,
            "loading": false,
            "max_native_zoom": null,
            "max_zoom": 24,
            "min_native_zoom": null,
            "min_zoom": 0,
            "name": "S1 VH collection mean",
            "no_wrap": false,
            "opacity": 1,
            "options": [
              "attribution",
              "bounds",
              "detect_retina",
              "max_native_zoom",
              "max_zoom",
              "min_native_zoom",
              "min_zoom",
              "no_wrap",
              "tile_size",
              "tms",
              "zoom_offset"
            ],
            "pane": "",
            "popup": null,
            "popup_max_height": null,
            "popup_max_width": 300,
            "popup_min_width": 50,
            "show_loading": false,
            "subitems": [],
            "tile_size": 256,
            "tms": false,
            "url": "https://earthengine.googleapis.com/v1/projects/earthengine-legacy/maps/3b7098939e2d4a3bb3c12b67c2fe141a-e359e34e20ea1136da5ca4431be52665/tiles/{z}/{x}/{y}",
            "visible": true,
            "zoom_offset": 0
          }
        },
        "377159b3cdce4cef99071be79d51e381": {
          "model_module": "jupyter-leaflet",
          "model_name": "LeafletTileLayerModel",
          "model_module_version": "^0.17",
          "state": {
            "_model_module": "jupyter-leaflet",
            "_model_module_version": "^0.17",
            "_model_name": "LeafletTileLayerModel",
            "_view_count": null,
            "_view_module": "jupyter-leaflet",
            "_view_module_version": "^0.17",
            "_view_name": "LeafletTileLayerView",
            "attribution": "Google Earth Engine",
            "base": false,
            "bottom": true,
            "bounds": null,
            "detect_retina": false,
            "loading": false,
            "max_native_zoom": null,
            "max_zoom": 24,
            "min_native_zoom": null,
            "min_zoom": 0,
            "name": "S1 VV collection mean",
            "no_wrap": false,
            "opacity": 1,
            "options": [
              "attribution",
              "bounds",
              "detect_retina",
              "max_native_zoom",
              "max_zoom",
              "min_native_zoom",
              "min_zoom",
              "no_wrap",
              "tile_size",
              "tms",
              "zoom_offset"
            ],
            "pane": "",
            "popup": null,
            "popup_max_height": null,
            "popup_max_width": 300,
            "popup_min_width": 50,
            "show_loading": false,
            "subitems": [],
            "tile_size": 256,
            "tms": false,
            "url": "https://earthengine.googleapis.com/v1/projects/earthengine-legacy/maps/88ab5662b4e6b126e72db8a3e6ed5198-2bca2cfcae727eb04e26bf311eb160fe/tiles/{z}/{x}/{y}",
            "visible": true,
            "zoom_offset": 0
          }
        },
        "1514496d4482421ea18730c7f557e0b8": {
          "model_module": "jupyter-leaflet",
          "model_name": "LeafletTileLayerModel",
          "model_module_version": "^0.17",
          "state": {
            "_model_module": "jupyter-leaflet",
            "_model_module_version": "^0.17",
            "_model_name": "LeafletTileLayerModel",
            "_view_count": null,
            "_view_module": "jupyter-leaflet",
            "_view_module_version": "^0.17",
            "_view_name": "LeafletTileLayerView",
            "attribution": "Google Earth Engine",
            "base": false,
            "bottom": true,
            "bounds": null,
            "detect_retina": false,
            "loading": false,
            "max_native_zoom": null,
            "max_zoom": 24,
            "min_native_zoom": null,
            "min_zoom": 0,
            "name": "Labelled clusters",
            "no_wrap": false,
            "opacity": 0.9,
            "options": [
              "attribution",
              "bounds",
              "detect_retina",
              "max_native_zoom",
              "max_zoom",
              "min_native_zoom",
              "min_zoom",
              "no_wrap",
              "tile_size",
              "tms",
              "zoom_offset"
            ],
            "pane": "",
            "popup": null,
            "popup_max_height": null,
            "popup_max_width": 300,
            "popup_min_width": 50,
            "show_loading": false,
            "subitems": [],
            "tile_size": 256,
            "tms": false,
            "url": "https://earthengine.googleapis.com/v1/projects/earthengine-legacy/maps/7bff86fae5b46b13a6a99fd15c35b583-3f7625296dba444cdf1b15f704fbcdfe/tiles/{z}/{x}/{y}",
            "visible": true,
            "zoom_offset": 0
          }
        },
        "25fa542c526f4d4ca6410ae81a886c4b": {
          "model_module": "@jupyter-widgets/base",
          "model_name": "LayoutModel",
          "model_module_version": "1.2.0",
          "state": {
            "_model_module": "@jupyter-widgets/base",
            "_model_module_version": "1.2.0",
            "_model_name": "LayoutModel",
            "_view_count": null,
            "_view_module": "@jupyter-widgets/base",
            "_view_module_version": "1.2.0",
            "_view_name": "LayoutView",
            "align_content": null,
            "align_items": null,
            "align_self": null,
            "border": null,
            "bottom": null,
            "display": null,
            "flex": null,
            "flex_flow": null,
            "grid_area": null,
            "grid_auto_columns": null,
            "grid_auto_flow": null,
            "grid_auto_rows": null,
            "grid_column": null,
            "grid_gap": null,
            "grid_row": null,
            "grid_template_areas": null,
            "grid_template_columns": null,
            "grid_template_rows": null,
            "height": "600px",
            "justify_content": null,
            "justify_items": null,
            "left": null,
            "margin": null,
            "max_height": null,
            "max_width": null,
            "min_height": null,
            "min_width": null,
            "object_fit": null,
            "object_position": null,
            "order": null,
            "overflow": null,
            "overflow_x": null,
            "overflow_y": null,
            "padding": null,
            "right": null,
            "top": null,
            "visibility": null,
            "width": null
          }
        },
        "85cccb07448e4761ad22f17887cb8ac8": {
          "model_module": "@jupyter-widgets/controls",
          "model_name": "HBoxModel",
          "model_module_version": "1.5.0",
          "state": {
            "_dom_classes": [],
            "_model_module": "@jupyter-widgets/controls",
            "_model_module_version": "1.5.0",
            "_model_name": "HBoxModel",
            "_view_count": null,
            "_view_module": "@jupyter-widgets/controls",
            "_view_module_version": "1.5.0",
            "_view_name": "HBoxView",
            "box_style": "",
            "children": [
              "IPY_MODEL_bb29587ae48c47f5a5690f1a83fc0223"
            ],
            "layout": "IPY_MODEL_e7f2a44ee42e442f828cdc6112712276"
          }
        },
        "baec48f1f0bc4b0b89b076ba7a434934": {
          "model_module": "@jupyter-widgets/controls",
          "model_name": "VBoxModel",
          "model_module_version": "1.5.0",
          "state": {
            "_dom_classes": [],
            "_model_module": "@jupyter-widgets/controls",
            "_model_module_version": "1.5.0",
            "_model_name": "VBoxModel",
            "_view_count": null,
            "_view_module": "@jupyter-widgets/controls",
            "_view_module_version": "1.5.0",
            "_view_name": "VBoxView",
            "box_style": "",
            "children": [
              "IPY_MODEL_d113325dd9e14d59b9b0803f7f69c29f"
            ],
            "layout": "IPY_MODEL_ee0cca3446f049d5950fe0d462fe2368"
          }
        },
        "80b7b3a5ebef41d7babe55ad7b4b4635": {
          "model_module": "@jupyter-widgets/output",
          "model_name": "OutputModel",
          "model_module_version": "1.0.0",
          "state": {
            "_dom_classes": [],
            "_model_module": "@jupyter-widgets/output",
            "_model_module_version": "1.0.0",
            "_model_name": "OutputModel",
            "_view_count": null,
            "_view_module": "@jupyter-widgets/output",
            "_view_module_version": "1.0.0",
            "_view_name": "OutputView",
            "layout": "IPY_MODEL_0c8789ef44e44cb8a500aeff32653eb6",
            "msg_id": "",
            "outputs": [
              {
                "output_type": "display_data",
                "data": {
                  "text/plain": "<Figure size 300x30 with 1 Axes>",
                  "image/png": "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\n"
                },
                "metadata": {}
              }
            ]
          }
        },
        "4b4b730a94dd4baabab1eeb8338af7fb": {
          "model_module": "@jupyter-widgets/output",
          "model_name": "OutputModel",
          "model_module_version": "1.0.0",
          "state": {
            "_dom_classes": [],
            "_model_module": "@jupyter-widgets/output",
            "_model_module_version": "1.0.0",
            "_model_name": "OutputModel",
            "_view_count": null,
            "_view_module": "@jupyter-widgets/output",
            "_view_module_version": "1.0.0",
            "_view_name": "OutputView",
            "layout": "IPY_MODEL_7c2e1e836cb347a5be073b5afde86050",
            "msg_id": "",
            "outputs": [
              {
                "output_type": "display_data",
                "data": {
                  "text/plain": "<Figure size 300x30 with 1 Axes>",
                  "image/png": "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\n"
                },
                "metadata": {}
              }
            ]
          }
        },
        "527db7e88428489bb101f0ca57992fb3": {
          "model_module": "@jupyter-widgets/controls",
          "model_name": "VBoxModel",
          "model_module_version": "1.5.0",
          "state": {
            "_dom_classes": [],
            "_model_module": "@jupyter-widgets/controls",
            "_model_module_version": "1.5.0",
            "_model_name": "VBoxModel",
            "_view_count": null,
            "_view_module": "@jupyter-widgets/controls",
            "_view_module_version": "1.5.0",
            "_view_name": "VBoxView",
            "box_style": "",
            "children": [
              "IPY_MODEL_c27c3ecb62c142dba4ad5a8113fbd544",
              "IPY_MODEL_717880594c66418c858de1006ec30ad4"
            ],
            "layout": "IPY_MODEL_cc5d0d5b8f9a4b5ca25a2d5df13721cf"
          }
        },
        "bb29587ae48c47f5a5690f1a83fc0223": {
          "model_module": "@jupyter-widgets/controls",
          "model_name": "ToggleButtonModel",
          "model_module_version": "1.5.0",
          "state": {
            "_dom_classes": [],
            "_model_module": "@jupyter-widgets/controls",
            "_model_module_version": "1.5.0",
            "_model_name": "ToggleButtonModel",
            "_view_count": null,
            "_view_module": "@jupyter-widgets/controls",
            "_view_module_version": "1.5.0",
            "_view_name": "ToggleButtonView",
            "button_style": "",
            "description": "",
            "description_tooltip": null,
            "disabled": false,
            "icon": "globe",
            "layout": "IPY_MODEL_ac5550edc46b441487e2b4cfb924a08d",
            "style": "IPY_MODEL_89680f623e404e1e8261062d01948d2b",
            "tooltip": "Search location/data",
            "value": false
          }
        },
        "e7f2a44ee42e442f828cdc6112712276": {
          "model_module": "@jupyter-widgets/base",
          "model_name": "LayoutModel",
          "model_module_version": "1.2.0",
          "state": {
            "_model_module": "@jupyter-widgets/base",
            "_model_module_version": "1.2.0",
            "_model_name": "LayoutModel",
            "_view_count": null,
            "_view_module": "@jupyter-widgets/base",
            "_view_module_version": "1.2.0",
            "_view_name": "LayoutView",
            "align_content": null,
            "align_items": null,
            "align_self": null,
            "border": null,
            "bottom": null,
            "display": null,
            "flex": null,
            "flex_flow": null,
            "grid_area": null,
            "grid_auto_columns": null,
            "grid_auto_flow": null,
            "grid_auto_rows": null,
            "grid_column": null,
            "grid_gap": null,
            "grid_row": null,
            "grid_template_areas": null,
            "grid_template_columns": null,
            "grid_template_rows": null,
            "height": null,
            "justify_content": null,
            "justify_items": null,
            "left": null,
            "margin": null,
            "max_height": null,
            "max_width": null,
            "min_height": null,
            "min_width": null,
            "object_fit": null,
            "object_position": null,
            "order": null,
            "overflow": null,
            "overflow_x": null,
            "overflow_y": null,
            "padding": null,
            "right": null,
            "top": null,
            "visibility": null,
            "width": null
          }
        },
        "d113325dd9e14d59b9b0803f7f69c29f": {
          "model_module": "@jupyter-widgets/controls",
          "model_name": "ToggleButtonModel",
          "model_module_version": "1.5.0",
          "state": {
            "_dom_classes": [],
            "_model_module": "@jupyter-widgets/controls",
            "_model_module_version": "1.5.0",
            "_model_name": "ToggleButtonModel",
            "_view_count": null,
            "_view_module": "@jupyter-widgets/controls",
            "_view_module_version": "1.5.0",
            "_view_name": "ToggleButtonView",
            "button_style": "",
            "description": "",
            "description_tooltip": null,
            "disabled": false,
            "icon": "wrench",
            "layout": "IPY_MODEL_4410df26ab3e4b6481e5b86a2f859d63",
            "style": "IPY_MODEL_b79071e5535c4a239489496d18387ed1",
            "tooltip": "Toolbar",
            "value": false
          }
        },
        "ee0cca3446f049d5950fe0d462fe2368": {
          "model_module": "@jupyter-widgets/base",
          "model_name": "LayoutModel",
          "model_module_version": "1.2.0",
          "state": {
            "_model_module": "@jupyter-widgets/base",
            "_model_module_version": "1.2.0",
            "_model_name": "LayoutModel",
            "_view_count": null,
            "_view_module": "@jupyter-widgets/base",
            "_view_module_version": "1.2.0",
            "_view_name": "LayoutView",
            "align_content": null,
            "align_items": null,
            "align_self": null,
            "border": null,
            "bottom": null,
            "display": null,
            "flex": null,
            "flex_flow": null,
            "grid_area": null,
            "grid_auto_columns": null,
            "grid_auto_flow": null,
            "grid_auto_rows": null,
            "grid_column": null,
            "grid_gap": null,
            "grid_row": null,
            "grid_template_areas": null,
            "grid_template_columns": null,
            "grid_template_rows": null,
            "height": null,
            "justify_content": null,
            "justify_items": null,
            "left": null,
            "margin": null,
            "max_height": null,
            "max_width": null,
            "min_height": null,
            "min_width": null,
            "object_fit": null,
            "object_position": null,
            "order": null,
            "overflow": null,
            "overflow_x": null,
            "overflow_y": null,
            "padding": null,
            "right": null,
            "top": null,
            "visibility": null,
            "width": null
          }
        },
        "0c8789ef44e44cb8a500aeff32653eb6": {
          "model_module": "@jupyter-widgets/base",
          "model_name": "LayoutModel",
          "model_module_version": "1.2.0",
          "state": {
            "_model_module": "@jupyter-widgets/base",
            "_model_module_version": "1.2.0",
            "_model_name": "LayoutModel",
            "_view_count": null,
            "_view_module": "@jupyter-widgets/base",
            "_view_module_version": "1.2.0",
            "_view_name": "LayoutView",
            "align_content": null,
            "align_items": null,
            "align_self": null,
            "border": null,
            "bottom": null,
            "display": null,
            "flex": null,
            "flex_flow": null,
            "grid_area": null,
            "grid_auto_columns": null,
            "grid_auto_flow": null,
            "grid_auto_rows": null,
            "grid_column": null,
            "grid_gap": null,
            "grid_row": null,
            "grid_template_areas": null,
            "grid_template_columns": null,
            "grid_template_rows": null,
            "height": null,
            "justify_content": null,
            "justify_items": null,
            "left": null,
            "margin": null,
            "max_height": null,
            "max_width": null,
            "min_height": null,
            "min_width": null,
            "object_fit": null,
            "object_position": null,
            "order": null,
            "overflow": null,
            "overflow_x": null,
            "overflow_y": null,
            "padding": null,
            "right": null,
            "top": null,
            "visibility": null,
            "width": "270px"
          }
        },
        "7c2e1e836cb347a5be073b5afde86050": {
          "model_module": "@jupyter-widgets/base",
          "model_name": "LayoutModel",
          "model_module_version": "1.2.0",
          "state": {
            "_model_module": "@jupyter-widgets/base",
            "_model_module_version": "1.2.0",
            "_model_name": "LayoutModel",
            "_view_count": null,
            "_view_module": "@jupyter-widgets/base",
            "_view_module_version": "1.2.0",
            "_view_name": "LayoutView",
            "align_content": null,
            "align_items": null,
            "align_self": null,
            "border": null,
            "bottom": null,
            "display": null,
            "flex": null,
            "flex_flow": null,
            "grid_area": null,
            "grid_auto_columns": null,
            "grid_auto_flow": null,
            "grid_auto_rows": null,
            "grid_column": null,
            "grid_gap": null,
            "grid_row": null,
            "grid_template_areas": null,
            "grid_template_columns": null,
            "grid_template_rows": null,
            "height": null,
            "justify_content": null,
            "justify_items": null,
            "left": null,
            "margin": null,
            "max_height": null,
            "max_width": null,
            "min_height": null,
            "min_width": null,
            "object_fit": null,
            "object_position": null,
            "order": null,
            "overflow": null,
            "overflow_x": null,
            "overflow_y": null,
            "padding": null,
            "right": null,
            "top": null,
            "visibility": null,
            "width": "270px"
          }
        },
        "c27c3ecb62c142dba4ad5a8113fbd544": {
          "model_module": "@jupyter-widgets/controls",
          "model_name": "HBoxModel",
          "model_module_version": "1.5.0",
          "state": {
            "_dom_classes": [],
            "_model_module": "@jupyter-widgets/controls",
            "_model_module_version": "1.5.0",
            "_model_name": "HBoxModel",
            "_view_count": null,
            "_view_module": "@jupyter-widgets/controls",
            "_view_module_version": "1.5.0",
            "_view_name": "HBoxView",
            "box_style": "",
            "children": [
              "IPY_MODEL_880781183bdf42809dfcbb4edd0f9ac5"
            ],
            "layout": "IPY_MODEL_0c72a8880bcc426ba422b6b80d06085d"
          }
        },
        "717880594c66418c858de1006ec30ad4": {
          "model_module": "@jupyter-widgets/controls",
          "model_name": "VBoxModel",
          "model_module_version": "1.5.0",
          "state": {
            "_dom_classes": [],
            "_model_module": "@jupyter-widgets/controls",
            "_model_module_version": "1.5.0",
            "_model_name": "VBoxModel",
            "_view_count": null,
            "_view_module": "@jupyter-widgets/controls",
            "_view_module_version": "1.5.0",
            "_view_name": "VBoxView",
            "box_style": "",
            "children": [
              "IPY_MODEL_29c6902d33484e30a40ba9f248008199"
            ],
            "layout": "IPY_MODEL_c053dfd52bac47178151e7cb056fc22a"
          }
        },
        "cc5d0d5b8f9a4b5ca25a2d5df13721cf": {
          "model_module": "@jupyter-widgets/base",
          "model_name": "LayoutModel",
          "model_module_version": "1.2.0",
          "state": {
            "_model_module": "@jupyter-widgets/base",
            "_model_module_version": "1.2.0",
            "_model_name": "LayoutModel",
            "_view_count": null,
            "_view_module": "@jupyter-widgets/base",
            "_view_module_version": "1.2.0",
            "_view_name": "LayoutView",
            "align_content": null,
            "align_items": null,
            "align_self": null,
            "border": null,
            "bottom": null,
            "display": null,
            "flex": null,
            "flex_flow": null,
            "grid_area": null,
            "grid_auto_columns": null,
            "grid_auto_flow": null,
            "grid_auto_rows": null,
            "grid_column": null,
            "grid_gap": null,
            "grid_row": null,
            "grid_template_areas": null,
            "grid_template_columns": null,
            "grid_template_rows": null,
            "height": null,
            "justify_content": null,
            "justify_items": null,
            "left": null,
            "margin": null,
            "max_height": null,
            "max_width": null,
            "min_height": null,
            "min_width": null,
            "object_fit": null,
            "object_position": null,
            "order": null,
            "overflow": null,
            "overflow_x": null,
            "overflow_y": null,
            "padding": null,
            "right": null,
            "top": null,
            "visibility": null,
            "width": null
          }
        },
        "ac5550edc46b441487e2b4cfb924a08d": {
          "model_module": "@jupyter-widgets/base",
          "model_name": "LayoutModel",
          "model_module_version": "1.2.0",
          "state": {
            "_model_module": "@jupyter-widgets/base",
            "_model_module_version": "1.2.0",
            "_model_name": "LayoutModel",
            "_view_count": null,
            "_view_module": "@jupyter-widgets/base",
            "_view_module_version": "1.2.0",
            "_view_name": "LayoutView",
            "align_content": null,
            "align_items": null,
            "align_self": null,
            "border": null,
            "bottom": null,
            "display": null,
            "flex": null,
            "flex_flow": null,
            "grid_area": null,
            "grid_auto_columns": null,
            "grid_auto_flow": null,
            "grid_auto_rows": null,
            "grid_column": null,
            "grid_gap": null,
            "grid_row": null,
            "grid_template_areas": null,
            "grid_template_columns": null,
            "grid_template_rows": null,
            "height": "28px",
            "justify_content": null,
            "justify_items": null,
            "left": null,
            "margin": null,
            "max_height": null,
            "max_width": null,
            "min_height": null,
            "min_width": null,
            "object_fit": null,
            "object_position": null,
            "order": null,
            "overflow": null,
            "overflow_x": null,
            "overflow_y": null,
            "padding": "0px 0px 0px 4px",
            "right": null,
            "top": null,
            "visibility": null,
            "width": "28px"
          }
        },
        "89680f623e404e1e8261062d01948d2b": {
          "model_module": "@jupyter-widgets/controls",
          "model_name": "DescriptionStyleModel",
          "model_module_version": "1.5.0",
          "state": {
            "_model_module": "@jupyter-widgets/controls",
            "_model_module_version": "1.5.0",
            "_model_name": "DescriptionStyleModel",
            "_view_count": null,
            "_view_module": "@jupyter-widgets/base",
            "_view_module_version": "1.2.0",
            "_view_name": "StyleView",
            "description_width": ""
          }
        },
        "4410df26ab3e4b6481e5b86a2f859d63": {
          "model_module": "@jupyter-widgets/base",
          "model_name": "LayoutModel",
          "model_module_version": "1.2.0",
          "state": {
            "_model_module": "@jupyter-widgets/base",
            "_model_module_version": "1.2.0",
            "_model_name": "LayoutModel",
            "_view_count": null,
            "_view_module": "@jupyter-widgets/base",
            "_view_module_version": "1.2.0",
            "_view_name": "LayoutView",
            "align_content": null,
            "align_items": null,
            "align_self": null,
            "border": null,
            "bottom": null,
            "display": null,
            "flex": null,
            "flex_flow": null,
            "grid_area": null,
            "grid_auto_columns": null,
            "grid_auto_flow": null,
            "grid_auto_rows": null,
            "grid_column": null,
            "grid_gap": null,
            "grid_row": null,
            "grid_template_areas": null,
            "grid_template_columns": null,
            "grid_template_rows": null,
            "height": "28px",
            "justify_content": null,
            "justify_items": null,
            "left": null,
            "margin": null,
            "max_height": null,
            "max_width": null,
            "min_height": null,
            "min_width": null,
            "object_fit": null,
            "object_position": null,
            "order": null,
            "overflow": null,
            "overflow_x": null,
            "overflow_y": null,
            "padding": "0px 0px 0px 4px",
            "right": null,
            "top": null,
            "visibility": null,
            "width": "28px"
          }
        },
        "b79071e5535c4a239489496d18387ed1": {
          "model_module": "@jupyter-widgets/controls",
          "model_name": "DescriptionStyleModel",
          "model_module_version": "1.5.0",
          "state": {
            "_model_module": "@jupyter-widgets/controls",
            "_model_module_version": "1.5.0",
            "_model_name": "DescriptionStyleModel",
            "_view_count": null,
            "_view_module": "@jupyter-widgets/base",
            "_view_module_version": "1.2.0",
            "_view_name": "StyleView",
            "description_width": ""
          }
        },
        "880781183bdf42809dfcbb4edd0f9ac5": {
          "model_module": "@jupyter-widgets/controls",
          "model_name": "ToggleButtonModel",
          "model_module_version": "1.5.0",
          "state": {
            "_dom_classes": [],
            "_model_module": "@jupyter-widgets/controls",
            "_model_module_version": "1.5.0",
            "_model_name": "ToggleButtonModel",
            "_view_count": null,
            "_view_module": "@jupyter-widgets/controls",
            "_view_module_version": "1.5.0",
            "_view_name": "ToggleButtonView",
            "button_style": "",
            "description": "",
            "description_tooltip": null,
            "disabled": false,
            "icon": "bars",
            "layout": "IPY_MODEL_4a627d3df3354ddca73b593fafb7a4f3",
            "style": "IPY_MODEL_8026f4058e9a4a678d8ebcb37a499669",
            "tooltip": "Toolbar",
            "value": true
          }
        },
        "0c72a8880bcc426ba422b6b80d06085d": {
          "model_module": "@jupyter-widgets/base",
          "model_name": "LayoutModel",
          "model_module_version": "1.2.0",
          "state": {
            "_model_module": "@jupyter-widgets/base",
            "_model_module_version": "1.2.0",
            "_model_name": "LayoutModel",
            "_view_count": null,
            "_view_module": "@jupyter-widgets/base",
            "_view_module_version": "1.2.0",
            "_view_name": "LayoutView",
            "align_content": null,
            "align_items": null,
            "align_self": null,
            "border": null,
            "bottom": null,
            "display": null,
            "flex": null,
            "flex_flow": null,
            "grid_area": null,
            "grid_auto_columns": null,
            "grid_auto_flow": null,
            "grid_auto_rows": null,
            "grid_column": null,
            "grid_gap": null,
            "grid_row": null,
            "grid_template_areas": null,
            "grid_template_columns": null,
            "grid_template_rows": null,
            "height": null,
            "justify_content": null,
            "justify_items": null,
            "left": null,
            "margin": null,
            "max_height": null,
            "max_width": null,
            "min_height": null,
            "min_width": null,
            "object_fit": null,
            "object_position": null,
            "order": null,
            "overflow": null,
            "overflow_x": null,
            "overflow_y": null,
            "padding": null,
            "right": null,
            "top": null,
            "visibility": null,
            "width": null
          }
        },
        "29c6902d33484e30a40ba9f248008199": {
          "model_module": "@jupyter-widgets/output",
          "model_name": "OutputModel",
          "model_module_version": "1.0.0",
          "state": {
            "_dom_classes": [],
            "_model_module": "@jupyter-widgets/output",
            "_model_module_version": "1.0.0",
            "_model_name": "OutputModel",
            "_view_count": null,
            "_view_module": "@jupyter-widgets/output",
            "_view_module_version": "1.0.0",
            "_view_name": "OutputView",
            "layout": "IPY_MODEL_82a865c960fb4762b22d84761fae7ce1",
            "msg_id": "",
            "outputs": [
              {
                "output_type": "display_data",
                "data": {
                  "text/plain": "HTML(value=\"<html>\\n<body>\\n  <div class='my-legend'>\\n  <div class='legend-title'>Legend</div>\\n  <div class=…",
                  "application/vnd.jupyter.widget-view+json": {
                    "version_major": 2,
                    "version_minor": 0,
                    "model_id": "cbea135a6afe4f82a039a33602ce0fdb"
                  }
                },
                "metadata": {
                  "application/vnd.jupyter.widget-view+json": {
                    "colab": {
                      "custom_widget_manager": {
                        "url": "https://ssl.gstatic.com/colaboratory-static/widgets/colab-cdn-widget-manager/b3e629b1971e1542/manager.min.js"
                      }
                    }
                  }
                }
              }
            ]
          }
        },
        "c053dfd52bac47178151e7cb056fc22a": {
          "model_module": "@jupyter-widgets/base",
          "model_name": "LayoutModel",
          "model_module_version": "1.2.0",
          "state": {
            "_model_module": "@jupyter-widgets/base",
            "_model_module_version": "1.2.0",
            "_model_name": "LayoutModel",
            "_view_count": null,
            "_view_module": "@jupyter-widgets/base",
            "_view_module_version": "1.2.0",
            "_view_name": "LayoutView",
            "align_content": null,
            "align_items": null,
            "align_self": null,
            "border": null,
            "bottom": null,
            "display": null,
            "flex": null,
            "flex_flow": null,
            "grid_area": null,
            "grid_auto_columns": null,
            "grid_auto_flow": null,
            "grid_auto_rows": null,
            "grid_column": null,
            "grid_gap": null,
            "grid_row": null,
            "grid_template_areas": null,
            "grid_template_columns": null,
            "grid_template_rows": null,
            "height": null,
            "justify_content": null,
            "justify_items": null,
            "left": null,
            "margin": null,
            "max_height": null,
            "max_width": null,
            "min_height": null,
            "min_width": null,
            "object_fit": null,
            "object_position": null,
            "order": null,
            "overflow": null,
            "overflow_x": null,
            "overflow_y": null,
            "padding": null,
            "right": null,
            "top": null,
            "visibility": null,
            "width": null
          }
        },
        "8026f4058e9a4a678d8ebcb37a499669": {
          "model_module": "@jupyter-widgets/controls",
          "model_name": "DescriptionStyleModel",
          "model_module_version": "1.5.0",
          "state": {
            "_model_module": "@jupyter-widgets/controls",
            "_model_module_version": "1.5.0",
            "_model_name": "DescriptionStyleModel",
            "_view_count": null,
            "_view_module": "@jupyter-widgets/base",
            "_view_module_version": "1.2.0",
            "_view_name": "StyleView",
            "description_width": ""
          }
        },
        "82a865c960fb4762b22d84761fae7ce1": {
          "model_module": "@jupyter-widgets/base",
          "model_name": "LayoutModel",
          "model_module_version": "1.2.0",
          "state": {
            "_model_module": "@jupyter-widgets/base",
            "_model_module_version": "1.2.0",
            "_model_name": "LayoutModel",
            "_view_count": null,
            "_view_module": "@jupyter-widgets/base",
            "_view_module_version": "1.2.0",
            "_view_name": "LayoutView",
            "align_content": null,
            "align_items": null,
            "align_self": null,
            "border": null,
            "bottom": null,
            "display": null,
            "flex": null,
            "flex_flow": null,
            "grid_area": null,
            "grid_auto_columns": null,
            "grid_auto_flow": null,
            "grid_auto_rows": null,
            "grid_column": null,
            "grid_gap": null,
            "grid_row": null,
            "grid_template_areas": null,
            "grid_template_columns": null,
            "grid_template_rows": null,
            "height": null,
            "justify_content": null,
            "justify_items": null,
            "left": null,
            "margin": null,
            "max_height": "400px",
            "max_width": "300px",
            "min_height": null,
            "min_width": null,
            "object_fit": null,
            "object_position": null,
            "order": null,
            "overflow": "scroll",
            "overflow_x": null,
            "overflow_y": null,
            "padding": null,
            "right": null,
            "top": null,
            "visibility": null,
            "width": null
          }
        },
        "cbea135a6afe4f82a039a33602ce0fdb": {
          "model_module": "@jupyter-widgets/controls",
          "model_name": "HTMLModel",
          "model_module_version": "1.5.0",
          "state": {
            "_dom_classes": [],
            "_model_module": "@jupyter-widgets/controls",
            "_model_module_version": "1.5.0",
            "_model_name": "HTMLModel",
            "_view_count": null,
            "_view_module": "@jupyter-widgets/controls",
            "_view_module_version": "1.5.0",
            "_view_name": "HTMLView",
            "description": "",
            "description_tooltip": null,
            "layout": "IPY_MODEL_a8420817f4a94d92b02de6f8c7ed4c53",
            "placeholder": "​",
            "style": "IPY_MODEL_c1f776c7972142ea8b5b40dd29b5483e",
            "value": "<html>\n<body>\n  <div class='my-legend'>\n  <div class='legend-title'>Legend</div>\n  <div class='legend-scale'>\n    <ul class='legend-labels'>\n      <li><span style='background:#8DD3C7;'></span>One</li>\n      <li><span style='background:#FFFFB3;'></span>Two</li>\n      <li><span style='background:#BEBADA;'></span>Three</li>\n      <li><span style='background:#FB8072;'></span>Four</li>\n      <li><span style='background:#80B1D3;'></span>etc</li>\n    </ul>\n  </div>\n  </div>\n\n  <style type='text/css'>\n    .my-legend .legend-title {\n      text-align: left;\n      margin-bottom: 2px;\n      margin-left: 2px;\n      font-weight: bold;\n      font-size: 90%;\n      }\n    .my-legend .legend-scale ul {\n      margin: 0;\n      margin-bottom: 5px;\n      padding: 0;\n      float: left;\n      list-style: none;\n      }\n    .my-legend .legend-scale ul li {\n      font-size: 80%;\n      list-style: none;\n      margin-left: 1px;\n      line-height: 18px;\n      margin-bottom: 2px;\n      }\n    .my-legend ul.legend-labels li span {\n      display: block;\n      float: left;\n      height: 16px;\n      width: 30px;\n      margin-right: 5px;\n      margin-left: 2px;\n      border: 1px solid #999;\n      }\n    .my-legend .legend-source {\n      font-size: 70%;\n      color: #999;\n      clear: both;\n      }\n    .my-legend a {\n      color: #777;\n      }\n  </style>\n</body>\n</html>\n"
          }
        },
        "a8420817f4a94d92b02de6f8c7ed4c53": {
          "model_module": "@jupyter-widgets/base",
          "model_name": "LayoutModel",
          "model_module_version": "1.2.0",
          "state": {
            "_model_module": "@jupyter-widgets/base",
            "_model_module_version": "1.2.0",
            "_model_name": "LayoutModel",
            "_view_count": null,
            "_view_module": "@jupyter-widgets/base",
            "_view_module_version": "1.2.0",
            "_view_name": "LayoutView",
            "align_content": null,
            "align_items": null,
            "align_self": null,
            "border": null,
            "bottom": null,
            "display": null,
            "flex": null,
            "flex_flow": null,
            "grid_area": null,
            "grid_auto_columns": null,
            "grid_auto_flow": null,
            "grid_auto_rows": null,
            "grid_column": null,
            "grid_gap": null,
            "grid_row": null,
            "grid_template_areas": null,
            "grid_template_columns": null,
            "grid_template_rows": null,
            "height": null,
            "justify_content": null,
            "justify_items": null,
            "left": null,
            "margin": null,
            "max_height": null,
            "max_width": null,
            "min_height": null,
            "min_width": null,
            "object_fit": null,
            "object_position": null,
            "order": null,
            "overflow": null,
            "overflow_x": null,
            "overflow_y": null,
            "padding": null,
            "right": null,
            "top": null,
            "visibility": null,
            "width": null
          }
        },
        "c1f776c7972142ea8b5b40dd29b5483e": {
          "model_module": "@jupyter-widgets/controls",
          "model_name": "DescriptionStyleModel",
          "model_module_version": "1.5.0",
          "state": {
            "_model_module": "@jupyter-widgets/controls",
            "_model_module_version": "1.5.0",
            "_model_name": "DescriptionStyleModel",
            "_view_count": null,
            "_view_module": "@jupyter-widgets/base",
            "_view_module_version": "1.2.0",
            "_view_name": "StyleView",
            "description_width": ""
          }
        },
        "bd8bd04bc9c04598952b377515babd7a": {
          "model_module": "@jupyter-widgets/controls",
          "model_name": "BoxModel",
          "model_module_version": "1.5.0",
          "state": {
            "_dom_classes": [],
            "_model_module": "@jupyter-widgets/controls",
            "_model_module_version": "1.5.0",
            "_model_name": "BoxModel",
            "_view_count": null,
            "_view_module": "@jupyter-widgets/controls",
            "_view_module_version": "1.5.0",
            "_view_name": "BoxView",
            "box_style": "",
            "children": [
              "IPY_MODEL_55abd1e66dbe4c7a9bb56bcbb59cfa99"
            ],
            "layout": "IPY_MODEL_cdee68c8f449489eb2d6607f06120028"
          }
        },
        "55abd1e66dbe4c7a9bb56bcbb59cfa99": {
          "model_module": "@jupyter-widgets/controls",
          "model_name": "FloatSliderModel",
          "model_module_version": "1.5.0",
          "state": {
            "_dom_classes": [],
            "_model_module": "@jupyter-widgets/controls",
            "_model_module_version": "1.5.0",
            "_model_name": "FloatSliderModel",
            "_view_count": null,
            "_view_module": "@jupyter-widgets/controls",
            "_view_module_version": "1.5.0",
            "_view_name": "FloatSliderView",
            "continuous_update": true,
            "description": "opacity",
            "description_tooltip": null,
            "disabled": false,
            "layout": "IPY_MODEL_104bdf5007bb4e10ba1f7519a92af51e",
            "max": 1,
            "min": 0,
            "orientation": "horizontal",
            "readout": true,
            "readout_format": ".2f",
            "step": 0.1,
            "style": "IPY_MODEL_1eba4e1f38094522a5c1eea86d351b38",
            "value": 0.9
          }
        },
        "cdee68c8f449489eb2d6607f06120028": {
          "model_module": "@jupyter-widgets/base",
          "model_name": "LayoutModel",
          "model_module_version": "1.2.0",
          "state": {
            "_model_module": "@jupyter-widgets/base",
            "_model_module_version": "1.2.0",
            "_model_name": "LayoutModel",
            "_view_count": null,
            "_view_module": "@jupyter-widgets/base",
            "_view_module_version": "1.2.0",
            "_view_name": "LayoutView",
            "align_content": null,
            "align_items": null,
            "align_self": null,
            "border": null,
            "bottom": null,
            "display": null,
            "flex": null,
            "flex_flow": null,
            "grid_area": null,
            "grid_auto_columns": null,
            "grid_auto_flow": null,
            "grid_auto_rows": null,
            "grid_column": null,
            "grid_gap": null,
            "grid_row": null,
            "grid_template_areas": null,
            "grid_template_columns": null,
            "grid_template_rows": null,
            "height": null,
            "justify_content": null,
            "justify_items": null,
            "left": null,
            "margin": null,
            "max_height": null,
            "max_width": null,
            "min_height": null,
            "min_width": null,
            "object_fit": null,
            "object_position": null,
            "order": null,
            "overflow": null,
            "overflow_x": null,
            "overflow_y": null,
            "padding": null,
            "right": null,
            "top": null,
            "visibility": null,
            "width": null
          }
        },
        "104bdf5007bb4e10ba1f7519a92af51e": {
          "model_module": "@jupyter-widgets/base",
          "model_name": "LayoutModel",
          "model_module_version": "1.2.0",
          "state": {
            "_model_module": "@jupyter-widgets/base",
            "_model_module_version": "1.2.0",
            "_model_name": "LayoutModel",
            "_view_count": null,
            "_view_module": "@jupyter-widgets/base",
            "_view_module_version": "1.2.0",
            "_view_name": "LayoutView",
            "align_content": null,
            "align_items": null,
            "align_self": null,
            "border": null,
            "bottom": null,
            "display": null,
            "flex": null,
            "flex_flow": null,
            "grid_area": null,
            "grid_auto_columns": null,
            "grid_auto_flow": null,
            "grid_auto_rows": null,
            "grid_column": null,
            "grid_gap": null,
            "grid_row": null,
            "grid_template_areas": null,
            "grid_template_columns": null,
            "grid_template_rows": null,
            "height": null,
            "justify_content": null,
            "justify_items": null,
            "left": null,
            "margin": null,
            "max_height": null,
            "max_width": null,
            "min_height": null,
            "min_width": null,
            "object_fit": null,
            "object_position": null,
            "order": null,
            "overflow": null,
            "overflow_x": null,
            "overflow_y": null,
            "padding": null,
            "right": null,
            "top": null,
            "visibility": null,
            "width": null
          }
        },
        "1eba4e1f38094522a5c1eea86d351b38": {
          "model_module": "@jupyter-widgets/controls",
          "model_name": "SliderStyleModel",
          "model_module_version": "1.5.0",
          "state": {
            "_model_module": "@jupyter-widgets/controls",
            "_model_module_version": "1.5.0",
            "_model_name": "SliderStyleModel",
            "_view_count": null,
            "_view_module": "@jupyter-widgets/base",
            "_view_module_version": "1.2.0",
            "_view_name": "StyleView",
            "description_width": "",
            "handle_color": null
          }
        }
      }
    }
  },
  "cells": [
    {
      "cell_type": "markdown",
      "metadata": {
        "id": "view-in-github",
        "colab_type": "text"
      },
      "source": [
        "<a href=\"https://colab.research.google.com/github/PhD-Gabriel-Caballero/ESA-summer-school-2023-Croatia/blob/main/Unsupervised_land_cover_classification_based_on_S1_time_series_using_machine_learning_algorithms_in_GEE.ipynb\" target=\"_parent\"><img src=\"https://colab.research.google.com/assets/colab-badge.svg\" alt=\"Open In Colab\"/></a>"
      ]
    },
    {
      "cell_type": "markdown",
      "source": [
        "### Unsupervised land cover classification based on S1 time series using machine learning algorithms in GEE\n",
        "\n",
        "---\n",
        "\n",
        "This Jupyter notebook contains all the necessary information for land cover unsupervised classification based on Sentinel-1 time series in the Google Earth (GEE) cloud computing platform. This material has been created exclusively for the 2023 European Space Agency (ESA) summer school.\n",
        "\n",
        "---\n",
        "\n",
        "![S1_unsupervised.jpg](data:image/jpeg;base64,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)\n",
        "\n",
        "In this study, we investigate the use of S1 time series for thematic crop mapping in a South Argentinian valley. SAR data, while not optimal for vegetation classification, is advantageous as it is not affected by cloud cover.\n",
        "\n",
        "This area comprises vast agricultural fields with well-defined crops and flat terrain, which is a significant advantage for SAR measurement.\n",
        "\n",
        "---\n",
        "\n",
        "Credits and references\n",
        "\n",
        "\n",
        "Original source code:\n",
        "[Machine Learning with Earth Engine - Unsupervised Classification](https://geemap.org/notebooks/31_unsupervised_classification/)\n",
        "\n",
        "[1] Caballero, G.R.; Platzeck, G.; Pezzola, A.; Casella, A.; Winschel, C.; Silva, S.S.; Ludueña, E.; Pasqualotto, N.; Delegido, J. Assessment of Multi-Date Sentinel-1 Polarizations and GLCM Texture Features Capacity for Onion and Sunflower Classification in an Irrigated Valley: An Object Level Approach. Agronomy 2020, 10, 845. https://doi.org/10.3390/agronomy10060845"
      ],
      "metadata": {
        "id": "6g81UgFPsUjj"
      }
    },
    {
      "cell_type": "code",
      "execution_count": null,
      "metadata": {
        "id": "I4Sj6ih2r-mV"
      },
      "outputs": [],
      "source": [
        "!pip install geemap\n",
        "!pip install PyCRS"
      ]
    },
    {
      "cell_type": "markdown",
      "source": [
        "**Import libraries**"
      ],
      "metadata": {
        "id": "eYmjQAI9sUL9"
      }
    },
    {
      "cell_type": "code",
      "source": [
        "from google.colab import output\n",
        "output.enable_custom_widget_manager()\n",
        "\n",
        "import ee\n",
        "import geemap\n",
        "import sys\n",
        "import  pycrs\n",
        "import geemap.colormaps as cm"
      ],
      "metadata": {
        "id": "tUIs3FY1sWZY"
      },
      "execution_count": 135,
      "outputs": []
    },
    {
      "cell_type": "markdown",
      "source": [
        "**Mount Google Drive**"
      ],
      "metadata": {
        "id": "iF51rVgJLbj3"
      }
    },
    {
      "cell_type": "code",
      "source": [
        "from google.colab import drive\n",
        "drive.mount('/content/drive')"
      ],
      "metadata": {
        "id": "lwrD9CocLd9G"
      },
      "execution_count": null,
      "outputs": []
    },
    {
      "cell_type": "markdown",
      "source": [
        "**Clone the GitHub repository**"
      ],
      "metadata": {
        "id": "jYLCiHxDcyb7"
      }
    },
    {
      "cell_type": "code",
      "source": [
        "!rm -r ESA-summer-school-2023-Croatia # delete the complete repository folder\n",
        "!git clone https://github.com/PhD-Gabriel-Caballero/ESA-summer-school-2023-Croatia # clone repository folder\n",
        "sys.path.insert(0,'/content/ESA-summer-school-2023-Croatia')"
      ],
      "metadata": {
        "colab": {
          "base_uri": "https://localhost:8080/"
        },
        "id": "MQtiw21-c_1e",
        "outputId": "58c9c486-1ebc-47d9-f5f6-186bce4cd3d8"
      },
      "execution_count": 137,
      "outputs": [
        {
          "output_type": "stream",
          "name": "stdout",
          "text": [
            "Cloning into 'ESA-summer-school-2023-Croatia'...\n",
            "remote: Enumerating objects: 269, done.\u001b[K\n",
            "remote: Counting objects: 100% (216/216), done.\u001b[K\n",
            "remote: Compressing objects: 100% (134/134), done.\u001b[K\n",
            "remote: Total 269 (delta 168), reused 116 (delta 80), pack-reused 53\u001b[K\n",
            "Receiving objects: 100% (269/269), 36.00 MiB | 10.83 MiB/s, done.\n",
            "Resolving deltas: 100% (179/179), done.\n"
          ]
        }
      ]
    },
    {
      "cell_type": "markdown",
      "source": [
        "**To use the Earth Engine API on the GEE cloud platform, import ee and geemap, and then log in to authenticate**"
      ],
      "metadata": {
        "id": "u1DxZqmxLm2k"
      }
    },
    {
      "cell_type": "code",
      "source": [
        "try:\n",
        "    ee.Initialize()\n",
        "except Exception as e:\n",
        "    ee.Authenticate()\n",
        "    ee.Initialize()"
      ],
      "metadata": {
        "id": "u5t3ZxJbLpQs"
      },
      "execution_count": 138,
      "outputs": []
    },
    {
      "cell_type": "markdown",
      "source": [
        "**Define and visualize the study area**"
      ],
      "metadata": {
        "id": "zgILYWW4L399"
      }
    },
    {
      "cell_type": "code",
      "source": [
        "# Set map display properties.\n",
        "Map = geemap.Map(toolbar_ctrl=True, layer_ctrl=True)\n",
        "Map.default_style = {'cursor': 'crosshair'}\n",
        "Map.add_basemap('SATELLITE')\n",
        "\n",
        "# Center the map in the desired country\n",
        "country = 'Argentina'\n",
        "country_bounds = ee.FeatureCollection(\"USDOS/LSIB_SIMPLE/2017\").filterMetadata('country_na', 'equals', country);\n",
        "Map.centerObject(country_bounds,6)\n",
        "Map"
      ],
      "metadata": {
        "colab": {
          "base_uri": "https://localhost:8080/",
          "height": 621,
          "referenced_widgets": [
            "8ce6fe180ca541d6bebce5df455650f5",
            "f2aba2c7c7dc4518a8868b22bd17cc22",
            "e061f5bfe77c4d61a841a7627b784803",
            "7ad0866376fd43f8af6e78ce06d0e0c7",
            "b2c8f3ff29934ccc8eff53993ac9f389",
            "0d35d59653f240028c12f814c895eca6",
            "dfdc7c5c306343bdb73b1ff12e64f6f9",
            "fc25e147c0bb4388a10d82ca9fb58070",
            "7f12acd14e0442d5a97d694554f7438a",
            "f53e74304c6a403889276e64a3d628f6",
            "8fd167ed5da443aa82d3d4b7a0b0d978",
            "11eb7ca45ec446968311f6e2c1109d28",
            "d36b7919640445a09884337a91637fe6",
            "b3bd26b5b8674187a8de320c0291aa99",
            "0cf03e77aa794792b47acc103109411e",
            "153b90714c4e4a72a255507ba5263f42",
            "c2d41f1ed9914b93a5c4ddaf0ecabdb5",
            "855d5992a7384f83a10964cc6be0cc25",
            "e3a63f9fdf174e4690dc0900837ae3c7",
            "423bc8dd00874226adbfe828f1e33297",
            "548438bd92414f098d24cd6231fdae81",
            "82e2ee63a6354d668d55a434dd8e09cb",
            "008d1171f2d34456b4fa595dd4db1b80",
            "9ac83aecd9cb4eb49247b2b29b258d4a",
            "b9dadcde3ce84877a17dde247d421a9d",
            "773d76bcfc9f492d9304c2de10ab91aa"
          ]
        },
        "id": "qO6REGmpL1Fk",
        "outputId": "28dca409-4870-4618-bc5b-13c196f5b16c"
      },
      "execution_count": 217,
      "outputs": [
        {
          "output_type": "display_data",
          "data": {
            "text/plain": [
              "Map(center=[-34.687845828472675, -64.74963675588427], controls=(WidgetControl(options=['position', 'transparen…"
            ],
            "application/vnd.jupyter.widget-view+json": {
              "version_major": 2,
              "version_minor": 0,
              "model_id": "8ce6fe180ca541d6bebce5df455650f5"
            }
          },
          "metadata": {
            "application/vnd.jupyter.widget-view+json": {
              "colab": {
                "custom_widget_manager": {
                  "url": "https://ssl.gstatic.com/colaboratory-static/widgets/colab-cdn-widget-manager/b3e629b1971e1542/manager.min.js"
                }
              }
            }
          }
        }
      ]
    },
    {
      "cell_type": "markdown",
      "source": [
        "**Show the Region Of Interest (ROI) in the interactive map**"
      ],
      "metadata": {
        "id": "lk1le4O2dfaK"
      }
    },
    {
      "cell_type": "code",
      "source": [
        "# Please provide here the information on the experimental station and the boundaries of your crop essay.\n",
        "wheat_roi = geemap.shp_to_ee('/content/ESA-summer-school-2023-Croatia/Vectors/Wheat trial sketch 2020/wheat trial sketch 2020.shp')\n",
        "EEHA_roi = geemap.shp_to_ee('/content/ESA-summer-school-2023-Croatia/Vectors/EEHA boundaries/INTA EEHA subdivision 2020.shp')\n",
        "wheat_insitu_points =  geemap.shp_to_ee('/content/ESA-summer-school-2023-Croatia/Vectors/Wheat sampling points 2020/wheat_sampling_points_2020.shp')\n",
        "wheat_insitu_points_insitu_data_2020 = geemap.shp_to_ee('/content/ESA-summer-school-2023-Croatia/Vectors/Wheat sampling points 2020/wheat_sampling_points_insitu_data_2020.shp')\n",
        "\n",
        "Map.addLayer(wheat_roi, {},'Wheat roi 2020',True, opacity = 0.3)\n",
        "Map.addLayer(wheat_insitu_points, {},'Wheat insitu points 2020',True)\n",
        "Map.addLayer(EEHA_roi, {},'Study area',True, opacity = 0.5)"
      ],
      "metadata": {
        "id": "LX3lQQpIdfl7"
      },
      "execution_count": 140,
      "outputs": []
    },
    {
      "cell_type": "markdown",
      "source": [
        "**Retrieve the ROI from the map for classifier training**"
      ],
      "metadata": {
        "id": "1Nr2ppmeMFdm"
      }
    },
    {
      "cell_type": "code",
      "source": [
        "training_region = Map.user_roi #Draw a shape (e.g., rectangle) on the map"
      ],
      "metadata": {
        "id": "xhdoUvLAu5wP"
      },
      "execution_count": 141,
      "outputs": []
    },
    {
      "cell_type": "markdown",
      "source": [
        "**Funtions definition**"
      ],
      "metadata": {
        "id": "1i5q13P6mFIO"
      }
    },
    {
      "cell_type": "code",
      "source": [
        "#Function to convert from dB\n",
        "def toNatural(img):\n",
        "    return ee.Image(10.0).pow(img.select(0).divide(10.0))\n",
        "\n",
        "#Function to convert to dB\n",
        "def todB(img):\n",
        "    return ee.Image(img).log10().multiply(10.0)"
      ],
      "metadata": {
        "id": "PcEb0-_3fzIw"
      },
      "execution_count": 142,
      "outputs": []
    },
    {
      "cell_type": "code",
      "source": [
        "# Clipping image collection by geometry\n",
        "def clipcol(image):\n",
        "    clipimage = image.clip(EEHA_roi)\n",
        "    return clipimage"
      ],
      "metadata": {
        "id": "F0Akjn1Bovi6"
      },
      "execution_count": 197,
      "outputs": []
    },
    {
      "cell_type": "markdown",
      "source": [
        "**Dates of interest and acquisitions configuration parameters**"
      ],
      "metadata": {
        "id": "rUpzMesZNmvy"
      }
    },
    {
      "cell_type": "code",
      "source": [
        "# Configuration Parameters\n",
        "start_date = '2019-02-01'\n",
        "end_date = '2020-02-01'\n",
        "\n",
        "# Select the current region of interest\n",
        "roi_center_lat = -39.400633\n",
        "roi_center_lon = -62.639496\n",
        "\n",
        "roi_point = ee.Geometry.Point([roi_center_lon, roi_center_lat])"
      ],
      "metadata": {
        "id": "NdingQC2kNYF"
      },
      "execution_count": 144,
      "outputs": []
    },
    {
      "cell_type": "markdown",
      "source": [
        "**Create the initial image collection with the polarimetric SAR bands**"
      ],
      "metadata": {
        "id": "oQr3sIyHgC6y"
      }
    },
    {
      "cell_type": "code",
      "source": [
        "# Retrieving Sentinel 1 imagery\n",
        "print('SENTINEL1 time series being retrieved')\n",
        "S1collection = ee.ImageCollection('COPERNICUS/S1_GRD_FLOAT')\\\n",
        "                     .filterBounds(roi_point)\\\n",
        "                     .filterDate(start_date, end_date)\\\n",
        "                     .filter(ee.Filter.listContains('transmitterReceiverPolarisation', 'VV'))\\\n",
        "                     .filter(ee.Filter.listContains('transmitterReceiverPolarisation', 'VH'))\\\n",
        "                     .filter(ee.Filter.eq('instrumentMode', 'IW'))\\\n",
        "                     .filter(ee.Filter.eq('orbitProperties_pass', 'DESCENDING'))\\\n",
        "                     .filter(ee.Filter.eq('resolution','H'))\\\n",
        "                     .select('VH','VV')\\\n",
        "\n",
        "# Sort the dataset S1\n",
        "S1collection = S1collection.sort('GRD_Post_Processing_start');"
      ],
      "metadata": {
        "id": "g6KYzzPZs9AK",
        "colab": {
          "base_uri": "https://localhost:8080/"
        },
        "outputId": "237fb391-9dab-47c3-d556-2ad71748f063"
      },
      "execution_count": 145,
      "outputs": [
        {
          "output_type": "stream",
          "name": "stdout",
          "text": [
            "SENTINEL1 time series being retrieved\n"
          ]
        }
      ]
    },
    {
      "cell_type": "code",
      "source": [
        "# Filter S1 collection by Relative Orbit Number or Path 68 and satellite S1-A\n",
        "S1Acollection_P68  =  S1collection.filter(ee.Filter.eq('relativeOrbitNumber_start',68)).filter(ee.Filter.eq('platform_number','A'))\n",
        "\n",
        "# Polarization filtering\n",
        "S1Acollection_P68_VH  = ee.ImageCollection(S1Acollection_P68.select([\"VH\"])).map(todB)\n",
        "S1Acollection_P68_VV  = ee.ImageCollection(S1Acollection_P68.select([\"VV\"])).map(todB)\n",
        "\n",
        "# From GEE image collection to one image containing multiple bands\n",
        "image_S1_VH = S1Acollection_P68_VH.toBands(); # S1 VH polarization\n",
        "image_S1_VV = S1Acollection_P68_VV.toBands(); # S1 VV polarization\n",
        "\n",
        "image_S1 = S1Acollection_P68.toBands(); # S1 VH&VV polarization"
      ],
      "metadata": {
        "id": "yc2KAok5W0gW"
      },
      "execution_count": 201,
      "outputs": []
    },
    {
      "cell_type": "markdown",
      "source": [
        "**Make training dataset**"
      ],
      "metadata": {
        "id": "yrrWM8gothMb"
      }
    },
    {
      "cell_type": "code",
      "source": [
        "# Make the training dataset.\n",
        "training = image_S1_VH.sample(\n",
        "    **{\n",
        "        'region': training_region, #If you do not define a region, it will use the image footprint by default\n",
        "        'scale': 10,\n",
        "        'numPixels': 5000,\n",
        "        'seed': 5,\n",
        "        'geometries': True,  # Set this to False to ignore geometries\n",
        "    }\n",
        ")"
      ],
      "metadata": {
        "id": "fyWzyKRnthXB"
      },
      "execution_count": 210,
      "outputs": []
    },
    {
      "cell_type": "code",
      "source": [
        "map_center_lat = -39.400633\n",
        "map_center_lon = -62.639496\n",
        "\n",
        "Map_S1 = geemap.Map()\n",
        "Map_S1 = geemap.Map(center=(map_center_lat,map_center_lon), zoom=8)\n",
        "Map_S1.set_plot_options(add_marker_cluster=True)\n",
        "\n",
        "Map_S1.addLayer(training, {}, 'training', True)\n",
        "Map_S1"
      ],
      "metadata": {
        "colab": {
          "base_uri": "https://localhost:8080/",
          "height": 621,
          "referenced_widgets": [
            "de4786d6c1bc4caea36bf474781a1857",
            "ce41ee6c7d6d4715af00b71fbc863c60",
            "f54eec83f1e04b3eab6a440b3ba34086",
            "7eeea9afab934fc0ad8f6a57a194e39a",
            "35445223048c4a05a206ed92feff49d3",
            "4b4b7225def74fd6978568732b63e2d3",
            "ca806d86af8940f3b2fd6c29b5c06f3f",
            "45416736eadd4f39aa04ce64735c3197",
            "ea67a0d07d854797b57fa7593f0b1002",
            "17141f43f19b44febfc406d95ffe40cf",
            "16de54aeeec0481087f4b7bee866efa8",
            "05302bc3c71d445387f12c5d9a38343f",
            "5cc6eabf220c4877a47a537fd48b8d47",
            "84e45354fa0746aaac143dc6d64db60b",
            "e75e0035050b4cbf84a37e5109287311",
            "653cab37006f4ca098d09535c7653c26",
            "6e9d98c9e0234eb09100a7af3d835671",
            "467db7a8937b4f518060700fd9c94e0a",
            "a11198d0e0744602b087f36bdb9a81be",
            "09d9b9c7263341a994ca66e53996c09e",
            "46f29fdba2f043d48c231e0ffc3870fe",
            "c6c6a33256cc4eb3853e538a704f970b",
            "59035f01c95c48e4b724d91d1d804e76",
            "d966c9c092d641b4b9a2d3a07b8debeb",
            "72d0a63205454d2e8fe3624509fcde52",
            "89b0950c2b0d4cc49c8e9915a848ce34",
            "f15dc709b72d4c729e81b0d202718113",
            "dfa996dee53b441486c0900747b82985",
            "08fb84e135c74f3a8e5c0ea2ab9bb0de",
            "fea08d574deb40dc8611da23ffdbb418",
            "5d29b9f9d151451c8196e849159b445a",
            "cefddb4230914fbd937adcdc49bacbec",
            "30e02c02a01743b1964b3a7401058dbe",
            "855af871e6e74be6b522e9277d66d39b",
            "15722f1007b54445a37ba3988ac8a239"
          ]
        },
        "id": "Wy52WYzB_XmM",
        "outputId": "4360b498-7043-4418-ff65-9550a5687ac9"
      },
      "execution_count": 211,
      "outputs": [
        {
          "output_type": "display_data",
          "data": {
            "text/plain": [
              "Map(center=[-39.400633, -62.639496], controls=(WidgetControl(options=['position', 'transparent_bg'], widget=HB…"
            ],
            "application/vnd.jupyter.widget-view+json": {
              "version_major": 2,
              "version_minor": 0,
              "model_id": "de4786d6c1bc4caea36bf474781a1857"
            }
          },
          "metadata": {
            "application/vnd.jupyter.widget-view+json": {
              "colab": {
                "custom_widget_manager": {
                  "url": "https://ssl.gstatic.com/colaboratory-static/widgets/colab-cdn-widget-manager/b3e629b1971e1542/manager.min.js"
                }
              }
            }
          }
        }
      ]
    },
    {
      "cell_type": "markdown",
      "source": [
        "**Add data to the map**"
      ],
      "metadata": {
        "id": "Z0_Teu6us82j"
      }
    },
    {
      "cell_type": "code",
      "source": [
        "vis_VH = cm.get_palette('gray', n_class=10)\n",
        "vis_VH = {'min': -30, 'max': -15, 'palette': vis_VH}\n",
        "\n",
        "vis_VV = cm.get_palette('gray', n_class=10)\n",
        "vis_VV = {'min': -17, 'max': -8, 'palette': vis_VV}\n",
        "\n",
        "# Image collection display (mean, max or min).\n",
        "\n",
        "Map_S1.addLayer(S1Acollection_P68_VH.mean(),vis_VH, 'S1 VH collection mean')\n",
        "Map_S1.addLayer(S1Acollection_P68_VV.mean(),vis_VV, 'S1 VV collection mean')\n",
        "\n",
        "# On-screen display of color bars\n",
        "\n",
        "Map_S1.add_colorbar(vis_VH, label=\"VH [dB]\", orientation=\"horizontal\", layer_name=\"VH color bar\", position=\"topleft\", location=\"bottom\")\n",
        "Map_S1.add_colorbar(vis_VV, label=\"VV [dB]\", orientation=\"horizontal\", layer_name=\"VV color bar\", position=\"topleft\", location=\"bottom\")"
      ],
      "metadata": {
        "id": "Qb7n3WKK83jJ"
      },
      "execution_count": 212,
      "outputs": []
    },
    {
      "cell_type": "markdown",
      "source": [
        "**Train the clusterer**"
      ],
      "metadata": {
        "id": "9sfxMosPt10_"
      }
    },
    {
      "cell_type": "code",
      "source": [
        "# Instantiate the clusterer and train it.\n",
        "n_clusters = 7\n",
        "clusterer = ee.Clusterer.wekaKMeans(n_clusters).train(training)"
      ],
      "metadata": {
        "id": "iFH9QYRWt2EP"
      },
      "execution_count": 213,
      "outputs": []
    },
    {
      "cell_type": "markdown",
      "source": [
        "**Classify the image**"
      ],
      "metadata": {
        "id": "bXXgwljDuEvN"
      }
    },
    {
      "cell_type": "code",
      "source": [
        "# Cluster the input using the trained clusterer.\n",
        "result = image_S1_VH.cluster(clusterer)"
      ],
      "metadata": {
        "id": "wAFKntn6uIhH"
      },
      "execution_count": 214,
      "outputs": []
    },
    {
      "cell_type": "code",
      "source": [
        "Map_S1_clusters = geemap.Map()\n",
        "Map_S1_clusters = geemap.Map(center=(map_center_lat,map_center_lon), zoom=8)\n",
        "Map_S1_clusters.set_plot_options(add_marker_cluster=True)\n",
        "\n",
        "# # Display the clusters with random colors.\n",
        "label_colors = cm.get_palette('Accent', n_class=7)\n",
        "legend_colors = {'min': 1, 'max': 7, 'palette': label_colors}\n",
        "#Map_S1_clusters.addLayer(result.randomVisualizer(), {}, 'clusters')\n",
        "Map_S1_clusters.addLayer(result, {'min': 1, 'max': 5, 'palette': label_colors}, 'Labelled clusters')\n",
        "\n",
        "Map_S1_clusters"
      ],
      "metadata": {
        "colab": {
          "base_uri": "https://localhost:8080/",
          "height": 621,
          "referenced_widgets": [
            "b9eb19b355514ee5a502689c9782a0b5",
            "c2e4e7139f444f37b65a5698acf8687f",
            "f3e6b1b70dad41669201f8dd4a61ad3e",
            "efd42c755b5b450b84eddf5f85fb7b4a",
            "e8c67eb264da482583dd50ccaf732fb7",
            "e1b5197c578c4c9eaba9da306d5a19b6",
            "f0bb0c71c8c9475aa170a24b37150918",
            "920ca827f0144e08add2e94a8233a6e5",
            "ce13fd54249247f4ac0af2459a08efaa",
            "167cc77979234a3b995704b4e0088249",
            "0b3a265fb8ba440a9c143142f8f809f4",
            "06cfa135b59642ca8a40d1741970858d",
            "7e89390dd0b2450c9de5ee62fd6fb834",
            "515c6392ad6b447cbffb403ad3c9ca40",
            "7f199342cddc4a14bdc44bc33c5ded32",
            "09f151c7684c4cdf9cd903c17829a6c2",
            "5073d294372e45fda382ff5d8edc6bcc",
            "b710ba58b61246b585d47bdb6a0a65ea",
            "f65e7c8d7f51471e879e15db324fc083",
            "d5feacb0e2ef42d8be739890637d7279",
            "0ee75c2e6e5b44f9a9fcdbe8b244c7fa",
            "b8e150cb0910415a9ba70b706330c392",
            "10fe3391ba8a4f509b5fe8e489b0c29c",
            "a9e477e43c6d4af895dcc91f4b4c2abe",
            "d64d1067bab741e3ac912e82bf7c89e7",
            "1263e85e4a584f2c980118f6f4c7a688",
            "69dacec9c0694626bac2a86dce0fa9d4"
          ]
        },
        "id": "b3zFU085C4Wv",
        "outputId": "9033fd22-d7d4-4f10-a944-1d0c749f60f0"
      },
      "execution_count": 229,
      "outputs": [
        {
          "output_type": "display_data",
          "data": {
            "text/plain": [
              "Map(center=[-39.400633, -62.639496], controls=(WidgetControl(options=['position', 'transparent_bg'], widget=HB…"
            ],
            "application/vnd.jupyter.widget-view+json": {
              "version_major": 2,
              "version_minor": 0,
              "model_id": "b9eb19b355514ee5a502689c9782a0b5"
            }
          },
          "metadata": {
            "application/vnd.jupyter.widget-view+json": {
              "colab": {
                "custom_widget_manager": {
                  "url": "https://ssl.gstatic.com/colaboratory-static/widgets/colab-cdn-widget-manager/b3e629b1971e1542/manager.min.js"
                }
              }
            }
          }
        }
      ]
    },
    {
      "cell_type": "markdown",
      "source": [
        "**Label the clusters**"
      ],
      "metadata": {
        "id": "KewI44ndvtJh"
      }
    },
    {
      "cell_type": "code",
      "source": [
        "legend_keys = ['One', 'Two', 'Three', 'Four', 'ect']\n",
        "legend_colors = ['#8DD3C7', '#FFFFB3', '#BEBADA', '#FB8072', '#80B1D3']\n",
        "\n",
        "# Reclassify the map\n",
        "result = result.remap([0, 1, 2, 3, 4], [1, 2, 3, 4, 5])\n",
        "\n",
        "Map.addLayer(\n",
        "    result, {'min': 1, 'max': 5, 'palette': legend_colors}, 'Labelled clusters'\n",
        ")\n",
        "Map.add_legend(\n",
        "    legend_keys=legend_keys, legend_colors=legend_colors, position='bottomright'\n",
        ")\n",
        "Map"
      ],
      "metadata": {
        "colab": {
          "base_uri": "https://localhost:8080/",
          "height": 621,
          "referenced_widgets": [
            "f69356ab0a2c458a838fdf9f4b05af35",
            "3ed32be6817040bc8d58b861936087c2",
            "1cb2e3a3de5d4400ad7d036b93cdf457",
            "666047d6d88a408a9330aff4705d26a4",
            "86e53d141c054663b9308959981c3f5d",
            "fdb92be950ba4845a2b3e59f7f26fdab",
            "bd5c81b020ef4916907ad50ba79401ea",
            "1539eabfc4914872831c726bab279012",
            "be4c1821f513468994ea8c722aefdd7c",
            "8e9db0f7868745fc80d01324df31fdb2",
            "3115eeabb403433fa91058b8142230cb",
            "58aef87ab85d4a04a129aeb12aac78e9",
            "8e83fe40014e42dcb1b8433f52cba6b8",
            "4c96afc4d43b46b4be9007af74c66247",
            "70f4f61494214479899f6cc3f6916d4e",
            "de25c9a418704f4c95f54f2bd4f8319f",
            "60359dbd5ea348099043fc8388c219ef",
            "2bf3af0f5f5a463bbb9f9433e23e6599",
            "50e1f9ec87a54a4b96a371458dcd46ed",
            "6c21add113fd4b37a1043bbb5321e1af",
            "937ba5f3155a4ac280df59a08ea07493",
            "827e86ddaba6401f9dd545cb95ef6366",
            "377159b3cdce4cef99071be79d51e381",
            "1514496d4482421ea18730c7f557e0b8",
            "25fa542c526f4d4ca6410ae81a886c4b",
            "85cccb07448e4761ad22f17887cb8ac8",
            "baec48f1f0bc4b0b89b076ba7a434934",
            "80b7b3a5ebef41d7babe55ad7b4b4635",
            "4b4b730a94dd4baabab1eeb8338af7fb",
            "527db7e88428489bb101f0ca57992fb3",
            "bb29587ae48c47f5a5690f1a83fc0223",
            "e7f2a44ee42e442f828cdc6112712276",
            "d113325dd9e14d59b9b0803f7f69c29f",
            "ee0cca3446f049d5950fe0d462fe2368",
            "0c8789ef44e44cb8a500aeff32653eb6",
            "7c2e1e836cb347a5be073b5afde86050",
            "c27c3ecb62c142dba4ad5a8113fbd544",
            "717880594c66418c858de1006ec30ad4",
            "cc5d0d5b8f9a4b5ca25a2d5df13721cf",
            "ac5550edc46b441487e2b4cfb924a08d",
            "89680f623e404e1e8261062d01948d2b",
            "4410df26ab3e4b6481e5b86a2f859d63",
            "b79071e5535c4a239489496d18387ed1",
            "880781183bdf42809dfcbb4edd0f9ac5",
            "0c72a8880bcc426ba422b6b80d06085d",
            "29c6902d33484e30a40ba9f248008199",
            "c053dfd52bac47178151e7cb056fc22a",
            "4a627d3df3354ddca73b593fafb7a4f3",
            "8026f4058e9a4a678d8ebcb37a499669",
            "82a865c960fb4762b22d84761fae7ce1",
            "cbea135a6afe4f82a039a33602ce0fdb",
            "a8420817f4a94d92b02de6f8c7ed4c53",
            "c1f776c7972142ea8b5b40dd29b5483e"
          ]
        },
        "id": "aOVkMOGVvtXr",
        "outputId": "6b99cc8c-8c25-471f-d169-73e9d3966f5b"
      },
      "execution_count": 208,
      "outputs": [
        {
          "output_type": "display_data",
          "data": {
            "text/plain": [
              "Map(bottom=649694.0, center=[-39.415507503064795, -62.60353292957485], controls=(WidgetControl(options=['posit…"
            ],
            "application/vnd.jupyter.widget-view+json": {
              "version_major": 2,
              "version_minor": 0,
              "model_id": "f69356ab0a2c458a838fdf9f4b05af35"
            }
          },
          "metadata": {
            "application/vnd.jupyter.widget-view+json": {
              "colab": {
                "custom_widget_manager": {
                  "url": "https://ssl.gstatic.com/colaboratory-static/widgets/colab-cdn-widget-manager/b3e629b1971e1542/manager.min.js"
                }
              }
            }
          }
        }
      ]
    },
    {
      "cell_type": "markdown",
      "source": [
        "**Visualize the result**"
      ],
      "metadata": {
        "id": "PSjGTXRav-hI"
      }
    },
    {
      "cell_type": "code",
      "source": [
        "print('Change layer opacity:')\n",
        "cluster_layer = Map.layers[-1]\n",
        "cluster_layer.interact(opacity=(0, 1, 0.1))"
      ],
      "metadata": {
        "colab": {
          "base_uri": "https://localhost:8080/",
          "height": 66,
          "referenced_widgets": [
            "bd8bd04bc9c04598952b377515babd7a",
            "55abd1e66dbe4c7a9bb56bcbb59cfa99",
            "cdee68c8f449489eb2d6607f06120028",
            "104bdf5007bb4e10ba1f7519a92af51e",
            "1eba4e1f38094522a5c1eea86d351b38"
          ]
        },
        "id": "dMi37GPTwBwg",
        "outputId": "688f47e7-bad1-435a-8c69-b5c0795c3000"
      },
      "execution_count": 209,
      "outputs": [
        {
          "output_type": "stream",
          "name": "stdout",
          "text": [
            "Change layer opacity:\n"
          ]
        },
        {
          "output_type": "display_data",
          "data": {
            "text/plain": [
              "Box(children=(FloatSlider(value=1.0, description='opacity', max=1.0),))"
            ],
            "application/vnd.jupyter.widget-view+json": {
              "version_major": 2,
              "version_minor": 0,
              "model_id": "bd8bd04bc9c04598952b377515babd7a"
            }
          },
          "metadata": {
            "application/vnd.jupyter.widget-view+json": {
              "colab": {
                "custom_widget_manager": {
                  "url": "https://ssl.gstatic.com/colaboratory-static/widgets/colab-cdn-widget-manager/b3e629b1971e1542/manager.min.js"
                }
              }
            }
          }
        }
      ]
    },
    {
      "cell_type": "markdown",
      "source": [
        "**Export the result to Google Drive**"
      ],
      "metadata": {
        "id": "FWD4GAXAwPIi"
      }
    },
    {
      "cell_type": "code",
      "source": [],
      "metadata": {
        "id": "VNT3FISuwMqZ"
      },
      "execution_count": null,
      "outputs": []
    },
    {
      "cell_type": "markdown",
      "source": [
        "[S1 time series crop classification](https://mortcanty.github.io/src/s1class.html)"
      ],
      "metadata": {
        "id": "2YuDYy4Gw02F"
      }
    }
  ]
}