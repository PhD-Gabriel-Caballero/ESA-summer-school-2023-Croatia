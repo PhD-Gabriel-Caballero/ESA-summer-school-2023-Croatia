{
  "nbformat": 4,
  "nbformat_minor": 0,
  "metadata": {
    "colab": {
      "provenance": [],
      "include_colab_link": true
    },
    "kernelspec": {
      "name": "python3",
      "display_name": "Python 3"
    },
    "widgets": {
      "application/vnd.jupyter.widget-state+json": {
        "3a43e823bada4354a3828299a76251ac": {
          "model_module": "jupyter-leaflet",
          "model_name": "LeafletMapModel",
          "model_module_version": "^0.17",
          "state": {
            "_dom_classes": [],
            "_model_module": "jupyter-leaflet",
            "_model_module_version": "^0.17",
            "_model_name": "LeafletMapModel",
            "_view_count": null,
            "_view_module": "jupyter-leaflet",
            "_view_module_version": "^0.17",
            "_view_name": "LeafletMapView",
            "bottom": 1566650,
            "bounce_at_zoom_limits": true,
            "box_zoom": true,
            "center": [
              41.40063424225207,
              -4.824371337890625
            ],
            "close_popup_on_click": true,
            "controls": [
              "IPY_MODEL_0f9421de59e14b22b427b457bf54ac69",
              "IPY_MODEL_1965a784027c4f4c8381e7ed7f621917",
              "IPY_MODEL_ad5765215fa94acd94b888dca87dfac4",
              "IPY_MODEL_e7b78494b2304982b2820bba752df030",
              "IPY_MODEL_7b84f6bec7604beb9c3c2be933fbe297",
              "IPY_MODEL_678269ec1ad74bde83887e88a7509867",
              "IPY_MODEL_3a5239f01e0e4c19afdf025d76d63269",
              "IPY_MODEL_2b676924f7e749c1b1a00d10be9cb139"
            ],
            "crs": {
              "name": "EPSG3857",
              "custom": false
            },
            "default_style": "IPY_MODEL_12783d415f414e4cbe4ecdc43c66bc57",
            "double_click_zoom": true,
            "dragging": true,
            "dragging_style": "IPY_MODEL_f84fc2a6cd494968b1d19365966a3f3c",
            "east": -4.747381210327149,
            "fullscreen": false,
            "inertia": true,
            "inertia_deceleration": 3000,
            "inertia_max_speed": 1500,
            "interpolation": "bilinear",
            "keyboard": true,
            "keyboard_pan_offset": 80,
            "keyboard_zoom_offset": 1,
            "layers": [
              "IPY_MODEL_2637fcd6ee324e8d990dc2903171b722",
              "IPY_MODEL_ad0d04cf058948bab289c102df0d8cd4",
              "IPY_MODEL_bcd2c7ab0e3040198c8cf353f3bcb83c",
              "IPY_MODEL_f5d06c148a6647e18d854126142f258e"
            ],
            "layout": "IPY_MODEL_a111c410e0564a36998d759aa5354e45",
            "left": 2040047,
            "max_zoom": 24,
            "min_zoom": null,
            "modisdate": "2022-12-15",
            "north": 41.419945948361665,
            "options": [
              "bounce_at_zoom_limits",
              "box_zoom",
              "center",
              "close_popup_on_click",
              "double_click_zoom",
              "dragging",
              "fullscreen",
              "inertia",
              "inertia_deceleration",
              "inertia_max_speed",
              "interpolation",
              "keyboard",
              "keyboard_pan_offset",
              "keyboard_zoom_offset",
              "max_zoom",
              "min_zoom",
              "prefer_canvas",
              "scroll_wheel_zoom",
              "tap",
              "tap_tolerance",
              "touch_zoom",
              "world_copy_jump",
              "zoom",
              "zoom_animation_threshold",
              "zoom_delta",
              "zoom_snap"
            ],
            "panes": {},
            "prefer_canvas": false,
            "right": 2041841,
            "scroll_wheel_zoom": true,
            "south": 41.38131679579532,
            "style": "IPY_MODEL_12783d415f414e4cbe4ecdc43c66bc57",
            "tap": true,
            "tap_tolerance": 15,
            "top": 1566050,
            "touch_zoom": true,
            "west": -4.901361465454102,
            "window_url": "https://ryblfig9ls-496ff2e9c6d22116-0-colab.googleusercontent.com/outputframe.html?vrz=colab-20221213-060111-RC00_494987091",
            "world_copy_jump": false,
            "zoom": 14,
            "zoom_animation_threshold": 4,
            "zoom_delta": 1,
            "zoom_snap": 1
          }
        },
        "0f9421de59e14b22b427b457bf54ac69": {
          "model_module": "jupyter-leaflet",
          "model_name": "LeafletWidgetControlModel",
          "model_module_version": "^0.17",
          "state": {
            "_model_module": "jupyter-leaflet",
            "_model_module_version": "^0.17",
            "_model_name": "LeafletWidgetControlModel",
            "_view_count": null,
            "_view_module": "jupyter-leaflet",
            "_view_module_version": "^0.17",
            "_view_name": "LeafletWidgetControlView",
            "max_height": null,
            "max_width": null,
            "min_height": null,
            "min_width": null,
            "options": [
              "position",
              "transparent_bg"
            ],
            "position": "topleft",
            "transparent_bg": false,
            "widget": "IPY_MODEL_9666fcd36ab341b683bee633714cec46"
          }
        },
        "1965a784027c4f4c8381e7ed7f621917": {
          "model_module": "jupyter-leaflet",
          "model_name": "LeafletZoomControlModel",
          "model_module_version": "^0.17",
          "state": {
            "_model_module": "jupyter-leaflet",
            "_model_module_version": "^0.17",
            "_model_name": "LeafletZoomControlModel",
            "_view_count": null,
            "_view_module": "jupyter-leaflet",
            "_view_module_version": "^0.17",
            "_view_name": "LeafletZoomControlView",
            "options": [
              "position",
              "zoom_in_text",
              "zoom_in_title",
              "zoom_out_text",
              "zoom_out_title"
            ],
            "position": "topleft",
            "zoom_in_text": "+",
            "zoom_in_title": "Zoom in",
            "zoom_out_text": "-",
            "zoom_out_title": "Zoom out"
          }
        },
        "ad5765215fa94acd94b888dca87dfac4": {
          "model_module": "jupyter-leaflet",
          "model_name": "LeafletScaleControlModel",
          "model_module_version": "^0.17",
          "state": {
            "_model_module": "jupyter-leaflet",
            "_model_module_version": "^0.17",
            "_model_name": "LeafletScaleControlModel",
            "_view_count": null,
            "_view_module": "jupyter-leaflet",
            "_view_module_version": "^0.17",
            "_view_name": "LeafletScaleControlView",
            "imperial": true,
            "max_width": 100,
            "metric": true,
            "options": [
              "imperial",
              "max_width",
              "metric",
              "position",
              "update_when_idle"
            ],
            "position": "bottomleft",
            "update_when_idle": false
          }
        },
        "e7b78494b2304982b2820bba752df030": {
          "model_module": "jupyter-leaflet",
          "model_name": "LeafletFullScreenControlModel",
          "model_module_version": "^0.17",
          "state": {
            "_model_module": "jupyter-leaflet",
            "_model_module_version": "^0.17",
            "_model_name": "LeafletFullScreenControlModel",
            "_view_count": null,
            "_view_module": "jupyter-leaflet",
            "_view_module_version": "^0.17",
            "_view_name": "LeafletFullScreenControlView",
            "options": [
              "position"
            ],
            "position": "topleft"
          }
        },
        "7b84f6bec7604beb9c3c2be933fbe297": {
          "model_module": "jupyter-leaflet",
          "model_name": "LeafletMeasureControlModel",
          "model_module_version": "^0.17",
          "state": {
            "_custom_units": {},
            "_model_module": "jupyter-leaflet",
            "_model_module_version": "^0.17",
            "_model_name": "LeafletMeasureControlModel",
            "_view_count": null,
            "_view_module": "jupyter-leaflet",
            "_view_module_version": "^0.17",
            "_view_name": "LeafletMeasureControlView",
            "active_color": "orange",
            "capture_z_index": 10000,
            "completed_color": "#C8F2BE",
            "options": [
              "active_color",
              "capture_z_index",
              "completed_color",
              "popup_options",
              "position",
              "primary_area_unit",
              "primary_length_unit",
              "secondary_area_unit",
              "secondary_length_unit"
            ],
            "popup_options": {
              "className": "leaflet-measure-resultpopup",
              "autoPanPadding": [
                10,
                10
              ]
            },
            "position": "bottomleft",
            "primary_area_unit": "acres",
            "primary_length_unit": "kilometers",
            "secondary_area_unit": null,
            "secondary_length_unit": null
          }
        },
        "678269ec1ad74bde83887e88a7509867": {
          "model_module": "jupyter-leaflet",
          "model_name": "LeafletAttributionControlModel",
          "model_module_version": "^0.17",
          "state": {
            "_model_module": "jupyter-leaflet",
            "_model_module_version": "^0.17",
            "_model_name": "LeafletAttributionControlModel",
            "_view_count": null,
            "_view_module": "jupyter-leaflet",
            "_view_module_version": "^0.17",
            "_view_name": "LeafletAttributionControlView",
            "options": [
              "position",
              "prefix"
            ],
            "position": "bottomright",
            "prefix": "ipyleaflet"
          }
        },
        "3a5239f01e0e4c19afdf025d76d63269": {
          "model_module": "jupyter-leaflet",
          "model_name": "LeafletDrawControlModel",
          "model_module_version": "^0.17",
          "state": {
            "_model_module": "jupyter-leaflet",
            "_model_module_version": "^0.17",
            "_model_name": "LeafletDrawControlModel",
            "_view_count": null,
            "_view_module": "jupyter-leaflet",
            "_view_module_version": "^0.17",
            "_view_name": "LeafletDrawControlView",
            "circle": {
              "shapeOptions": {
                "color": "#3388ff"
              }
            },
            "circlemarker": {},
            "data": [
              {
                "type": "Feature",
                "properties": {
                  "style": {
                    "stroke": true,
                    "color": "#3388ff",
                    "weight": 4,
                    "opacity": 0.5,
                    "fill": true,
                    "fillColor": null,
                    "fillOpacity": 0.2,
                    "clickable": true
                  }
                },
                "geometry": {
                  "type": "Polygon",
                  "coordinates": [
                    [
                      [
                        -4.844627,
                        41.406248
                      ],
                      [
                        -4.844627,
                        41.407858
                      ],
                      [
                        -4.842396,
                        41.407858
                      ],
                      [
                        -4.842396,
                        41.406248
                      ],
                      [
                        -4.844627,
                        41.406248
                      ]
                    ]
                  ]
                }
              }
            ],
            "edit": true,
            "marker": {
              "shapeOptions": {
                "color": "#3388ff"
              }
            },
            "options": [
              "position"
            ],
            "polygon": {
              "shapeOptions": {}
            },
            "polyline": {
              "shapeOptions": {}
            },
            "position": "topleft",
            "rectangle": {
              "shapeOptions": {
                "color": "#3388ff"
              }
            },
            "remove": true
          }
        },
        "2b676924f7e749c1b1a00d10be9cb139": {
          "model_module": "jupyter-leaflet",
          "model_name": "LeafletWidgetControlModel",
          "model_module_version": "^0.17",
          "state": {
            "_model_module": "jupyter-leaflet",
            "_model_module_version": "^0.17",
            "_model_name": "LeafletWidgetControlModel",
            "_view_count": null,
            "_view_module": "jupyter-leaflet",
            "_view_module_version": "^0.17",
            "_view_name": "LeafletWidgetControlView",
            "max_height": null,
            "max_width": null,
            "min_height": null,
            "min_width": null,
            "options": [
              "position",
              "transparent_bg"
            ],
            "position": "topright",
            "transparent_bg": false,
            "widget": "IPY_MODEL_2d91fc903c834d349a94410507a3da89"
          }
        },
        "12783d415f414e4cbe4ecdc43c66bc57": {
          "model_module": "jupyter-leaflet",
          "model_name": "LeafletMapStyleModel",
          "model_module_version": "^0.17",
          "state": {
            "_model_module": "jupyter-leaflet",
            "_model_module_version": "^0.17",
            "_model_name": "LeafletMapStyleModel",
            "_view_count": null,
            "_view_module": "@jupyter-widgets/base",
            "_view_module_version": "1.2.0",
            "_view_name": "StyleView",
            "cursor": "crosshair"
          }
        },
        "f84fc2a6cd494968b1d19365966a3f3c": {
          "model_module": "jupyter-leaflet",
          "model_name": "LeafletMapStyleModel",
          "model_module_version": "^0.17",
          "state": {
            "_model_module": "jupyter-leaflet",
            "_model_module_version": "^0.17",
            "_model_name": "LeafletMapStyleModel",
            "_view_count": null,
            "_view_module": "@jupyter-widgets/base",
            "_view_module_version": "1.2.0",
            "_view_name": "StyleView",
            "cursor": "move"
          }
        },
        "2637fcd6ee324e8d990dc2903171b722": {
          "model_module": "jupyter-leaflet",
          "model_name": "LeafletTileLayerModel",
          "model_module_version": "^0.17",
          "state": {
            "_model_module": "jupyter-leaflet",
            "_model_module_version": "^0.17",
            "_model_name": "LeafletTileLayerModel",
            "_view_count": null,
            "_view_module": "jupyter-leaflet",
            "_view_module_version": "^0.17",
            "_view_name": "LeafletTileLayerView",
            "attribution": "&copy; <a href=\"https://www.openstreetmap.org/copyright\">OpenStreetMap</a> contributors",
            "base": true,
            "bottom": true,
            "bounds": null,
            "detect_retina": false,
            "loading": false,
            "max_native_zoom": null,
            "max_zoom": 19,
            "min_native_zoom": null,
            "min_zoom": 1,
            "name": "OpenStreetMap.Mapnik",
            "no_wrap": false,
            "opacity": 1,
            "options": [
              "attribution",
              "bounds",
              "detect_retina",
              "max_native_zoom",
              "max_zoom",
              "min_native_zoom",
              "min_zoom",
              "no_wrap",
              "tile_size",
              "tms",
              "zoom_offset"
            ],
            "pane": "",
            "popup": null,
            "popup_max_height": null,
            "popup_max_width": 300,
            "popup_min_width": 50,
            "show_loading": false,
            "subitems": [],
            "tile_size": 256,
            "tms": false,
            "url": "https://tile.openstreetmap.org/{z}/{x}/{y}.png",
            "visible": true,
            "zoom_offset": 0
          }
        },
        "ad0d04cf058948bab289c102df0d8cd4": {
          "model_module": "jupyter-leaflet",
          "model_name": "LeafletTileLayerModel",
          "model_module_version": "^0.17",
          "state": {
            "_model_module": "jupyter-leaflet",
            "_model_module_version": "^0.17",
            "_model_name": "LeafletTileLayerModel",
            "_view_count": null,
            "_view_module": "jupyter-leaflet",
            "_view_module_version": "^0.17",
            "_view_name": "LeafletTileLayerView",
            "attribution": "Google",
            "base": false,
            "bottom": true,
            "bounds": null,
            "detect_retina": false,
            "loading": false,
            "max_native_zoom": null,
            "max_zoom": 22,
            "min_native_zoom": null,
            "min_zoom": 0,
            "name": "Google Maps",
            "no_wrap": false,
            "opacity": 1,
            "options": [
              "attribution",
              "bounds",
              "detect_retina",
              "max_native_zoom",
              "max_zoom",
              "min_native_zoom",
              "min_zoom",
              "no_wrap",
              "tile_size",
              "tms",
              "zoom_offset"
            ],
            "pane": "",
            "popup": null,
            "popup_max_height": null,
            "popup_max_width": 300,
            "popup_min_width": 50,
            "show_loading": false,
            "subitems": [],
            "tile_size": 256,
            "tms": false,
            "url": "https://mt1.google.com/vt/lyrs=m&x={x}&y={y}&z={z}",
            "visible": true,
            "zoom_offset": 0
          }
        },
        "bcd2c7ab0e3040198c8cf353f3bcb83c": {
          "model_module": "jupyter-leaflet",
          "model_name": "LeafletTileLayerModel",
          "model_module_version": "^0.17",
          "state": {
            "_model_module": "jupyter-leaflet",
            "_model_module_version": "^0.17",
            "_model_name": "LeafletTileLayerModel",
            "_view_count": null,
            "_view_module": "jupyter-leaflet",
            "_view_module_version": "^0.17",
            "_view_name": "LeafletTileLayerView",
            "attribution": "Google",
            "base": false,
            "bottom": true,
            "bounds": null,
            "detect_retina": false,
            "loading": false,
            "max_native_zoom": null,
            "max_zoom": 22,
            "min_native_zoom": null,
            "min_zoom": 0,
            "name": "Google Satellite",
            "no_wrap": false,
            "opacity": 1,
            "options": [
              "attribution",
              "bounds",
              "detect_retina",
              "max_native_zoom",
              "max_zoom",
              "min_native_zoom",
              "min_zoom",
              "no_wrap",
              "tile_size",
              "tms",
              "zoom_offset"
            ],
            "pane": "",
            "popup": null,
            "popup_max_height": null,
            "popup_max_width": 300,
            "popup_min_width": 50,
            "show_loading": false,
            "subitems": [],
            "tile_size": 256,
            "tms": false,
            "url": "https://mt1.google.com/vt/lyrs=s&x={x}&y={y}&z={z}",
            "visible": true,
            "zoom_offset": 0
          }
        },
        "a111c410e0564a36998d759aa5354e45": {
          "model_module": "@jupyter-widgets/base",
          "model_name": "LayoutModel",
          "model_module_version": "1.2.0",
          "state": {
            "_model_module": "@jupyter-widgets/base",
            "_model_module_version": "1.2.0",
            "_model_name": "LayoutModel",
            "_view_count": null,
            "_view_module": "@jupyter-widgets/base",
            "_view_module_version": "1.2.0",
            "_view_name": "LayoutView",
            "align_content": null,
            "align_items": null,
            "align_self": null,
            "border": null,
            "bottom": null,
            "display": null,
            "flex": null,
            "flex_flow": null,
            "grid_area": null,
            "grid_auto_columns": null,
            "grid_auto_flow": null,
            "grid_auto_rows": null,
            "grid_column": null,
            "grid_gap": null,
            "grid_row": null,
            "grid_template_areas": null,
            "grid_template_columns": null,
            "grid_template_rows": null,
            "height": "600px",
            "justify_content": null,
            "justify_items": null,
            "left": null,
            "margin": null,
            "max_height": null,
            "max_width": null,
            "min_height": null,
            "min_width": null,
            "object_fit": null,
            "object_position": null,
            "order": null,
            "overflow": null,
            "overflow_x": null,
            "overflow_y": null,
            "padding": null,
            "right": null,
            "top": null,
            "visibility": null,
            "width": null
          }
        },
        "90b206c246a549c798f8b9fdfdbfe9ef": {
          "model_module": "jupyter-leaflet",
          "model_name": "LeafletMapStyleModel",
          "model_module_version": "^0.17",
          "state": {
            "_model_module": "jupyter-leaflet",
            "_model_module_version": "^0.17",
            "_model_name": "LeafletMapStyleModel",
            "_view_count": null,
            "_view_module": "@jupyter-widgets/base",
            "_view_module_version": "1.2.0",
            "_view_name": "StyleView",
            "cursor": "grab"
          }
        },
        "9666fcd36ab341b683bee633714cec46": {
          "model_module": "@jupyter-widgets/controls",
          "model_name": "HBoxModel",
          "model_module_version": "1.5.0",
          "state": {
            "_dom_classes": [],
            "_model_module": "@jupyter-widgets/controls",
            "_model_module_version": "1.5.0",
            "_model_name": "HBoxModel",
            "_view_count": null,
            "_view_module": "@jupyter-widgets/controls",
            "_view_module_version": "1.5.0",
            "_view_name": "HBoxView",
            "box_style": "",
            "children": [
              "IPY_MODEL_70192bdc234d47098b5fc81a162bbaa5"
            ],
            "layout": "IPY_MODEL_e27baa87fb624143a46135edde4cd100"
          }
        },
        "2d91fc903c834d349a94410507a3da89": {
          "model_module": "@jupyter-widgets/controls",
          "model_name": "VBoxModel",
          "model_module_version": "1.5.0",
          "state": {
            "_dom_classes": [],
            "_model_module": "@jupyter-widgets/controls",
            "_model_module_version": "1.5.0",
            "_model_name": "VBoxModel",
            "_view_count": null,
            "_view_module": "@jupyter-widgets/controls",
            "_view_module_version": "1.5.0",
            "_view_name": "VBoxView",
            "box_style": "",
            "children": [
              "IPY_MODEL_29b1a5a7362c472daf2eb24814515f2d"
            ],
            "layout": "IPY_MODEL_8056245d3cb94052b0845e66bd3833e7"
          }
        },
        "70192bdc234d47098b5fc81a162bbaa5": {
          "model_module": "@jupyter-widgets/controls",
          "model_name": "ToggleButtonModel",
          "model_module_version": "1.5.0",
          "state": {
            "_dom_classes": [],
            "_model_module": "@jupyter-widgets/controls",
            "_model_module_version": "1.5.0",
            "_model_name": "ToggleButtonModel",
            "_view_count": null,
            "_view_module": "@jupyter-widgets/controls",
            "_view_module_version": "1.5.0",
            "_view_name": "ToggleButtonView",
            "button_style": "",
            "description": "",
            "description_tooltip": null,
            "disabled": false,
            "icon": "globe",
            "layout": "IPY_MODEL_381d7ff86b8b4f49a974e5b4c0177344",
            "style": "IPY_MODEL_4b50ad69d3634d5e99e14af3fe926341",
            "tooltip": "Search location/data",
            "value": false
          }
        },
        "e27baa87fb624143a46135edde4cd100": {
          "model_module": "@jupyter-widgets/base",
          "model_name": "LayoutModel",
          "model_module_version": "1.2.0",
          "state": {
            "_model_module": "@jupyter-widgets/base",
            "_model_module_version": "1.2.0",
            "_model_name": "LayoutModel",
            "_view_count": null,
            "_view_module": "@jupyter-widgets/base",
            "_view_module_version": "1.2.0",
            "_view_name": "LayoutView",
            "align_content": null,
            "align_items": null,
            "align_self": null,
            "border": null,
            "bottom": null,
            "display": null,
            "flex": null,
            "flex_flow": null,
            "grid_area": null,
            "grid_auto_columns": null,
            "grid_auto_flow": null,
            "grid_auto_rows": null,
            "grid_column": null,
            "grid_gap": null,
            "grid_row": null,
            "grid_template_areas": null,
            "grid_template_columns": null,
            "grid_template_rows": null,
            "height": null,
            "justify_content": null,
            "justify_items": null,
            "left": null,
            "margin": null,
            "max_height": null,
            "max_width": null,
            "min_height": null,
            "min_width": null,
            "object_fit": null,
            "object_position": null,
            "order": null,
            "overflow": null,
            "overflow_x": null,
            "overflow_y": null,
            "padding": null,
            "right": null,
            "top": null,
            "visibility": null,
            "width": null
          }
        },
        "29b1a5a7362c472daf2eb24814515f2d": {
          "model_module": "@jupyter-widgets/controls",
          "model_name": "ToggleButtonModel",
          "model_module_version": "1.5.0",
          "state": {
            "_dom_classes": [],
            "_model_module": "@jupyter-widgets/controls",
            "_model_module_version": "1.5.0",
            "_model_name": "ToggleButtonModel",
            "_view_count": null,
            "_view_module": "@jupyter-widgets/controls",
            "_view_module_version": "1.5.0",
            "_view_name": "ToggleButtonView",
            "button_style": "",
            "description": "",
            "description_tooltip": null,
            "disabled": false,
            "icon": "wrench",
            "layout": "IPY_MODEL_fbcd9bdf142a4c4a801bd368e283b672",
            "style": "IPY_MODEL_d1d4582da1fc4d76a746d3d243a641a9",
            "tooltip": "Toolbar",
            "value": false
          }
        },
        "8056245d3cb94052b0845e66bd3833e7": {
          "model_module": "@jupyter-widgets/base",
          "model_name": "LayoutModel",
          "model_module_version": "1.2.0",
          "state": {
            "_model_module": "@jupyter-widgets/base",
            "_model_module_version": "1.2.0",
            "_model_name": "LayoutModel",
            "_view_count": null,
            "_view_module": "@jupyter-widgets/base",
            "_view_module_version": "1.2.0",
            "_view_name": "LayoutView",
            "align_content": null,
            "align_items": null,
            "align_self": null,
            "border": null,
            "bottom": null,
            "display": null,
            "flex": null,
            "flex_flow": null,
            "grid_area": null,
            "grid_auto_columns": null,
            "grid_auto_flow": null,
            "grid_auto_rows": null,
            "grid_column": null,
            "grid_gap": null,
            "grid_row": null,
            "grid_template_areas": null,
            "grid_template_columns": null,
            "grid_template_rows": null,
            "height": null,
            "justify_content": null,
            "justify_items": null,
            "left": null,
            "margin": null,
            "max_height": null,
            "max_width": null,
            "min_height": null,
            "min_width": null,
            "object_fit": null,
            "object_position": null,
            "order": null,
            "overflow": null,
            "overflow_x": null,
            "overflow_y": null,
            "padding": null,
            "right": null,
            "top": null,
            "visibility": null,
            "width": null
          }
        },
        "381d7ff86b8b4f49a974e5b4c0177344": {
          "model_module": "@jupyter-widgets/base",
          "model_name": "LayoutModel",
          "model_module_version": "1.2.0",
          "state": {
            "_model_module": "@jupyter-widgets/base",
            "_model_module_version": "1.2.0",
            "_model_name": "LayoutModel",
            "_view_count": null,
            "_view_module": "@jupyter-widgets/base",
            "_view_module_version": "1.2.0",
            "_view_name": "LayoutView",
            "align_content": null,
            "align_items": null,
            "align_self": null,
            "border": null,
            "bottom": null,
            "display": null,
            "flex": null,
            "flex_flow": null,
            "grid_area": null,
            "grid_auto_columns": null,
            "grid_auto_flow": null,
            "grid_auto_rows": null,
            "grid_column": null,
            "grid_gap": null,
            "grid_row": null,
            "grid_template_areas": null,
            "grid_template_columns": null,
            "grid_template_rows": null,
            "height": "28px",
            "justify_content": null,
            "justify_items": null,
            "left": null,
            "margin": null,
            "max_height": null,
            "max_width": null,
            "min_height": null,
            "min_width": null,
            "object_fit": null,
            "object_position": null,
            "order": null,
            "overflow": null,
            "overflow_x": null,
            "overflow_y": null,
            "padding": "0px 0px 0px 4px",
            "right": null,
            "top": null,
            "visibility": null,
            "width": "28px"
          }
        },
        "4b50ad69d3634d5e99e14af3fe926341": {
          "model_module": "@jupyter-widgets/controls",
          "model_name": "DescriptionStyleModel",
          "model_module_version": "1.5.0",
          "state": {
            "_model_module": "@jupyter-widgets/controls",
            "_model_module_version": "1.5.0",
            "_model_name": "DescriptionStyleModel",
            "_view_count": null,
            "_view_module": "@jupyter-widgets/base",
            "_view_module_version": "1.2.0",
            "_view_name": "StyleView",
            "description_width": ""
          }
        },
        "fbcd9bdf142a4c4a801bd368e283b672": {
          "model_module": "@jupyter-widgets/base",
          "model_name": "LayoutModel",
          "model_module_version": "1.2.0",
          "state": {
            "_model_module": "@jupyter-widgets/base",
            "_model_module_version": "1.2.0",
            "_model_name": "LayoutModel",
            "_view_count": null,
            "_view_module": "@jupyter-widgets/base",
            "_view_module_version": "1.2.0",
            "_view_name": "LayoutView",
            "align_content": null,
            "align_items": null,
            "align_self": null,
            "border": null,
            "bottom": null,
            "display": null,
            "flex": null,
            "flex_flow": null,
            "grid_area": null,
            "grid_auto_columns": null,
            "grid_auto_flow": null,
            "grid_auto_rows": null,
            "grid_column": null,
            "grid_gap": null,
            "grid_row": null,
            "grid_template_areas": null,
            "grid_template_columns": null,
            "grid_template_rows": null,
            "height": "28px",
            "justify_content": null,
            "justify_items": null,
            "left": null,
            "margin": null,
            "max_height": null,
            "max_width": null,
            "min_height": null,
            "min_width": null,
            "object_fit": null,
            "object_position": null,
            "order": null,
            "overflow": null,
            "overflow_x": null,
            "overflow_y": null,
            "padding": "0px 0px 0px 4px",
            "right": null,
            "top": null,
            "visibility": null,
            "width": "28px"
          }
        },
        "d1d4582da1fc4d76a746d3d243a641a9": {
          "model_module": "@jupyter-widgets/controls",
          "model_name": "DescriptionStyleModel",
          "model_module_version": "1.5.0",
          "state": {
            "_model_module": "@jupyter-widgets/controls",
            "_model_module_version": "1.5.0",
            "_model_name": "DescriptionStyleModel",
            "_view_count": null,
            "_view_module": "@jupyter-widgets/base",
            "_view_module_version": "1.2.0",
            "_view_name": "StyleView",
            "description_width": ""
          }
        },
        "f5d06c148a6647e18d854126142f258e": {
          "model_module": "jupyter-leaflet",
          "model_name": "LeafletTileLayerModel",
          "model_module_version": "^0.17",
          "state": {
            "_model_module": "jupyter-leaflet",
            "_model_module_version": "^0.17",
            "_model_name": "LeafletTileLayerModel",
            "_view_count": null,
            "_view_module": "jupyter-leaflet",
            "_view_module_version": "^0.17",
            "_view_name": "LeafletTileLayerView",
            "attribution": "Google Earth Engine",
            "base": false,
            "bottom": true,
            "bounds": null,
            "detect_retina": false,
            "loading": false,
            "max_native_zoom": null,
            "max_zoom": 18,
            "min_native_zoom": null,
            "min_zoom": 0,
            "name": "Drawn Features",
            "no_wrap": false,
            "opacity": 0.5,
            "options": [
              "attribution",
              "bounds",
              "detect_retina",
              "max_native_zoom",
              "max_zoom",
              "min_native_zoom",
              "min_zoom",
              "no_wrap",
              "tile_size",
              "tms",
              "zoom_offset"
            ],
            "pane": "",
            "popup": null,
            "popup_max_height": null,
            "popup_max_width": 300,
            "popup_min_width": 50,
            "show_loading": false,
            "subitems": [],
            "tile_size": 256,
            "tms": false,
            "url": "https://earthengine.googleapis.com/v1alpha/projects/earthengine-legacy/maps/931b073835f06c5797ab6243172938d7-8e8a73cf046264d227ffc58a6ab4b4e3/tiles/{z}/{x}/{y}",
            "visible": false,
            "zoom_offset": 0
          }
        }
      }
    }
  },
  "cells": [
    {
      "cell_type": "markdown",
      "metadata": {
        "id": "view-in-github",
        "colab_type": "text"
      },
      "source": [
        "<a href=\"https://colab.research.google.com/github/PhD-Gabriel-Caballero/ESA-summer-school-2023-Croatia/blob/main/ARTMO_BV_GPR_model_GEE.ipynb\" target=\"_parent\"><img src=\"https://colab.research.google.com/assets/colab-badge.svg\" alt=\"Open In Colab\"/></a>"
      ]
    },
    {
      "cell_type": "markdown",
      "source": [
        "Install the required libraries."
      ],
      "metadata": {
        "id": "CkydsX30HSq7"
      }
    },
    {
      "cell_type": "code",
      "source": [
        "!pip install geemap\n",
        "!pip install earthengine-api"
      ],
      "metadata": {
        "id": "vRC8q7wjHTRM"
      },
      "execution_count": null,
      "outputs": []
    },
    {
      "cell_type": "markdown",
      "metadata": {
        "id": "1ujGIxJ5vyd8"
      },
      "source": [
        "Import ee library."
      ]
    },
    {
      "cell_type": "code",
      "metadata": {
        "id": "f3_m81rOvhZC"
      },
      "source": [
        "import ee\n",
        "import geemap\n",
        "from ipyleaflet import *\n",
        "from ipywidgets import Label\n",
        "from datetime import datetime, timedelta\n",
        "import pandas as pd\n",
        "import numpy as np\n",
        "import matplotlib.pyplot as plt"
      ],
      "execution_count": null,
      "outputs": []
    },
    {
      "cell_type": "markdown",
      "source": [
        "Mount Google Drive."
      ],
      "metadata": {
        "id": "WYO_rh0NOy9e"
      }
    },
    {
      "cell_type": "code",
      "source": [
        "from google.colab import drive\n",
        "drive.mount('/content/drive')"
      ],
      "metadata": {
        "colab": {
          "base_uri": "https://localhost:8080/"
        },
        "id": "pYEk3Rt9PFtj",
        "outputId": "430557f6-b788-487b-fc21-b5abe4336696"
      },
      "execution_count": null,
      "outputs": [
        {
          "output_type": "stream",
          "name": "stdout",
          "text": [
            "Drive already mounted at /content/drive; to attempt to forcibly remount, call drive.mount(\"/content/drive\", force_remount=True).\n"
          ]
        }
      ]
    },
    {
      "cell_type": "markdown",
      "metadata": {
        "id": "7BoVj123v5vf"
      },
      "source": [
        "Authenticate and initialize ee"
      ]
    },
    {
      "cell_type": "code",
      "metadata": {
        "colab": {
          "base_uri": "https://localhost:8080/"
        },
        "id": "wcnFEOKIvwba",
        "outputId": "3fa30a96-da85-4aa6-9215-d9797436e773"
      },
      "source": [
        "try:\n",
        "    ee.Initialize()\n",
        "except Exception as e:\n",
        "    ee.Authenticate()\n",
        "    ee.Initialize()"
      ],
      "execution_count": null,
      "outputs": [
        {
          "output_type": "stream",
          "name": "stdout",
          "text": [
            "To authorize access needed by Earth Engine, open the following URL in a web browser and follow the instructions. If the web browser does not start automatically, please manually browse the URL below.\n",
            "\n",
            "    https://code.earthengine.google.com/client-auth?scopes=https%3A//www.googleapis.com/auth/earthengine%20https%3A//www.googleapis.com/auth/devstorage.full_control&request_id=YYhHF3vSXxWWwYTIyl0KlRVnx3_-c-hL3QD6otPwgZU&tc=XhruApV7iJf1kAvzFC1ZpXy5usgnF3ghNbjtWb60-AY&cc=BzhIzy7oqZgg0C-9d5acL6c6xURtk8tPeA6S86ATW3s\n",
            "\n",
            "The authorization workflow will generate a code, which you should paste in the box below.\n",
            "Enter verification code: 4/1AWgavddwblr7BwHo2F48E1_-o3NURRDbSz1Amcx4cUqe8gishFwgtRrX2JA\n",
            "\n",
            "Successfully saved authorization token.\n"
          ]
        }
      ]
    },
    {
      "cell_type": "markdown",
      "source": [
        "Select the Area of Interest"
      ],
      "metadata": {
        "id": "p1kNnRasHFb8"
      }
    },
    {
      "cell_type": "code",
      "source": [
        "Map = geemap.Map()\n",
        "Map.default_style = {'cursor': 'crosshair'}\n",
        "Map.add_basemap('SATELLITE')\n",
        "\n",
        "# Center the map in the desired country\n",
        "country = 'Spain'\n",
        "country_bounds = ee.FeatureCollection(\"USDOS/LSIB_SIMPLE/2017\").filterMetadata('country_na', 'equals', country);\n",
        "Map.centerObject(country_bounds,6)\n",
        "\n",
        "Map"
      ],
      "metadata": {
        "colab": {
          "base_uri": "https://localhost:8080/",
          "height": 621,
          "referenced_widgets": [
            "3a43e823bada4354a3828299a76251ac",
            "0f9421de59e14b22b427b457bf54ac69",
            "1965a784027c4f4c8381e7ed7f621917",
            "ad5765215fa94acd94b888dca87dfac4",
            "e7b78494b2304982b2820bba752df030",
            "7b84f6bec7604beb9c3c2be933fbe297",
            "678269ec1ad74bde83887e88a7509867",
            "3a5239f01e0e4c19afdf025d76d63269",
            "2b676924f7e749c1b1a00d10be9cb139",
            "12783d415f414e4cbe4ecdc43c66bc57",
            "f84fc2a6cd494968b1d19365966a3f3c",
            "2637fcd6ee324e8d990dc2903171b722",
            "ad0d04cf058948bab289c102df0d8cd4",
            "bcd2c7ab0e3040198c8cf353f3bcb83c",
            "a111c410e0564a36998d759aa5354e45",
            "90b206c246a549c798f8b9fdfdbfe9ef",
            "9666fcd36ab341b683bee633714cec46",
            "2d91fc903c834d349a94410507a3da89",
            "70192bdc234d47098b5fc81a162bbaa5",
            "e27baa87fb624143a46135edde4cd100",
            "29b1a5a7362c472daf2eb24814515f2d",
            "8056245d3cb94052b0845e66bd3833e7",
            "381d7ff86b8b4f49a974e5b4c0177344",
            "4b50ad69d3634d5e99e14af3fe926341",
            "fbcd9bdf142a4c4a801bd368e283b672",
            "d1d4582da1fc4d76a746d3d243a641a9",
            "f5d06c148a6647e18d854126142f258e"
          ]
        },
        "id": "l6LeEac2SdHv",
        "outputId": "91abc6d4-e715-455f-c066-6455b70c9d07"
      },
      "execution_count": null,
      "outputs": [
        {
          "output_type": "display_data",
          "data": {
            "text/plain": [
              "Map(center=[40.35722509547827, -3.499564837147696], controls=(WidgetControl(options=['position', 'transparent_…"
            ],
            "application/vnd.jupyter.widget-view+json": {
              "version_major": 2,
              "version_minor": 0,
              "model_id": "3a43e823bada4354a3828299a76251ac"
            }
          },
          "metadata": {
            "application/vnd.jupyter.widget-view+json": {
              "colab": {
                "custom_widget_manager": {
                  "url": "https://ssl.gstatic.com/colaboratory-static/widgets/colab-cdn-widget-manager/d2e234f7cc04bf79/manager.min.js"
                }
              }
            }
          }
        }
      ]
    },
    {
      "cell_type": "markdown",
      "source": [
        "Retrieve the ROI from the map"
      ],
      "metadata": {
        "id": "Gw1AgsQpKC3G"
      }
    },
    {
      "cell_type": "code",
      "source": [
        "feature = Map.draw_last_feature\n",
        "roi = feature.geometry()"
      ],
      "metadata": {
        "id": "SQnP1jhVI4Ct"
      },
      "execution_count": null,
      "outputs": []
    },
    {
      "cell_type": "code",
      "source": [
        "# Roi Gabriel\n",
        "roi = ee.Geometry.Polygon([[[-62.649809132123174, -39.38875854378754],[-62.649809132123174, -39.408589872607514],[-62.615562687421026, -39.408589872607514],\n",
        "          [-62.615562687421026, -39.38875854378754]]])"
      ],
      "metadata": {
        "id": "rF6LaBdyho7P"
      },
      "execution_count": null,
      "outputs": []
    },
    {
      "cell_type": "markdown",
      "metadata": {
        "id": "shkjH68pvxQu"
      },
      "source": [
        "Import models"
      ]
    },
    {
      "cell_type": "code",
      "source": [
        "!cp /content/drive/MyDrive/geePythonModels/BOAModelsV2.py .\n",
        "\n",
        "import BOAModelsV2"
      ],
      "metadata": {
        "id": "PAgwOrKC3nGn"
      },
      "execution_count": null,
      "outputs": []
    },
    {
      "cell_type": "markdown",
      "metadata": {
        "id": "knIJH7pUaV10"
      },
      "source": [
        "Set variable model to process"
      ]
    },
    {
      "cell_type": "code",
      "metadata": {
        "id": "04PdAgTZ_BBi"
      },
      "source": [
        "#['LAIGreen', 'Cab', 'Cm', 'Cw', 'FVC', 'LAI', 'laiCab', 'laiCm', 'laiCw', 'LAIBrown']\n",
        "currentVegIndex = 'LAIBrown'\n",
        "currentModel = BOAModelsV2.models[currentVegIndex]"
      ],
      "execution_count": null,
      "outputs": []
    },
    {
      "cell_type": "markdown",
      "source": [
        "Functions"
      ],
      "metadata": {
        "id": "8jOHwVIw2DmL"
      }
    },
    {
      "cell_type": "code",
      "source": [
        "# Masking function for water and cloud\n",
        "def maskS2cloud_and_water(image):\n",
        "  not_water = image.select('SCL').neq(6);\n",
        "  not_cloud_low = image.select('SCL').neq(7);\n",
        "  not_cloud_medium = image.select('SCL').neq(8);\n",
        "  not_cloud_high = image.select('SCL').neq(9);\n",
        "  not_cirrus = image.select('SCL').neq(10);\n",
        "\n",
        "  qa = image.select('QA60');\n",
        "  cloudBitMask = 1 << 10;\n",
        "  cirrusBitMask = 1 << 11;\n",
        "  mask = (qa.bitwiseAnd(cloudBitMask).eq(0).And(qa.bitwiseAnd(cirrusBitMask).eq(0)).And(not_water).And(not_cloud_low)\n",
        "          .And(not_cloud_medium).And(not_cloud_high).And(not_cirrus))\n",
        "  return image.updateMask(mask).divide(currentModel['scaleFactor']).copyProperties(qa).set('system:time_start', qa.get('system:time_start'))\n",
        "\n",
        "# Auxiliar function for mapping : (1..n) -> (B1..Bn)\n",
        "def band_names(element):\n",
        "  bandName = ee.String('B').cat(ee.Number(element).int().format())\n",
        "  return bandName\n",
        "\n",
        "def addDoy(image):\n",
        "  doy = image.date().getRelative('day', 'year')\n",
        "  doyBand = ee.Image.constant(doy).uint16().rename('doy')\n",
        "  return image.addBands(doyBand)\n",
        "\n",
        "# Veg index GPR for mean prediction\n",
        "def veg_index_GPR(image_orig):\n",
        "\n",
        "  # Create List of Bands of Dimension n (Xtrain[n,n])\n",
        "  XTrain_dim = currentModel['X_train'].length().get([0]).getInfo();\n",
        "\n",
        "  band_sequence   = (ee.List.sequence(1, XTrain_dim)\n",
        "                    .map(band_names));\n",
        "\n",
        "  # Create a list of band names for flattening operation\n",
        "  im_norm_ell2D_hypell = image_orig.subtract(ee.Image(currentModel['mx'])).divide(ee.Image(currentModel['sx'])).multiply(ee.Image(currentModel['hyp_ell'])).toArray().toArray(1);\n",
        "\n",
        "  im_norm_ell2D = image_orig.subtract(ee.Image(currentModel['mx'])).divide(ee.Image(currentModel['sx'])).toArray().toArray(1);\n",
        "\n",
        "  PtTPt  = im_norm_ell2D_hypell.matrixTranspose().matrixMultiply(im_norm_ell2D).arrayProject([0]).multiply(-0.5);\n",
        "\n",
        "  PtTDX  = ee.Image(currentModel['X_train']).matrixMultiply(im_norm_ell2D_hypell).arrayProject([0]).arrayFlatten([band_sequence]);\n",
        "\n",
        "  arg1   = PtTPt.exp().multiply(currentModel['hyp_sig']);\n",
        "\n",
        "  k_star = PtTDX.subtract(ee.Image(currentModel['XDX_pre_calc']).multiply(0.5)).exp().toArray();\n",
        "\n",
        "  mean_pred = k_star.arrayDotProduct(ee.Image(currentModel['alpha_coefficients']).toArray()).multiply(arg1);\n",
        "\n",
        "  mean_pred = mean_pred.toArray(1).arrayProject([0]).arrayFlatten([[currentModel['veg_index']]]);\n",
        "\n",
        "  mean_pred = mean_pred.add(currentModel['mean_model']);\n",
        "\n",
        "  # Mask values equal or less than 0\n",
        "  mean_pred = mean_pred.updateMask(mean_pred.gt(0))\n",
        "\n",
        "  image_orig = image_orig.addBands(mean_pred)\n",
        "\n",
        "  return image_orig.select(currentModel['veg_index'])\n",
        "\n",
        "def mask_gt(image):\n",
        "  veg_index_mask = image.select(currentModel['veg_index']).gt(0).rename('veg_index_mask')\n",
        "  return image.addBands(veg_index_mask).select('veg_index_mask')\n",
        "\n",
        "def addVariables(image):\n",
        "  date = ee.Date(image.get(\"system:time_start\"))\n",
        "  years = date.difference(ee.Date('1970-01-01'),'days')\n",
        "  return image.addBands(ee.Image(years).rename('t').float())"
      ],
      "metadata": {
        "id": "NLk6YA5U0RlY"
      },
      "execution_count": null,
      "outputs": []
    },
    {
      "cell_type": "markdown",
      "source": [
        "Dates of interest"
      ],
      "metadata": {
        "id": "Izke2NuDZQHO"
      }
    },
    {
      "cell_type": "code",
      "source": [
        "start_date = '2018-01-01'\n",
        "end_date = '2021-12-31'"
      ],
      "metadata": {
        "id": "hnO99FXsZUw_"
      },
      "execution_count": null,
      "outputs": []
    },
    {
      "cell_type": "markdown",
      "source": [
        "Create the initial image collection with the spectral bands"
      ],
      "metadata": {
        "id": "v5qFkqNaZeBe"
      }
    },
    {
      "cell_type": "code",
      "source": [
        "S2collection_ini = ee.ImageCollection('COPERNICUS/S2_SR')\\\n",
        "                   .filterBounds(roi)\\\n",
        "                   .filterDate(start_date,end_date)\\\n",
        "                   .map(maskS2cloud_and_water)\\\n",
        "                   .select(['B2', 'B3', 'B4', 'B5', 'B6', 'B7', 'B8', 'B8A', 'B11', 'B12'])"
      ],
      "metadata": {
        "id": "JA2rLDwjZi5m"
      },
      "execution_count": null,
      "outputs": []
    },
    {
      "cell_type": "markdown",
      "source": [
        "Create the predicted mean image collection"
      ],
      "metadata": {
        "id": "mof_OkJoXXZt"
      }
    },
    {
      "cell_type": "code",
      "metadata": {
        "id": "n1S-lcqnXWaB"
      },
      "source": [
        "targetCollection =  S2collection_ini.map(veg_index_GPR).select(currentModel['veg_index'])"
      ],
      "execution_count": null,
      "outputs": []
    },
    {
      "cell_type": "code",
      "source": [
        "def extract_ts(roi, col, band):\n",
        "    \"\"\" Constructs a dataframe with the time series for the ROI with the image\n",
        "        collection.\n",
        "\n",
        "        Parameters\n",
        "        ----------\n",
        "        roi : ee.Geometry, Region of interest\n",
        "\n",
        "        col : ee.ImageCollection\n",
        "\n",
        "        band : string, Name of the band to retrieve\n",
        "\n",
        "        Returns\n",
        "        ------\n",
        "        A pandas dataframe\n",
        "\n",
        "    \"\"\"\n",
        "\n",
        "    # Auxiliar function to replace the null values with custom value(-9999)\n",
        "    # so we do not lose the masked values.\n",
        "    def set_NAN(key,val):\n",
        "        return ee.List([val, -9999]).reduce(ee.Reducer.firstNonNull())\n",
        "\n",
        "    # Retrieve the mean value of the band in the roi and the date of the image\n",
        "    def get_ts(image):\n",
        "        stat = image.select([band]).reduceRegion(\n",
        "            reducer = ee.Reducer.mean(),\n",
        "            geometry= roi,\n",
        "            scale= 20,\n",
        "            bestEffort= True\n",
        "        )\n",
        "        stat = stat.map(set_NAN)\n",
        "        return ee.Feature(roi, stat).set({'millis': image.date().millis()})\n",
        "\n",
        "    # List of features containing the reduced value and the date\n",
        "    ts = col.map(get_ts)\n",
        "\n",
        "    # Lists of values and dates\n",
        "    y = ts.aggregate_array(band).getInfo()\n",
        "    dates_ms = ts.aggregate_array('millis').getInfo() # Date in ms\n",
        "    x = [datetime.fromtimestamp(d//1000.0) for d in dates_ms] # Formatted date\n",
        "\n",
        "    # Dictionary that will feed the pandas dataframe\n",
        "    dict = {'date': x, band: y}\n",
        "    # Contruct the df and replace the custom NaN values(-9999) with np.nan\n",
        "    df = pd.DataFrame(dict).replace(-9999, np.nan)\n",
        "    return df"
      ],
      "metadata": {
        "id": "pOXsLuLfwU-I"
      },
      "execution_count": null,
      "outputs": []
    },
    {
      "cell_type": "markdown",
      "source": [
        "Extract the ts and plot it."
      ],
      "metadata": {
        "id": "1RQHulbS3Psi"
      }
    },
    {
      "cell_type": "code",
      "source": [
        "df_S2 = extract_ts(roi, targetCollection, currentModel['veg_index'])\n",
        "df_S2"
      ],
      "metadata": {
        "colab": {
          "base_uri": "https://localhost:8080/",
          "height": 424
        },
        "id": "wyTBqAlJ3TCk",
        "outputId": "9489b677-3e83-4ce5-d1d0-2004383780cf"
      },
      "execution_count": null,
      "outputs": [
        {
          "output_type": "execute_result",
          "data": {
            "text/plain": [
              "                   date  LAI_BROWN\n",
              "0   2018-12-13 14:13:29   6.635910\n",
              "1   2018-12-18 14:13:26   7.257883\n",
              "2   2018-12-23 14:13:31   5.973422\n",
              "3   2018-12-28 14:13:28   6.142072\n",
              "4   2019-01-02 14:13:33   5.207300\n",
              "..                  ...        ...\n",
              "217 2021-12-07 14:13:30   5.225921\n",
              "218 2021-12-12 14:13:34        NaN\n",
              "219 2021-12-17 14:13:29   4.547344\n",
              "220 2021-12-22 14:13:36   5.690158\n",
              "221 2021-12-27 14:13:31   4.879030\n",
              "\n",
              "[222 rows x 2 columns]"
            ],
            "text/html": [
              "\n",
              "  <div id=\"df-9d3f5bed-2fc4-4cd0-bedc-eafe55454a3e\">\n",
              "    <div class=\"colab-df-container\">\n",
              "      <div>\n",
              "<style scoped>\n",
              "    .dataframe tbody tr th:only-of-type {\n",
              "        vertical-align: middle;\n",
              "    }\n",
              "\n",
              "    .dataframe tbody tr th {\n",
              "        vertical-align: top;\n",
              "    }\n",
              "\n",
              "    .dataframe thead th {\n",
              "        text-align: right;\n",
              "    }\n",
              "</style>\n",
              "<table border=\"1\" class=\"dataframe\">\n",
              "  <thead>\n",
              "    <tr style=\"text-align: right;\">\n",
              "      <th></th>\n",
              "      <th>date</th>\n",
              "      <th>LAI_BROWN</th>\n",
              "    </tr>\n",
              "  </thead>\n",
              "  <tbody>\n",
              "    <tr>\n",
              "      <th>0</th>\n",
              "      <td>2018-12-13 14:13:29</td>\n",
              "      <td>6.635910</td>\n",
              "    </tr>\n",
              "    <tr>\n",
              "      <th>1</th>\n",
              "      <td>2018-12-18 14:13:26</td>\n",
              "      <td>7.257883</td>\n",
              "    </tr>\n",
              "    <tr>\n",
              "      <th>2</th>\n",
              "      <td>2018-12-23 14:13:31</td>\n",
              "      <td>5.973422</td>\n",
              "    </tr>\n",
              "    <tr>\n",
              "      <th>3</th>\n",
              "      <td>2018-12-28 14:13:28</td>\n",
              "      <td>6.142072</td>\n",
              "    </tr>\n",
              "    <tr>\n",
              "      <th>4</th>\n",
              "      <td>2019-01-02 14:13:33</td>\n",
              "      <td>5.207300</td>\n",
              "    </tr>\n",
              "    <tr>\n",
              "      <th>...</th>\n",
              "      <td>...</td>\n",
              "      <td>...</td>\n",
              "    </tr>\n",
              "    <tr>\n",
              "      <th>217</th>\n",
              "      <td>2021-12-07 14:13:30</td>\n",
              "      <td>5.225921</td>\n",
              "    </tr>\n",
              "    <tr>\n",
              "      <th>218</th>\n",
              "      <td>2021-12-12 14:13:34</td>\n",
              "      <td>NaN</td>\n",
              "    </tr>\n",
              "    <tr>\n",
              "      <th>219</th>\n",
              "      <td>2021-12-17 14:13:29</td>\n",
              "      <td>4.547344</td>\n",
              "    </tr>\n",
              "    <tr>\n",
              "      <th>220</th>\n",
              "      <td>2021-12-22 14:13:36</td>\n",
              "      <td>5.690158</td>\n",
              "    </tr>\n",
              "    <tr>\n",
              "      <th>221</th>\n",
              "      <td>2021-12-27 14:13:31</td>\n",
              "      <td>4.879030</td>\n",
              "    </tr>\n",
              "  </tbody>\n",
              "</table>\n",
              "<p>222 rows × 2 columns</p>\n",
              "</div>\n",
              "      <button class=\"colab-df-convert\" onclick=\"convertToInteractive('df-9d3f5bed-2fc4-4cd0-bedc-eafe55454a3e')\"\n",
              "              title=\"Convert this dataframe to an interactive table.\"\n",
              "              style=\"display:none;\">\n",
              "        \n",
              "  <svg xmlns=\"http://www.w3.org/2000/svg\" height=\"24px\"viewBox=\"0 0 24 24\"\n",
              "       width=\"24px\">\n",
              "    <path d=\"M0 0h24v24H0V0z\" fill=\"none\"/>\n",
              "    <path d=\"M18.56 5.44l.94 2.06.94-2.06 2.06-.94-2.06-.94-.94-2.06-.94 2.06-2.06.94zm-11 1L8.5 8.5l.94-2.06 2.06-.94-2.06-.94L8.5 2.5l-.94 2.06-2.06.94zm10 10l.94 2.06.94-2.06 2.06-.94-2.06-.94-.94-2.06-.94 2.06-2.06.94z\"/><path d=\"M17.41 7.96l-1.37-1.37c-.4-.4-.92-.59-1.43-.59-.52 0-1.04.2-1.43.59L10.3 9.45l-7.72 7.72c-.78.78-.78 2.05 0 2.83L4 21.41c.39.39.9.59 1.41.59.51 0 1.02-.2 1.41-.59l7.78-7.78 2.81-2.81c.8-.78.8-2.07 0-2.86zM5.41 20L4 18.59l7.72-7.72 1.47 1.35L5.41 20z\"/>\n",
              "  </svg>\n",
              "      </button>\n",
              "      \n",
              "  <style>\n",
              "    .colab-df-container {\n",
              "      display:flex;\n",
              "      flex-wrap:wrap;\n",
              "      gap: 12px;\n",
              "    }\n",
              "\n",
              "    .colab-df-convert {\n",
              "      background-color: #E8F0FE;\n",
              "      border: none;\n",
              "      border-radius: 50%;\n",
              "      cursor: pointer;\n",
              "      display: none;\n",
              "      fill: #1967D2;\n",
              "      height: 32px;\n",
              "      padding: 0 0 0 0;\n",
              "      width: 32px;\n",
              "    }\n",
              "\n",
              "    .colab-df-convert:hover {\n",
              "      background-color: #E2EBFA;\n",
              "      box-shadow: 0px 1px 2px rgba(60, 64, 67, 0.3), 0px 1px 3px 1px rgba(60, 64, 67, 0.15);\n",
              "      fill: #174EA6;\n",
              "    }\n",
              "\n",
              "    [theme=dark] .colab-df-convert {\n",
              "      background-color: #3B4455;\n",
              "      fill: #D2E3FC;\n",
              "    }\n",
              "\n",
              "    [theme=dark] .colab-df-convert:hover {\n",
              "      background-color: #434B5C;\n",
              "      box-shadow: 0px 1px 3px 1px rgba(0, 0, 0, 0.15);\n",
              "      filter: drop-shadow(0px 1px 2px rgba(0, 0, 0, 0.3));\n",
              "      fill: #FFFFFF;\n",
              "    }\n",
              "  </style>\n",
              "\n",
              "      <script>\n",
              "        const buttonEl =\n",
              "          document.querySelector('#df-9d3f5bed-2fc4-4cd0-bedc-eafe55454a3e button.colab-df-convert');\n",
              "        buttonEl.style.display =\n",
              "          google.colab.kernel.accessAllowed ? 'block' : 'none';\n",
              "\n",
              "        async function convertToInteractive(key) {\n",
              "          const element = document.querySelector('#df-9d3f5bed-2fc4-4cd0-bedc-eafe55454a3e');\n",
              "          const dataTable =\n",
              "            await google.colab.kernel.invokeFunction('convertToInteractive',\n",
              "                                                     [key], {});\n",
              "          if (!dataTable) return;\n",
              "\n",
              "          const docLinkHtml = 'Like what you see? Visit the ' +\n",
              "            '<a target=\"_blank\" href=https://colab.research.google.com/notebooks/data_table.ipynb>data table notebook</a>'\n",
              "            + ' to learn more about interactive tables.';\n",
              "          element.innerHTML = '';\n",
              "          dataTable['output_type'] = 'display_data';\n",
              "          await google.colab.output.renderOutput(dataTable, element);\n",
              "          const docLink = document.createElement('div');\n",
              "          docLink.innerHTML = docLinkHtml;\n",
              "          element.appendChild(docLink);\n",
              "        }\n",
              "      </script>\n",
              "    </div>\n",
              "  </div>\n",
              "  "
            ]
          },
          "metadata": {},
          "execution_count": 47
        }
      ]
    },
    {
      "cell_type": "code",
      "source": [
        "plt.figure(figsize= (16,6))\n",
        "plt.plot(df_S2['date'], df_S2[currentModel['veg_index']], 'o', label='S2')\n",
        "plt.grid(True)\n",
        "plt.legend()"
      ],
      "metadata": {
        "colab": {
          "base_uri": "https://localhost:8080/",
          "height": 393
        },
        "id": "MjDX-Byp4yuY",
        "outputId": "c00edbd5-48fd-4ee1-b26f-6ffc37fd0d7b"
      },
      "execution_count": null,
      "outputs": [
        {
          "output_type": "execute_result",
          "data": {
            "text/plain": [
              "<matplotlib.legend.Legend at 0x7f52a3151f40>"
            ]
          },
          "metadata": {},
          "execution_count": 48
        },
        {
          "output_type": "display_data",
          "data": {
            "text/plain": [
              "<Figure size 1152x432 with 1 Axes>"
            ],
            "image/png": "[encoded data removed]"
          },
          "metadata": {
            "needs_background": "light"
          }
        }
      ]
    },
    {
      "cell_type": "markdown",
      "source": [
        "Export parameters"
      ],
      "metadata": {
        "id": "qhh_q6BISK3q"
      }
    },
    {
      "cell_type": "code",
      "source": [
        "# GEE user\n",
        "user = 'msalinero85'"
      ],
      "metadata": {
        "id": "3q-obf8NSPRN"
      },
      "execution_count": null,
      "outputs": []
    },
    {
      "cell_type": "markdown",
      "source": [
        "Export the image collection as an image collection asset."
      ],
      "metadata": {
        "id": "Xm8fJlEsWt3W"
      }
    },
    {
      "cell_type": "markdown",
      "source": [
        "Create the ee.ImageCollection asset."
      ],
      "metadata": {
        "id": "1_wOIukIU1cM"
      }
    },
    {
      "cell_type": "code",
      "source": [
        "# Custom name given to the collection\n",
        "assetColName = 'test_col_' + currentVegIndex\n",
        "# Construct the id\n",
        "assetColId = 'users/{}/{}'.format(user,assetColName)\n",
        "# Create the empty ee.ImageCollection asset\n",
        "ee.data.createAsset({'type': 'ImageCollection'}, assetColId)"
      ],
      "metadata": {
        "id": "whQ1flcnSuCL"
      },
      "execution_count": null,
      "outputs": []
    },
    {
      "cell_type": "markdown",
      "source": [
        "Launch the tasks."
      ],
      "metadata": {
        "id": "8zAm2PbFcKxJ"
      }
    },
    {
      "cell_type": "code",
      "source": [
        "n = targetCollection.size().getInfo()\n",
        "colList = targetCollection.toList(n)\n",
        "\n",
        "taskList = []\n",
        "\n",
        "for i in range(n):\n",
        "\n",
        "  img = ee.Image(colList.get(i));\n",
        "  id = img.id().getInfo() + '_' + currentVegIndex\n",
        "\n",
        "  region = img.geometry();\n",
        "\n",
        "  task_config = {\n",
        "    'image': img,\n",
        "    'description': id,\n",
        "    'assetId': assetColId + '/' + id,\n",
        "    'region': region,\n",
        "    'scale': 20,\n",
        "    'maxPixels': 1e13\n",
        "  }\n",
        "\n",
        "  task = ee.batch.Export.image.toAsset(**task_config)\n",
        "\n",
        "  task.start()\n",
        "\n",
        "  taskList.append(task)"
      ],
      "metadata": {
        "id": "bC6ieVlbWMpP"
      },
      "execution_count": null,
      "outputs": []
    },
    {
      "cell_type": "markdown",
      "source": [
        "Export the image collection to a Google Drive folder"
      ],
      "metadata": {
        "id": "5nF3R6y1X9gO"
      }
    },
    {
      "cell_type": "code",
      "source": [
        "downloadFolder = 'geeTestDownload'\n",
        "\n",
        "n = targetCollection.size().getInfo()\n",
        "colList = targetCollection.toList(n)\n",
        "\n",
        "taskList = []\n",
        "\n",
        "for i in range(n):\n",
        "\n",
        "  img = ee.Image(colList.get(i));\n",
        "  id = img.id().getInfo() + '_' + currentVegIndex\n",
        "\n",
        "  region = img.geometry()\n",
        "\n",
        "  task_config = {\n",
        "    'image': img,\n",
        "    'description': id,\n",
        "    'folder': downloadFolder,\n",
        "    'fileNamePrefix': id,\n",
        "    'region': region,\n",
        "    'scale': 20,\n",
        "    'maxPixels': 1e13\n",
        "  }\n",
        "\n",
        "  task = ee.batch.Export.image.toDrive(**task_config)\n",
        "\n",
        "  task.start()\n",
        "\n",
        "  taskList.append(task)"
      ],
      "metadata": {
        "id": "fW01eW9FX-9d"
      },
      "execution_count": null,
      "outputs": []
    },
    {
      "cell_type": "markdown",
      "metadata": {
        "id": "g1hSIYnL_ywW"
      },
      "source": [
        "Check the status of the tasks"
      ]
    },
    {
      "cell_type": "code",
      "metadata": {
        "id": "tF5APoq1_2qa"
      },
      "source": [
        "print('Number of tasks:' + str(len(taskList)))\n",
        "\n",
        "for t in taskList:\n",
        "  desc = t.status()['description']\n",
        "  state = t.status()['state']\n",
        "\n",
        "  print('Task {} is {}'.format(desc,state))"
      ],
      "execution_count": null,
      "outputs": []
    },
    {
      "cell_type": "markdown",
      "metadata": {
        "id": "G-rcjncpBGdH"
      },
      "source": [
        "Cancel the tasks"
      ]
    },
    {
      "cell_type": "code",
      "metadata": {
        "id": "3el0U_95BIb-"
      },
      "source": [
        "\"\"\"\n",
        "for t in taskList:\n",
        " t.cancel()\n",
        " desc = t.status()['description']\n",
        " state = t.status()['state']\n",
        "\n",
        " print('Task {} is {}'.format(desc,state))\n",
        "\"\"\""
      ],
      "execution_count": null,
      "outputs": []
    },
    {
      "cell_type": "code",
      "source": [
        "# Get root folder from assets\n",
        "folder = ee.data.getAssetRoots()[0]['id']\n",
        "# Name of the collection\n",
        "col = 'test_col_LAI'\n",
        "# Id of the asset\n",
        "colId = folder + '/' + col\n",
        "# Retrieve the list of images\n",
        "image_dict_list = ee.data.listAssets({'parent': colId})['assets']\n",
        "[d['id'] for d in image_dict_list if 'id' in d]"
      ],
      "metadata": {
        "id": "ClcfXggJACkK"
      },
      "execution_count": null,
      "outputs": []
    }
  ]
}