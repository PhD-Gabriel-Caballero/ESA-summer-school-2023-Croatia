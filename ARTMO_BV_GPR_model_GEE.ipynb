{
  "nbformat": 4,
  "nbformat_minor": 0,
  "metadata": {
    "colab": {
      "provenance": [],
      "include_colab_link": true
    },
    "kernelspec": {
      "name": "python3",
      "display_name": "Python 3"
    },
    "widgets": {
      "application/vnd.jupyter.widget-state+json": {
        "85f4fc57daf34470b21ff3a8185e56f4": {
          "model_module": "jupyter-leaflet",
          "model_name": "LeafletMapModel",
          "model_module_version": "^0.17",
          "state": {
            "_dom_classes": [],
            "_model_module": "jupyter-leaflet",
            "_model_module_version": "^0.17",
            "_model_name": "LeafletMapModel",
            "_view_count": null,
            "_view_module": "jupyter-leaflet",
            "_view_module_version": "^0.17",
            "_view_name": "LeafletMapView",
            "bottom": 2597641,
            "bounce_at_zoom_limits": true,
            "box_zoom": true,
            "center": [
              -39.39992302744628,
              -62.63005850904892
            ],
            "close_popup_on_click": true,
            "controls": [
              "IPY_MODEL_125dee2e73b84cf1b7d9ba1c8bcec93f",
              "IPY_MODEL_42e0234eec21473bb506f63276684dd1",
              "IPY_MODEL_fbaa9aace3df4130a99ab3148831ee7f",
              "IPY_MODEL_ab7345e52b0640f385c332b71a05544f",
              "IPY_MODEL_4ae0180e433b44a5bdbf4bbbc61dcbad",
              "IPY_MODEL_8817617a9c794b9e8038919a76e32186",
              "IPY_MODEL_6c094216eb6845fab9482be8a3fbdaf9",
              "IPY_MODEL_396e3161f8f24d319c9279376962d617"
            ],
            "crs": {
              "name": "EPSG3857",
              "custom": false
            },
            "default_style": "IPY_MODEL_098afd2d5d89483fab5ef4f407a56454",
            "double_click_zoom": true,
            "dragging": true,
            "dragging_style": "IPY_MODEL_4306e04e25414d408006651952a2a64c",
            "east": -62.569547873672946,
            "fullscreen": false,
            "inertia": true,
            "inertia_deceleration": 3000,
            "inertia_max_speed": 1500,
            "interpolation": "bilinear",
            "keyboard": true,
            "keyboard_pan_offset": 80,
            "keyboard_zoom_offset": 1,
            "layers": [
              "IPY_MODEL_9b7bc74fb7a049d29d72ebfcc54a3c8e",
              "IPY_MODEL_35e45ffe12974750a621d94831c07fb5",
              "IPY_MODEL_e896b7105455402387d7cfe25f283cb0",
              "IPY_MODEL_68fe2721030842d38cf2a5adfe2ab78c",
              "IPY_MODEL_ec2c8fcc7aab4a1fb314badf5b84772c"
            ],
            "layout": "IPY_MODEL_5cd76d3255d440c4889c5f1f43907611",
            "left": 1366753.930764617,
            "max_zoom": 24,
            "min_zoom": null,
            "modisdate": "2023-09-12",
            "north": -39.38002289135334,
            "options": [
              "bounce_at_zoom_limits",
              "box_zoom",
              "center",
              "close_popup_on_click",
              "double_click_zoom",
              "dragging",
              "fullscreen",
              "inertia",
              "inertia_deceleration",
              "inertia_max_speed",
              "interpolation",
              "keyboard",
              "keyboard_pan_offset",
              "keyboard_zoom_offset",
              "max_zoom",
              "min_zoom",
              "prefer_canvas",
              "scroll_wheel_zoom",
              "tap",
              "tap_tolerance",
              "touch_zoom",
              "world_copy_jump",
              "zoom",
              "zoom_animation_threshold",
              "zoom_delta",
              "zoom_snap"
            ],
            "panes": {},
            "prefer_canvas": false,
            "right": 1368163.930764617,
            "scroll_wheel_zoom": true,
            "south": -39.419817487779795,
            "style": "IPY_MODEL_098afd2d5d89483fab5ef4f407a56454",
            "tap": true,
            "tap_tolerance": 15,
            "top": 2597041,
            "touch_zoom": true,
            "west": -62.6905691444249,
            "window_url": "https://bo3uct4bby9-496ff2e9c6d22116-0-colab.googleusercontent.com/outputframe.html?vrz=colab_20230911-060143_RC00_564310758",
            "world_copy_jump": false,
            "zoom": 14,
            "zoom_animation_threshold": 4,
            "zoom_delta": 1,
            "zoom_snap": 1
          }
        },
        "125dee2e73b84cf1b7d9ba1c8bcec93f": {
          "model_module": "jupyter-leaflet",
          "model_name": "LeafletWidgetControlModel",
          "model_module_version": "^0.17",
          "state": {
            "_model_module": "jupyter-leaflet",
            "_model_module_version": "^0.17",
            "_model_name": "LeafletWidgetControlModel",
            "_view_count": null,
            "_view_module": "jupyter-leaflet",
            "_view_module_version": "^0.17",
            "_view_name": "LeafletWidgetControlView",
            "max_height": null,
            "max_width": null,
            "min_height": null,
            "min_width": null,
            "options": [
              "position",
              "transparent_bg"
            ],
            "position": "topleft",
            "transparent_bg": false,
            "widget": "IPY_MODEL_9c4cb7c6d31341e592ace9bf9d6b3320"
          }
        },
        "42e0234eec21473bb506f63276684dd1": {
          "model_module": "jupyter-leaflet",
          "model_name": "LeafletZoomControlModel",
          "model_module_version": "^0.17",
          "state": {
            "_model_module": "jupyter-leaflet",
            "_model_module_version": "^0.17",
            "_model_name": "LeafletZoomControlModel",
            "_view_count": null,
            "_view_module": "jupyter-leaflet",
            "_view_module_version": "^0.17",
            "_view_name": "LeafletZoomControlView",
            "options": [
              "position",
              "zoom_in_text",
              "zoom_in_title",
              "zoom_out_text",
              "zoom_out_title"
            ],
            "position": "topleft",
            "zoom_in_text": "+",
            "zoom_in_title": "Zoom in",
            "zoom_out_text": "-",
            "zoom_out_title": "Zoom out"
          }
        },
        "fbaa9aace3df4130a99ab3148831ee7f": {
          "model_module": "jupyter-leaflet",
          "model_name": "LeafletFullScreenControlModel",
          "model_module_version": "^0.17",
          "state": {
            "_model_module": "jupyter-leaflet",
            "_model_module_version": "^0.17",
            "_model_name": "LeafletFullScreenControlModel",
            "_view_count": null,
            "_view_module": "jupyter-leaflet",
            "_view_module_version": "^0.17",
            "_view_name": "LeafletFullScreenControlView",
            "options": [
              "position"
            ],
            "position": "topleft"
          }
        },
        "ab7345e52b0640f385c332b71a05544f": {
          "model_module": "jupyter-leaflet",
          "model_name": "LeafletDrawControlModel",
          "model_module_version": "^0.17",
          "state": {
            "_model_module": "jupyter-leaflet",
            "_model_module_version": "^0.17",
            "_model_name": "LeafletDrawControlModel",
            "_view_count": null,
            "_view_module": "jupyter-leaflet",
            "_view_module_version": "^0.17",
            "_view_name": "LeafletDrawControlView",
            "circle": {},
            "circlemarker": {},
            "data": [],
            "edit": true,
            "marker": {
              "shapeOptions": {
                "color": "#3388ff"
              }
            },
            "options": [
              "position"
            ],
            "polygon": {
              "shapeOptions": {}
            },
            "polyline": {
              "shapeOptions": {}
            },
            "position": "topleft",
            "rectangle": {
              "shapeOptions": {
                "color": "#3388ff"
              }
            },
            "remove": true
          }
        },
        "4ae0180e433b44a5bdbf4bbbc61dcbad": {
          "model_module": "jupyter-leaflet",
          "model_name": "LeafletScaleControlModel",
          "model_module_version": "^0.17",
          "state": {
            "_model_module": "jupyter-leaflet",
            "_model_module_version": "^0.17",
            "_model_name": "LeafletScaleControlModel",
            "_view_count": null,
            "_view_module": "jupyter-leaflet",
            "_view_module_version": "^0.17",
            "_view_name": "LeafletScaleControlView",
            "imperial": true,
            "max_width": 100,
            "metric": true,
            "options": [
              "imperial",
              "max_width",
              "metric",
              "position",
              "update_when_idle"
            ],
            "position": "bottomleft",
            "update_when_idle": false
          }
        },
        "8817617a9c794b9e8038919a76e32186": {
          "model_module": "jupyter-leaflet",
          "model_name": "LeafletMeasureControlModel",
          "model_module_version": "^0.17",
          "state": {
            "_custom_units": {},
            "_model_module": "jupyter-leaflet",
            "_model_module_version": "^0.17",
            "_model_name": "LeafletMeasureControlModel",
            "_view_count": null,
            "_view_module": "jupyter-leaflet",
            "_view_module_version": "^0.17",
            "_view_name": "LeafletMeasureControlView",
            "active_color": "orange",
            "capture_z_index": 10000,
            "completed_color": "#C8F2BE",
            "options": [
              "active_color",
              "capture_z_index",
              "completed_color",
              "popup_options",
              "position",
              "primary_area_unit",
              "primary_length_unit",
              "secondary_area_unit",
              "secondary_length_unit"
            ],
            "popup_options": {
              "className": "leaflet-measure-resultpopup",
              "autoPanPadding": [
                10,
                10
              ]
            },
            "position": "bottomleft",
            "primary_area_unit": "acres",
            "primary_length_unit": "kilometers",
            "secondary_area_unit": null,
            "secondary_length_unit": null
          }
        },
        "6c094216eb6845fab9482be8a3fbdaf9": {
          "model_module": "jupyter-leaflet",
          "model_name": "LeafletWidgetControlModel",
          "model_module_version": "^0.17",
          "state": {
            "_model_module": "jupyter-leaflet",
            "_model_module_version": "^0.17",
            "_model_name": "LeafletWidgetControlModel",
            "_view_count": null,
            "_view_module": "jupyter-leaflet",
            "_view_module_version": "^0.17",
            "_view_name": "LeafletWidgetControlView",
            "max_height": null,
            "max_width": null,
            "min_height": null,
            "min_width": null,
            "options": [
              "position",
              "transparent_bg"
            ],
            "position": "topright",
            "transparent_bg": false,
            "widget": "IPY_MODEL_d32044a98cb2446ea6a8d67e83bcf596"
          }
        },
        "396e3161f8f24d319c9279376962d617": {
          "model_module": "jupyter-leaflet",
          "model_name": "LeafletAttributionControlModel",
          "model_module_version": "^0.17",
          "state": {
            "_model_module": "jupyter-leaflet",
            "_model_module_version": "^0.17",
            "_model_name": "LeafletAttributionControlModel",
            "_view_count": null,
            "_view_module": "jupyter-leaflet",
            "_view_module_version": "^0.17",
            "_view_name": "LeafletAttributionControlView",
            "options": [
              "position",
              "prefix"
            ],
            "position": "bottomright",
            "prefix": "ipyleaflet"
          }
        },
        "098afd2d5d89483fab5ef4f407a56454": {
          "model_module": "jupyter-leaflet",
          "model_name": "LeafletMapStyleModel",
          "model_module_version": "^0.17",
          "state": {
            "_model_module": "jupyter-leaflet",
            "_model_module_version": "^0.17",
            "_model_name": "LeafletMapStyleModel",
            "_view_count": null,
            "_view_module": "@jupyter-widgets/base",
            "_view_module_version": "1.2.0",
            "_view_name": "StyleView",
            "cursor": "crosshair"
          }
        },
        "4306e04e25414d408006651952a2a64c": {
          "model_module": "jupyter-leaflet",
          "model_name": "LeafletMapStyleModel",
          "model_module_version": "^0.17",
          "state": {
            "_model_module": "jupyter-leaflet",
            "_model_module_version": "^0.17",
            "_model_name": "LeafletMapStyleModel",
            "_view_count": null,
            "_view_module": "@jupyter-widgets/base",
            "_view_module_version": "1.2.0",
            "_view_name": "StyleView",
            "cursor": "move"
          }
        },
        "9b7bc74fb7a049d29d72ebfcc54a3c8e": {
          "model_module": "jupyter-leaflet",
          "model_name": "LeafletTileLayerModel",
          "model_module_version": "^0.17",
          "state": {
            "_model_module": "jupyter-leaflet",
            "_model_module_version": "^0.17",
            "_model_name": "LeafletTileLayerModel",
            "_view_count": null,
            "_view_module": "jupyter-leaflet",
            "_view_module_version": "^0.17",
            "_view_name": "LeafletTileLayerView",
            "attribution": "&copy; <a href=\"https://www.openstreetmap.org/copyright\">OpenStreetMap</a> contributors",
            "base": true,
            "bottom": true,
            "bounds": null,
            "detect_retina": false,
            "loading": false,
            "max_native_zoom": null,
            "max_zoom": 19,
            "min_native_zoom": null,
            "min_zoom": 1,
            "name": "OpenStreetMap.Mapnik",
            "no_wrap": false,
            "opacity": 1,
            "options": [
              "attribution",
              "bounds",
              "detect_retina",
              "max_native_zoom",
              "max_zoom",
              "min_native_zoom",
              "min_zoom",
              "no_wrap",
              "tile_size",
              "tms",
              "zoom_offset"
            ],
            "pane": "",
            "popup": null,
            "popup_max_height": null,
            "popup_max_width": 300,
            "popup_min_width": 50,
            "show_loading": false,
            "subitems": [],
            "tile_size": 256,
            "tms": false,
            "url": "https://tile.openstreetmap.org/{z}/{x}/{y}.png",
            "visible": true,
            "zoom_offset": 0
          }
        },
        "35e45ffe12974750a621d94831c07fb5": {
          "model_module": "jupyter-leaflet",
          "model_name": "LeafletTileLayerModel",
          "model_module_version": "^0.17",
          "state": {
            "_model_module": "jupyter-leaflet",
            "_model_module_version": "^0.17",
            "_model_name": "LeafletTileLayerModel",
            "_view_count": null,
            "_view_module": "jupyter-leaflet",
            "_view_module_version": "^0.17",
            "_view_name": "LeafletTileLayerView",
            "attribution": "Esri",
            "base": false,
            "bottom": true,
            "bounds": null,
            "detect_retina": false,
            "loading": false,
            "max_native_zoom": null,
            "max_zoom": 24,
            "min_native_zoom": null,
            "min_zoom": 0,
            "name": "Esri.WorldImagery",
            "no_wrap": false,
            "opacity": 1,
            "options": [
              "attribution",
              "bounds",
              "detect_retina",
              "max_native_zoom",
              "max_zoom",
              "min_native_zoom",
              "min_zoom",
              "no_wrap",
              "tile_size",
              "tms",
              "zoom_offset"
            ],
            "pane": "",
            "popup": null,
            "popup_max_height": null,
            "popup_max_width": 300,
            "popup_min_width": 50,
            "show_loading": false,
            "subitems": [],
            "tile_size": 256,
            "tms": false,
            "url": "https://server.arcgisonline.com/ArcGIS/rest/services/World_Imagery/MapServer/tile/{z}/{y}/{x}",
            "visible": true,
            "zoom_offset": 0
          }
        },
        "5cd76d3255d440c4889c5f1f43907611": {
          "model_module": "@jupyter-widgets/base",
          "model_name": "LayoutModel",
          "model_module_version": "1.2.0",
          "state": {
            "_model_module": "@jupyter-widgets/base",
            "_model_module_version": "1.2.0",
            "_model_name": "LayoutModel",
            "_view_count": null,
            "_view_module": "@jupyter-widgets/base",
            "_view_module_version": "1.2.0",
            "_view_name": "LayoutView",
            "align_content": null,
            "align_items": null,
            "align_self": null,
            "border": null,
            "bottom": null,
            "display": null,
            "flex": null,
            "flex_flow": null,
            "grid_area": null,
            "grid_auto_columns": null,
            "grid_auto_flow": null,
            "grid_auto_rows": null,
            "grid_column": null,
            "grid_gap": null,
            "grid_row": null,
            "grid_template_areas": null,
            "grid_template_columns": null,
            "grid_template_rows": null,
            "height": "600px",
            "justify_content": null,
            "justify_items": null,
            "left": null,
            "margin": null,
            "max_height": null,
            "max_width": null,
            "min_height": null,
            "min_width": null,
            "object_fit": null,
            "object_position": null,
            "order": null,
            "overflow": null,
            "overflow_x": null,
            "overflow_y": null,
            "padding": null,
            "right": null,
            "top": null,
            "visibility": null,
            "width": null
          }
        },
        "477e26c6f28b43f9b17571111e1196f0": {
          "model_module": "jupyter-leaflet",
          "model_name": "LeafletMapStyleModel",
          "model_module_version": "^0.17",
          "state": {
            "_model_module": "jupyter-leaflet",
            "_model_module_version": "^0.17",
            "_model_name": "LeafletMapStyleModel",
            "_view_count": null,
            "_view_module": "@jupyter-widgets/base",
            "_view_module_version": "1.2.0",
            "_view_name": "StyleView",
            "cursor": "grab"
          }
        },
        "9c4cb7c6d31341e592ace9bf9d6b3320": {
          "model_module": "@jupyter-widgets/controls",
          "model_name": "HBoxModel",
          "model_module_version": "1.5.0",
          "state": {
            "_dom_classes": [],
            "_model_module": "@jupyter-widgets/controls",
            "_model_module_version": "1.5.0",
            "_model_name": "HBoxModel",
            "_view_count": null,
            "_view_module": "@jupyter-widgets/controls",
            "_view_module_version": "1.5.0",
            "_view_name": "HBoxView",
            "box_style": "",
            "children": [
              "IPY_MODEL_4cfb8f17661c414bbb6fe10ca523f2bc"
            ],
            "layout": "IPY_MODEL_f8dc63fdc0324ea28095eefa4e83123a"
          }
        },
        "d32044a98cb2446ea6a8d67e83bcf596": {
          "model_module": "@jupyter-widgets/controls",
          "model_name": "VBoxModel",
          "model_module_version": "1.5.0",
          "state": {
            "_dom_classes": [],
            "_model_module": "@jupyter-widgets/controls",
            "_model_module_version": "1.5.0",
            "_model_name": "VBoxModel",
            "_view_count": null,
            "_view_module": "@jupyter-widgets/controls",
            "_view_module_version": "1.5.0",
            "_view_name": "VBoxView",
            "box_style": "",
            "children": [
              "IPY_MODEL_711c1d8f32b448e58ced43042b528557"
            ],
            "layout": "IPY_MODEL_de2d5ced94854691b5b74d0207d964ea"
          }
        },
        "4cfb8f17661c414bbb6fe10ca523f2bc": {
          "model_module": "@jupyter-widgets/controls",
          "model_name": "ToggleButtonModel",
          "model_module_version": "1.5.0",
          "state": {
            "_dom_classes": [],
            "_model_module": "@jupyter-widgets/controls",
            "_model_module_version": "1.5.0",
            "_model_name": "ToggleButtonModel",
            "_view_count": null,
            "_view_module": "@jupyter-widgets/controls",
            "_view_module_version": "1.5.0",
            "_view_name": "ToggleButtonView",
            "button_style": "",
            "description": "",
            "description_tooltip": null,
            "disabled": false,
            "icon": "globe",
            "layout": "IPY_MODEL_4cdd89f8eaf14e708358474bf80ad1fd",
            "style": "IPY_MODEL_b586349bef9f4235a2117d7fe9df1fe1",
            "tooltip": "Search location/data",
            "value": false
          }
        },
        "f8dc63fdc0324ea28095eefa4e83123a": {
          "model_module": "@jupyter-widgets/base",
          "model_name": "LayoutModel",
          "model_module_version": "1.2.0",
          "state": {
            "_model_module": "@jupyter-widgets/base",
            "_model_module_version": "1.2.0",
            "_model_name": "LayoutModel",
            "_view_count": null,
            "_view_module": "@jupyter-widgets/base",
            "_view_module_version": "1.2.0",
            "_view_name": "LayoutView",
            "align_content": null,
            "align_items": null,
            "align_self": null,
            "border": null,
            "bottom": null,
            "display": null,
            "flex": null,
            "flex_flow": null,
            "grid_area": null,
            "grid_auto_columns": null,
            "grid_auto_flow": null,
            "grid_auto_rows": null,
            "grid_column": null,
            "grid_gap": null,
            "grid_row": null,
            "grid_template_areas": null,
            "grid_template_columns": null,
            "grid_template_rows": null,
            "height": null,
            "justify_content": null,
            "justify_items": null,
            "left": null,
            "margin": null,
            "max_height": null,
            "max_width": null,
            "min_height": null,
            "min_width": null,
            "object_fit": null,
            "object_position": null,
            "order": null,
            "overflow": null,
            "overflow_x": null,
            "overflow_y": null,
            "padding": null,
            "right": null,
            "top": null,
            "visibility": null,
            "width": null
          }
        },
        "711c1d8f32b448e58ced43042b528557": {
          "model_module": "@jupyter-widgets/controls",
          "model_name": "ToggleButtonModel",
          "model_module_version": "1.5.0",
          "state": {
            "_dom_classes": [],
            "_model_module": "@jupyter-widgets/controls",
            "_model_module_version": "1.5.0",
            "_model_name": "ToggleButtonModel",
            "_view_count": null,
            "_view_module": "@jupyter-widgets/controls",
            "_view_module_version": "1.5.0",
            "_view_name": "ToggleButtonView",
            "button_style": "",
            "description": "",
            "description_tooltip": null,
            "disabled": false,
            "icon": "wrench",
            "layout": "IPY_MODEL_65570cf7a5ff449782e395105ea6abf9",
            "style": "IPY_MODEL_c4b2c1d1eac040c5b206e248b737910f",
            "tooltip": "Toolbar",
            "value": false
          }
        },
        "de2d5ced94854691b5b74d0207d964ea": {
          "model_module": "@jupyter-widgets/base",
          "model_name": "LayoutModel",
          "model_module_version": "1.2.0",
          "state": {
            "_model_module": "@jupyter-widgets/base",
            "_model_module_version": "1.2.0",
            "_model_name": "LayoutModel",
            "_view_count": null,
            "_view_module": "@jupyter-widgets/base",
            "_view_module_version": "1.2.0",
            "_view_name": "LayoutView",
            "align_content": null,
            "align_items": null,
            "align_self": null,
            "border": null,
            "bottom": null,
            "display": null,
            "flex": null,
            "flex_flow": null,
            "grid_area": null,
            "grid_auto_columns": null,
            "grid_auto_flow": null,
            "grid_auto_rows": null,
            "grid_column": null,
            "grid_gap": null,
            "grid_row": null,
            "grid_template_areas": null,
            "grid_template_columns": null,
            "grid_template_rows": null,
            "height": null,
            "justify_content": null,
            "justify_items": null,
            "left": null,
            "margin": null,
            "max_height": null,
            "max_width": null,
            "min_height": null,
            "min_width": null,
            "object_fit": null,
            "object_position": null,
            "order": null,
            "overflow": null,
            "overflow_x": null,
            "overflow_y": null,
            "padding": null,
            "right": null,
            "top": null,
            "visibility": null,
            "width": null
          }
        },
        "4cdd89f8eaf14e708358474bf80ad1fd": {
          "model_module": "@jupyter-widgets/base",
          "model_name": "LayoutModel",
          "model_module_version": "1.2.0",
          "state": {
            "_model_module": "@jupyter-widgets/base",
            "_model_module_version": "1.2.0",
            "_model_name": "LayoutModel",
            "_view_count": null,
            "_view_module": "@jupyter-widgets/base",
            "_view_module_version": "1.2.0",
            "_view_name": "LayoutView",
            "align_content": null,
            "align_items": null,
            "align_self": null,
            "border": null,
            "bottom": null,
            "display": null,
            "flex": null,
            "flex_flow": null,
            "grid_area": null,
            "grid_auto_columns": null,
            "grid_auto_flow": null,
            "grid_auto_rows": null,
            "grid_column": null,
            "grid_gap": null,
            "grid_row": null,
            "grid_template_areas": null,
            "grid_template_columns": null,
            "grid_template_rows": null,
            "height": "28px",
            "justify_content": null,
            "justify_items": null,
            "left": null,
            "margin": null,
            "max_height": null,
            "max_width": null,
            "min_height": null,
            "min_width": null,
            "object_fit": null,
            "object_position": null,
            "order": null,
            "overflow": null,
            "overflow_x": null,
            "overflow_y": null,
            "padding": "0px 0px 0px 4px",
            "right": null,
            "top": null,
            "visibility": null,
            "width": "28px"
          }
        },
        "b586349bef9f4235a2117d7fe9df1fe1": {
          "model_module": "@jupyter-widgets/controls",
          "model_name": "DescriptionStyleModel",
          "model_module_version": "1.5.0",
          "state": {
            "_model_module": "@jupyter-widgets/controls",
            "_model_module_version": "1.5.0",
            "_model_name": "DescriptionStyleModel",
            "_view_count": null,
            "_view_module": "@jupyter-widgets/base",
            "_view_module_version": "1.2.0",
            "_view_name": "StyleView",
            "description_width": ""
          }
        },
        "65570cf7a5ff449782e395105ea6abf9": {
          "model_module": "@jupyter-widgets/base",
          "model_name": "LayoutModel",
          "model_module_version": "1.2.0",
          "state": {
            "_model_module": "@jupyter-widgets/base",
            "_model_module_version": "1.2.0",
            "_model_name": "LayoutModel",
            "_view_count": null,
            "_view_module": "@jupyter-widgets/base",
            "_view_module_version": "1.2.0",
            "_view_name": "LayoutView",
            "align_content": null,
            "align_items": null,
            "align_self": null,
            "border": null,
            "bottom": null,
            "display": null,
            "flex": null,
            "flex_flow": null,
            "grid_area": null,
            "grid_auto_columns": null,
            "grid_auto_flow": null,
            "grid_auto_rows": null,
            "grid_column": null,
            "grid_gap": null,
            "grid_row": null,
            "grid_template_areas": null,
            "grid_template_columns": null,
            "grid_template_rows": null,
            "height": "28px",
            "justify_content": null,
            "justify_items": null,
            "left": null,
            "margin": null,
            "max_height": null,
            "max_width": null,
            "min_height": null,
            "min_width": null,
            "object_fit": null,
            "object_position": null,
            "order": null,
            "overflow": null,
            "overflow_x": null,
            "overflow_y": null,
            "padding": "0px 0px 0px 4px",
            "right": null,
            "top": null,
            "visibility": null,
            "width": "28px"
          }
        },
        "c4b2c1d1eac040c5b206e248b737910f": {
          "model_module": "@jupyter-widgets/controls",
          "model_name": "DescriptionStyleModel",
          "model_module_version": "1.5.0",
          "state": {
            "_model_module": "@jupyter-widgets/controls",
            "_model_module_version": "1.5.0",
            "_model_name": "DescriptionStyleModel",
            "_view_count": null,
            "_view_module": "@jupyter-widgets/base",
            "_view_module_version": "1.2.0",
            "_view_name": "StyleView",
            "description_width": ""
          }
        },
        "e896b7105455402387d7cfe25f283cb0": {
          "model_module": "jupyter-leaflet",
          "model_name": "LeafletTileLayerModel",
          "model_module_version": "^0.17",
          "state": {
            "_model_module": "jupyter-leaflet",
            "_model_module_version": "^0.17",
            "_model_name": "LeafletTileLayerModel",
            "_view_count": null,
            "_view_module": "jupyter-leaflet",
            "_view_module_version": "^0.17",
            "_view_name": "LeafletTileLayerView",
            "attribution": "Google Earth Engine",
            "base": false,
            "bottom": true,
            "bounds": null,
            "detect_retina": false,
            "loading": false,
            "max_native_zoom": null,
            "max_zoom": 24,
            "min_native_zoom": null,
            "min_zoom": 0,
            "name": "Wheat roi 2020",
            "no_wrap": false,
            "opacity": 0.3,
            "options": [
              "attribution",
              "bounds",
              "detect_retina",
              "max_native_zoom",
              "max_zoom",
              "min_native_zoom",
              "min_zoom",
              "no_wrap",
              "tile_size",
              "tms",
              "zoom_offset"
            ],
            "pane": "",
            "popup": null,
            "popup_max_height": null,
            "popup_max_width": 300,
            "popup_min_width": 50,
            "show_loading": false,
            "subitems": [],
            "tile_size": 256,
            "tms": false,
            "url": "https://earthengine.googleapis.com/v1/projects/earthengine-legacy/maps/b1746c38c5635239c2fb69960d911f29-c2b6b9320fbc10edbc2bbc5c4e5e9adf/tiles/{z}/{x}/{y}",
            "visible": true,
            "zoom_offset": 0
          }
        },
        "68fe2721030842d38cf2a5adfe2ab78c": {
          "model_module": "jupyter-leaflet",
          "model_name": "LeafletTileLayerModel",
          "model_module_version": "^0.17",
          "state": {
            "_model_module": "jupyter-leaflet",
            "_model_module_version": "^0.17",
            "_model_name": "LeafletTileLayerModel",
            "_view_count": null,
            "_view_module": "jupyter-leaflet",
            "_view_module_version": "^0.17",
            "_view_name": "LeafletTileLayerView",
            "attribution": "Google Earth Engine",
            "base": false,
            "bottom": true,
            "bounds": null,
            "detect_retina": false,
            "loading": false,
            "max_native_zoom": null,
            "max_zoom": 24,
            "min_native_zoom": null,
            "min_zoom": 0,
            "name": "Wheat insitu points 2020",
            "no_wrap": false,
            "opacity": 1,
            "options": [
              "attribution",
              "bounds",
              "detect_retina",
              "max_native_zoom",
              "max_zoom",
              "min_native_zoom",
              "min_zoom",
              "no_wrap",
              "tile_size",
              "tms",
              "zoom_offset"
            ],
            "pane": "",
            "popup": null,
            "popup_max_height": null,
            "popup_max_width": 300,
            "popup_min_width": 50,
            "show_loading": false,
            "subitems": [],
            "tile_size": 256,
            "tms": false,
            "url": "https://earthengine.googleapis.com/v1/projects/earthengine-legacy/maps/68102f72e7d7f5255c3aeb61eeb16e4d-466660cb11abe0fc933eb06fe69deabe/tiles/{z}/{x}/{y}",
            "visible": true,
            "zoom_offset": 0
          }
        },
        "ec2c8fcc7aab4a1fb314badf5b84772c": {
          "model_module": "jupyter-leaflet",
          "model_name": "LeafletTileLayerModel",
          "model_module_version": "^0.17",
          "state": {
            "_model_module": "jupyter-leaflet",
            "_model_module_version": "^0.17",
            "_model_name": "LeafletTileLayerModel",
            "_view_count": null,
            "_view_module": "jupyter-leaflet",
            "_view_module_version": "^0.17",
            "_view_name": "LeafletTileLayerView",
            "attribution": "Google Earth Engine",
            "base": false,
            "bottom": true,
            "bounds": null,
            "detect_retina": false,
            "loading": false,
            "max_native_zoom": null,
            "max_zoom": 24,
            "min_native_zoom": null,
            "min_zoom": 0,
            "name": "Study area",
            "no_wrap": false,
            "opacity": 0.5,
            "options": [
              "attribution",
              "bounds",
              "detect_retina",
              "max_native_zoom",
              "max_zoom",
              "min_native_zoom",
              "min_zoom",
              "no_wrap",
              "tile_size",
              "tms",
              "zoom_offset"
            ],
            "pane": "",
            "popup": null,
            "popup_max_height": null,
            "popup_max_width": 300,
            "popup_min_width": 50,
            "show_loading": false,
            "subitems": [],
            "tile_size": 256,
            "tms": false,
            "url": "https://earthengine.googleapis.com/v1/projects/earthengine-legacy/maps/1124a29fcbe7536c8e28b077cec0fd82-b1b3aa750ab9062c59359bb1e354fecf/tiles/{z}/{x}/{y}",
            "visible": true,
            "zoom_offset": 0
          }
        },
        "2f5323965e7a4275b70c39a0b2a75547": {
          "model_module": "jupyter-leaflet",
          "model_name": "LeafletMapModel",
          "model_module_version": "^0.17",
          "state": {
            "_dom_classes": [],
            "_model_module": "jupyter-leaflet",
            "_model_module_version": "^0.17",
            "_model_name": "LeafletMapModel",
            "_view_count": null,
            "_view_module": "jupyter-leaflet",
            "_view_module_version": "^0.17",
            "_view_name": "LeafletMapView",
            "bottom": 2597639,
            "bounce_at_zoom_limits": true,
            "box_zoom": true,
            "center": [
              -39.39979037866453,
              -62.62670691103111
            ],
            "close_popup_on_click": true,
            "controls": [
              "IPY_MODEL_92d515a9eb2f4565a6e6ce028935531e",
              "IPY_MODEL_c36b6da142554927bd30f8473b9688a7",
              "IPY_MODEL_365edc4c4b9a4106b0a937b933591ca0",
              "IPY_MODEL_947dfc5d26ee49ce8d6e0bc681d2da4f",
              "IPY_MODEL_eafdfe97973b4b33828ba5a1132cfa98",
              "IPY_MODEL_48e88d46ce6f44eb90e2cd993c426da2",
              "IPY_MODEL_f3072d71e19745f48c2b8f95d7d8c052",
              "IPY_MODEL_01a68314adff429a9085d34a651e6b29",
              "IPY_MODEL_71f7d7b0ffad4a9280e0ffd555ae7479"
            ],
            "crs": {
              "name": "EPSG3857",
              "custom": false
            },
            "default_style": "IPY_MODEL_d74e4d62622541dd9a141ebcc42a7dcf",
            "double_click_zoom": true,
            "dragging": true,
            "dragging_style": "IPY_MODEL_4a5d0c1501e24883a52f50714bdd6a20",
            "east": -62.56619627565512,
            "fullscreen": false,
            "inertia": true,
            "inertia_deceleration": 3000,
            "inertia_max_speed": 1500,
            "interpolation": "bilinear",
            "keyboard": true,
            "keyboard_pan_offset": 80,
            "keyboard_zoom_offset": 1,
            "layers": [
              "IPY_MODEL_ea96e0deb62446eb912b51a4fdca2b89",
              "IPY_MODEL_5a8ad2024ee44afabf4e8f8d6f031ae3",
              "IPY_MODEL_e63243a877eb424fb27a2e8ab3ec8f68",
              "IPY_MODEL_44749782cb5a45d1b64392fc6f514dc9",
              "IPY_MODEL_2da5b20152ec46e49ef54f838898747d"
            ],
            "layout": "IPY_MODEL_354b8ad1b50c4c5289a2dfcd1e7e5b47",
            "left": 1366792.9797117629,
            "max_zoom": 24,
            "min_zoom": null,
            "modisdate": "2023-09-12",
            "north": -39.37989020473582,
            "options": [
              "bounce_at_zoom_limits",
              "box_zoom",
              "center",
              "close_popup_on_click",
              "double_click_zoom",
              "dragging",
              "fullscreen",
              "inertia",
              "inertia_deceleration",
              "inertia_max_speed",
              "interpolation",
              "keyboard",
              "keyboard_pan_offset",
              "keyboard_zoom_offset",
              "max_zoom",
              "min_zoom",
              "prefer_canvas",
              "scroll_wheel_zoom",
              "tap",
              "tap_tolerance",
              "touch_zoom",
              "world_copy_jump",
              "zoom",
              "zoom_animation_threshold",
              "zoom_delta",
              "zoom_snap"
            ],
            "panes": {},
            "prefer_canvas": false,
            "right": 1368202.9797117629,
            "scroll_wheel_zoom": true,
            "south": -39.41968487683902,
            "style": "IPY_MODEL_d74e4d62622541dd9a141ebcc42a7dcf",
            "tap": true,
            "tap_tolerance": 15,
            "top": 2597039,
            "touch_zoom": true,
            "west": -62.68721754640708,
            "window_url": "https://bo3uct4bby9-496ff2e9c6d22116-0-colab.googleusercontent.com/outputframe.html?vrz=colab_20230911-060143_RC00_564310758",
            "world_copy_jump": false,
            "zoom": 14,
            "zoom_animation_threshold": 4,
            "zoom_delta": 1,
            "zoom_snap": 1
          }
        },
        "92d515a9eb2f4565a6e6ce028935531e": {
          "model_module": "jupyter-leaflet",
          "model_name": "LeafletWidgetControlModel",
          "model_module_version": "^0.17",
          "state": {
            "_model_module": "jupyter-leaflet",
            "_model_module_version": "^0.17",
            "_model_name": "LeafletWidgetControlModel",
            "_view_count": null,
            "_view_module": "jupyter-leaflet",
            "_view_module_version": "^0.17",
            "_view_name": "LeafletWidgetControlView",
            "max_height": null,
            "max_width": null,
            "min_height": null,
            "min_width": null,
            "options": [
              "position",
              "transparent_bg"
            ],
            "position": "topleft",
            "transparent_bg": false,
            "widget": "IPY_MODEL_38d74cba86ac4edbb089dc45de493038"
          }
        },
        "c36b6da142554927bd30f8473b9688a7": {
          "model_module": "jupyter-leaflet",
          "model_name": "LeafletZoomControlModel",
          "model_module_version": "^0.17",
          "state": {
            "_model_module": "jupyter-leaflet",
            "_model_module_version": "^0.17",
            "_model_name": "LeafletZoomControlModel",
            "_view_count": null,
            "_view_module": "jupyter-leaflet",
            "_view_module_version": "^0.17",
            "_view_name": "LeafletZoomControlView",
            "options": [
              "position",
              "zoom_in_text",
              "zoom_in_title",
              "zoom_out_text",
              "zoom_out_title"
            ],
            "position": "topleft",
            "zoom_in_text": "+",
            "zoom_in_title": "Zoom in",
            "zoom_out_text": "-",
            "zoom_out_title": "Zoom out"
          }
        },
        "365edc4c4b9a4106b0a937b933591ca0": {
          "model_module": "jupyter-leaflet",
          "model_name": "LeafletFullScreenControlModel",
          "model_module_version": "^0.17",
          "state": {
            "_model_module": "jupyter-leaflet",
            "_model_module_version": "^0.17",
            "_model_name": "LeafletFullScreenControlModel",
            "_view_count": null,
            "_view_module": "jupyter-leaflet",
            "_view_module_version": "^0.17",
            "_view_name": "LeafletFullScreenControlView",
            "options": [
              "position"
            ],
            "position": "topleft"
          }
        },
        "947dfc5d26ee49ce8d6e0bc681d2da4f": {
          "model_module": "jupyter-leaflet",
          "model_name": "LeafletDrawControlModel",
          "model_module_version": "^0.17",
          "state": {
            "_model_module": "jupyter-leaflet",
            "_model_module_version": "^0.17",
            "_model_name": "LeafletDrawControlModel",
            "_view_count": null,
            "_view_module": "jupyter-leaflet",
            "_view_module_version": "^0.17",
            "_view_name": "LeafletDrawControlView",
            "circle": {},
            "circlemarker": {},
            "data": [],
            "edit": true,
            "marker": {
              "shapeOptions": {
                "color": "#3388ff"
              }
            },
            "options": [
              "position"
            ],
            "polygon": {
              "shapeOptions": {}
            },
            "polyline": {
              "shapeOptions": {}
            },
            "position": "topleft",
            "rectangle": {
              "shapeOptions": {
                "color": "#3388ff"
              }
            },
            "remove": true
          }
        },
        "eafdfe97973b4b33828ba5a1132cfa98": {
          "model_module": "jupyter-leaflet",
          "model_name": "LeafletScaleControlModel",
          "model_module_version": "^0.17",
          "state": {
            "_model_module": "jupyter-leaflet",
            "_model_module_version": "^0.17",
            "_model_name": "LeafletScaleControlModel",
            "_view_count": null,
            "_view_module": "jupyter-leaflet",
            "_view_module_version": "^0.17",
            "_view_name": "LeafletScaleControlView",
            "imperial": true,
            "max_width": 100,
            "metric": true,
            "options": [
              "imperial",
              "max_width",
              "metric",
              "position",
              "update_when_idle"
            ],
            "position": "bottomleft",
            "update_when_idle": false
          }
        },
        "48e88d46ce6f44eb90e2cd993c426da2": {
          "model_module": "jupyter-leaflet",
          "model_name": "LeafletMeasureControlModel",
          "model_module_version": "^0.17",
          "state": {
            "_custom_units": {},
            "_model_module": "jupyter-leaflet",
            "_model_module_version": "^0.17",
            "_model_name": "LeafletMeasureControlModel",
            "_view_count": null,
            "_view_module": "jupyter-leaflet",
            "_view_module_version": "^0.17",
            "_view_name": "LeafletMeasureControlView",
            "active_color": "orange",
            "capture_z_index": 10000,
            "completed_color": "#C8F2BE",
            "options": [
              "active_color",
              "capture_z_index",
              "completed_color",
              "popup_options",
              "position",
              "primary_area_unit",
              "primary_length_unit",
              "secondary_area_unit",
              "secondary_length_unit"
            ],
            "popup_options": {
              "className": "leaflet-measure-resultpopup",
              "autoPanPadding": [
                10,
                10
              ]
            },
            "position": "bottomleft",
            "primary_area_unit": "acres",
            "primary_length_unit": "kilometers",
            "secondary_area_unit": null,
            "secondary_length_unit": null
          }
        },
        "f3072d71e19745f48c2b8f95d7d8c052": {
          "model_module": "jupyter-leaflet",
          "model_name": "LeafletWidgetControlModel",
          "model_module_version": "^0.17",
          "state": {
            "_model_module": "jupyter-leaflet",
            "_model_module_version": "^0.17",
            "_model_name": "LeafletWidgetControlModel",
            "_view_count": null,
            "_view_module": "jupyter-leaflet",
            "_view_module_version": "^0.17",
            "_view_name": "LeafletWidgetControlView",
            "max_height": null,
            "max_width": null,
            "min_height": null,
            "min_width": null,
            "options": [
              "position",
              "transparent_bg"
            ],
            "position": "topright",
            "transparent_bg": false,
            "widget": "IPY_MODEL_03fe8c4995154c4b9b2500cab326bbd0"
          }
        },
        "01a68314adff429a9085d34a651e6b29": {
          "model_module": "jupyter-leaflet",
          "model_name": "LeafletAttributionControlModel",
          "model_module_version": "^0.17",
          "state": {
            "_model_module": "jupyter-leaflet",
            "_model_module_version": "^0.17",
            "_model_name": "LeafletAttributionControlModel",
            "_view_count": null,
            "_view_module": "jupyter-leaflet",
            "_view_module_version": "^0.17",
            "_view_name": "LeafletAttributionControlView",
            "options": [
              "position",
              "prefix"
            ],
            "position": "bottomright",
            "prefix": "ipyleaflet"
          }
        },
        "d74e4d62622541dd9a141ebcc42a7dcf": {
          "model_module": "jupyter-leaflet",
          "model_name": "LeafletMapStyleModel",
          "model_module_version": "^0.17",
          "state": {
            "_model_module": "jupyter-leaflet",
            "_model_module_version": "^0.17",
            "_model_name": "LeafletMapStyleModel",
            "_view_count": null,
            "_view_module": "@jupyter-widgets/base",
            "_view_module_version": "1.2.0",
            "_view_name": "StyleView",
            "cursor": "grab"
          }
        },
        "4a5d0c1501e24883a52f50714bdd6a20": {
          "model_module": "jupyter-leaflet",
          "model_name": "LeafletMapStyleModel",
          "model_module_version": "^0.17",
          "state": {
            "_model_module": "jupyter-leaflet",
            "_model_module_version": "^0.17",
            "_model_name": "LeafletMapStyleModel",
            "_view_count": null,
            "_view_module": "@jupyter-widgets/base",
            "_view_module_version": "1.2.0",
            "_view_name": "StyleView",
            "cursor": "move"
          }
        },
        "ea96e0deb62446eb912b51a4fdca2b89": {
          "model_module": "jupyter-leaflet",
          "model_name": "LeafletTileLayerModel",
          "model_module_version": "^0.17",
          "state": {
            "_model_module": "jupyter-leaflet",
            "_model_module_version": "^0.17",
            "_model_name": "LeafletTileLayerModel",
            "_view_count": null,
            "_view_module": "jupyter-leaflet",
            "_view_module_version": "^0.17",
            "_view_name": "LeafletTileLayerView",
            "attribution": "&copy; <a href=\"https://www.openstreetmap.org/copyright\">OpenStreetMap</a> contributors",
            "base": true,
            "bottom": true,
            "bounds": null,
            "detect_retina": false,
            "loading": false,
            "max_native_zoom": null,
            "max_zoom": 19,
            "min_native_zoom": null,
            "min_zoom": 1,
            "name": "OpenStreetMap.Mapnik",
            "no_wrap": false,
            "opacity": 1,
            "options": [
              "attribution",
              "bounds",
              "detect_retina",
              "max_native_zoom",
              "max_zoom",
              "min_native_zoom",
              "min_zoom",
              "no_wrap",
              "tile_size",
              "tms",
              "zoom_offset"
            ],
            "pane": "",
            "popup": null,
            "popup_max_height": null,
            "popup_max_width": 300,
            "popup_min_width": 50,
            "show_loading": false,
            "subitems": [],
            "tile_size": 256,
            "tms": false,
            "url": "https://tile.openstreetmap.org/{z}/{x}/{y}.png",
            "visible": true,
            "zoom_offset": 0
          }
        },
        "5a8ad2024ee44afabf4e8f8d6f031ae3": {
          "model_module": "jupyter-leaflet",
          "model_name": "LeafletMarkerClusterModel",
          "model_module_version": "^0.17",
          "state": {
            "_model_module": "jupyter-leaflet",
            "_model_module_version": "^0.17",
            "_model_name": "LeafletMarkerClusterModel",
            "_view_count": null,
            "_view_module": "jupyter-leaflet",
            "_view_module_version": "^0.17",
            "_view_name": "LeafletMarkerClusterView",
            "base": false,
            "bottom": false,
            "disable_clustering_at_zoom": 18,
            "markers": [],
            "max_cluster_radius": 80,
            "name": "Marker Cluster",
            "options": [
              "disable_clustering_at_zoom",
              "max_cluster_radius"
            ],
            "pane": "",
            "popup": null,
            "popup_max_height": null,
            "popup_max_width": 300,
            "popup_min_width": 50,
            "subitems": []
          }
        },
        "354b8ad1b50c4c5289a2dfcd1e7e5b47": {
          "model_module": "@jupyter-widgets/base",
          "model_name": "LayoutModel",
          "model_module_version": "1.2.0",
          "state": {
            "_model_module": "@jupyter-widgets/base",
            "_model_module_version": "1.2.0",
            "_model_name": "LayoutModel",
            "_view_count": null,
            "_view_module": "@jupyter-widgets/base",
            "_view_module_version": "1.2.0",
            "_view_name": "LayoutView",
            "align_content": null,
            "align_items": null,
            "align_self": null,
            "border": null,
            "bottom": null,
            "display": null,
            "flex": null,
            "flex_flow": null,
            "grid_area": null,
            "grid_auto_columns": null,
            "grid_auto_flow": null,
            "grid_auto_rows": null,
            "grid_column": null,
            "grid_gap": null,
            "grid_row": null,
            "grid_template_areas": null,
            "grid_template_columns": null,
            "grid_template_rows": null,
            "height": "600px",
            "justify_content": null,
            "justify_items": null,
            "left": null,
            "margin": null,
            "max_height": null,
            "max_width": null,
            "min_height": null,
            "min_width": null,
            "object_fit": null,
            "object_position": null,
            "order": null,
            "overflow": null,
            "overflow_x": null,
            "overflow_y": null,
            "padding": null,
            "right": null,
            "top": null,
            "visibility": null,
            "width": null
          }
        },
        "08593f09b83f47c9890db5794e34d9a8": {
          "model_module": "jupyter-leaflet",
          "model_name": "LeafletMapStyleModel",
          "model_module_version": "^0.17",
          "state": {
            "_model_module": "jupyter-leaflet",
            "_model_module_version": "^0.17",
            "_model_name": "LeafletMapStyleModel",
            "_view_count": null,
            "_view_module": "@jupyter-widgets/base",
            "_view_module_version": "1.2.0",
            "_view_name": "StyleView",
            "cursor": "grab"
          }
        },
        "38d74cba86ac4edbb089dc45de493038": {
          "model_module": "@jupyter-widgets/controls",
          "model_name": "HBoxModel",
          "model_module_version": "1.5.0",
          "state": {
            "_dom_classes": [],
            "_model_module": "@jupyter-widgets/controls",
            "_model_module_version": "1.5.0",
            "_model_name": "HBoxModel",
            "_view_count": null,
            "_view_module": "@jupyter-widgets/controls",
            "_view_module_version": "1.5.0",
            "_view_name": "HBoxView",
            "box_style": "",
            "children": [
              "IPY_MODEL_75fe68d1e9c34942ac395c04619e29b2"
            ],
            "layout": "IPY_MODEL_f406da20557845afa2afec6e10244e56"
          }
        },
        "03fe8c4995154c4b9b2500cab326bbd0": {
          "model_module": "@jupyter-widgets/controls",
          "model_name": "VBoxModel",
          "model_module_version": "1.5.0",
          "state": {
            "_dom_classes": [],
            "_model_module": "@jupyter-widgets/controls",
            "_model_module_version": "1.5.0",
            "_model_name": "VBoxModel",
            "_view_count": null,
            "_view_module": "@jupyter-widgets/controls",
            "_view_module_version": "1.5.0",
            "_view_name": "VBoxView",
            "box_style": "",
            "children": [
              "IPY_MODEL_764d4258183c494d80ea5988a3be323f"
            ],
            "layout": "IPY_MODEL_275d6ebf0f0d43e3a1b83f11ad37d225"
          }
        },
        "75fe68d1e9c34942ac395c04619e29b2": {
          "model_module": "@jupyter-widgets/controls",
          "model_name": "ToggleButtonModel",
          "model_module_version": "1.5.0",
          "state": {
            "_dom_classes": [],
            "_model_module": "@jupyter-widgets/controls",
            "_model_module_version": "1.5.0",
            "_model_name": "ToggleButtonModel",
            "_view_count": null,
            "_view_module": "@jupyter-widgets/controls",
            "_view_module_version": "1.5.0",
            "_view_name": "ToggleButtonView",
            "button_style": "",
            "description": "",
            "description_tooltip": null,
            "disabled": false,
            "icon": "globe",
            "layout": "IPY_MODEL_7f4ced420bb04e20ae572a009fdf2017",
            "style": "IPY_MODEL_e1f8ff81636f4ae9a3573ce57280f8ba",
            "tooltip": "Search location/data",
            "value": false
          }
        },
        "f406da20557845afa2afec6e10244e56": {
          "model_module": "@jupyter-widgets/base",
          "model_name": "LayoutModel",
          "model_module_version": "1.2.0",
          "state": {
            "_model_module": "@jupyter-widgets/base",
            "_model_module_version": "1.2.0",
            "_model_name": "LayoutModel",
            "_view_count": null,
            "_view_module": "@jupyter-widgets/base",
            "_view_module_version": "1.2.0",
            "_view_name": "LayoutView",
            "align_content": null,
            "align_items": null,
            "align_self": null,
            "border": null,
            "bottom": null,
            "display": null,
            "flex": null,
            "flex_flow": null,
            "grid_area": null,
            "grid_auto_columns": null,
            "grid_auto_flow": null,
            "grid_auto_rows": null,
            "grid_column": null,
            "grid_gap": null,
            "grid_row": null,
            "grid_template_areas": null,
            "grid_template_columns": null,
            "grid_template_rows": null,
            "height": null,
            "justify_content": null,
            "justify_items": null,
            "left": null,
            "margin": null,
            "max_height": null,
            "max_width": null,
            "min_height": null,
            "min_width": null,
            "object_fit": null,
            "object_position": null,
            "order": null,
            "overflow": null,
            "overflow_x": null,
            "overflow_y": null,
            "padding": null,
            "right": null,
            "top": null,
            "visibility": null,
            "width": null
          }
        },
        "764d4258183c494d80ea5988a3be323f": {
          "model_module": "@jupyter-widgets/controls",
          "model_name": "ToggleButtonModel",
          "model_module_version": "1.5.0",
          "state": {
            "_dom_classes": [],
            "_model_module": "@jupyter-widgets/controls",
            "_model_module_version": "1.5.0",
            "_model_name": "ToggleButtonModel",
            "_view_count": null,
            "_view_module": "@jupyter-widgets/controls",
            "_view_module_version": "1.5.0",
            "_view_name": "ToggleButtonView",
            "button_style": "",
            "description": "",
            "description_tooltip": null,
            "disabled": false,
            "icon": "wrench",
            "layout": "IPY_MODEL_5137e7f4ab3a408280eb7f6e795c3926",
            "style": "IPY_MODEL_5d763c094b7d4b23af5fbc256e0a874b",
            "tooltip": "Toolbar",
            "value": false
          }
        },
        "275d6ebf0f0d43e3a1b83f11ad37d225": {
          "model_module": "@jupyter-widgets/base",
          "model_name": "LayoutModel",
          "model_module_version": "1.2.0",
          "state": {
            "_model_module": "@jupyter-widgets/base",
            "_model_module_version": "1.2.0",
            "_model_name": "LayoutModel",
            "_view_count": null,
            "_view_module": "@jupyter-widgets/base",
            "_view_module_version": "1.2.0",
            "_view_name": "LayoutView",
            "align_content": null,
            "align_items": null,
            "align_self": null,
            "border": null,
            "bottom": null,
            "display": null,
            "flex": null,
            "flex_flow": null,
            "grid_area": null,
            "grid_auto_columns": null,
            "grid_auto_flow": null,
            "grid_auto_rows": null,
            "grid_column": null,
            "grid_gap": null,
            "grid_row": null,
            "grid_template_areas": null,
            "grid_template_columns": null,
            "grid_template_rows": null,
            "height": null,
            "justify_content": null,
            "justify_items": null,
            "left": null,
            "margin": null,
            "max_height": null,
            "max_width": null,
            "min_height": null,
            "min_width": null,
            "object_fit": null,
            "object_position": null,
            "order": null,
            "overflow": null,
            "overflow_x": null,
            "overflow_y": null,
            "padding": null,
            "right": null,
            "top": null,
            "visibility": null,
            "width": null
          }
        },
        "7f4ced420bb04e20ae572a009fdf2017": {
          "model_module": "@jupyter-widgets/base",
          "model_name": "LayoutModel",
          "model_module_version": "1.2.0",
          "state": {
            "_model_module": "@jupyter-widgets/base",
            "_model_module_version": "1.2.0",
            "_model_name": "LayoutModel",
            "_view_count": null,
            "_view_module": "@jupyter-widgets/base",
            "_view_module_version": "1.2.0",
            "_view_name": "LayoutView",
            "align_content": null,
            "align_items": null,
            "align_self": null,
            "border": null,
            "bottom": null,
            "display": null,
            "flex": null,
            "flex_flow": null,
            "grid_area": null,
            "grid_auto_columns": null,
            "grid_auto_flow": null,
            "grid_auto_rows": null,
            "grid_column": null,
            "grid_gap": null,
            "grid_row": null,
            "grid_template_areas": null,
            "grid_template_columns": null,
            "grid_template_rows": null,
            "height": "28px",
            "justify_content": null,
            "justify_items": null,
            "left": null,
            "margin": null,
            "max_height": null,
            "max_width": null,
            "min_height": null,
            "min_width": null,
            "object_fit": null,
            "object_position": null,
            "order": null,
            "overflow": null,
            "overflow_x": null,
            "overflow_y": null,
            "padding": "0px 0px 0px 4px",
            "right": null,
            "top": null,
            "visibility": null,
            "width": "28px"
          }
        },
        "e1f8ff81636f4ae9a3573ce57280f8ba": {
          "model_module": "@jupyter-widgets/controls",
          "model_name": "DescriptionStyleModel",
          "model_module_version": "1.5.0",
          "state": {
            "_model_module": "@jupyter-widgets/controls",
            "_model_module_version": "1.5.0",
            "_model_name": "DescriptionStyleModel",
            "_view_count": null,
            "_view_module": "@jupyter-widgets/base",
            "_view_module_version": "1.2.0",
            "_view_name": "StyleView",
            "description_width": ""
          }
        },
        "5137e7f4ab3a408280eb7f6e795c3926": {
          "model_module": "@jupyter-widgets/base",
          "model_name": "LayoutModel",
          "model_module_version": "1.2.0",
          "state": {
            "_model_module": "@jupyter-widgets/base",
            "_model_module_version": "1.2.0",
            "_model_name": "LayoutModel",
            "_view_count": null,
            "_view_module": "@jupyter-widgets/base",
            "_view_module_version": "1.2.0",
            "_view_name": "LayoutView",
            "align_content": null,
            "align_items": null,
            "align_self": null,
            "border": null,
            "bottom": null,
            "display": null,
            "flex": null,
            "flex_flow": null,
            "grid_area": null,
            "grid_auto_columns": null,
            "grid_auto_flow": null,
            "grid_auto_rows": null,
            "grid_column": null,
            "grid_gap": null,
            "grid_row": null,
            "grid_template_areas": null,
            "grid_template_columns": null,
            "grid_template_rows": null,
            "height": "28px",
            "justify_content": null,
            "justify_items": null,
            "left": null,
            "margin": null,
            "max_height": null,
            "max_width": null,
            "min_height": null,
            "min_width": null,
            "object_fit": null,
            "object_position": null,
            "order": null,
            "overflow": null,
            "overflow_x": null,
            "overflow_y": null,
            "padding": "0px 0px 0px 4px",
            "right": null,
            "top": null,
            "visibility": null,
            "width": "28px"
          }
        },
        "5d763c094b7d4b23af5fbc256e0a874b": {
          "model_module": "@jupyter-widgets/controls",
          "model_name": "DescriptionStyleModel",
          "model_module_version": "1.5.0",
          "state": {
            "_model_module": "@jupyter-widgets/controls",
            "_model_module_version": "1.5.0",
            "_model_name": "DescriptionStyleModel",
            "_view_count": null,
            "_view_module": "@jupyter-widgets/base",
            "_view_module_version": "1.2.0",
            "_view_name": "StyleView",
            "description_width": ""
          }
        },
        "e63243a877eb424fb27a2e8ab3ec8f68": {
          "model_module": "jupyter-leaflet",
          "model_name": "LeafletTileLayerModel",
          "model_module_version": "^0.17",
          "state": {
            "_model_module": "jupyter-leaflet",
            "_model_module_version": "^0.17",
            "_model_name": "LeafletTileLayerModel",
            "_view_count": null,
            "_view_module": "jupyter-leaflet",
            "_view_module_version": "^0.17",
            "_view_name": "LeafletTileLayerView",
            "attribution": "Google Earth Engine",
            "base": false,
            "bottom": true,
            "bounds": null,
            "detect_retina": false,
            "loading": false,
            "max_native_zoom": null,
            "max_zoom": 24,
            "min_native_zoom": null,
            "min_zoom": 0,
            "name": "S2 RGB composite",
            "no_wrap": false,
            "opacity": 1,
            "options": [
              "attribution",
              "bounds",
              "detect_retina",
              "max_native_zoom",
              "max_zoom",
              "min_native_zoom",
              "min_zoom",
              "no_wrap",
              "tile_size",
              "tms",
              "zoom_offset"
            ],
            "pane": "",
            "popup": null,
            "popup_max_height": null,
            "popup_max_width": 300,
            "popup_min_width": 50,
            "show_loading": false,
            "subitems": [],
            "tile_size": 256,
            "tms": false,
            "url": "https://earthengine.googleapis.com/v1/projects/earthengine-legacy/maps/729dc171e4199a259e2f7a3f4565db6e-e7a5ad9bc8047f4c5208f783827498f5/tiles/{z}/{x}/{y}",
            "visible": true,
            "zoom_offset": 0
          }
        },
        "44749782cb5a45d1b64392fc6f514dc9": {
          "model_module": "jupyter-leaflet",
          "model_name": "LeafletTileLayerModel",
          "model_module_version": "^0.17",
          "state": {
            "_model_module": "jupyter-leaflet",
            "_model_module_version": "^0.17",
            "_model_name": "LeafletTileLayerModel",
            "_view_count": null,
            "_view_module": "jupyter-leaflet",
            "_view_module_version": "^0.17",
            "_view_name": "LeafletTileLayerView",
            "attribution": "Google Earth Engine",
            "base": false,
            "bottom": true,
            "bounds": null,
            "detect_retina": false,
            "loading": false,
            "max_native_zoom": null,
            "max_zoom": 24,
            "min_native_zoom": null,
            "min_zoom": 0,
            "name": "S2 PI LAI",
            "no_wrap": false,
            "opacity": 1,
            "options": [
              "attribution",
              "bounds",
              "detect_retina",
              "max_native_zoom",
              "max_zoom",
              "min_native_zoom",
              "min_zoom",
              "no_wrap",
              "tile_size",
              "tms",
              "zoom_offset"
            ],
            "pane": "",
            "popup": null,
            "popup_max_height": null,
            "popup_max_width": 300,
            "popup_min_width": 50,
            "show_loading": false,
            "subitems": [],
            "tile_size": 256,
            "tms": false,
            "url": "https://earthengine.googleapis.com/v1/projects/earthengine-legacy/maps/d91e2d0cb06c51471e013adbaa32007c-1685f434629983c9a20a171e4b3e7cef/tiles/{z}/{x}/{y}",
            "visible": true,
            "zoom_offset": 0
          }
        },
        "71f7d7b0ffad4a9280e0ffd555ae7479": {
          "model_module": "jupyter-leaflet",
          "model_name": "LeafletWidgetControlModel",
          "model_module_version": "^0.17",
          "state": {
            "_model_module": "jupyter-leaflet",
            "_model_module_version": "^0.17",
            "_model_name": "LeafletWidgetControlModel",
            "_view_count": null,
            "_view_module": "jupyter-leaflet",
            "_view_module_version": "^0.17",
            "_view_name": "LeafletWidgetControlView",
            "max_height": null,
            "max_width": null,
            "min_height": null,
            "min_width": null,
            "options": [
              "position",
              "transparent_bg"
            ],
            "position": "bottomright",
            "transparent_bg": false,
            "widget": "IPY_MODEL_5f37539b38f040d39005da3bb0d6b15b"
          }
        },
        "5f37539b38f040d39005da3bb0d6b15b": {
          "model_module": "@jupyter-widgets/output",
          "model_name": "OutputModel",
          "model_module_version": "1.0.0",
          "state": {
            "_dom_classes": [],
            "_model_module": "@jupyter-widgets/output",
            "_model_module_version": "1.0.0",
            "_model_name": "OutputModel",
            "_view_count": null,
            "_view_module": "@jupyter-widgets/output",
            "_view_module_version": "1.0.0",
            "_view_name": "OutputView",
            "layout": "IPY_MODEL_d12030696f7b448daaa7ddd8a74c6d55",
            "msg_id": "",
            "outputs": [
              {
                "output_type": "display_data",
                "data": {
                  "text/plain": "<Figure size 300x30 with 1 Axes>",
                  "image/png": "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\n"
                },
                "metadata": {}
              }
            ]
          }
        },
        "d12030696f7b448daaa7ddd8a74c6d55": {
          "model_module": "@jupyter-widgets/base",
          "model_name": "LayoutModel",
          "model_module_version": "1.2.0",
          "state": {
            "_model_module": "@jupyter-widgets/base",
            "_model_module_version": "1.2.0",
            "_model_name": "LayoutModel",
            "_view_count": null,
            "_view_module": "@jupyter-widgets/base",
            "_view_module_version": "1.2.0",
            "_view_name": "LayoutView",
            "align_content": null,
            "align_items": null,
            "align_self": null,
            "border": null,
            "bottom": null,
            "display": null,
            "flex": null,
            "flex_flow": null,
            "grid_area": null,
            "grid_auto_columns": null,
            "grid_auto_flow": null,
            "grid_auto_rows": null,
            "grid_column": null,
            "grid_gap": null,
            "grid_row": null,
            "grid_template_areas": null,
            "grid_template_columns": null,
            "grid_template_rows": null,
            "height": null,
            "justify_content": null,
            "justify_items": null,
            "left": null,
            "margin": null,
            "max_height": null,
            "max_width": null,
            "min_height": null,
            "min_width": null,
            "object_fit": null,
            "object_position": null,
            "order": null,
            "overflow": null,
            "overflow_x": null,
            "overflow_y": null,
            "padding": null,
            "right": null,
            "top": null,
            "visibility": null,
            "width": "270px"
          }
        },
        "2da5b20152ec46e49ef54f838898747d": {
          "model_module": "jupyter-leaflet",
          "model_name": "LeafletTileLayerModel",
          "model_module_version": "^0.17",
          "state": {
            "_model_module": "jupyter-leaflet",
            "_model_module_version": "^0.17",
            "_model_name": "LeafletTileLayerModel",
            "_view_count": null,
            "_view_module": "jupyter-leaflet",
            "_view_module_version": "^0.17",
            "_view_name": "LeafletTileLayerView",
            "attribution": "Google Earth Engine",
            "base": false,
            "bottom": true,
            "bounds": null,
            "detect_retina": false,
            "loading": false,
            "max_native_zoom": null,
            "max_zoom": 24,
            "min_native_zoom": null,
            "min_zoom": 0,
            "name": "Study area",
            "no_wrap": false,
            "opacity": 0.3,
            "options": [
              "attribution",
              "bounds",
              "detect_retina",
              "max_native_zoom",
              "max_zoom",
              "min_native_zoom",
              "min_zoom",
              "no_wrap",
              "tile_size",
              "tms",
              "zoom_offset"
            ],
            "pane": "",
            "popup": null,
            "popup_max_height": null,
            "popup_max_width": 300,
            "popup_min_width": 50,
            "show_loading": false,
            "subitems": [],
            "tile_size": 256,
            "tms": false,
            "url": "https://earthengine.googleapis.com/v1/projects/earthengine-legacy/maps/1124a29fcbe7536c8e28b077cec0fd82-8ab4c57b7be5eaf84be56be2b51e2858/tiles/{z}/{x}/{y}",
            "visible": true,
            "zoom_offset": 0
          }
        }
      }
    }
  },
  "cells": [
    {
      "cell_type": "markdown",
      "metadata": {
        "id": "view-in-github",
        "colab_type": "text"
      },
      "source": [
        "<a href=\"https://colab.research.google.com/github/PhD-Gabriel-Caballero/ESA-summer-school-2023-Croatia/blob/main/ARTMO_BV_GPR_model_GEE.ipynb\" target=\"_parent\"><img src=\"https://colab.research.google.com/assets/colab-badge.svg\" alt=\"Open In Colab\"/></a>"
      ]
    },
    {
      "cell_type": "markdown",
      "source": [
        "# ARTMO-based LAI retrieval modelling using Gaussian process regression in Google Earth Engine (GEE)\n",
        "\n",
        "---\n",
        "\n",
        "This Jupyter notebook contains all the necessary information for retrieving the Leaf Area Index (LAI) using GPR in the Google Earth (GEE) cloud computing platform. This material has been created exclusively for the 2023 European Space Agency (ESA) summer school.\n",
        "\n",
        "---\n",
        "![MLRA_toolbox_conceptual.png](data:image/png;base64,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)\n",
        "\n",
        "---\n",
        "\n",
        "Credits and references\n",
        "\n",
        "1.   Caballero G, Pezzola A, Winschel C, Casella A, Sanchez Angonova P, Rivera-Caicedo JP, Berger K, Verrelst J, Delegido J. Seasonal Mapping of Irrigated Winter Wheat Traits in Argentina with a Hybrid Retrieval Workflow Using Sentinel-2 Imagery. Remote Sensing. 2022; 14(18):4531. https://doi.org/10.3390/rs14184531\n",
        "\n",
        "2. Casella, A.; Orden, L.; Pezzola, N.A.; Bellaccomo, C.; Winschel, C.I.; Caballero, G.R.; Delegido, J.; Gracia, L.M.N.; Verrelst, J. Analysis of Biophysical Variables in an Onion Crop (Allium cepa L.) with Nitrogen Fertilization by Sentinel-2 Observations. Agronomy 2022, 12, 1884. https://doi.org/10.3390/agronomy12081884"
      ],
      "metadata": {
        "id": "a941wSoFhLxc"
      }
    },
    {
      "cell_type": "markdown",
      "source": [
        "**Install the required libraries**"
      ],
      "metadata": {
        "id": "CkydsX30HSq7"
      }
    },
    {
      "cell_type": "code",
      "source": [
        "!pip install geemap\n",
        "!pip install earthengine-api\n",
        "!pip install PyCRS"
      ],
      "metadata": {
        "id": "vRC8q7wjHTRM"
      },
      "execution_count": null,
      "outputs": []
    },
    {
      "cell_type": "markdown",
      "metadata": {
        "id": "1ujGIxJ5vyd8"
      },
      "source": [
        "**Import ee library**"
      ]
    },
    {
      "cell_type": "code",
      "metadata": {
        "id": "f3_m81rOvhZC"
      },
      "source": [
        "import geemap, ee, os, sys, pycrs, datetime\n",
        "import geemap.colormaps as cm\n",
        "\n",
        "from ipyleaflet import *\n",
        "from ipywidgets import Label\n",
        "from datetime import datetime, timedelta\n",
        "import pandas as pd\n",
        "import numpy as np\n",
        "import matplotlib.pyplot as plt\n",
        "\n",
        "import matplotlib.dates as mdates\n",
        "import matplotlib.ticker as ticker"
      ],
      "execution_count": 70,
      "outputs": []
    },
    {
      "cell_type": "markdown",
      "source": [
        "Mount Google Drive"
      ],
      "metadata": {
        "id": "vRc3J2cJPFPs"
      }
    },
    {
      "cell_type": "code",
      "source": [
        "from google.colab import drive\n",
        "drive.mount('/content/drive')"
      ],
      "metadata": {
        "id": "tfBOt4mGPFZt",
        "outputId": "e5d4dce3-b594-46df-87f6-2f305b565667",
        "colab": {
          "base_uri": "https://localhost:8080/"
        }
      },
      "execution_count": 33,
      "outputs": [
        {
          "output_type": "stream",
          "name": "stdout",
          "text": [
            "Mounted at /content/drive\n"
          ]
        }
      ]
    },
    {
      "cell_type": "markdown",
      "source": [
        "**Clone the GitHub repository**"
      ],
      "metadata": {
        "id": "ZWfDOEyfNm8K"
      }
    },
    {
      "cell_type": "code",
      "source": [
        "!rm -r ESA-summer-school-2023-Croatia # delete the complete repository folder\n",
        "!git clone https://github.com/PhD-Gabriel-Caballero/ESA-summer-school-2023-Croatia # clone repository folder\n",
        "sys.path.insert(0,'/content/ESA-summer-school-2023-Croatia')"
      ],
      "metadata": {
        "id": "kYu_PzkeNlcZ",
        "outputId": "52b7cab7-f8d2-4347-9485-8347a25e0295",
        "colab": {
          "base_uri": "https://localhost:8080/"
        }
      },
      "execution_count": 32,
      "outputs": [
        {
          "output_type": "stream",
          "name": "stdout",
          "text": [
            "Cloning into 'ESA-summer-school-2023-Croatia'...\n",
            "remote: Enumerating objects: 303, done.\u001b[K\n",
            "remote: Counting objects: 100% (250/250), done.\u001b[K\n",
            "remote: Compressing objects: 100% (168/168), done.\u001b[K\n",
            "remote: Total 303 (delta 193), reused 116 (delta 80), pack-reused 53\u001b[K\n",
            "Receiving objects: 100% (303/303), 37.45 MiB | 10.53 MiB/s, done.\n",
            "Resolving deltas: 100% (204/204), done.\n"
          ]
        }
      ]
    },
    {
      "cell_type": "markdown",
      "metadata": {
        "id": "7BoVj123v5vf"
      },
      "source": [
        "**Authenticate and initialize ee**"
      ]
    },
    {
      "cell_type": "code",
      "metadata": {
        "id": "wcnFEOKIvwba"
      },
      "source": [
        "try:\n",
        "    ee.Initialize()\n",
        "except Exception as e:\n",
        "    ee.Authenticate()\n",
        "    ee.Initialize()"
      ],
      "execution_count": null,
      "outputs": []
    },
    {
      "cell_type": "markdown",
      "source": [
        "**Select the Area of Interest**"
      ],
      "metadata": {
        "id": "p1kNnRasHFb8"
      }
    },
    {
      "cell_type": "code",
      "source": [
        "# Set map display properties.\n",
        "Map = geemap.Map(toolbar_ctrl=True, layer_ctrl=True)\n",
        "Map.default_style = {'cursor': 'crosshair'}\n",
        "Map.add_basemap('SATELLITE')\n",
        "\n",
        "# Center the map in the desired country\n",
        "country = 'Argentina'\n",
        "country_bounds = ee.FeatureCollection(\"USDOS/LSIB_SIMPLE/2017\").filterMetadata('country_na', 'equals', country);\n",
        "Map.centerObject(country_bounds,12)\n",
        "Map"
      ],
      "metadata": {
        "colab": {
          "base_uri": "https://localhost:8080/",
          "height": 621,
          "referenced_widgets": [
            "85f4fc57daf34470b21ff3a8185e56f4",
            "125dee2e73b84cf1b7d9ba1c8bcec93f",
            "42e0234eec21473bb506f63276684dd1",
            "fbaa9aace3df4130a99ab3148831ee7f",
            "ab7345e52b0640f385c332b71a05544f",
            "4ae0180e433b44a5bdbf4bbbc61dcbad",
            "8817617a9c794b9e8038919a76e32186",
            "6c094216eb6845fab9482be8a3fbdaf9",
            "396e3161f8f24d319c9279376962d617",
            "098afd2d5d89483fab5ef4f407a56454",
            "4306e04e25414d408006651952a2a64c",
            "9b7bc74fb7a049d29d72ebfcc54a3c8e",
            "35e45ffe12974750a621d94831c07fb5",
            "5cd76d3255d440c4889c5f1f43907611",
            "477e26c6f28b43f9b17571111e1196f0",
            "9c4cb7c6d31341e592ace9bf9d6b3320",
            "d32044a98cb2446ea6a8d67e83bcf596",
            "4cfb8f17661c414bbb6fe10ca523f2bc",
            "f8dc63fdc0324ea28095eefa4e83123a",
            "711c1d8f32b448e58ced43042b528557",
            "de2d5ced94854691b5b74d0207d964ea",
            "4cdd89f8eaf14e708358474bf80ad1fd",
            "b586349bef9f4235a2117d7fe9df1fe1",
            "65570cf7a5ff449782e395105ea6abf9",
            "c4b2c1d1eac040c5b206e248b737910f",
            "e896b7105455402387d7cfe25f283cb0",
            "68fe2721030842d38cf2a5adfe2ab78c",
            "ec2c8fcc7aab4a1fb314badf5b84772c"
          ]
        },
        "id": "l6LeEac2SdHv",
        "outputId": "56fe9bcb-ff2a-4c21-c0a5-d3c2a234dfd5"
      },
      "execution_count": 71,
      "outputs": [
        {
          "output_type": "display_data",
          "data": {
            "text/plain": [
              "Map(center=[-34.687845828472675, -64.74963675588427], controls=(WidgetControl(options=['position', 'transparen…"
            ],
            "application/vnd.jupyter.widget-view+json": {
              "version_major": 2,
              "version_minor": 0,
              "model_id": "85f4fc57daf34470b21ff3a8185e56f4"
            }
          },
          "metadata": {
            "application/vnd.jupyter.widget-view+json": {
              "colab": {
                "custom_widget_manager": {
                  "url": "https://ssl.gstatic.com/colaboratory-static/widgets/colab-cdn-widget-manager/b3e629b1971e1542/manager.min.js"
                }
              }
            }
          }
        }
      ]
    },
    {
      "cell_type": "markdown",
      "source": [
        "**Show the Region Of Interest (ROI) in the interactive map**"
      ],
      "metadata": {
        "id": "asoLGL7Gd0Dk"
      }
    },
    {
      "cell_type": "code",
      "source": [
        "# Please provide here the information on the experimental station and the boundaries of your crop essay.\n",
        "wheat_roi = geemap.shp_to_ee('/content/ESA-summer-school-2023-Croatia/Vectors/Wheat trial sketch 2020/wheat trial sketch 2020.shp')\n",
        "EEHA_roi = geemap.shp_to_ee('/content/ESA-summer-school-2023-Croatia/Vectors/EEHA boundaries/INTA EEHA subdivision 2020.shp')\n",
        "wheat_insitu_points =  geemap.shp_to_ee('/content/ESA-summer-school-2023-Croatia/Vectors/Wheat sampling points 2020/wheat_sampling_points_2020.shp')\n",
        "wheat_insitu_points_insitu_data_2020 = geemap.shp_to_ee('/content/ESA-summer-school-2023-Croatia/Vectors/Wheat sampling points 2020/wheat_sampling_points_insitu_data_2020.shp')\n",
        "\n",
        "Map.addLayer(wheat_roi, {},'Wheat roi 2020',True, opacity = 0.3)\n",
        "Map.addLayer(wheat_insitu_points, {},'Wheat insitu points 2020',True)\n",
        "Map.addLayer(EEHA_roi, {},'Study area',True, opacity = 0.5)"
      ],
      "metadata": {
        "id": "MJcU3s24doSV"
      },
      "execution_count": 72,
      "outputs": []
    },
    {
      "cell_type": "markdown",
      "source": [
        "**Retrieve the ROI from the map**"
      ],
      "metadata": {
        "id": "Gw1AgsQpKC3G"
      }
    },
    {
      "cell_type": "code",
      "source": [
        "feature = Map.draw_last_feature\n",
        "roi = feature.geometry()"
      ],
      "metadata": {
        "id": "SQnP1jhVI4Ct"
      },
      "execution_count": 14,
      "outputs": []
    },
    {
      "cell_type": "markdown",
      "metadata": {
        "id": "shkjH68pvxQu"
      },
      "source": [
        "**Import models**"
      ]
    },
    {
      "cell_type": "code",
      "source": [
        "!cp /content/drive/MyDrive/BOAModelsV2.py .\n",
        "import BOAModelsV2"
      ],
      "metadata": {
        "id": "PAgwOrKC3nGn"
      },
      "execution_count": 35,
      "outputs": []
    },
    {
      "cell_type": "markdown",
      "metadata": {
        "id": "knIJH7pUaV10"
      },
      "source": [
        "**Set variable model to process**"
      ]
    },
    {
      "cell_type": "code",
      "metadata": {
        "id": "04PdAgTZ_BBi"
      },
      "source": [
        "#['LAIGreen', 'Cab', 'Cm', 'Cw', 'FVC', 'LAI', 'laiCab', 'laiCm', 'laiCw', 'LAIBrown']\n",
        "currentVegIndex = 'LAIGreen'\n",
        "currentModel = BOAModelsV2.models[currentVegIndex]"
      ],
      "execution_count": 36,
      "outputs": []
    },
    {
      "cell_type": "markdown",
      "source": [
        "**Functions**"
      ],
      "metadata": {
        "id": "8jOHwVIw2DmL"
      }
    },
    {
      "cell_type": "code",
      "source": [
        "# Masking function for water and cloud\n",
        "def maskS2cloud_and_water(image):\n",
        "  not_water = image.select('SCL').neq(6);\n",
        "  not_cloud_low = image.select('SCL').neq(7);\n",
        "  not_cloud_medium = image.select('SCL').neq(8);\n",
        "  not_cloud_high = image.select('SCL').neq(9);\n",
        "  not_cirrus = image.select('SCL').neq(10);\n",
        "\n",
        "  qa = image.select('QA60');\n",
        "  cloudBitMask = 1 << 10;\n",
        "  cirrusBitMask = 1 << 11;\n",
        "  mask = (qa.bitwiseAnd(cloudBitMask).eq(0).And(qa.bitwiseAnd(cirrusBitMask).eq(0)).And(not_water).And(not_cloud_low)\n",
        "          .And(not_cloud_medium).And(not_cloud_high).And(not_cirrus))\n",
        "  return image.updateMask(mask).divide(currentModel['scaleFactor']).copyProperties(qa).set('system:time_start', qa.get('system:time_start'))\n",
        "\n",
        "# Auxiliar function for mapping : (1..n) -> (B1..Bn)\n",
        "def band_names(element):\n",
        "  bandName = ee.String('B').cat(ee.Number(element).int().format())\n",
        "  return bandName\n",
        "\n",
        "def addDoy(image):\n",
        "  doy = image.date().getRelative('day', 'year')\n",
        "  doyBand = ee.Image.constant(doy).uint16().rename('doy')\n",
        "  return image.addBands(doyBand)\n",
        "\n",
        "# Veg index GPR for mean prediction\n",
        "def veg_index_GPR(image_orig):\n",
        "\n",
        "  # Create List of Bands of Dimension n (Xtrain[n,n])\n",
        "  XTrain_dim = currentModel['X_train'].length().get([0]).getInfo();\n",
        "\n",
        "  band_sequence   = (ee.List.sequence(1, XTrain_dim)\n",
        "                    .map(band_names));\n",
        "\n",
        "  # Create a list of band names for flattening operation\n",
        "  im_norm_ell2D_hypell = image_orig.subtract(ee.Image(currentModel['mx'])).divide(ee.Image(currentModel['sx'])).multiply(ee.Image(currentModel['hyp_ell'])).toArray().toArray(1);\n",
        "\n",
        "  im_norm_ell2D = image_orig.subtract(ee.Image(currentModel['mx'])).divide(ee.Image(currentModel['sx'])).toArray().toArray(1);\n",
        "\n",
        "  PtTPt  = im_norm_ell2D_hypell.matrixTranspose().matrixMultiply(im_norm_ell2D).arrayProject([0]).multiply(-0.5);\n",
        "\n",
        "  PtTDX  = ee.Image(currentModel['X_train']).matrixMultiply(im_norm_ell2D_hypell).arrayProject([0]).arrayFlatten([band_sequence]);\n",
        "\n",
        "  arg1   = PtTPt.exp().multiply(currentModel['hyp_sig']);\n",
        "\n",
        "  k_star = PtTDX.subtract(ee.Image(currentModel['XDX_pre_calc']).multiply(0.5)).exp().toArray();\n",
        "\n",
        "  mean_pred = k_star.arrayDotProduct(ee.Image(currentModel['alpha_coefficients']).toArray()).multiply(arg1);\n",
        "\n",
        "  mean_pred = mean_pred.toArray(1).arrayProject([0]).arrayFlatten([[currentModel['veg_index']]]);\n",
        "\n",
        "  mean_pred = mean_pred.add(currentModel['mean_model']);\n",
        "\n",
        "  # Mask values equal or less than 0\n",
        "  mean_pred = mean_pred.updateMask(mean_pred.gt(0))\n",
        "\n",
        "  image_orig = image_orig.addBands(mean_pred)\n",
        "\n",
        "  return image_orig.select(currentModel['veg_index'])\n",
        "\n",
        "def mask_gt(image):\n",
        "  veg_index_mask = image.select(currentModel['veg_index']).gt(0).rename('veg_index_mask')\n",
        "  return image.addBands(veg_index_mask).select('veg_index_mask')\n",
        "\n",
        "def addVariables(image):\n",
        "  date = ee.Date(image.get(\"system:time_start\"))\n",
        "  years = date.difference(ee.Date('1970-01-01'),'days')\n",
        "  return image.addBands(ee.Image(years).rename('t').float())"
      ],
      "metadata": {
        "id": "NLk6YA5U0RlY"
      },
      "execution_count": 37,
      "outputs": []
    },
    {
      "cell_type": "code",
      "source": [
        "def extract_ts(roi, col, band):\n",
        "    \"\"\" Constructs a dataframe with the time series for the ROI with the image\n",
        "        collection.\n",
        "\n",
        "        Parameters\n",
        "        ----------\n",
        "        roi : ee.Geometry, Region of interest\n",
        "\n",
        "        col : ee.ImageCollection\n",
        "\n",
        "        band : string, Name of the band to retrieve\n",
        "\n",
        "        Returns\n",
        "        ------\n",
        "        A pandas dataframe\n",
        "\n",
        "    \"\"\"\n",
        "\n",
        "    # Auxiliar function to replace the null values with custom value(-9999)\n",
        "    # so we do not lose the masked values.\n",
        "    def set_NAN(key,val):\n",
        "        return ee.List([val, -9999]).reduce(ee.Reducer.firstNonNull())\n",
        "\n",
        "    # Retrieve the mean value of the band in the roi and the date of the image\n",
        "    def get_ts(image):\n",
        "        stat = image.select([band]).reduceRegion(\n",
        "            reducer = ee.Reducer.mean(),\n",
        "            geometry= roi,\n",
        "            scale= 20,\n",
        "            bestEffort= True\n",
        "        )\n",
        "        stat = stat.map(set_NAN)\n",
        "        return ee.Feature(roi, stat).set({'millis': image.date().millis()})\n",
        "\n",
        "    # List of features containing the reduced value and the date\n",
        "    ts = col.map(get_ts)\n",
        "\n",
        "    # Lists of values and dates\n",
        "    y = ts.aggregate_array(band).getInfo()\n",
        "    dates_ms = ts.aggregate_array('millis').getInfo() # Date in ms\n",
        "    x = [datetime.fromtimestamp(d//1000.0) for d in dates_ms] # Formatted date\n",
        "\n",
        "    # Dictionary that will feed the pandas dataframe\n",
        "    dict = {'date': x, band: y}\n",
        "    # Contruct the df and replace the custom NaN values(-9999) with np.nan\n",
        "    df = pd.DataFrame(dict).replace(-9999, np.nan)\n",
        "    return df"
      ],
      "metadata": {
        "id": "pOXsLuLfwU-I"
      },
      "execution_count": 42,
      "outputs": []
    },
    {
      "cell_type": "markdown",
      "source": [
        "**Dates of interest**"
      ],
      "metadata": {
        "id": "Izke2NuDZQHO"
      }
    },
    {
      "cell_type": "code",
      "source": [
        "start_date = '2019-01-01'\n",
        "end_date = '2023-09-13'"
      ],
      "metadata": {
        "id": "hnO99FXsZUw_"
      },
      "execution_count": 57,
      "outputs": []
    },
    {
      "cell_type": "markdown",
      "source": [
        "**Create the initial image collection with the spectral bands**"
      ],
      "metadata": {
        "id": "v5qFkqNaZeBe"
      }
    },
    {
      "cell_type": "code",
      "source": [
        "S2collection_ini = ee.ImageCollection('COPERNICUS/S2_SR')\\\n",
        "                   .filterBounds(roi)\\\n",
        "                   .filterDate(start_date,end_date)\\\n",
        "                   .map(maskS2cloud_and_water)\\\n",
        "                   .select(['B2', 'B3', 'B4', 'B5', 'B6', 'B7', 'B8', 'B8A', 'B11', 'B12'])"
      ],
      "metadata": {
        "id": "JA2rLDwjZi5m"
      },
      "execution_count": 58,
      "outputs": []
    },
    {
      "cell_type": "markdown",
      "source": [
        "**Create the predicted mean image collection**"
      ],
      "metadata": {
        "id": "mof_OkJoXXZt"
      }
    },
    {
      "cell_type": "code",
      "metadata": {
        "id": "n1S-lcqnXWaB"
      },
      "source": [
        "targetCollection =  S2collection_ini.map(veg_index_GPR).select(currentModel['veg_index'])"
      ],
      "execution_count": 59,
      "outputs": []
    },
    {
      "cell_type": "markdown",
      "source": [
        "**Extract the time series and plot it**"
      ],
      "metadata": {
        "id": "1RQHulbS3Psi"
      }
    },
    {
      "cell_type": "code",
      "source": [
        "df_S2 = extract_ts(roi, targetCollection, currentModel['veg_index'])\n",
        "df_S2"
      ],
      "metadata": {
        "colab": {
          "base_uri": "https://localhost:8080/",
          "height": 423
        },
        "id": "wyTBqAlJ3TCk",
        "outputId": "28f8ec75-ded9-4141-9dc9-8121cf327777"
      },
      "execution_count": 60,
      "outputs": [
        {
          "output_type": "execute_result",
          "data": {
            "text/plain": [
              "                   date  LAI_GREEN\n",
              "0   2019-01-02 14:13:33   5.777838\n",
              "1   2019-01-07 14:13:30   4.370315\n",
              "2   2019-01-12 14:13:34        NaN\n",
              "3   2019-01-17 14:13:31   4.074588\n",
              "4   2019-01-22 14:13:35   4.150137\n",
              "..                  ...        ...\n",
              "336 2023-08-24 14:13:41   1.184245\n",
              "337 2023-08-29 14:13:40   1.333721\n",
              "338 2023-09-03 14:13:37        NaN\n",
              "339 2023-09-03 14:13:44        NaN\n",
              "340 2023-09-08 14:13:39   1.625336\n",
              "\n",
              "[341 rows x 2 columns]"
            ],
            "text/html": [
              "\n",
              "  <div id=\"df-722a82e8-a284-4500-90b0-e430e627ea02\" class=\"colab-df-container\">\n",
              "    <div>\n",
              "<style scoped>\n",
              "    .dataframe tbody tr th:only-of-type {\n",
              "        vertical-align: middle;\n",
              "    }\n",
              "\n",
              "    .dataframe tbody tr th {\n",
              "        vertical-align: top;\n",
              "    }\n",
              "\n",
              "    .dataframe thead th {\n",
              "        text-align: right;\n",
              "    }\n",
              "</style>\n",
              "<table border=\"1\" class=\"dataframe\">\n",
              "  <thead>\n",
              "    <tr style=\"text-align: right;\">\n",
              "      <th></th>\n",
              "      <th>date</th>\n",
              "      <th>LAI_GREEN</th>\n",
              "    </tr>\n",
              "  </thead>\n",
              "  <tbody>\n",
              "    <tr>\n",
              "      <th>0</th>\n",
              "      <td>2019-01-02 14:13:33</td>\n",
              "      <td>5.777838</td>\n",
              "    </tr>\n",
              "    <tr>\n",
              "      <th>1</th>\n",
              "      <td>2019-01-07 14:13:30</td>\n",
              "      <td>4.370315</td>\n",
              "    </tr>\n",
              "    <tr>\n",
              "      <th>2</th>\n",
              "      <td>2019-01-12 14:13:34</td>\n",
              "      <td>NaN</td>\n",
              "    </tr>\n",
              "    <tr>\n",
              "      <th>3</th>\n",
              "      <td>2019-01-17 14:13:31</td>\n",
              "      <td>4.074588</td>\n",
              "    </tr>\n",
              "    <tr>\n",
              "      <th>4</th>\n",
              "      <td>2019-01-22 14:13:35</td>\n",
              "      <td>4.150137</td>\n",
              "    </tr>\n",
              "    <tr>\n",
              "      <th>...</th>\n",
              "      <td>...</td>\n",
              "      <td>...</td>\n",
              "    </tr>\n",
              "    <tr>\n",
              "      <th>336</th>\n",
              "      <td>2023-08-24 14:13:41</td>\n",
              "      <td>1.184245</td>\n",
              "    </tr>\n",
              "    <tr>\n",
              "      <th>337</th>\n",
              "      <td>2023-08-29 14:13:40</td>\n",
              "      <td>1.333721</td>\n",
              "    </tr>\n",
              "    <tr>\n",
              "      <th>338</th>\n",
              "      <td>2023-09-03 14:13:37</td>\n",
              "      <td>NaN</td>\n",
              "    </tr>\n",
              "    <tr>\n",
              "      <th>339</th>\n",
              "      <td>2023-09-03 14:13:44</td>\n",
              "      <td>NaN</td>\n",
              "    </tr>\n",
              "    <tr>\n",
              "      <th>340</th>\n",
              "      <td>2023-09-08 14:13:39</td>\n",
              "      <td>1.625336</td>\n",
              "    </tr>\n",
              "  </tbody>\n",
              "</table>\n",
              "<p>341 rows × 2 columns</p>\n",
              "</div>\n",
              "    <div class=\"colab-df-buttons\">\n",
              "\n",
              "  <div class=\"colab-df-container\">\n",
              "    <button class=\"colab-df-convert\" onclick=\"convertToInteractive('df-722a82e8-a284-4500-90b0-e430e627ea02')\"\n",
              "            title=\"Convert this dataframe to an interactive table.\"\n",
              "            style=\"display:none;\">\n",
              "\n",
              "  <svg xmlns=\"http://www.w3.org/2000/svg\" height=\"24px\" viewBox=\"0 -960 960 960\">\n",
              "    <path d=\"M120-120v-720h720v720H120Zm60-500h600v-160H180v160Zm220 220h160v-160H400v160Zm0 220h160v-160H400v160ZM180-400h160v-160H180v160Zm440 0h160v-160H620v160ZM180-180h160v-160H180v160Zm440 0h160v-160H620v160Z\"/>\n",
              "  </svg>\n",
              "    </button>\n",
              "\n",
              "  <style>\n",
              "    .colab-df-container {\n",
              "      display:flex;\n",
              "      gap: 12px;\n",
              "    }\n",
              "\n",
              "    .colab-df-convert {\n",
              "      background-color: #E8F0FE;\n",
              "      border: none;\n",
              "      border-radius: 50%;\n",
              "      cursor: pointer;\n",
              "      display: none;\n",
              "      fill: #1967D2;\n",
              "      height: 32px;\n",
              "      padding: 0 0 0 0;\n",
              "      width: 32px;\n",
              "    }\n",
              "\n",
              "    .colab-df-convert:hover {\n",
              "      background-color: #E2EBFA;\n",
              "      box-shadow: 0px 1px 2px rgba(60, 64, 67, 0.3), 0px 1px 3px 1px rgba(60, 64, 67, 0.15);\n",
              "      fill: #174EA6;\n",
              "    }\n",
              "\n",
              "    .colab-df-buttons div {\n",
              "      margin-bottom: 4px;\n",
              "    }\n",
              "\n",
              "    [theme=dark] .colab-df-convert {\n",
              "      background-color: #3B4455;\n",
              "      fill: #D2E3FC;\n",
              "    }\n",
              "\n",
              "    [theme=dark] .colab-df-convert:hover {\n",
              "      background-color: #434B5C;\n",
              "      box-shadow: 0px 1px 3px 1px rgba(0, 0, 0, 0.15);\n",
              "      filter: drop-shadow(0px 1px 2px rgba(0, 0, 0, 0.3));\n",
              "      fill: #FFFFFF;\n",
              "    }\n",
              "  </style>\n",
              "\n",
              "    <script>\n",
              "      const buttonEl =\n",
              "        document.querySelector('#df-722a82e8-a284-4500-90b0-e430e627ea02 button.colab-df-convert');\n",
              "      buttonEl.style.display =\n",
              "        google.colab.kernel.accessAllowed ? 'block' : 'none';\n",
              "\n",
              "      async function convertToInteractive(key) {\n",
              "        const element = document.querySelector('#df-722a82e8-a284-4500-90b0-e430e627ea02');\n",
              "        const dataTable =\n",
              "          await google.colab.kernel.invokeFunction('convertToInteractive',\n",
              "                                                    [key], {});\n",
              "        if (!dataTable) return;\n",
              "\n",
              "        const docLinkHtml = 'Like what you see? Visit the ' +\n",
              "          '<a target=\"_blank\" href=https://colab.research.google.com/notebooks/data_table.ipynb>data table notebook</a>'\n",
              "          + ' to learn more about interactive tables.';\n",
              "        element.innerHTML = '';\n",
              "        dataTable['output_type'] = 'display_data';\n",
              "        await google.colab.output.renderOutput(dataTable, element);\n",
              "        const docLink = document.createElement('div');\n",
              "        docLink.innerHTML = docLinkHtml;\n",
              "        element.appendChild(docLink);\n",
              "      }\n",
              "    </script>\n",
              "  </div>\n",
              "\n",
              "\n",
              "<div id=\"df-6e45ecc4-aeaa-408c-8315-2c676fd3d08c\">\n",
              "  <button class=\"colab-df-quickchart\" onclick=\"quickchart('df-6e45ecc4-aeaa-408c-8315-2c676fd3d08c')\"\n",
              "            title=\"Suggest charts.\"\n",
              "            style=\"display:none;\">\n",
              "\n",
              "<svg xmlns=\"http://www.w3.org/2000/svg\" height=\"24px\"viewBox=\"0 0 24 24\"\n",
              "     width=\"24px\">\n",
              "    <g>\n",
              "        <path d=\"M19 3H5c-1.1 0-2 .9-2 2v14c0 1.1.9 2 2 2h14c1.1 0 2-.9 2-2V5c0-1.1-.9-2-2-2zM9 17H7v-7h2v7zm4 0h-2V7h2v10zm4 0h-2v-4h2v4z\"/>\n",
              "    </g>\n",
              "</svg>\n",
              "  </button>\n",
              "\n",
              "<style>\n",
              "  .colab-df-quickchart {\n",
              "      --bg-color: #E8F0FE;\n",
              "      --fill-color: #1967D2;\n",
              "      --hover-bg-color: #E2EBFA;\n",
              "      --hover-fill-color: #174EA6;\n",
              "      --disabled-fill-color: #AAA;\n",
              "      --disabled-bg-color: #DDD;\n",
              "  }\n",
              "\n",
              "  [theme=dark] .colab-df-quickchart {\n",
              "      --bg-color: #3B4455;\n",
              "      --fill-color: #D2E3FC;\n",
              "      --hover-bg-color: #434B5C;\n",
              "      --hover-fill-color: #FFFFFF;\n",
              "      --disabled-bg-color: #3B4455;\n",
              "      --disabled-fill-color: #666;\n",
              "  }\n",
              "\n",
              "  .colab-df-quickchart {\n",
              "    background-color: var(--bg-color);\n",
              "    border: none;\n",
              "    border-radius: 50%;\n",
              "    cursor: pointer;\n",
              "    display: none;\n",
              "    fill: var(--fill-color);\n",
              "    height: 32px;\n",
              "    padding: 0;\n",
              "    width: 32px;\n",
              "  }\n",
              "\n",
              "  .colab-df-quickchart:hover {\n",
              "    background-color: var(--hover-bg-color);\n",
              "    box-shadow: 0 1px 2px rgba(60, 64, 67, 0.3), 0 1px 3px 1px rgba(60, 64, 67, 0.15);\n",
              "    fill: var(--button-hover-fill-color);\n",
              "  }\n",
              "\n",
              "  .colab-df-quickchart-complete:disabled,\n",
              "  .colab-df-quickchart-complete:disabled:hover {\n",
              "    background-color: var(--disabled-bg-color);\n",
              "    fill: var(--disabled-fill-color);\n",
              "    box-shadow: none;\n",
              "  }\n",
              "\n",
              "  .colab-df-spinner {\n",
              "    border: 2px solid var(--fill-color);\n",
              "    border-color: transparent;\n",
              "    border-bottom-color: var(--fill-color);\n",
              "    animation:\n",
              "      spin 1s steps(1) infinite;\n",
              "  }\n",
              "\n",
              "  @keyframes spin {\n",
              "    0% {\n",
              "      border-color: transparent;\n",
              "      border-bottom-color: var(--fill-color);\n",
              "      border-left-color: var(--fill-color);\n",
              "    }\n",
              "    20% {\n",
              "      border-color: transparent;\n",
              "      border-left-color: var(--fill-color);\n",
              "      border-top-color: var(--fill-color);\n",
              "    }\n",
              "    30% {\n",
              "      border-color: transparent;\n",
              "      border-left-color: var(--fill-color);\n",
              "      border-top-color: var(--fill-color);\n",
              "      border-right-color: var(--fill-color);\n",
              "    }\n",
              "    40% {\n",
              "      border-color: transparent;\n",
              "      border-right-color: var(--fill-color);\n",
              "      border-top-color: var(--fill-color);\n",
              "    }\n",
              "    60% {\n",
              "      border-color: transparent;\n",
              "      border-right-color: var(--fill-color);\n",
              "    }\n",
              "    80% {\n",
              "      border-color: transparent;\n",
              "      border-right-color: var(--fill-color);\n",
              "      border-bottom-color: var(--fill-color);\n",
              "    }\n",
              "    90% {\n",
              "      border-color: transparent;\n",
              "      border-bottom-color: var(--fill-color);\n",
              "    }\n",
              "  }\n",
              "</style>\n",
              "\n",
              "  <script>\n",
              "    async function quickchart(key) {\n",
              "      const quickchartButtonEl =\n",
              "        document.querySelector('#' + key + ' button');\n",
              "      quickchartButtonEl.disabled = true;  // To prevent multiple clicks.\n",
              "      quickchartButtonEl.classList.add('colab-df-spinner');\n",
              "      try {\n",
              "        const charts = await google.colab.kernel.invokeFunction(\n",
              "            'suggestCharts', [key], {});\n",
              "      } catch (error) {\n",
              "        console.error('Error during call to suggestCharts:', error);\n",
              "      }\n",
              "      quickchartButtonEl.classList.remove('colab-df-spinner');\n",
              "      quickchartButtonEl.classList.add('colab-df-quickchart-complete');\n",
              "    }\n",
              "    (() => {\n",
              "      let quickchartButtonEl =\n",
              "        document.querySelector('#df-6e45ecc4-aeaa-408c-8315-2c676fd3d08c button');\n",
              "      quickchartButtonEl.style.display =\n",
              "        google.colab.kernel.accessAllowed ? 'block' : 'none';\n",
              "    })();\n",
              "  </script>\n",
              "</div>\n",
              "    </div>\n",
              "  </div>\n"
            ]
          },
          "metadata": {},
          "execution_count": 60
        }
      ]
    },
    {
      "cell_type": "code",
      "source": [
        "# Sentinel 2 LAI GPR model time series plotting\n",
        "plt.figure(figsize= (16,4))\n",
        "\n",
        "plt.plot(df_S2['date'], df_S2[currentModel['veg_index']],'ro',label='S2 LAI GPR model')\n",
        "plt.title('S2 GPR Leaf Area Index',fontsize='20')\n",
        "plt.legend()\n",
        "plt.grid(1)\n",
        "plt.ylabel('LAI [$m^2$ $m^{-2}$]',fontsize='14')\n",
        "plt.grid(1)\n",
        "plt.xticks(rotation=45, ha='right')\n",
        "plt.show()"
      ],
      "metadata": {
        "colab": {
          "base_uri": "https://localhost:8080/",
          "height": 419
        },
        "id": "MjDX-Byp4yuY",
        "outputId": "422fbc8d-6c47-4cb6-87b0-28d0043da2c0"
      },
      "execution_count": 61,
      "outputs": [
        {
          "output_type": "display_data",
          "data": {
            "text/plain": [
              "<Figure size 1600x400 with 1 Axes>"
            ],
            "image/png": "[encoded data removed]"
          },
          "metadata": {}
        }
      ]
    },
    {
      "cell_type": "markdown",
      "source": [
        "**Guide on establishing colour schemes for plotting interactive maps**"
      ],
      "metadata": {
        "id": "8EBLjX3CzQzA"
      }
    },
    {
      "cell_type": "code",
      "source": [
        "# Thematic colour palette definition for LAI mapping\n",
        "\n",
        "palette = [\n",
        "    'FFFFFF', 'CE7E45', 'DF923D', 'F1B555', 'FCD163', '99B718',\n",
        "    '74A901', '66A000', '529400', '3E8601', '207401', '056201',\n",
        "    '004C00', '023B01', '012E01', '011D01', '011301']\n",
        "\n",
        "LAI_palette_1  = {\"min\":0.5, \"max\":3.5, 'palette':palette}"
      ],
      "metadata": {
        "id": "n9isqFMmzRAS"
      },
      "execution_count": 62,
      "outputs": []
    },
    {
      "cell_type": "code",
      "source": [
        "# Map display parameters definition (RGB S2 image)\n",
        "# Define visualization parameters for image\n",
        "vizParams = {\n",
        "  'bands': ['B4', 'B3', 'B2'],\n",
        "  'min': 500,\n",
        "  'max': 4000,\n",
        "}\n",
        "#cm.list_colormaps()"
      ],
      "metadata": {
        "id": "KeU6UyxazX3E"
      },
      "execution_count": 116,
      "outputs": []
    },
    {
      "cell_type": "markdown",
      "source": [
        "Define an interactive map"
      ],
      "metadata": {
        "id": "gxKXlEN8zegy"
      }
    },
    {
      "cell_type": "code",
      "source": [
        "Map_S2 = geemap.Map(toolbar_ctrl=True, layer_ctrl=True)\n",
        "Map_S2.centerObject(roi, 14)\n",
        "Map_S2.set_plot_options(add_marker_cluster=True)\n",
        "Map_S2"
      ],
      "metadata": {
        "id": "G7qMC5BNzesB",
        "outputId": "12060b87-21e2-4246-a984-21de7a42d1a8",
        "colab": {
          "base_uri": "https://localhost:8080/",
          "height": 621,
          "referenced_widgets": [
            "2f5323965e7a4275b70c39a0b2a75547",
            "92d515a9eb2f4565a6e6ce028935531e",
            "c36b6da142554927bd30f8473b9688a7",
            "365edc4c4b9a4106b0a937b933591ca0",
            "947dfc5d26ee49ce8d6e0bc681d2da4f",
            "eafdfe97973b4b33828ba5a1132cfa98",
            "48e88d46ce6f44eb90e2cd993c426da2",
            "f3072d71e19745f48c2b8f95d7d8c052",
            "01a68314adff429a9085d34a651e6b29",
            "d74e4d62622541dd9a141ebcc42a7dcf",
            "4a5d0c1501e24883a52f50714bdd6a20",
            "ea96e0deb62446eb912b51a4fdca2b89",
            "5a8ad2024ee44afabf4e8f8d6f031ae3",
            "354b8ad1b50c4c5289a2dfcd1e7e5b47",
            "08593f09b83f47c9890db5794e34d9a8",
            "38d74cba86ac4edbb089dc45de493038",
            "03fe8c4995154c4b9b2500cab326bbd0",
            "75fe68d1e9c34942ac395c04619e29b2",
            "f406da20557845afa2afec6e10244e56",
            "764d4258183c494d80ea5988a3be323f",
            "275d6ebf0f0d43e3a1b83f11ad37d225",
            "7f4ced420bb04e20ae572a009fdf2017",
            "e1f8ff81636f4ae9a3573ce57280f8ba",
            "5137e7f4ab3a408280eb7f6e795c3926",
            "5d763c094b7d4b23af5fbc256e0a874b",
            "e63243a877eb424fb27a2e8ab3ec8f68",
            "44749782cb5a45d1b64392fc6f514dc9",
            "71f7d7b0ffad4a9280e0ffd555ae7479",
            "5f37539b38f040d39005da3bb0d6b15b",
            "d12030696f7b448daaa7ddd8a74c6d55",
            "2da5b20152ec46e49ef54f838898747d"
          ]
        }
      },
      "execution_count": 117,
      "outputs": [
        {
          "output_type": "display_data",
          "data": {
            "text/plain": [
              "Map(center=[-39.400619500266124, -62.63928250022521], controls=(WidgetControl(options=['position', 'transparen…"
            ],
            "application/vnd.jupyter.widget-view+json": {
              "version_major": 2,
              "version_minor": 0,
              "model_id": "2f5323965e7a4275b70c39a0b2a75547"
            }
          },
          "metadata": {
            "application/vnd.jupyter.widget-view+json": {
              "colab": {
                "custom_widget_manager": {
                  "url": "https://ssl.gstatic.com/colaboratory-static/widgets/colab-cdn-widget-manager/b3e629b1971e1542/manager.min.js"
                }
              }
            }
          }
        }
      ]
    },
    {
      "cell_type": "markdown",
      "source": [
        "LAI map plotting"
      ],
      "metadata": {
        "id": "qL-CUqlx0YuT"
      }
    },
    {
      "cell_type": "code",
      "source": [
        "# S2-based leaf area index map display\n",
        "\n",
        "image_number = 337 # select the ordinal number of the image you want to be displayed\n",
        "\n",
        "# Converting the S2 image collection to an image list for RGB scene display\n",
        "S2collection_list = S2collection_ini.toList(S2collection_ini.size());\n",
        "S2image = ee.Image(S2collection_list.get(image_number));\n",
        "\n",
        "# S2 RGB image display\n",
        "\n",
        "Map_S2.addLayer(S2image,vizParams,'S2 RGB composite',True)\n",
        "\n",
        "# Single variable display\n",
        "\n",
        "S2_PI_LAI_image = targetCollection.toBands().clip(EEHA_roi)\n",
        "Map_S2.addLayer(S2_PI_LAI_image.select(image_number),LAI_palette_1, 'S2 PI LAI')\n",
        "\n",
        "# On-screen display of color bars\n",
        "\n",
        "Map_S2.add_colorbar(LAI_palette_1, label=\"LAI ($m^2$ $m^{-2}$)\", orientation=\"horizontal\", layer_name=\"LAI color bar\")\n",
        "\n",
        "# On-screen display of vector shapefile\n",
        "Map_S2.addLayer(EEHA_roi, {},'Study area',True, opacity = 0.3)"
      ],
      "metadata": {
        "id": "GOceKuCj0Y2O"
      },
      "execution_count": 118,
      "outputs": []
    }
  ]
}